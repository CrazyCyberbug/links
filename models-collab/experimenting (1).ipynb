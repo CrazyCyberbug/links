{
  "cells": [
    {
      "cell_type": "code",
      "execution_count": 2,
      "metadata": {
        "id": "9mlmGu9_5J38"
      },
      "outputs": [],
      "source": [
        "import pandas as pd\n",
        "\n",
        "df = pd.read_csv('data.csv')"
      ]
    },
    {
      "cell_type": "code",
      "source": [
        "df.drop(\"Unnamed: 0\", inplace = True, axis = 1)"
      ],
      "metadata": {
        "id": "3cGHcHA95l-k"
      },
      "execution_count": 8,
      "outputs": []
    },
    {
      "cell_type": "code",
      "source": [
        "df.columns = ['Date', 'sfu']"
      ],
      "metadata": {
        "id": "xKT1QM7b5YM8"
      },
      "execution_count": 9,
      "outputs": []
    },
    {
      "cell_type": "code",
      "execution_count": 10,
      "metadata": {
        "id": "_DzdIv_n5J39"
      },
      "outputs": [],
      "source": [
        "df['Date'] = pd.to_datetime(df['Date'])"
      ]
    },
    {
      "cell_type": "code",
      "source": [
        "train_data = df[(df['Date'].dt.year < 2003) & (df['Date'].dt.year > 1979)]\n",
        "test_data = df[(df['Date'].dt.year >= 2003) & (df['Date'].dt.year <= 2014)]\n"
      ],
      "metadata": {
        "id": "ouTPHlzL7MIk"
      },
      "execution_count": 14,
      "outputs": []
    },
    {
      "cell_type": "code",
      "execution_count": null,
      "metadata": {
        "id": "3TEyeCws5J39",
        "outputId": "54a5fc40-ee91-4182-9f56-8bfff5625db8"
      },
      "outputs": [
        {
          "data": {
            "text/plain": [
              "17853    75.000000\n",
              "17854    74.000000\n",
              "17855    80.000000\n",
              "17856    85.000000\n",
              "17857    84.000000\n",
              "           ...    \n",
              "26981    85.983333\n",
              "26982    84.433333\n",
              "26983    83.583333\n",
              "26984    82.733333\n",
              "26985    82.733333\n",
              "Name: sfu, Length: 9133, dtype: float64"
            ]
          },
          "execution_count": 24,
          "metadata": {},
          "output_type": "execute_result"
        }
      ],
      "source": [
        "test_data['sfu']"
      ]
    },
    {
      "cell_type": "code",
      "execution_count": 16,
      "metadata": {
        "id": "0LbZ0WLw5J3-"
      },
      "outputs": [],
      "source": [
        "import numpy as np\n",
        "sequence = df['sfu']\n",
        "\n",
        "def split_sequence(sequence, n_steps):\n",
        "\tX, y = list(), list()\n",
        "\tfor i in range(len(sequence)):\n",
        "\t\t# find the end of this pattern\n",
        "\t\tend_ix = i + n_steps\n",
        "\t\t# check if we are beyond the sequence\n",
        "\t\tif end_ix > len(sequence)-1:\n",
        "\t\t\tbreak\n",
        "\t\t# gather input and output parts of the pattern\n",
        "\t\tseq_x, seq_y = sequence[i:end_ix], sequence[end_ix]\n",
        "\t\tX.append(seq_x)\n",
        "\t\ty.append(seq_y)\n",
        "\treturn np.array(X), np.array(y)\n",
        "\n",
        "# define input sequence\n",
        "raw_seq = df['sfu']\n",
        "# choose a number of time steps\n",
        "n_steps = 27\n",
        "# split into samples\n",
        "X, y = split_sequence(raw_seq, n_steps)\n",
        "# summarize the data\n",
        "# for i in range(len(X)):\n",
        "# \tprint(X[i], y[i])"
      ]
    },
    {
      "cell_type": "code",
      "execution_count": null,
      "metadata": {
        "id": "c80FrLd45J3-",
        "outputId": "266d6966-57fe-41a2-b183-3d0c90dddbf9"
      },
      "outputs": [
        {
          "name": "stdout",
          "output_type": "stream",
          "text": [
            "train split done\n"
          ]
        }
      ],
      "source": [
        "train_X, train_y = split_sequence(train_data['sfu'], 27)\n",
        "# print(\"train split done\")\n",
        "test_X, test_y = split_sequence(np.array(test_data['sfu']), 27)"
      ]
    },
    {
      "cell_type": "code",
      "execution_count": null,
      "metadata": {
        "id": "RhROq6tC5J3_",
        "outputId": "3292bb1a-bc6b-44c4-f2de-b04c75224b47"
      },
      "outputs": [
        {
          "name": "stdout",
          "output_type": "stream",
          "text": [
            "Epoch 1/50\n"
          ]
        },
        {
          "name": "stderr",
          "output_type": "stream",
          "text": [
            "c:\\Users\\Swaroop\\AppData\\Local\\Programs\\Python\\Python38\\lib\\site-packages\\keras\\optimizers\\optimizer_v2\\adam.py:114: UserWarning: The `lr` argument is deprecated, use `learning_rate` instead.\n",
            "  super().__init__(name, **kwargs)\n"
          ]
        },
        {
          "name": "stdout",
          "output_type": "stream",
          "text": [
            "843/843 [==============================] - 9s 9ms/step - loss: 2271.0439 - val_loss: 77.3587\n",
            "Epoch 2/50\n",
            "843/843 [==============================] - 8s 10ms/step - loss: 73.2947 - val_loss: 77.7835\n",
            "Epoch 3/50\n",
            "843/843 [==============================] - 8s 9ms/step - loss: 54.1536 - val_loss: 73.2354\n",
            "Epoch 4/50\n",
            "843/843 [==============================] - 8s 9ms/step - loss: 61.9835 - val_loss: 102.6007\n",
            "Epoch 5/50\n",
            "843/843 [==============================] - 8s 9ms/step - loss: 65.0210 - val_loss: 69.5172\n",
            "Epoch 6/50\n",
            "843/843 [==============================] - 8s 9ms/step - loss: 45.1437 - val_loss: 61.5994\n",
            "Epoch 7/50\n",
            "843/843 [==============================] - 8s 9ms/step - loss: 43.1301 - val_loss: 63.6944\n",
            "Epoch 8/50\n",
            "843/843 [==============================] - 8s 9ms/step - loss: 2223.1702 - val_loss: 143.0979\n",
            "Epoch 9/50\n",
            "843/843 [==============================] - 8s 9ms/step - loss: 127.6066 - val_loss: 119.1137\n",
            "Epoch 10/50\n",
            "843/843 [==============================] - 8s 9ms/step - loss: 108.6807 - val_loss: 100.4216\n",
            "Epoch 11/50\n",
            "843/843 [==============================] - 8s 9ms/step - loss: 79.8013 - val_loss: 80.5200\n",
            "Epoch 12/50\n",
            "843/843 [==============================] - 8s 9ms/step - loss: 58.0703 - val_loss: 66.1915\n",
            "Epoch 13/50\n",
            "843/843 [==============================] - 8s 10ms/step - loss: 207.8844 - val_loss: 175.1131\n",
            "Epoch 14/50\n",
            "843/843 [==============================] - 8s 9ms/step - loss: 137.2222 - val_loss: 108.2903\n",
            "Epoch 15/50\n",
            "843/843 [==============================] - 8s 9ms/step - loss: 70.5314 - val_loss: 86.1061\n",
            "Epoch 16/50\n",
            "843/843 [==============================] - 8s 9ms/step - loss: 54.7880 - val_loss: 68.5747\n",
            "Epoch 17/50\n",
            "843/843 [==============================] - 8s 9ms/step - loss: 47.8888 - val_loss: 66.7529\n",
            "Epoch 18/50\n",
            "843/843 [==============================] - 8s 9ms/step - loss: 46.8949 - val_loss: 66.5376\n",
            "Epoch 19/50\n",
            "843/843 [==============================] - 8s 9ms/step - loss: 45.4461 - val_loss: 65.6053\n",
            "Epoch 20/50\n",
            "843/843 [==============================] - 8s 9ms/step - loss: 45.6277 - val_loss: 71.7519\n",
            "Epoch 21/50\n",
            "843/843 [==============================] - 8s 9ms/step - loss: 46.4940 - val_loss: 73.8720\n",
            "Epoch 22/50\n",
            "843/843 [==============================] - 8s 9ms/step - loss: 44.6870 - val_loss: 67.4996\n",
            "Epoch 23/50\n",
            "843/843 [==============================] - 8s 9ms/step - loss: 43.3052 - val_loss: 66.4774\n",
            "Epoch 24/50\n",
            "843/843 [==============================] - 8s 9ms/step - loss: 41.9962 - val_loss: 64.0253\n",
            "Epoch 25/50\n",
            "843/843 [==============================] - 8s 9ms/step - loss: 40.5478 - val_loss: 62.9067\n",
            "Epoch 26/50\n",
            "843/843 [==============================] - 8s 9ms/step - loss: 40.9872 - val_loss: 67.1939\n",
            "Epoch 27/50\n",
            "843/843 [==============================] - 8s 9ms/step - loss: 39.5520 - val_loss: 64.1396\n",
            "Epoch 28/50\n",
            "843/843 [==============================] - 8s 9ms/step - loss: 39.2408 - val_loss: 61.2513\n",
            "Epoch 29/50\n",
            "843/843 [==============================] - 8s 9ms/step - loss: 38.2816 - val_loss: 60.5625\n",
            "Epoch 30/50\n",
            "843/843 [==============================] - 8s 9ms/step - loss: 39.1768 - val_loss: 60.5235\n",
            "Epoch 31/50\n",
            "843/843 [==============================] - 8s 9ms/step - loss: 38.1792 - val_loss: 60.9028\n",
            "Epoch 32/50\n",
            "843/843 [==============================] - 8s 9ms/step - loss: 38.7066 - val_loss: 66.4955\n",
            "Epoch 33/50\n",
            "843/843 [==============================] - 8s 9ms/step - loss: 38.8059 - val_loss: 58.3661\n",
            "Epoch 34/50\n",
            "843/843 [==============================] - 8s 9ms/step - loss: 38.9328 - val_loss: 64.0786\n",
            "Epoch 35/50\n",
            "843/843 [==============================] - 8s 9ms/step - loss: 37.7844 - val_loss: 59.0634\n",
            "Epoch 36/50\n",
            "843/843 [==============================] - 8s 9ms/step - loss: 37.3510 - val_loss: 56.5694\n",
            "Epoch 37/50\n",
            "843/843 [==============================] - 8s 9ms/step - loss: 37.0950 - val_loss: 58.1197\n",
            "Epoch 38/50\n",
            "843/843 [==============================] - 8s 9ms/step - loss: 37.5409 - val_loss: 57.0661\n",
            "Epoch 39/50\n",
            "843/843 [==============================] - 8s 10ms/step - loss: 97.7492 - val_loss: 73.4733\n",
            "Epoch 40/50\n",
            "843/843 [==============================] - 8s 9ms/step - loss: 47.3471 - val_loss: 66.8456\n",
            "Epoch 41/50\n",
            "843/843 [==============================] - 8s 9ms/step - loss: 44.0634 - val_loss: 66.3917\n",
            "Epoch 42/50\n",
            "843/843 [==============================] - 8s 9ms/step - loss: 45.2735 - val_loss: 67.1731\n",
            "Epoch 43/50\n",
            "843/843 [==============================] - 8s 9ms/step - loss: 437.5478 - val_loss: 381.1122\n",
            "Epoch 44/50\n",
            "843/843 [==============================] - 8s 9ms/step - loss: 419.3662 - val_loss: 312.7544\n",
            "Epoch 45/50\n",
            "843/843 [==============================] - 8s 10ms/step - loss: 325.6996 - val_loss: 228.2345\n",
            "Epoch 46/50\n",
            "843/843 [==============================] - 8s 9ms/step - loss: 196.9594 - val_loss: 123.5755\n",
            "Epoch 47/50\n",
            "843/843 [==============================] - 8s 9ms/step - loss: 89.0059 - val_loss: 82.0300\n",
            "Epoch 48/50\n",
            "843/843 [==============================] - 8s 9ms/step - loss: 69.5562 - val_loss: 75.7730\n",
            "Epoch 49/50\n",
            "843/843 [==============================] - 8s 9ms/step - loss: 61.8986 - val_loss: 98.4732\n",
            "Epoch 50/50\n",
            "843/843 [==============================] - 8s 9ms/step - loss: 65.1497 - val_loss: 76.1320\n"
          ]
        }
      ],
      "source": [
        "from keras.models import Sequential\n",
        "from keras.layers import LSTM, Dense\n",
        "from keras.optimizers import Adam\n",
        "from keras.callbacks import ModelCheckpoint\n",
        "\n",
        "n_features = 1\n",
        "X = X.reshape((X.shape[0], X.shape[1], n_features))\n",
        "\n",
        "# Define model\n",
        "model = Sequential()\n",
        "model.add(LSTM(50, activation='relu', input_shape=(n_steps, n_features)))\n",
        "model.add(Dense(1))\n",
        "\n",
        "# Compile model with learning rate of 0.001\n",
        "optimizer = Adam(lr=0.001)\n",
        "model.compile(optimizer=optimizer, loss='mse')\n",
        "\n",
        "# Define checkpoint callback\n",
        "checkpoint = ModelCheckpoint('model_weights.h5', monitor='val_loss', save_best_only=True, save_weights_only=True)\n",
        "\n",
        "# Fit model with checkpointing\n",
        "history = model.fit(X, y, epochs=50, verbose=1, validation_data = (test_X, test_y), callbacks=[checkpoint])"
      ]
    },
    {
      "cell_type": "code",
      "execution_count": null,
      "metadata": {
        "id": "gVlFQGQa5J3_",
        "outputId": "122441b7-4ef3-4119-c7ae-706f78b4a8ff"
      },
      "outputs": [
        {
          "data": {
            "text/plain": [
              "<AxesSubplot: >"
            ]
          },
          "execution_count": 34,
          "metadata": {},
          "output_type": "execute_result"
        },
        {
          "data": {
            "image/png": "[encoded data removed]",
            "text/plain": [
              "<Figure size 800x500 with 1 Axes>"
            ]
          },
          "metadata": {},
          "output_type": "display_data"
        }
      ],
      "source": [
        "pd.DataFrame(history.history).plot(figsize=(8,5))\n"
      ]
    },
    {
      "cell_type": "code",
      "execution_count": null,
      "metadata": {
        "id": "TEwHc3np5J3_",
        "outputId": "c074d63f-b8fd-462c-d4e8-6ddcc607e75f"
      },
      "outputs": [
        {
          "name": "stdout",
          "output_type": "stream",
          "text": [
            "285/285 [==============================] - 1s 3ms/step\n"
          ]
        }
      ],
      "source": [
        "test_X = test_X.reshape((test_X.shape[0], test_X.shape[1], n_features))\n",
        "pred_y = model.predict(test_X)"
      ]
    },
    {
      "cell_type": "code",
      "execution_count": null,
      "metadata": {
        "id": "v3GFDJCG5J3_",
        "outputId": "10eed488-c5af-4514-8d31-b3133dec548a"
      },
      "outputs": [
        {
          "name": "stdout",
          "output_type": "stream",
          "text": [
            "R2 score: 0.9595012633448489\n",
            "RMSE:  8.725368086273086\n"
          ]
        }
      ],
      "source": [
        "from sklearn.metrics import r2_score, mean_squared_error\n",
        "\n",
        "# Assuming you have your true values in 'y_true' and predicted values in 'y_pred'\n",
        "r2 = r2_score(test_y, pred_y)\n",
        "rmse = np.sqrt(mean_squared_error(test_y, pred_y))\n",
        "\n",
        "\n",
        "print(\"R2 score:\", r2)\n",
        "print(\"RMSE: \", rmse)"
      ]
    },
    {
      "cell_type": "code",
      "execution_count": null,
      "metadata": {
        "id": "6BNmRl9G5J4A"
      },
      "outputs": [],
      "source": [
        "model.save('singlelayerLSTM.h5')"
      ]
    },
    {
      "cell_type": "markdown",
      "metadata": {
        "id": "AXAg6lvX5J4A"
      },
      "source": [
        "LSTM with 64 units"
      ]
    },
    {
      "cell_type": "code",
      "execution_count": 18,
      "metadata": {
        "id": "GvT9F7Po5J4B"
      },
      "outputs": [],
      "source": [
        "train_X, train_y = split_sequence(np.array(train_data['sfu']), 27)\n",
        "# print(\"train split done\")\n",
        "test_X, test_y = split_sequence(np.array(test_data['sfu']), 27)"
      ]
    },
    {
      "cell_type": "code",
      "execution_count": 19,
      "metadata": {
        "colab": {
          "base_uri": "https://localhost:8080/"
        },
        "id": "8XE9wCE-5J4B",
        "outputId": "a5ad043a-0803-4b3c-f7d9-686e32d20326"
      },
      "outputs": [
        {
          "output_type": "stream",
          "name": "stdout",
          "text": [
            "Epoch 1/50\n"
          ]
        },
        {
          "output_type": "stream",
          "name": "stderr",
          "text": [
            "/usr/local/lib/python3.10/dist-packages/keras/optimizers/legacy/adam.py:117: UserWarning: The `lr` argument is deprecated, use `learning_rate` instead.\n",
            "  super().__init__(name, **kwargs)\n"
          ]
        },
        {
          "output_type": "stream",
          "name": "stdout",
          "text": [
            "262/262 [==============================] - 6s 18ms/step - loss: 2412.2122 - val_loss: 216.1240\n",
            "Epoch 2/50\n",
            "262/262 [==============================] - 5s 20ms/step - loss: 689.1141 - val_loss: 348.1982\n",
            "Epoch 3/50\n",
            "262/262 [==============================] - 4s 15ms/step - loss: 694.2921 - val_loss: 152.2729\n",
            "Epoch 4/50\n",
            "262/262 [==============================] - 4s 16ms/step - loss: 369.3511 - val_loss: 88.7387\n",
            "Epoch 5/50\n",
            "262/262 [==============================] - 5s 18ms/step - loss: 266.5711 - val_loss: 101.5090\n",
            "Epoch 6/50\n",
            "262/262 [==============================] - 4s 16ms/step - loss: 209.9076 - val_loss: 84.2837\n",
            "Epoch 7/50\n",
            "262/262 [==============================] - 4s 16ms/step - loss: 139.5942 - val_loss: 19.7829\n",
            "Epoch 8/50\n",
            "262/262 [==============================] - 5s 18ms/step - loss: 36.0813 - val_loss: 18.8630\n",
            "Epoch 9/50\n",
            "262/262 [==============================] - 4s 17ms/step - loss: 32.1948 - val_loss: 17.2650\n",
            "Epoch 10/50\n",
            "262/262 [==============================] - 5s 19ms/step - loss: 31.1439 - val_loss: 16.6287\n",
            "Epoch 11/50\n",
            "262/262 [==============================] - 4s 17ms/step - loss: 37.4332 - val_loss: 18.4800\n",
            "Epoch 12/50\n",
            "262/262 [==============================] - 4s 17ms/step - loss: 31.0886 - val_loss: 18.5624\n",
            "Epoch 13/50\n",
            "262/262 [==============================] - 5s 21ms/step - loss: 29.0313 - val_loss: 18.4332\n",
            "Epoch 14/50\n",
            "262/262 [==============================] - 4s 16ms/step - loss: 27.9440 - val_loss: 15.5095\n",
            "Epoch 15/50\n",
            "262/262 [==============================] - 4s 16ms/step - loss: 26.3594 - val_loss: 18.3204\n",
            "Epoch 16/50\n",
            "262/262 [==============================] - 5s 20ms/step - loss: 26.3512 - val_loss: 15.5244\n",
            "Epoch 17/50\n",
            "262/262 [==============================] - 4s 17ms/step - loss: 26.4857 - val_loss: 15.8511\n",
            "Epoch 18/50\n",
            "262/262 [==============================] - 4s 16ms/step - loss: 27.1084 - val_loss: 15.5748\n",
            "Epoch 19/50\n",
            "262/262 [==============================] - 5s 20ms/step - loss: 26.8374 - val_loss: 15.4643\n",
            "Epoch 20/50\n",
            "262/262 [==============================] - 4s 16ms/step - loss: 26.4949 - val_loss: 14.0522\n",
            "Epoch 21/50\n",
            "262/262 [==============================] - 4s 16ms/step - loss: 26.0161 - val_loss: 14.2578\n",
            "Epoch 22/50\n",
            "262/262 [==============================] - 5s 19ms/step - loss: 27.0783 - val_loss: 13.6614\n",
            "Epoch 23/50\n",
            "262/262 [==============================] - 4s 17ms/step - loss: 25.8713 - val_loss: 23.3342\n",
            "Epoch 24/50\n",
            "262/262 [==============================] - 5s 18ms/step - loss: 27.7546 - val_loss: 13.6000\n",
            "Epoch 25/50\n",
            "262/262 [==============================] - 4s 17ms/step - loss: 24.7464 - val_loss: 17.8461\n",
            "Epoch 26/50\n",
            "262/262 [==============================] - 4s 16ms/step - loss: 26.3587 - val_loss: 13.9949\n",
            "Epoch 27/50\n",
            "262/262 [==============================] - 5s 20ms/step - loss: 25.9498 - val_loss: 14.0415\n",
            "Epoch 28/50\n",
            "262/262 [==============================] - 4s 16ms/step - loss: 25.4705 - val_loss: 14.2774\n",
            "Epoch 29/50\n",
            "262/262 [==============================] - 5s 19ms/step - loss: 26.2205 - val_loss: 13.2624\n",
            "Epoch 30/50\n",
            "262/262 [==============================] - 5s 20ms/step - loss: 27.4596 - val_loss: 13.1630\n",
            "Epoch 31/50\n",
            "262/262 [==============================] - 4s 15ms/step - loss: 25.4890 - val_loss: 18.5300\n",
            "Epoch 32/50\n",
            "262/262 [==============================] - 4s 16ms/step - loss: 26.1857 - val_loss: 25.2544\n",
            "Epoch 33/50\n",
            "262/262 [==============================] - 5s 20ms/step - loss: 26.7832 - val_loss: 14.2822\n",
            "Epoch 34/50\n",
            "262/262 [==============================] - 4s 16ms/step - loss: 25.6548 - val_loss: 13.1434\n",
            "Epoch 35/50\n",
            "262/262 [==============================] - 5s 19ms/step - loss: 26.8826 - val_loss: 18.5132\n",
            "Epoch 36/50\n",
            "262/262 [==============================] - 7s 26ms/step - loss: 26.7438 - val_loss: 13.5752\n",
            "Epoch 37/50\n",
            "262/262 [==============================] - 4s 17ms/step - loss: 26.3525 - val_loss: 15.0657\n",
            "Epoch 38/50\n",
            "262/262 [==============================] - 6s 21ms/step - loss: 26.6505 - val_loss: 14.1621\n",
            "Epoch 39/50\n",
            "262/262 [==============================] - 7s 26ms/step - loss: 25.8888 - val_loss: 13.1995\n",
            "Epoch 40/50\n",
            "262/262 [==============================] - 5s 20ms/step - loss: 25.1762 - val_loss: 16.6565\n",
            "Epoch 41/50\n",
            "262/262 [==============================] - 4s 16ms/step - loss: 26.4976 - val_loss: 14.6965\n",
            "Epoch 42/50\n",
            "262/262 [==============================] - 5s 17ms/step - loss: 25.1192 - val_loss: 16.8799\n",
            "Epoch 43/50\n",
            "262/262 [==============================] - 5s 21ms/step - loss: 25.2746 - val_loss: 13.8479\n",
            "Epoch 44/50\n",
            "262/262 [==============================] - 6s 23ms/step - loss: 67702.4688 - val_loss: 170.0073\n",
            "Epoch 45/50\n",
            "262/262 [==============================] - 5s 21ms/step - loss: 540.6844 - val_loss: 165.1369\n",
            "Epoch 46/50\n",
            "262/262 [==============================] - 5s 18ms/step - loss: 499.2588 - val_loss: 164.3327\n",
            "Epoch 47/50\n",
            "262/262 [==============================] - 4s 17ms/step - loss: 466.4664 - val_loss: 166.1456\n",
            "Epoch 48/50\n",
            "262/262 [==============================] - 6s 25ms/step - loss: 458.2516 - val_loss: 160.7567\n",
            "Epoch 49/50\n",
            "262/262 [==============================] - 4s 16ms/step - loss: 462.4749 - val_loss: 152.3559\n",
            "Epoch 50/50\n",
            "262/262 [==============================] - 4s 17ms/step - loss: 455.7018 - val_loss: 150.1861\n"
          ]
        }
      ],
      "source": [
        "from keras.models import Sequential\n",
        "from keras.layers import LSTM, Dense\n",
        "from keras.optimizers import Adam\n",
        "from keras.callbacks import ModelCheckpoint\n",
        "\n",
        "n_features = 1\n",
        "train_X = train_X.reshape((train_X.shape[0], train_X.shape[1], n_features))\n",
        "\n",
        "# Define model\n",
        "model = Sequential()\n",
        "model.add(LSTM(64, activation='relu', input_shape=(n_steps, n_features)))\n",
        "model.add(Dense(1))\n",
        "\n",
        "# Compile model with learning rate of 0.001\n",
        "optimizer = Adam(lr=0.001)\n",
        "model.compile(optimizer=optimizer, loss='mse')\n",
        "\n",
        "# Define checkpoint callback\n",
        "checkpoint = ModelCheckpoint('singleLSTM64.h5', monitor='val_loss', save_best_only=True, save_weights_only=True)\n",
        "\n",
        "# Fit model with checkpointing\n",
        "history = model.fit(train_X, train_y, epochs=50, verbose=1, validation_data = (test_X, test_y), callbacks=[checkpoint])"
      ]
    },
    {
      "cell_type": "code",
      "execution_count": 20,
      "metadata": {
        "colab": {
          "base_uri": "https://localhost:8080/",
          "height": 462
        },
        "id": "-lf6N_ui5J4B",
        "outputId": "2d781a1a-1cd5-4382-896f-65614a894dbb"
      },
      "outputs": [
        {
          "output_type": "execute_result",
          "data": {
            "text/plain": [
              "<Axes: >"
            ]
          },
          "metadata": {},
          "execution_count": 20
        },
        {
          "output_type": "display_data",
          "data": {
            "text/plain": [
              "<Figure size 800x500 with 1 Axes>"
            ],
            "image/png": "[encoded data removed]"
          },
          "metadata": {}
        }
      ],
      "source": [
        "pd.DataFrame(history.history).plot(figsize=(8,5))\n"
      ]
    },
    {
      "cell_type": "code",
      "execution_count": 21,
      "metadata": {
        "colab": {
          "base_uri": "https://localhost:8080/"
        },
        "id": "45oalJIe5J4C",
        "outputId": "d02860cc-e280-4b0a-b9c5-9777500fcb9b"
      },
      "outputs": [
        {
          "output_type": "stream",
          "name": "stdout",
          "text": [
            "137/137 [==============================] - 1s 5ms/step\n"
          ]
        }
      ],
      "source": [
        "test_X = test_X.reshape((test_X.shape[0], test_X.shape[1], n_features))\n",
        "pred_y = model.predict(test_X)"
      ]
    },
    {
      "cell_type": "code",
      "execution_count": 22,
      "metadata": {
        "colab": {
          "base_uri": "https://localhost:8080/"
        },
        "id": "gBLoCPFE5J4C",
        "outputId": "463f8b07-104e-4c86-a7d5-f0de44a3cd91"
      },
      "outputs": [
        {
          "output_type": "stream",
          "name": "stdout",
          "text": [
            "R2 score: 0.8242619783721887\n",
            "RMSE:  12.25504707363281\n"
          ]
        }
      ],
      "source": [
        "from sklearn.metrics import r2_score, mean_squared_error\n",
        "\n",
        "# Assuming you have your true values in 'y_true' and predicted values in 'y_pred'\n",
        "r2 = r2_score(test_y, pred_y)\n",
        "rmse = np.sqrt(mean_squared_error(test_y, pred_y))\n",
        "\n",
        "\n",
        "print(\"R2 score:\", r2)\n",
        "print(\"RMSE: \", rmse)"
      ]
    },
    {
      "cell_type": "markdown",
      "metadata": {
        "id": "hvuVTEV15J4C"
      },
      "source": [
        "2 layer LSTM with 64 32 units"
      ]
    },
    {
      "cell_type": "code",
      "execution_count": 23,
      "metadata": {
        "id": "DMP2MwTe5J4C"
      },
      "outputs": [],
      "source": [
        "train_X, train_y = split_sequence(np.array(train_data['sfu']), 27)\n",
        "# print(\"train split done\")\n",
        "test_X, test_y = split_sequence(np.array(test_data['sfu']), 27)"
      ]
    },
    {
      "cell_type": "code",
      "execution_count": 24,
      "metadata": {
        "colab": {
          "base_uri": "https://localhost:8080/"
        },
        "id": "GE2CX00I5J4D",
        "outputId": "169c91e6-475c-495f-eff0-baca410b280d"
      },
      "outputs": [
        {
          "output_type": "stream",
          "name": "stdout",
          "text": [
            "Epoch 1/50\n"
          ]
        },
        {
          "output_type": "stream",
          "name": "stderr",
          "text": [
            "/usr/local/lib/python3.10/dist-packages/keras/optimizers/legacy/adam.py:117: UserWarning: The `lr` argument is deprecated, use `learning_rate` instead.\n",
            "  super().__init__(name, **kwargs)\n"
          ]
        },
        {
          "output_type": "stream",
          "name": "stdout",
          "text": [
            "262/262 [==============================] - 12s 37ms/step - loss: 23438.5762 - val_loss: 1880.4197\n",
            "Epoch 2/50\n",
            "262/262 [==============================] - 8s 30ms/step - loss: 1749.2867 - val_loss: 764.0178\n",
            "Epoch 3/50\n",
            "262/262 [==============================] - 9s 34ms/step - loss: 3812.3684 - val_loss: 4409.3755\n",
            "Epoch 4/50\n",
            "262/262 [==============================] - 9s 36ms/step - loss: 4497.8354 - val_loss: 198.8675\n",
            "Epoch 5/50\n",
            "262/262 [==============================] - 8s 32ms/step - loss: 577.6239 - val_loss: 191.0145\n",
            "Epoch 6/50\n",
            "262/262 [==============================] - 9s 34ms/step - loss: 575.5513 - val_loss: 190.0741\n",
            "Epoch 7/50\n",
            "262/262 [==============================] - 9s 34ms/step - loss: 575.9380 - val_loss: 190.0153\n",
            "Epoch 8/50\n",
            "262/262 [==============================] - 9s 34ms/step - loss: 571.7750 - val_loss: 190.8104\n",
            "Epoch 9/50\n",
            "262/262 [==============================] - 9s 33ms/step - loss: 13828936.0000 - val_loss: 234.2140\n",
            "Epoch 10/50\n",
            "262/262 [==============================] - 9s 34ms/step - loss: 5335.3008 - val_loss: 202.2548\n",
            "Epoch 11/50\n",
            "262/262 [==============================] - 8s 32ms/step - loss: 382.4804 - val_loss: 96.8879\n",
            "Epoch 12/50\n",
            "262/262 [==============================] - 9s 33ms/step - loss: 294.3589 - val_loss: 77.3676\n",
            "Epoch 13/50\n",
            "262/262 [==============================] - 9s 35ms/step - loss: 185.3382 - val_loss: 62.5671\n",
            "Epoch 14/50\n",
            "262/262 [==============================] - 9s 33ms/step - loss: 137.6966 - val_loss: 55.1074\n",
            "Epoch 15/50\n",
            "262/262 [==============================] - 8s 30ms/step - loss: 120.7872 - val_loss: 46.8711\n",
            "Epoch 16/50\n",
            "262/262 [==============================] - 9s 34ms/step - loss: 143.1335 - val_loss: 75.6365\n",
            "Epoch 17/50\n",
            "262/262 [==============================] - 9s 33ms/step - loss: 110.0541 - val_loss: 43.8799\n",
            "Epoch 18/50\n",
            "262/262 [==============================] - 8s 30ms/step - loss: 88.2594 - val_loss: 39.2209\n",
            "Epoch 19/50\n",
            "262/262 [==============================] - 9s 34ms/step - loss: 79.0681 - val_loss: 36.7921\n",
            "Epoch 20/50\n",
            "262/262 [==============================] - 9s 36ms/step - loss: 74.4842 - val_loss: 34.2595\n",
            "Epoch 21/50\n",
            "262/262 [==============================] - 8s 29ms/step - loss: 69.9901 - val_loss: 37.0806\n",
            "Epoch 22/50\n",
            "262/262 [==============================] - 9s 35ms/step - loss: 69.7467 - val_loss: 38.4580\n",
            "Epoch 23/50\n",
            "262/262 [==============================] - 9s 35ms/step - loss: 63.6703 - val_loss: 32.9916\n",
            "Epoch 24/50\n",
            "262/262 [==============================] - 8s 29ms/step - loss: 59.9634 - val_loss: 30.5229\n",
            "Epoch 25/50\n",
            "262/262 [==============================] - 9s 35ms/step - loss: 57.9298 - val_loss: 30.2188\n",
            "Epoch 26/50\n",
            "262/262 [==============================] - 10s 37ms/step - loss: 54.2361 - val_loss: 29.6238\n",
            "Epoch 27/50\n",
            "262/262 [==============================] - 7s 28ms/step - loss: 54.4334 - val_loss: 27.1054\n",
            "Epoch 28/50\n",
            "262/262 [==============================] - 9s 34ms/step - loss: 49.9635 - val_loss: 31.3891\n",
            "Epoch 29/50\n",
            "262/262 [==============================] - 9s 33ms/step - loss: 49.3703 - val_loss: 24.8227\n",
            "Epoch 30/50\n",
            "262/262 [==============================] - 8s 30ms/step - loss: 48.1968 - val_loss: 27.5068\n",
            "Epoch 31/50\n",
            "262/262 [==============================] - 10s 37ms/step - loss: 48.0112 - val_loss: 30.0518\n",
            "Epoch 32/50\n",
            "262/262 [==============================] - 9s 34ms/step - loss: 46.0322 - val_loss: 21.0410\n",
            "Epoch 33/50\n",
            "262/262 [==============================] - 8s 29ms/step - loss: 42.4218 - val_loss: 22.7754\n",
            "Epoch 34/50\n",
            "262/262 [==============================] - 9s 36ms/step - loss: 43.8119 - val_loss: 20.6675\n",
            "Epoch 35/50\n",
            "262/262 [==============================] - 9s 35ms/step - loss: 40.7793 - val_loss: 22.3101\n",
            "Epoch 36/50\n",
            "262/262 [==============================] - 8s 30ms/step - loss: 39.7605 - val_loss: 22.1759\n",
            "Epoch 37/50\n",
            "262/262 [==============================] - 9s 35ms/step - loss: 38.6429 - val_loss: 20.6413\n",
            "Epoch 38/50\n",
            "262/262 [==============================] - 9s 33ms/step - loss: 39.1835 - val_loss: 21.4416\n",
            "Epoch 39/50\n",
            "262/262 [==============================] - 8s 30ms/step - loss: 36.3448 - val_loss: 20.9652\n",
            "Epoch 40/50\n",
            "262/262 [==============================] - 9s 36ms/step - loss: 35.4287 - val_loss: 18.4398\n",
            "Epoch 41/50\n",
            "262/262 [==============================] - 9s 35ms/step - loss: 35.5512 - val_loss: 18.9713\n",
            "Epoch 42/50\n",
            "262/262 [==============================] - 8s 30ms/step - loss: 37.2358 - val_loss: 19.1741\n",
            "Epoch 43/50\n",
            "262/262 [==============================] - 9s 36ms/step - loss: 36.5373 - val_loss: 19.3884\n",
            "Epoch 44/50\n",
            "262/262 [==============================] - 9s 34ms/step - loss: 34.3917 - val_loss: 17.3771\n",
            "Epoch 45/50\n",
            "262/262 [==============================] - 8s 31ms/step - loss: 35.5151 - val_loss: 17.3960\n",
            "Epoch 46/50\n",
            "262/262 [==============================] - 9s 34ms/step - loss: 32.9914 - val_loss: 23.5427\n",
            "Epoch 47/50\n",
            "262/262 [==============================] - 9s 35ms/step - loss: 32.6347 - val_loss: 17.6593\n",
            "Epoch 48/50\n",
            "262/262 [==============================] - 8s 30ms/step - loss: 1458.8958 - val_loss: 157.8637\n",
            "Epoch 49/50\n",
            "262/262 [==============================] - 8s 32ms/step - loss: 420.4015 - val_loss: 164.6169\n",
            "Epoch 50/50\n",
            "262/262 [==============================] - 9s 35ms/step - loss: 379.6629 - val_loss: 117.2505\n"
          ]
        }
      ],
      "source": [
        "from keras.models import Sequential\n",
        "from keras.layers import LSTM, Dense\n",
        "from keras.optimizers import Adam\n",
        "from keras.callbacks import ModelCheckpoint\n",
        "\n",
        "n_features = 1\n",
        "train_X = train_X.reshape((train_X.shape[0], train_X.shape[1], n_features))\n",
        "\n",
        "# Define model\n",
        "model = Sequential()\n",
        "model.add(LSTM(64, activation='relu',return_sequences= True,  input_shape=(n_steps, n_features)))\n",
        "model.add(LSTM(32, activation='relu'))\n",
        "model.add(Dense(1))\n",
        "\n",
        "# Compile model with learning rate of 0.001\n",
        "optimizer = Adam(lr=0.001)\n",
        "model.compile(optimizer=optimizer, loss='mse')\n",
        "\n",
        "# Define checkpoint callback\n",
        "checkpoint = ModelCheckpoint('2LayerLSTM6432.h5', monitor='val_loss', save_best_only=True, save_weights_only=True)\n",
        "\n",
        "# Fit model with checkpointing\n",
        "history = model.fit(train_X, train_y, epochs=50, verbose=1, validation_data = (test_X, test_y), callbacks=[checkpoint])"
      ]
    },
    {
      "cell_type": "code",
      "execution_count": 28,
      "metadata": {
        "colab": {
          "base_uri": "https://localhost:8080/",
          "height": 477
        },
        "id": "nUX9IOvI5J4D",
        "outputId": "637a5f22-bb2f-44b0-e321-3b19a344960b"
      },
      "outputs": [
        {
          "output_type": "execute_result",
          "data": {
            "text/plain": [
              "<Axes: >"
            ]
          },
          "metadata": {},
          "execution_count": 28
        },
        {
          "output_type": "display_data",
          "data": {
            "text/plain": [
              "<Figure size 800x500 with 1 Axes>"
            ],
            "image/png": "[encoded data removed]"
          },
          "metadata": {}
        }
      ],
      "source": [
        "pd.DataFrame(history.history).plot(figsize=(8,5))"
      ]
    },
    {
      "cell_type": "code",
      "execution_count": 25,
      "metadata": {
        "colab": {
          "base_uri": "https://localhost:8080/"
        },
        "id": "ybPmn7ht5J4D",
        "outputId": "54a405a4-95a3-4237-b3af-e77572ae9e0c"
      },
      "outputs": [
        {
          "output_type": "stream",
          "name": "stdout",
          "text": [
            "R2 score: 0.8242619783721887\n",
            "RMSE:  12.25504707363281\n"
          ]
        }
      ],
      "source": [
        "from sklearn.metrics import r2_score, mean_squared_error\n",
        "\n",
        "# Assuming you have your true values in 'y_true' and predicted values in 'y_pred'\n",
        "r2 = r2_score(test_y, pred_y)\n",
        "rmse = np.sqrt(mean_squared_error(test_y, pred_y))\n",
        "\n",
        "\n",
        "print(\"R2 score:\", r2)\n",
        "print(\"RMSE: \", rmse)"
      ]
    },
    {
      "cell_type": "markdown",
      "metadata": {
        "id": "fz3m-fsV5J4E"
      },
      "source": [
        "2 LAYERED LSTM WITH BOTH RETURN_SEQ = True"
      ]
    },
    {
      "cell_type": "code",
      "execution_count": 26,
      "metadata": {
        "id": "b653VB2w5J4E"
      },
      "outputs": [],
      "source": [
        "train_X, train_y = split_sequence(np.array(train_data['sfu']), 27)\n",
        "# print(\"train split done\")\n",
        "test_X, test_y = split_sequence(np.array(test_data['sfu']), 27)"
      ]
    },
    {
      "cell_type": "code",
      "execution_count": 27,
      "metadata": {
        "colab": {
          "base_uri": "https://localhost:8080/"
        },
        "id": "g-yb5ZZ85J4E",
        "outputId": "45cf5648-36ff-43f8-f8ea-e4f0eef32b22"
      },
      "outputs": [
        {
          "output_type": "stream",
          "name": "stdout",
          "text": [
            "Epoch 1/50\n"
          ]
        },
        {
          "output_type": "stream",
          "name": "stderr",
          "text": [
            "/usr/local/lib/python3.10/dist-packages/keras/optimizers/legacy/adam.py:117: UserWarning: The `lr` argument is deprecated, use `learning_rate` instead.\n",
            "  super().__init__(name, **kwargs)\n"
          ]
        },
        {
          "output_type": "stream",
          "name": "stdout",
          "text": [
            "262/262 [==============================] - 11s 30ms/step - loss: 3164.6543 - val_loss: 584.1986\n",
            "Epoch 2/50\n",
            "262/262 [==============================] - 9s 35ms/step - loss: 434.2335 - val_loss: 101.9779\n",
            "Epoch 3/50\n",
            "262/262 [==============================] - 9s 34ms/step - loss: 327.8537 - val_loss: 175.3507\n",
            "Epoch 4/50\n",
            "262/262 [==============================] - 8s 29ms/step - loss: 482.9690 - val_loss: 353.0375\n",
            "Epoch 5/50\n",
            "262/262 [==============================] - 9s 36ms/step - loss: 795.4651 - val_loss: 204.4794\n",
            "Epoch 6/50\n",
            "262/262 [==============================] - 10s 38ms/step - loss: 639.0782 - val_loss: 199.5379\n",
            "Epoch 7/50\n",
            "262/262 [==============================] - 12s 45ms/step - loss: 15002.2129 - val_loss: 266.7909\n",
            "Epoch 8/50\n",
            "262/262 [==============================] - 9s 34ms/step - loss: 736.7410 - val_loss: 242.8341\n",
            "Epoch 9/50\n",
            "262/262 [==============================] - 9s 36ms/step - loss: 697.5519 - val_loss: 238.1114\n",
            "Epoch 10/50\n",
            "262/262 [==============================] - 9s 34ms/step - loss: 686.1890 - val_loss: 232.0095\n",
            "Epoch 11/50\n",
            "262/262 [==============================] - 8s 32ms/step - loss: 674.0989 - val_loss: 225.9120\n",
            "Epoch 12/50\n",
            "262/262 [==============================] - 8s 32ms/step - loss: 665.2397 - val_loss: 223.9301\n",
            "Epoch 13/50\n",
            "262/262 [==============================] - 9s 34ms/step - loss: 659.0853 - val_loss: 225.5076\n",
            "Epoch 14/50\n",
            "262/262 [==============================] - 8s 32ms/step - loss: 661.1075 - val_loss: 221.0159\n",
            "Epoch 15/50\n",
            "262/262 [==============================] - 9s 34ms/step - loss: 656.8199 - val_loss: 240.9249\n",
            "Epoch 16/50\n",
            "262/262 [==============================] - 9s 34ms/step - loss: 651.7944 - val_loss: 228.2468\n",
            "Epoch 17/50\n",
            "262/262 [==============================] - 9s 34ms/step - loss: 638.4850 - val_loss: 223.3138\n",
            "Epoch 18/50\n",
            "262/262 [==============================] - 8s 32ms/step - loss: 635.5969 - val_loss: 265.2680\n",
            "Epoch 19/50\n",
            "262/262 [==============================] - 9s 36ms/step - loss: 639.2238 - val_loss: 271.2869\n",
            "Epoch 20/50\n",
            "262/262 [==============================] - 9s 34ms/step - loss: 654.1457 - val_loss: 234.5396\n",
            "Epoch 21/50\n",
            "262/262 [==============================] - 8s 32ms/step - loss: 630.2496 - val_loss: 255.4313\n",
            "Epoch 22/50\n",
            "262/262 [==============================] - 9s 34ms/step - loss: 622.4623 - val_loss: 220.3299\n",
            "Epoch 23/50\n",
            "262/262 [==============================] - 9s 35ms/step - loss: 639.2100 - val_loss: 247.0070\n",
            "Epoch 24/50\n",
            "262/262 [==============================] - 8s 32ms/step - loss: 636.2302 - val_loss: 241.3625\n",
            "Epoch 25/50\n",
            "262/262 [==============================] - 9s 36ms/step - loss: 621.9729 - val_loss: 231.0284\n",
            "Epoch 26/50\n",
            "262/262 [==============================] - 9s 35ms/step - loss: 634.7641 - val_loss: 222.1366\n",
            "Epoch 27/50\n",
            "262/262 [==============================] - 8s 32ms/step - loss: 632.7458 - val_loss: 225.8222\n",
            "Epoch 28/50\n",
            "262/262 [==============================] - 9s 34ms/step - loss: 620.3879 - val_loss: 306.9006\n",
            "Epoch 29/50\n",
            "262/262 [==============================] - 9s 35ms/step - loss: 623.5602 - val_loss: 285.0718\n",
            "Epoch 30/50\n",
            "262/262 [==============================] - 8s 32ms/step - loss: 620.3476 - val_loss: 230.2879\n",
            "Epoch 31/50\n",
            "262/262 [==============================] - 8s 32ms/step - loss: 619.5146 - val_loss: 304.3319\n",
            "Epoch 32/50\n",
            "262/262 [==============================] - 9s 35ms/step - loss: 626.8691 - val_loss: 295.6516\n",
            "Epoch 33/50\n",
            "262/262 [==============================] - 9s 34ms/step - loss: 639.2791 - val_loss: 224.8170\n",
            "Epoch 34/50\n",
            "262/262 [==============================] - 8s 30ms/step - loss: 625.6989 - val_loss: 262.6382\n",
            "Epoch 35/50\n",
            "262/262 [==============================] - 9s 35ms/step - loss: 612.6727 - val_loss: 244.1897\n",
            "Epoch 36/50\n",
            "262/262 [==============================] - 9s 33ms/step - loss: 617.8195 - val_loss: 224.2435\n",
            "Epoch 37/50\n",
            "262/262 [==============================] - 8s 30ms/step - loss: 620.1259 - val_loss: 224.2165\n",
            "Epoch 38/50\n",
            "262/262 [==============================] - 9s 33ms/step - loss: 621.9749 - val_loss: 221.7902\n",
            "Epoch 39/50\n",
            "262/262 [==============================] - 9s 34ms/step - loss: 628.7393 - val_loss: 259.9458\n",
            "Epoch 40/50\n",
            "262/262 [==============================] - 8s 30ms/step - loss: 626.1881 - val_loss: 231.3703\n",
            "Epoch 41/50\n",
            "262/262 [==============================] - 10s 36ms/step - loss: 614.4748 - val_loss: 227.8544\n",
            "Epoch 42/50\n",
            "262/262 [==============================] - 9s 35ms/step - loss: 621.1462 - val_loss: 251.8907\n",
            "Epoch 43/50\n",
            "262/262 [==============================] - 8s 30ms/step - loss: 623.9856 - val_loss: 231.1202\n",
            "Epoch 44/50\n",
            "262/262 [==============================] - 9s 34ms/step - loss: 614.5010 - val_loss: 246.7809\n",
            "Epoch 45/50\n",
            "262/262 [==============================] - 9s 35ms/step - loss: 626.1486 - val_loss: 421.7668\n",
            "Epoch 46/50\n",
            "262/262 [==============================] - 8s 30ms/step - loss: 620.9136 - val_loss: 221.1271\n",
            "Epoch 47/50\n",
            "262/262 [==============================] - 9s 34ms/step - loss: 620.4706 - val_loss: 225.4812\n",
            "Epoch 48/50\n",
            "262/262 [==============================] - 9s 35ms/step - loss: 641.1116 - val_loss: 224.0965\n",
            "Epoch 49/50\n",
            "262/262 [==============================] - 8s 30ms/step - loss: 629.6496 - val_loss: 256.3152\n",
            "Epoch 50/50\n",
            "262/262 [==============================] - 9s 35ms/step - loss: 764255.5000 - val_loss: 2768897.7500\n"
          ]
        }
      ],
      "source": [
        "from keras.models import Sequential\n",
        "from keras.layers import LSTM, Dense\n",
        "from keras.optimizers import Adam\n",
        "from keras.callbacks import ModelCheckpoint\n",
        "\n",
        "n_features = 1\n",
        "train_X = train_X.reshape((train_X.shape[0], train_X.shape[1], n_features))\n",
        "\n",
        "# Define model\n",
        "model = Sequential()\n",
        "model.add(LSTM(64, activation='relu', return_sequences= True,  input_shape=(n_steps, n_features)))\n",
        "model.add(LSTM(32, activation='relu'))\n",
        "model.add(Dense(1))\n",
        "\n",
        "# Compile model with learning rate of 0.001\n",
        "optimizer = Adam(lr=0.001)\n",
        "model.compile(optimizer=optimizer, loss='mse')\n",
        "\n",
        "# Define checkpoint callback\n",
        "checkpoint = ModelCheckpoint('2LayerLSTM6432_v2.h5', monitor='val_loss', save_best_only=True, save_weights_only=True)\n",
        "\n",
        "# Fit model with checkpointing\n",
        "history = model.fit(train_X, train_y, epochs=50, verbose=1, validation_data = (test_X, test_y), callbacks=[checkpoint])"
      ]
    },
    {
      "cell_type": "code",
      "execution_count": null,
      "metadata": {
        "id": "RooJ9u9s5J4E",
        "outputId": "e048c0ae-b96e-4686-a8ce-d214b1a95738"
      },
      "outputs": [
        {
          "name": "stdout",
          "output_type": "stream",
          "text": [
            "285/285 [==============================] - 2s 6ms/step\n"
          ]
        }
      ],
      "source": [
        "test_X = test_X.reshape((test_X.shape[0], test_X.shape[1], n_features))\n",
        "pred_y = model.predict(test_X)"
      ]
    },
    {
      "cell_type": "code",
      "execution_count": null,
      "metadata": {
        "id": "R_fAMI9v5J4E",
        "outputId": "4a03f9dc-2127-4e45-edd2-c321eda31924"
      },
      "outputs": [
        {
          "ename": "ValueError",
          "evalue": "Found array with dim 3. None expected <= 2.",
          "output_type": "error",
          "traceback": [
            "\u001b[1;31m---------------------------------------------------------------------------\u001b[0m",
            "\u001b[1;31mValueError\u001b[0m                                Traceback (most recent call last)",
            "\u001b[1;32mc:\\Users\\Swaroop\\isro project\\experimenting.ipynb Cell 27\u001b[0m in \u001b[0;36m4\n\u001b[0;32m      <a href='vscode-notebook-cell:/c%3A/Users/Swaroop/isro%20project/experimenting.ipynb#X36sZmlsZQ%3D%3D?line=0'>1</a>\u001b[0m \u001b[39mfrom\u001b[39;00m \u001b[39msklearn\u001b[39;00m\u001b[39m.\u001b[39;00m\u001b[39mmetrics\u001b[39;00m \u001b[39mimport\u001b[39;00m r2_score, mean_squared_error\n\u001b[0;32m      <a href='vscode-notebook-cell:/c%3A/Users/Swaroop/isro%20project/experimenting.ipynb#X36sZmlsZQ%3D%3D?line=2'>3</a>\u001b[0m \u001b[39m# Assuming you have your true values in 'y_true' and predicted values in 'y_pred'\u001b[39;00m\n\u001b[1;32m----> <a href='vscode-notebook-cell:/c%3A/Users/Swaroop/isro%20project/experimenting.ipynb#X36sZmlsZQ%3D%3D?line=3'>4</a>\u001b[0m r2 \u001b[39m=\u001b[39m r2_score(test_y, pred_y)\n\u001b[0;32m      <a href='vscode-notebook-cell:/c%3A/Users/Swaroop/isro%20project/experimenting.ipynb#X36sZmlsZQ%3D%3D?line=4'>5</a>\u001b[0m rmse \u001b[39m=\u001b[39m np\u001b[39m.\u001b[39msqrt(mean_squared_error(test_y, pred_y))\n\u001b[0;32m      <a href='vscode-notebook-cell:/c%3A/Users/Swaroop/isro%20project/experimenting.ipynb#X36sZmlsZQ%3D%3D?line=7'>8</a>\u001b[0m \u001b[39mprint\u001b[39m(\u001b[39m\"\u001b[39m\u001b[39mR2 score:\u001b[39m\u001b[39m\"\u001b[39m, r2)\n",
            "File \u001b[1;32mc:\\Users\\Swaroop\\AppData\\Local\\Programs\\Python\\Python38\\lib\\site-packages\\sklearn\\metrics\\_regression.py:911\u001b[0m, in \u001b[0;36mr2_score\u001b[1;34m(y_true, y_pred, sample_weight, multioutput, force_finite)\u001b[0m\n\u001b[0;32m    784\u001b[0m \u001b[39mdef\u001b[39;00m \u001b[39mr2_score\u001b[39m(\n\u001b[0;32m    785\u001b[0m     y_true,\n\u001b[0;32m    786\u001b[0m     y_pred,\n\u001b[1;32m   (...)\u001b[0m\n\u001b[0;32m    790\u001b[0m     force_finite\u001b[39m=\u001b[39m\u001b[39mTrue\u001b[39;00m,\n\u001b[0;32m    791\u001b[0m ):\n\u001b[0;32m    792\u001b[0m     \u001b[39m\"\"\":math:`R^2` (coefficient of determination) regression score function.\u001b[39;00m\n\u001b[0;32m    793\u001b[0m \n\u001b[0;32m    794\u001b[0m \u001b[39m    Best possible score is 1.0 and it can be negative (because the\u001b[39;00m\n\u001b[1;32m   (...)\u001b[0m\n\u001b[0;32m    909\u001b[0m \u001b[39m    -inf\u001b[39;00m\n\u001b[0;32m    910\u001b[0m \u001b[39m    \"\"\"\u001b[39;00m\n\u001b[1;32m--> 911\u001b[0m     y_type, y_true, y_pred, multioutput \u001b[39m=\u001b[39m _check_reg_targets(\n\u001b[0;32m    912\u001b[0m         y_true, y_pred, multioutput\n\u001b[0;32m    913\u001b[0m     )\n\u001b[0;32m    914\u001b[0m     check_consistent_length(y_true, y_pred, sample_weight)\n\u001b[0;32m    916\u001b[0m     \u001b[39mif\u001b[39;00m _num_samples(y_pred) \u001b[39m<\u001b[39m \u001b[39m2\u001b[39m:\n",
            "File \u001b[1;32mc:\\Users\\Swaroop\\AppData\\Local\\Programs\\Python\\Python38\\lib\\site-packages\\sklearn\\metrics\\_regression.py:102\u001b[0m, in \u001b[0;36m_check_reg_targets\u001b[1;34m(y_true, y_pred, multioutput, dtype)\u001b[0m\n\u001b[0;32m    100\u001b[0m check_consistent_length(y_true, y_pred)\n\u001b[0;32m    101\u001b[0m y_true \u001b[39m=\u001b[39m check_array(y_true, ensure_2d\u001b[39m=\u001b[39m\u001b[39mFalse\u001b[39;00m, dtype\u001b[39m=\u001b[39mdtype)\n\u001b[1;32m--> 102\u001b[0m y_pred \u001b[39m=\u001b[39m check_array(y_pred, ensure_2d\u001b[39m=\u001b[39;49m\u001b[39mFalse\u001b[39;49;00m, dtype\u001b[39m=\u001b[39;49mdtype)\n\u001b[0;32m    104\u001b[0m \u001b[39mif\u001b[39;00m y_true\u001b[39m.\u001b[39mndim \u001b[39m==\u001b[39m \u001b[39m1\u001b[39m:\n\u001b[0;32m    105\u001b[0m     y_true \u001b[39m=\u001b[39m y_true\u001b[39m.\u001b[39mreshape((\u001b[39m-\u001b[39m\u001b[39m1\u001b[39m, \u001b[39m1\u001b[39m))\n",
            "File \u001b[1;32mc:\\Users\\Swaroop\\AppData\\Local\\Programs\\Python\\Python38\\lib\\site-packages\\sklearn\\utils\\validation.py:893\u001b[0m, in \u001b[0;36mcheck_array\u001b[1;34m(array, accept_sparse, accept_large_sparse, dtype, order, copy, force_all_finite, ensure_2d, allow_nd, ensure_min_samples, ensure_min_features, estimator, input_name)\u001b[0m\n\u001b[0;32m    887\u001b[0m     \u001b[39mraise\u001b[39;00m \u001b[39mValueError\u001b[39;00m(\n\u001b[0;32m    888\u001b[0m         \u001b[39m\"\u001b[39m\u001b[39mdtype=\u001b[39m\u001b[39m'\u001b[39m\u001b[39mnumeric\u001b[39m\u001b[39m'\u001b[39m\u001b[39m is not compatible with arrays of bytes/strings.\u001b[39m\u001b[39m\"\u001b[39m\n\u001b[0;32m    889\u001b[0m         \u001b[39m\"\u001b[39m\u001b[39mConvert your data to numeric values explicitly instead.\u001b[39m\u001b[39m\"\u001b[39m\n\u001b[0;32m    890\u001b[0m     )\n\u001b[0;32m    892\u001b[0m \u001b[39mif\u001b[39;00m \u001b[39mnot\u001b[39;00m allow_nd \u001b[39mand\u001b[39;00m array\u001b[39m.\u001b[39mndim \u001b[39m>\u001b[39m\u001b[39m=\u001b[39m \u001b[39m3\u001b[39m:\n\u001b[1;32m--> 893\u001b[0m     \u001b[39mraise\u001b[39;00m \u001b[39mValueError\u001b[39;00m(\n\u001b[0;32m    894\u001b[0m         \u001b[39m\"\u001b[39m\u001b[39mFound array with dim \u001b[39m\u001b[39m%d\u001b[39;00m\u001b[39m. \u001b[39m\u001b[39m%s\u001b[39;00m\u001b[39m expected <= 2.\u001b[39m\u001b[39m\"\u001b[39m\n\u001b[0;32m    895\u001b[0m         \u001b[39m%\u001b[39m (array\u001b[39m.\u001b[39mndim, estimator_name)\n\u001b[0;32m    896\u001b[0m     )\n\u001b[0;32m    898\u001b[0m \u001b[39mif\u001b[39;00m force_all_finite:\n\u001b[0;32m    899\u001b[0m     _assert_all_finite(\n\u001b[0;32m    900\u001b[0m         array,\n\u001b[0;32m    901\u001b[0m         input_name\u001b[39m=\u001b[39minput_name,\n\u001b[0;32m    902\u001b[0m         estimator_name\u001b[39m=\u001b[39mestimator_name,\n\u001b[0;32m    903\u001b[0m         allow_nan\u001b[39m=\u001b[39mforce_all_finite \u001b[39m==\u001b[39m \u001b[39m\"\u001b[39m\u001b[39mallow-nan\u001b[39m\u001b[39m\"\u001b[39m,\n\u001b[0;32m    904\u001b[0m     )\n",
            "\u001b[1;31mValueError\u001b[0m: Found array with dim 3. None expected <= 2."
          ]
        }
      ],
      "source": [
        "from sklearn.metrics import r2_score, mean_squared_error\n",
        "\n",
        "# Assuming you have your true values in 'y_true' and predicted values in 'y_pred'\n",
        "r2 = r2_score(test_y, pred_y)\n",
        "rmse = np.sqrt(mean_squared_error(test_y, pred_y))\n",
        "\n",
        "\n",
        "print(\"R2 score:\", r2)\n",
        "print(\"RMSE: \", rmse)"
      ]
    },
    {
      "cell_type": "markdown",
      "metadata": {
        "id": "IjNVk0PI5J4E"
      },
      "source": [
        "3 Layered LSTM"
      ]
    },
    {
      "cell_type": "code",
      "execution_count": null,
      "metadata": {
        "id": "3w59Z48j5J4F"
      },
      "outputs": [],
      "source": [
        "train_X, train_y = split_sequence(train_data['sfu'], 27)\n",
        "# print(\"train split done\")\n",
        "test_X, test_y = split_sequence(np.array(test_data['sfu']), 27)"
      ]
    },
    {
      "cell_type": "code",
      "execution_count": null,
      "metadata": {
        "id": "7qio1Awp5J4F",
        "outputId": "d5228af5-3752-4533-fd6f-cea3e2893b83"
      },
      "outputs": [
        {
          "name": "stdout",
          "output_type": "stream",
          "text": [
            "Epoch 1/50\n"
          ]
        },
        {
          "name": "stderr",
          "output_type": "stream",
          "text": [
            "c:\\Users\\Swaroop\\AppData\\Local\\Programs\\Python\\Python38\\lib\\site-packages\\keras\\optimizers\\optimizer_v2\\adam.py:114: UserWarning: The `lr` argument is deprecated, use `learning_rate` instead.\n",
            "  super().__init__(name, **kwargs)\n"
          ]
        },
        {
          "name": "stdout",
          "output_type": "stream",
          "text": [
            "558/558 [==============================] - 20s 29ms/step - loss: 5037.4058 - val_loss: 681.5106\n",
            "Epoch 2/50\n",
            "558/558 [==============================] - 15s 27ms/step - loss: 1514.5847 - val_loss: 682.6987\n",
            "Epoch 3/50\n",
            "558/558 [==============================] - 14s 26ms/step - loss: 936.0818 - val_loss: 468.7449\n",
            "Epoch 4/50\n",
            "558/558 [==============================] - 14s 26ms/step - loss: 626.7081 - val_loss: 387.4768\n",
            "Epoch 5/50\n",
            "558/558 [==============================] - 14s 26ms/step - loss: 383.7231 - val_loss: 317.8738\n",
            "Epoch 6/50\n",
            "558/558 [==============================] - 14s 26ms/step - loss: 386.9725 - val_loss: 274.4425\n",
            "Epoch 7/50\n",
            "558/558 [==============================] - 15s 26ms/step - loss: 285.8145 - val_loss: 242.0559\n",
            "Epoch 8/50\n",
            "558/558 [==============================] - 14s 26ms/step - loss: 240.5510 - val_loss: 210.7982\n",
            "Epoch 9/50\n",
            "558/558 [==============================] - 14s 26ms/step - loss: 245.4944 - val_loss: 193.7261\n",
            "Epoch 10/50\n",
            "558/558 [==============================] - 14s 25ms/step - loss: 249.7935 - val_loss: 202.5953\n",
            "Epoch 11/50\n",
            "558/558 [==============================] - 14s 25ms/step - loss: 217.5194 - val_loss: 299.5486\n",
            "Epoch 12/50\n",
            "558/558 [==============================] - 14s 25ms/step - loss: 184.9106 - val_loss: 161.4923\n",
            "Epoch 13/50\n",
            "558/558 [==============================] - 14s 25ms/step - loss: 180.3705 - val_loss: 118.3829\n",
            "Epoch 14/50\n",
            "558/558 [==============================] - 14s 26ms/step - loss: 94.9231 - val_loss: 81.9326\n",
            "Epoch 15/50\n",
            "558/558 [==============================] - 15s 26ms/step - loss: 68.2060 - val_loss: 83.6615\n",
            "Epoch 16/50\n",
            "558/558 [==============================] - 15s 26ms/step - loss: 69.1412 - val_loss: 77.8580\n",
            "Epoch 17/50\n",
            "558/558 [==============================] - 15s 28ms/step - loss: 61.6431 - val_loss: 70.7641\n",
            "Epoch 18/50\n",
            "558/558 [==============================] - 14s 26ms/step - loss: 59.5636 - val_loss: 117.7047\n",
            "Epoch 19/50\n",
            "558/558 [==============================] - 14s 26ms/step - loss: 69.0589 - val_loss: 67.1189\n",
            "Epoch 20/50\n",
            "558/558 [==============================] - 14s 26ms/step - loss: 59.0989 - val_loss: 68.3954\n",
            "Epoch 21/50\n",
            "558/558 [==============================] - 14s 26ms/step - loss: 57.5506 - val_loss: 83.3859\n",
            "Epoch 22/50\n",
            "558/558 [==============================] - 14s 26ms/step - loss: 281.9267 - val_loss: 2104.4109\n",
            "Epoch 23/50\n",
            "558/558 [==============================] - 14s 26ms/step - loss: 16138420.0000 - val_loss: 903.1770\n",
            "Epoch 24/50\n",
            "558/558 [==============================] - 14s 26ms/step - loss: 62675.1641 - val_loss: 526.0665\n",
            "Epoch 25/50\n",
            "558/558 [==============================] - 14s 26ms/step - loss: 646.5074 - val_loss: 554.5016\n",
            "Epoch 26/50\n",
            "558/558 [==============================] - 14s 26ms/step - loss: 640.2762 - val_loss: 522.3641\n",
            "Epoch 27/50\n",
            "558/558 [==============================] - 14s 26ms/step - loss: 639.5883 - val_loss: 519.1286\n",
            "Epoch 28/50\n",
            "558/558 [==============================] - 15s 26ms/step - loss: 637.1215 - val_loss: 521.0959\n",
            "Epoch 29/50\n",
            "558/558 [==============================] - 14s 26ms/step - loss: 643.1787 - val_loss: 496.3823\n",
            "Epoch 30/50\n",
            "558/558 [==============================] - 15s 26ms/step - loss: 629.2119 - val_loss: 475.9409\n",
            "Epoch 31/50\n",
            "558/558 [==============================] - 14s 26ms/step - loss: 628.4250 - val_loss: 515.3339\n",
            "Epoch 32/50\n",
            "558/558 [==============================] - 14s 26ms/step - loss: 632.0573 - val_loss: 540.1255\n",
            "Epoch 33/50\n",
            "558/558 [==============================] - 14s 26ms/step - loss: 615.8679 - val_loss: 517.8492\n",
            "Epoch 34/50\n",
            "558/558 [==============================] - 14s 26ms/step - loss: 618.7619 - val_loss: 492.5758\n",
            "Epoch 35/50\n",
            "558/558 [==============================] - 14s 26ms/step - loss: 612.4830 - val_loss: 514.9985\n",
            "Epoch 36/50\n",
            "558/558 [==============================] - 14s 26ms/step - loss: 609.6292 - val_loss: 533.1710\n",
            "Epoch 37/50\n",
            "558/558 [==============================] - 14s 26ms/step - loss: 611.4969 - val_loss: 497.1972\n",
            "Epoch 38/50\n",
            "558/558 [==============================] - 14s 26ms/step - loss: 605.9907 - val_loss: 491.9130\n",
            "Epoch 39/50\n",
            "558/558 [==============================] - 14s 26ms/step - loss: 610.7610 - val_loss: 474.6167\n",
            "Epoch 40/50\n",
            "558/558 [==============================] - 15s 26ms/step - loss: 606.4099 - val_loss: 461.0982\n",
            "Epoch 41/50\n",
            "558/558 [==============================] - 15s 27ms/step - loss: 602.6472 - val_loss: 490.3281\n",
            "Epoch 42/50\n",
            "558/558 [==============================] - 20s 35ms/step - loss: 603.7759 - val_loss: 469.2826\n",
            "Epoch 43/50\n",
            "558/558 [==============================] - 15s 27ms/step - loss: 605.4609 - val_loss: 481.4398\n",
            "Epoch 44/50\n",
            "558/558 [==============================] - 16s 29ms/step - loss: 605.5042 - val_loss: 453.6268\n",
            "Epoch 45/50\n",
            "558/558 [==============================] - 15s 28ms/step - loss: 600.0900 - val_loss: 466.9851\n",
            "Epoch 46/50\n",
            "558/558 [==============================] - 16s 28ms/step - loss: 624.3661 - val_loss: 470.1927\n",
            "Epoch 47/50\n",
            "558/558 [==============================] - 16s 28ms/step - loss: 601.4359 - val_loss: 477.0942\n",
            "Epoch 48/50\n",
            "558/558 [==============================] - 16s 29ms/step - loss: 596.4681 - val_loss: 486.6483\n",
            "Epoch 49/50\n",
            "558/558 [==============================] - 15s 26ms/step - loss: 605.5397 - val_loss: 479.2662\n",
            "Epoch 50/50\n",
            "558/558 [==============================] - 15s 27ms/step - loss: 597.6083 - val_loss: 528.3000\n"
          ]
        }
      ],
      "source": [
        "from keras.models import Sequential\n",
        "from keras.layers import LSTM, Dense\n",
        "from keras.optimizers import Adam\n",
        "from keras.callbacks import ModelCheckpoint\n",
        "\n",
        "n_features = 1\n",
        "train_X = train_X.reshape((train_X.shape[0], train_X.shape[1], n_features))\n",
        "\n",
        "# Define model\n",
        "model = Sequential()\n",
        "model.add(LSTM(64, activation='relu', return_sequences= True,  input_shape=(n_steps, n_features)))\n",
        "model.add(LSTM(32, activation='relu', return_sequences=True))\n",
        "model.add(LSTM(16, activation='relu'))\n",
        "model.add(Dense(1))\n",
        "\n",
        "# Compile model with learning rate of 0.001\n",
        "optimizer = Adam(lr=0.001)\n",
        "model.compile(optimizer=optimizer, loss='mse')\n",
        "\n",
        "# Define checkpoint callback\n",
        "checkpoint = ModelCheckpoint('3LayerLSTM643216.h5', monitor='val_loss', save_best_only=True, save_weights_only=True)\n",
        "\n",
        "# Fit model with checkpointing\n",
        "history = model.fit(train_X, train_y, epochs=50, verbose=1, validation_data = (test_X, test_y), callbacks=[checkpoint])"
      ]
    },
    {
      "cell_type": "code",
      "execution_count": null,
      "metadata": {
        "id": "qM4zWZh-5J4F",
        "outputId": "3df04671-884c-44ed-f50e-601820d39a5d"
      },
      "outputs": [
        {
          "data": {
            "text/plain": [
              "<AxesSubplot: >"
            ]
          },
          "execution_count": 75,
          "metadata": {},
          "output_type": "execute_result"
        },
        {
          "data": {
            "image/png": "[encoded data removed]",
            "text/plain": [
              "<Figure size 800x500 with 1 Axes>"
            ]
          },
          "metadata": {},
          "output_type": "display_data"
        }
      ],
      "source": [
        "pd.DataFrame(history.history).plot(figsize=(8,5))"
      ]
    },
    {
      "cell_type": "code",
      "execution_count": null,
      "metadata": {
        "id": "_hZr4Pmn5J4F",
        "outputId": "7398fe5a-2594-4866-d222-fd7eb72b77d3"
      },
      "outputs": [
        {
          "name": "stdout",
          "output_type": "stream",
          "text": [
            "285/285 [==============================] - 3s 8ms/step\n"
          ]
        }
      ],
      "source": [
        "test_X = test_X.reshape((test_X.shape[0], test_X.shape[1], n_features))\n",
        "pred_y = model.predict(test_X)"
      ]
    },
    {
      "cell_type": "code",
      "execution_count": null,
      "metadata": {
        "id": "5JAlbTR35J4F",
        "outputId": "33c240ee-57db-4480-a55f-5517ffad3f8a"
      },
      "outputs": [
        {
          "name": "stdout",
          "output_type": "stream",
          "text": [
            "R2 score: 0.7189686860114571\n",
            "RMSE:  22.98478131989393\n"
          ]
        }
      ],
      "source": [
        "from sklearn.metrics import r2_score, mean_squared_error\n",
        "\n",
        "# Assuming you have your true values in 'y_true' and predicted values in 'y_pred'\n",
        "r2 = r2_score(test_y, pred_y)\n",
        "rmse = np.sqrt(mean_squared_error(test_y, pred_y))\n",
        "\n",
        "\n",
        "print(\"R2 score:\", r2)\n",
        "print(\"RMSE: \", rmse)"
      ]
    },
    {
      "cell_type": "markdown",
      "metadata": {
        "id": "7z9EcZv_5J4G"
      },
      "source": [
        "CNN LSTM MODEL"
      ]
    },
    {
      "cell_type": "code",
      "execution_count": 29,
      "metadata": {
        "id": "Ol6_Afo-5J4G"
      },
      "outputs": [],
      "source": [
        "train_X, train_y = split_sequence(np.array(train_data['sfu']), 27)\n",
        "# print(\"train split done\")\n",
        "test_X, test_y = split_sequence(np.array(test_data['sfu']), 27)"
      ]
    },
    {
      "cell_type": "code",
      "execution_count": 30,
      "metadata": {
        "colab": {
          "base_uri": "https://localhost:8080/"
        },
        "id": "zaNTgf3-5J4G",
        "outputId": "ffa0060d-02ae-43ba-c461-04e3a47abc3c"
      },
      "outputs": [
        {
          "output_type": "stream",
          "name": "stdout",
          "text": [
            "Train set shape (8374, 1, 27, 1)\n"
          ]
        }
      ],
      "source": [
        "subsequences = 1\n",
        "timesteps = train_X.shape[1]//subsequences\n",
        "train_X = train_X.reshape((train_X.shape[0], subsequences, timesteps, 1))\n",
        "test_X = test_X.reshape((test_X.shape[0], subsequences, timesteps, 1))\n",
        "print('Train set shape', train_X.shape)"
      ]
    },
    {
      "cell_type": "code",
      "execution_count": 31,
      "metadata": {
        "colab": {
          "base_uri": "https://localhost:8080/"
        },
        "id": "RecVol3p5J4G",
        "outputId": "f948227f-c75a-4435-9806-04c9c4193b64"
      },
      "outputs": [
        {
          "output_type": "stream",
          "name": "stdout",
          "text": [
            "Epoch 1/50\n"
          ]
        },
        {
          "output_type": "stream",
          "name": "stderr",
          "text": [
            "/usr/local/lib/python3.10/dist-packages/keras/optimizers/legacy/adam.py:117: UserWarning: The `lr` argument is deprecated, use `learning_rate` instead.\n",
            "  super().__init__(name, **kwargs)\n"
          ]
        },
        {
          "output_type": "stream",
          "name": "stdout",
          "text": [
            "262/262 [==============================] - 6s 16ms/step - loss: 573.9578 - val_loss: 78.2330\n",
            "Epoch 2/50\n",
            "262/262 [==============================] - 2s 8ms/step - loss: 181.1203 - val_loss: 63.2897\n",
            "Epoch 3/50\n",
            "262/262 [==============================] - 2s 6ms/step - loss: 149.7801 - val_loss: 50.7903\n",
            "Epoch 4/50\n",
            "262/262 [==============================] - 2s 6ms/step - loss: 133.4840 - val_loss: 51.9627\n",
            "Epoch 5/50\n",
            "262/262 [==============================] - 2s 6ms/step - loss: 125.3991 - val_loss: 48.4935\n",
            "Epoch 6/50\n",
            "262/262 [==============================] - 2s 6ms/step - loss: 129.1703 - val_loss: 48.3791\n",
            "Epoch 7/50\n",
            "262/262 [==============================] - 2s 7ms/step - loss: 117.2957 - val_loss: 43.9048\n",
            "Epoch 8/50\n",
            "262/262 [==============================] - 3s 11ms/step - loss: 111.8717 - val_loss: 45.0006\n",
            "Epoch 9/50\n",
            "262/262 [==============================] - 2s 7ms/step - loss: 112.4122 - val_loss: 49.1554\n",
            "Epoch 10/50\n",
            "262/262 [==============================] - 2s 7ms/step - loss: 103.6753 - val_loss: 47.4427\n",
            "Epoch 11/50\n",
            "262/262 [==============================] - 2s 7ms/step - loss: 111.3200 - val_loss: 43.9175\n",
            "Epoch 12/50\n",
            "262/262 [==============================] - 2s 6ms/step - loss: 117.7024 - val_loss: 49.6223\n",
            "Epoch 13/50\n",
            "262/262 [==============================] - 2s 7ms/step - loss: 106.1227 - val_loss: 42.5388\n",
            "Epoch 14/50\n",
            "262/262 [==============================] - 2s 8ms/step - loss: 105.9089 - val_loss: 53.9486\n",
            "Epoch 15/50\n",
            "262/262 [==============================] - 3s 10ms/step - loss: 109.0188 - val_loss: 42.6731\n",
            "Epoch 16/50\n",
            "262/262 [==============================] - 2s 7ms/step - loss: 109.4613 - val_loss: 42.5234\n",
            "Epoch 17/50\n",
            "262/262 [==============================] - 2s 7ms/step - loss: 109.1050 - val_loss: 47.5961\n",
            "Epoch 18/50\n",
            "262/262 [==============================] - 2s 7ms/step - loss: 100.4555 - val_loss: 49.9115\n",
            "Epoch 19/50\n",
            "262/262 [==============================] - 2s 7ms/step - loss: 107.2869 - val_loss: 51.5376\n",
            "Epoch 20/50\n",
            "262/262 [==============================] - 2s 7ms/step - loss: 102.8161 - val_loss: 46.4767\n",
            "Epoch 21/50\n",
            "262/262 [==============================] - 3s 11ms/step - loss: 100.4387 - val_loss: 48.8162\n",
            "Epoch 22/50\n",
            "262/262 [==============================] - 2s 7ms/step - loss: 100.1261 - val_loss: 51.0685\n",
            "Epoch 23/50\n",
            "262/262 [==============================] - 2s 7ms/step - loss: 102.6248 - val_loss: 44.9658\n",
            "Epoch 24/50\n",
            "262/262 [==============================] - 2s 6ms/step - loss: 103.6443 - val_loss: 43.7923\n",
            "Epoch 25/50\n",
            "262/262 [==============================] - 2s 7ms/step - loss: 110.7632 - val_loss: 48.9132\n",
            "Epoch 26/50\n",
            "262/262 [==============================] - 2s 7ms/step - loss: 98.7209 - val_loss: 60.4189\n",
            "Epoch 27/50\n",
            "262/262 [==============================] - 2s 7ms/step - loss: 101.0157 - val_loss: 48.3976\n",
            "Epoch 28/50\n",
            "262/262 [==============================] - 3s 11ms/step - loss: 101.5472 - val_loss: 44.3478\n",
            "Epoch 29/50\n",
            "262/262 [==============================] - 2s 6ms/step - loss: 100.8017 - val_loss: 44.0611\n",
            "Epoch 30/50\n",
            "262/262 [==============================] - 2s 7ms/step - loss: 101.0337 - val_loss: 46.2695\n",
            "Epoch 31/50\n",
            "262/262 [==============================] - 2s 6ms/step - loss: 106.2059 - val_loss: 69.2804\n",
            "Epoch 32/50\n",
            "262/262 [==============================] - 2s 7ms/step - loss: 103.4748 - val_loss: 52.8571\n",
            "Epoch 33/50\n",
            "262/262 [==============================] - 2s 7ms/step - loss: 98.4223 - val_loss: 43.4332\n",
            "Epoch 34/50\n",
            "262/262 [==============================] - 3s 10ms/step - loss: 106.7513 - val_loss: 43.3177\n",
            "Epoch 35/50\n",
            "262/262 [==============================] - 2s 9ms/step - loss: 97.5426 - val_loss: 43.2893\n",
            "Epoch 36/50\n",
            "262/262 [==============================] - 2s 7ms/step - loss: 97.4947 - val_loss: 46.4968\n",
            "Epoch 37/50\n",
            "262/262 [==============================] - 2s 7ms/step - loss: 102.3702 - val_loss: 47.5720\n",
            "Epoch 38/50\n",
            "262/262 [==============================] - 2s 7ms/step - loss: 99.1927 - val_loss: 45.3889\n",
            "Epoch 39/50\n",
            "262/262 [==============================] - 2s 7ms/step - loss: 101.6299 - val_loss: 44.6092\n",
            "Epoch 40/50\n",
            "262/262 [==============================] - 2s 7ms/step - loss: 103.2946 - val_loss: 57.6495\n",
            "Epoch 41/50\n",
            "262/262 [==============================] - 3s 12ms/step - loss: 98.5236 - val_loss: 54.5810\n",
            "Epoch 42/50\n",
            "262/262 [==============================] - 2s 7ms/step - loss: 101.2045 - val_loss: 49.6407\n",
            "Epoch 43/50\n",
            "262/262 [==============================] - 2s 6ms/step - loss: 100.6188 - val_loss: 45.6024\n",
            "Epoch 44/50\n",
            "262/262 [==============================] - 2s 7ms/step - loss: 98.3506 - val_loss: 62.6139\n",
            "Epoch 45/50\n",
            "262/262 [==============================] - 2s 7ms/step - loss: 101.3125 - val_loss: 43.3944\n",
            "Epoch 46/50\n",
            "262/262 [==============================] - 2s 7ms/step - loss: 99.9678 - val_loss: 45.7872\n",
            "Epoch 47/50\n",
            "262/262 [==============================] - 2s 9ms/step - loss: 103.3270 - val_loss: 58.5456\n",
            "Epoch 48/50\n",
            "262/262 [==============================] - 2s 9ms/step - loss: 97.6468 - val_loss: 43.3665\n",
            "Epoch 49/50\n",
            "262/262 [==============================] - 2s 6ms/step - loss: 105.5620 - val_loss: 50.0075\n",
            "Epoch 50/50\n",
            "262/262 [==============================] - 2s 7ms/step - loss: 99.7585 - val_loss: 43.5108\n"
          ]
        }
      ],
      "source": [
        "from keras.models import Sequential\n",
        "from keras.layers import LSTM, Dense, MaxPooling1D, Flatten, Conv1D, TimeDistributed\n",
        "from keras.optimizers import Adam\n",
        "from keras.callbacks import ModelCheckpoint\n",
        "\n",
        "\n",
        "model_cnn_lstm = Sequential()\n",
        "model_cnn_lstm.add(TimeDistributed(Conv1D(filters=64, kernel_size=1, activation='relu'), input_shape=(None, n_steps, n_features)))\n",
        "model_cnn_lstm.add(TimeDistributed(MaxPooling1D(pool_size=2)))\n",
        "model_cnn_lstm.add(TimeDistributed(Flatten()))\n",
        "model_cnn_lstm.add(LSTM(50, activation='relu'))\n",
        "model_cnn_lstm.add(Dense(1))\n",
        "model_cnn_lstm.compile(loss='mse', optimizer='adam')\n",
        "\n",
        "optimizer = Adam(lr=0.001)\n",
        "model_cnn_lstm.compile(optimizer=optimizer, loss='mse')\n",
        "# Define checkpoint callback\n",
        "checkpoint = ModelCheckpoint('CNNLSTM50.h5', monitor='val_loss', save_best_only=True, save_weights_only=True)\n",
        "\n",
        "history = model_cnn_lstm.fit(train_X, train_y, epochs=50, verbose=1, validation_data = (test_X, test_y), callbacks=[checkpoint])"
      ]
    },
    {
      "cell_type": "code",
      "execution_count": null,
      "metadata": {
        "id": "PP_zw9hK5J4G"
      },
      "outputs": [],
      "source": [
        "test_X = test_X.reshape((test_X.shape[0], subsequences, timesteps, 1))"
      ]
    },
    {
      "cell_type": "code",
      "execution_count": null,
      "metadata": {
        "id": "yoQnsBRH5J4G",
        "outputId": "654cb0c3-95e8-47f2-927e-41698217137d"
      },
      "outputs": [
        {
          "name": "stdout",
          "output_type": "stream",
          "text": [
            "285/285 [==============================] - 1s 2ms/step\n"
          ]
        }
      ],
      "source": [
        "# test_X = test_X.reshape((test_X.shape[0], test_X.shape[1], n_features)) this is already done above\n",
        "pred_y = model_cnn_lstm.predict(test_X)"
      ]
    },
    {
      "cell_type": "code",
      "execution_count": null,
      "metadata": {
        "id": "mnrjE5vv5J4K",
        "outputId": "c0b1e4f4-dbba-400f-db5c-33b28b0b0f41"
      },
      "outputs": [
        {
          "name": "stdout",
          "output_type": "stream",
          "text": [
            "R2 score: 0.8876662352494111\n",
            "RMSE:  14.531758647404613\n"
          ]
        }
      ],
      "source": [
        "from sklearn.metrics import r2_score, mean_squared_error\n",
        "\n",
        "# Assuming you have your true values in 'y_true' and predicted values in 'y_pred'\n",
        "r2 = r2_score(test_y, pred_y)\n",
        "rmse = np.sqrt(mean_squared_error(test_y, pred_y))\n",
        "\n",
        "\n",
        "print(\"R2 score:\", r2)\n",
        "print(\"RMSE: \", rmse)"
      ]
    },
    {
      "cell_type": "markdown",
      "metadata": {
        "id": "cqvS7H_35J4L"
      },
      "source": [
        "2 cnn lstm"
      ]
    },
    {
      "cell_type": "code",
      "execution_count": 32,
      "metadata": {
        "id": "tx4_k9aL5J4L"
      },
      "outputs": [],
      "source": [
        "train_X, train_y = split_sequence(np.array(train_data['sfu']), 27)\n",
        "# print(\"train split done\")\n",
        "test_X, test_y = split_sequence(np.array(test_data['sfu']), 27)"
      ]
    },
    {
      "cell_type": "code",
      "execution_count": 38,
      "metadata": {
        "colab": {
          "base_uri": "https://localhost:8080/"
        },
        "id": "1ITpyoE75J4L",
        "outputId": "11e76883-a0d6-4fc4-fc5d-a6abaf8ed72f"
      },
      "outputs": [
        {
          "output_type": "stream",
          "name": "stdout",
          "text": [
            "Train set shape (8374, 1, 27, 1)\n"
          ]
        }
      ],
      "source": [
        "subsequences = 1\n",
        "timesteps = train_X.shape[1]//subsequences\n",
        "train_X = train_X.reshape((train_X.shape[0], subsequences, timesteps, 1))\n",
        "test_X = test_X.reshape((test_X.shape[0], subsequences, timesteps, 1))\n",
        "print('Train set shape', train_X.shape)"
      ]
    },
    {
      "cell_type": "code",
      "execution_count": 34,
      "metadata": {
        "colab": {
          "base_uri": "https://localhost:8080/"
        },
        "id": "Hkp7faIB5J4L",
        "outputId": "c0ddaebe-8735-4933-90db-4f716f81c3ff"
      },
      "outputs": [
        {
          "output_type": "stream",
          "name": "stdout",
          "text": [
            "Epoch 1/50\n",
            "262/262 [==============================] - 4s 7ms/step - loss: 1356.5890 - val_loss: 215.7271\n",
            "Epoch 2/50\n",
            "262/262 [==============================] - 2s 8ms/step - loss: 506.2127 - val_loss: 152.5275\n",
            "Epoch 3/50\n",
            "262/262 [==============================] - 2s 9ms/step - loss: 369.1234 - val_loss: 121.4819\n",
            "Epoch 4/50\n",
            "262/262 [==============================] - 2s 6ms/step - loss: 309.1150 - val_loss: 99.5835\n",
            "Epoch 5/50\n",
            "262/262 [==============================] - 2s 6ms/step - loss: 280.5562 - val_loss: 102.0936\n",
            "Epoch 6/50\n",
            "262/262 [==============================] - 2s 6ms/step - loss: 246.5271 - val_loss: 83.2405\n",
            "Epoch 7/50\n",
            "262/262 [==============================] - 2s 6ms/step - loss: 238.2622 - val_loss: 105.2818\n",
            "Epoch 8/50\n",
            "262/262 [==============================] - 2s 6ms/step - loss: 227.0250 - val_loss: 82.1190\n",
            "Epoch 9/50\n",
            "262/262 [==============================] - 2s 7ms/step - loss: 206.1525 - val_loss: 98.2877\n",
            "Epoch 10/50\n",
            "262/262 [==============================] - 2s 9ms/step - loss: 204.4898 - val_loss: 74.6809\n",
            "Epoch 11/50\n",
            "262/262 [==============================] - 2s 6ms/step - loss: 195.2487 - val_loss: 68.2446\n",
            "Epoch 12/50\n",
            "262/262 [==============================] - 2s 6ms/step - loss: 194.3547 - val_loss: 68.9291\n",
            "Epoch 13/50\n",
            "262/262 [==============================] - 2s 6ms/step - loss: 182.6213 - val_loss: 66.0254\n",
            "Epoch 14/50\n",
            "262/262 [==============================] - 2s 6ms/step - loss: 184.4558 - val_loss: 68.0653\n",
            "Epoch 15/50\n",
            "262/262 [==============================] - 2s 6ms/step - loss: 186.1603 - val_loss: 63.8120\n",
            "Epoch 16/50\n",
            "262/262 [==============================] - 2s 7ms/step - loss: 172.6035 - val_loss: 62.5875\n",
            "Epoch 17/50\n",
            "262/262 [==============================] - 3s 10ms/step - loss: 168.2534 - val_loss: 82.3167\n",
            "Epoch 18/50\n",
            "262/262 [==============================] - 2s 7ms/step - loss: 173.6181 - val_loss: 62.9202\n",
            "Epoch 19/50\n",
            "262/262 [==============================] - 2s 6ms/step - loss: 169.1790 - val_loss: 62.4679\n",
            "Epoch 20/50\n",
            "262/262 [==============================] - 2s 6ms/step - loss: 164.5368 - val_loss: 64.3321\n",
            "Epoch 21/50\n",
            "262/262 [==============================] - 2s 6ms/step - loss: 168.0688 - val_loss: 61.3178\n",
            "Epoch 22/50\n",
            "262/262 [==============================] - 2s 6ms/step - loss: 166.8157 - val_loss: 65.0071\n",
            "Epoch 23/50\n",
            "262/262 [==============================] - 2s 6ms/step - loss: 162.9148 - val_loss: 62.2083\n",
            "Epoch 24/50\n",
            "262/262 [==============================] - 2s 9ms/step - loss: 165.4368 - val_loss: 62.0628\n",
            "Epoch 25/50\n",
            "262/262 [==============================] - 2s 7ms/step - loss: 160.0209 - val_loss: 67.7793\n",
            "Epoch 26/50\n",
            "262/262 [==============================] - 2s 6ms/step - loss: 158.2560 - val_loss: 60.3054\n",
            "Epoch 27/50\n",
            "262/262 [==============================] - 2s 6ms/step - loss: 156.0300 - val_loss: 59.4825\n",
            "Epoch 28/50\n",
            "262/262 [==============================] - 2s 6ms/step - loss: 154.1908 - val_loss: 63.7402\n",
            "Epoch 29/50\n",
            "262/262 [==============================] - 2s 6ms/step - loss: 160.5058 - val_loss: 60.9046\n",
            "Epoch 30/50\n",
            "262/262 [==============================] - 2s 6ms/step - loss: 167.0851 - val_loss: 68.9784\n",
            "Epoch 31/50\n",
            "262/262 [==============================] - 2s 8ms/step - loss: 157.4300 - val_loss: 86.1143\n",
            "Epoch 32/50\n",
            "262/262 [==============================] - 2s 8ms/step - loss: 159.8159 - val_loss: 68.5134\n",
            "Epoch 33/50\n",
            "262/262 [==============================] - 2s 6ms/step - loss: 153.8506 - val_loss: 68.1502\n",
            "Epoch 34/50\n",
            "262/262 [==============================] - 2s 6ms/step - loss: 155.0521 - val_loss: 63.2772\n",
            "Epoch 35/50\n",
            "262/262 [==============================] - 2s 6ms/step - loss: 155.6078 - val_loss: 60.4098\n",
            "Epoch 36/50\n",
            "262/262 [==============================] - 2s 6ms/step - loss: 150.8931 - val_loss: 59.6206\n",
            "Epoch 37/50\n",
            "262/262 [==============================] - 2s 6ms/step - loss: 159.2475 - val_loss: 64.7615\n",
            "Epoch 38/50\n",
            "262/262 [==============================] - 2s 7ms/step - loss: 154.1112 - val_loss: 62.7631\n",
            "Epoch 39/50\n",
            "262/262 [==============================] - 3s 11ms/step - loss: 153.0655 - val_loss: 60.3742\n",
            "Epoch 40/50\n",
            "262/262 [==============================] - 2s 6ms/step - loss: 155.1938 - val_loss: 101.1617\n",
            "Epoch 41/50\n",
            "262/262 [==============================] - 2s 6ms/step - loss: 157.0691 - val_loss: 67.1526\n",
            "Epoch 42/50\n",
            "262/262 [==============================] - 2s 6ms/step - loss: 151.0536 - val_loss: 62.4517\n",
            "Epoch 43/50\n",
            "262/262 [==============================] - 2s 7ms/step - loss: 149.2135 - val_loss: 62.3896\n",
            "Epoch 44/50\n",
            "262/262 [==============================] - 2s 6ms/step - loss: 149.5517 - val_loss: 69.3035\n",
            "Epoch 45/50\n",
            "262/262 [==============================] - 2s 7ms/step - loss: 153.5808 - val_loss: 58.6140\n",
            "Epoch 46/50\n",
            "262/262 [==============================] - 3s 11ms/step - loss: 148.1013 - val_loss: 61.7252\n",
            "Epoch 47/50\n",
            "262/262 [==============================] - 2s 6ms/step - loss: 150.1118 - val_loss: 63.4800\n",
            "Epoch 48/50\n",
            "262/262 [==============================] - 2s 6ms/step - loss: 148.5508 - val_loss: 62.0323\n",
            "Epoch 49/50\n",
            "262/262 [==============================] - 2s 6ms/step - loss: 147.5176 - val_loss: 58.6416\n",
            "Epoch 50/50\n",
            "262/262 [==============================] - 2s 6ms/step - loss: 152.6331 - val_loss: 67.9093\n"
          ]
        }
      ],
      "source": [
        "from keras.models import Sequential\n",
        "from keras.layers import LSTM, Dense, MaxPooling1D, Flatten, Conv1D, TimeDistributed\n",
        "from keras.optimizers import Adam\n",
        "from keras.callbacks import ModelCheckpoint\n",
        "\n",
        "\n",
        "model_cnn_lstm = Sequential()\n",
        "model_cnn_lstm.add(TimeDistributed(Conv1D(filters=64, kernel_size=4,  activation='relu'), input_shape=(None, n_steps, n_features)))\n",
        "model_cnn_lstm.add(TimeDistributed(MaxPooling1D(pool_size=2)))\n",
        "model_cnn_lstm.add(TimeDistributed(Conv1D(filters=32, kernel_size=4, activation='relu')))\n",
        "model_cnn_lstm.add(TimeDistributed(MaxPooling1D(pool_size=2)))\n",
        "model_cnn_lstm.add(TimeDistributed(Flatten()))\n",
        "model_cnn_lstm.add(LSTM(50, activation='relu'))\n",
        "model_cnn_lstm.add(Dense(1))\n",
        "model_cnn_lstm.compile(loss='mse', optimizer='adam')\n",
        "\n",
        "optimizer = Adam(lr=0.001)\n",
        "model_cnn_lstm.compile(optimizer=optimizer, loss='mse')\n",
        "# Define checkpoint callback\n",
        "checkpoint = ModelCheckpoint('CNNLSTM50.h5', monitor='val_loss', save_best_only=True, save_weights_only=True)\n",
        "\n",
        "history = model_cnn_lstm.fit(train_X, train_y, epochs=50, verbose=1, validation_data = (test_X, test_y), callbacks=[checkpoint])"
      ]
    },
    {
      "cell_type": "code",
      "execution_count": null,
      "metadata": {
        "id": "o3y9fT6S5J4L",
        "outputId": "fa32820c-6555-4381-c4ea-4e6ccfdf8157"
      },
      "outputs": [
        {
          "name": "stdout",
          "output_type": "stream",
          "text": [
            "285/285 [==============================] - 1s 2ms/step\n"
          ]
        }
      ],
      "source": [
        "# test_X = test_X.reshape((test_X.shape[0], test_X.shape[1], n_features)) this is already done above\n",
        "pred_y = model_cnn_lstm.predict(test_X)"
      ]
    },
    {
      "cell_type": "code",
      "execution_count": null,
      "metadata": {
        "id": "RPAXWPCY5J4M",
        "outputId": "5b1c1632-ac15-402a-8a80-1251bb4e33b9"
      },
      "outputs": [
        {
          "name": "stdout",
          "output_type": "stream",
          "text": [
            "R2 score: 0.8653090218222668\n",
            "RMSE:  15.912274885888893\n"
          ]
        }
      ],
      "source": [
        "from sklearn.metrics import r2_score, mean_squared_error\n",
        "\n",
        "# Assuming you have your true values in 'y_true' and predicted values in 'y_pred'\n",
        "r2 = r2_score(test_y, pred_y)\n",
        "rmse = np.sqrt(mean_squared_error(test_y, pred_y))\n",
        "\n",
        "\n",
        "print(\"R2 score:\", r2)\n",
        "print(\"RMSE: \", rmse)"
      ]
    },
    {
      "cell_type": "markdown",
      "metadata": {
        "id": "mY1t13Ue5J4M"
      },
      "source": [
        "2CNN2LSTM model"
      ]
    },
    {
      "cell_type": "code",
      "execution_count": 57,
      "metadata": {
        "id": "wULMRxQo5J4M"
      },
      "outputs": [],
      "source": [
        "train_X, train_y = split_sequence(np.array(train_data['sfu']), 27)\n",
        "# print(\"train split done\")\n",
        "test_X, test_y = split_sequence(np.array(test_data['sfu']), 27)"
      ]
    },
    {
      "cell_type": "code",
      "execution_count": 39,
      "metadata": {
        "colab": {
          "base_uri": "https://localhost:8080/"
        },
        "id": "1FD7PxHI5J4M",
        "outputId": "d5706b0e-0ebf-45e9-fe8a-fb29ba43b78a"
      },
      "outputs": [
        {
          "output_type": "stream",
          "name": "stdout",
          "text": [
            "Epoch 1/50\n",
            "262/262 [==============================] - 4s 7ms/step - loss: 2888.1428 - val_loss: 179.1198\n",
            "Epoch 2/50\n",
            "262/262 [==============================] - 2s 8ms/step - loss: 379.7635 - val_loss: 116.5778\n",
            "Epoch 3/50\n",
            "262/262 [==============================] - 2s 7ms/step - loss: 268.7534 - val_loss: 79.0509\n",
            "Epoch 4/50\n",
            "262/262 [==============================] - 2s 6ms/step - loss: 192.7103 - val_loss: 60.0361\n",
            "Epoch 5/50\n",
            "262/262 [==============================] - 1s 6ms/step - loss: 144.2923 - val_loss: 55.1457\n",
            "Epoch 6/50\n",
            "262/262 [==============================] - 1s 6ms/step - loss: 119.3502 - val_loss: 41.8880\n",
            "Epoch 7/50\n",
            "262/262 [==============================] - 1s 5ms/step - loss: 110.5948 - val_loss: 39.9192\n",
            "Epoch 8/50\n",
            "262/262 [==============================] - 1s 6ms/step - loss: 110.7840 - val_loss: 36.8893\n",
            "Epoch 9/50\n",
            "262/262 [==============================] - 1s 5ms/step - loss: 97.1861 - val_loss: 51.0472\n",
            "Epoch 10/50\n",
            "262/262 [==============================] - 2s 9ms/step - loss: 92.2082 - val_loss: 47.6915\n",
            "Epoch 11/50\n",
            "262/262 [==============================] - 2s 7ms/step - loss: 85.1821 - val_loss: 56.2447\n",
            "Epoch 12/50\n",
            "262/262 [==============================] - 2s 6ms/step - loss: 81.8814 - val_loss: 31.4052\n",
            "Epoch 13/50\n",
            "262/262 [==============================] - 1s 5ms/step - loss: 83.7086 - val_loss: 34.2345\n",
            "Epoch 14/50\n",
            "262/262 [==============================] - 1s 5ms/step - loss: 78.7255 - val_loss: 48.9833\n",
            "Epoch 15/50\n",
            "262/262 [==============================] - 1s 6ms/step - loss: 74.5213 - val_loss: 30.0875\n",
            "Epoch 16/50\n",
            "262/262 [==============================] - 1s 6ms/step - loss: 75.7084 - val_loss: 32.1163\n",
            "Epoch 17/50\n",
            "262/262 [==============================] - 1s 5ms/step - loss: 73.0808 - val_loss: 32.7698\n",
            "Epoch 18/50\n",
            "262/262 [==============================] - 3s 10ms/step - loss: 69.6948 - val_loss: 31.5204\n",
            "Epoch 19/50\n",
            "262/262 [==============================] - 2s 6ms/step - loss: 69.8559 - val_loss: 33.7525\n",
            "Epoch 20/50\n",
            "262/262 [==============================] - 1s 5ms/step - loss: 66.1042 - val_loss: 32.4161\n",
            "Epoch 21/50\n",
            "262/262 [==============================] - 1s 5ms/step - loss: 71.2331 - val_loss: 32.6178\n",
            "Epoch 22/50\n",
            "262/262 [==============================] - 1s 5ms/step - loss: 65.5276 - val_loss: 34.1276\n",
            "Epoch 23/50\n",
            "262/262 [==============================] - 1s 5ms/step - loss: 62.5436 - val_loss: 47.7474\n",
            "Epoch 24/50\n",
            "262/262 [==============================] - 2s 6ms/step - loss: 61.6789 - val_loss: 37.6260\n",
            "Epoch 25/50\n",
            "262/262 [==============================] - 1s 5ms/step - loss: 62.6127 - val_loss: 53.7610\n",
            "Epoch 26/50\n",
            "262/262 [==============================] - 2s 10ms/step - loss: 63.4446 - val_loss: 30.0184\n",
            "Epoch 27/50\n",
            "262/262 [==============================] - 1s 6ms/step - loss: 60.1880 - val_loss: 45.4464\n",
            "Epoch 28/50\n",
            "262/262 [==============================] - 1s 5ms/step - loss: 63.6120 - val_loss: 27.1928\n",
            "Epoch 29/50\n",
            "262/262 [==============================] - 1s 5ms/step - loss: 60.2126 - val_loss: 26.2277\n",
            "Epoch 30/50\n",
            "262/262 [==============================] - 1s 5ms/step - loss: 55.7070 - val_loss: 31.5986\n",
            "Epoch 31/50\n",
            "262/262 [==============================] - 1s 5ms/step - loss: 56.2099 - val_loss: 27.6388\n",
            "Epoch 32/50\n",
            "262/262 [==============================] - 1s 6ms/step - loss: 54.5516 - val_loss: 26.1691\n",
            "Epoch 33/50\n",
            "262/262 [==============================] - 1s 5ms/step - loss: 55.2632 - val_loss: 29.9359\n",
            "Epoch 34/50\n",
            "262/262 [==============================] - 2s 9ms/step - loss: 55.5637 - val_loss: 28.4749\n",
            "Epoch 35/50\n",
            "262/262 [==============================] - 2s 6ms/step - loss: 54.2564 - val_loss: 26.4335\n",
            "Epoch 36/50\n",
            "262/262 [==============================] - 1s 5ms/step - loss: 57.8381 - val_loss: 28.3822\n",
            "Epoch 37/50\n",
            "262/262 [==============================] - 1s 5ms/step - loss: 56.5442 - val_loss: 27.0460\n",
            "Epoch 38/50\n",
            "262/262 [==============================] - 1s 5ms/step - loss: 51.2405 - val_loss: 26.7000\n",
            "Epoch 39/50\n",
            "262/262 [==============================] - 1s 5ms/step - loss: 58.3837 - val_loss: 25.5499\n",
            "Epoch 40/50\n",
            "262/262 [==============================] - 1s 5ms/step - loss: 48.4306 - val_loss: 26.5185\n",
            "Epoch 41/50\n",
            "262/262 [==============================] - 1s 5ms/step - loss: 54.8314 - val_loss: 28.3938\n",
            "Epoch 42/50\n",
            "262/262 [==============================] - 2s 9ms/step - loss: 55.9753 - val_loss: 25.3941\n",
            "Epoch 43/50\n",
            "262/262 [==============================] - 2s 7ms/step - loss: 51.4120 - val_loss: 29.4549\n",
            "Epoch 44/50\n",
            "262/262 [==============================] - 2s 6ms/step - loss: 48.4805 - val_loss: 32.5875\n",
            "Epoch 45/50\n",
            "262/262 [==============================] - 1s 5ms/step - loss: 48.7566 - val_loss: 27.9133\n",
            "Epoch 46/50\n",
            "262/262 [==============================] - 1s 6ms/step - loss: 46.4580 - val_loss: 28.9328\n",
            "Epoch 47/50\n",
            "262/262 [==============================] - 1s 6ms/step - loss: 51.4041 - val_loss: 43.7575\n",
            "Epoch 48/50\n",
            "262/262 [==============================] - 2s 6ms/step - loss: 53.6552 - val_loss: 25.1963\n",
            "Epoch 49/50\n",
            "262/262 [==============================] - 1s 5ms/step - loss: 47.0317 - val_loss: 26.2865\n",
            "Epoch 50/50\n",
            "262/262 [==============================] - 2s 8ms/step - loss: 46.8741 - val_loss: 31.2531\n"
          ]
        }
      ],
      "source": [
        "from keras.models import Sequential\n",
        "from keras.layers import LSTM, Dense, MaxPooling1D, Flatten, Conv1D, TimeDistributed\n",
        "from keras.optimizers import Adam\n",
        "from keras.callbacks import ModelCheckpoint\n",
        "\n",
        "\n",
        "model_cnn_lstm = Sequential()\n",
        "model_cnn_lstm.add(TimeDistributed(Conv1D(filters=16, kernel_size=14,  activation='relu'), input_shape=(None, n_steps, n_features)))\n",
        "model_cnn_lstm.add(TimeDistributed(MaxPooling1D(pool_size=2)))\n",
        "model_cnn_lstm.add(TimeDistributed(Conv1D(filters=32, kernel_size=4, activation='relu')))\n",
        "model_cnn_lstm.add(TimeDistributed(MaxPooling1D(pool_size=2)))\n",
        "model_cnn_lstm.add(TimeDistributed(Flatten()))\n",
        "model_cnn_lstm.add(LSTM(64, activation='relu', return_sequences= True))\n",
        "model_cnn_lstm.add(LSTM(32, activation='relu'))\n",
        "model_cnn_lstm.add(Dense(1))\n",
        "model_cnn_lstm.compile(loss='mse', optimizer='adam')\n",
        "\n",
        "optimizer = Adam(lr=0.001)\n",
        "model_cnn_lstm.compile(optimizer=optimizer, loss='mse')\n",
        "# Define checkpoint callback\n",
        "checkpoint = ModelCheckpoint('CNNLSTM6432.h5', monitor='val_loss', save_best_only=True, save_weights_only=True)\n",
        "\n",
        "history = model_cnn_lstm.fit(train_X, train_y, epochs=50, verbose=1, validation_data = (test_X, test_y), callbacks=[checkpoint])"
      ]
    },
    {
      "cell_type": "code",
      "execution_count": 40,
      "metadata": {
        "colab": {
          "base_uri": "https://localhost:8080/"
        },
        "id": "tLZExd-T5J4M",
        "outputId": "0f679f1f-3f1a-440b-f284-890d21e66db7"
      },
      "outputs": [
        {
          "output_type": "stream",
          "name": "stdout",
          "text": [
            "137/137 [==============================] - 1s 2ms/step\n"
          ]
        }
      ],
      "source": [
        "# test_X = test_X.reshape((test_X.shape[0], test_X.shape[1], n_features)) this is already done above\n",
        "pred_y = model_cnn_lstm.predict(test_X)"
      ]
    },
    {
      "cell_type": "code",
      "execution_count": 41,
      "metadata": {
        "colab": {
          "base_uri": "https://localhost:8080/"
        },
        "id": "moB526NR5J4N",
        "outputId": "0528a485-1bc7-41d3-d646-d97b146d363c"
      },
      "outputs": [
        {
          "output_type": "stream",
          "name": "stdout",
          "text": [
            "R2 score: 0.96342966124135\n",
            "RMSE:  5.590447957940266\n"
          ]
        }
      ],
      "source": [
        "from sklearn.metrics import r2_score, mean_squared_error\n",
        "\n",
        "# Assuming you have your true values in 'y_true' and predicted values in 'y_pred'\n",
        "r2 = r2_score(test_y, pred_y)\n",
        "rmse = np.sqrt(mean_squared_error(test_y, pred_y))\n",
        "\n",
        "\n",
        "print(\"R2 score:\", r2)\n",
        "print(\"RMSE: \", rmse)"
      ]
    },
    {
      "cell_type": "code",
      "source": [
        "train_X"
      ],
      "metadata": {
        "colab": {
          "base_uri": "https://localhost:8080/"
        },
        "id": "YzYK2HSsEOM6",
        "outputId": "fe9ecb40-1e1b-46e8-c225-d9e9a4acafd8"
      },
      "execution_count": 42,
      "outputs": [
        {
          "output_type": "execute_result",
          "data": {
            "text/plain": [
              "array([[[[201.87142857],\n",
              "         [210.48571429],\n",
              "         [219.1       ],\n",
              "         ...,\n",
              "         [182.36666667],\n",
              "         [187.55      ],\n",
              "         [192.73333333]]],\n",
              "\n",
              "\n",
              "       [[[210.48571429],\n",
              "         [219.1       ],\n",
              "         [216.95      ],\n",
              "         ...,\n",
              "         [187.55      ],\n",
              "         [192.73333333],\n",
              "         [197.91666667]]],\n",
              "\n",
              "\n",
              "       [[[219.1       ],\n",
              "         [216.95      ],\n",
              "         [214.8       ],\n",
              "         ...,\n",
              "         [192.73333333],\n",
              "         [197.91666667],\n",
              "         [203.1       ]]],\n",
              "\n",
              "\n",
              "       ...,\n",
              "\n",
              "\n",
              "       [[[152.01578947],\n",
              "         [152.04736842],\n",
              "         [152.07894737],\n",
              "         ...,\n",
              "         [127.4       ],\n",
              "         [116.5       ],\n",
              "         [116.9       ]]],\n",
              "\n",
              "\n",
              "       [[[152.04736842],\n",
              "         [152.07894737],\n",
              "         [152.11052632],\n",
              "         ...,\n",
              "         [116.5       ],\n",
              "         [116.9       ],\n",
              "         [114.8       ]]],\n",
              "\n",
              "\n",
              "       [[[152.07894737],\n",
              "         [152.11052632],\n",
              "         [152.14210526],\n",
              "         ...,\n",
              "         [116.9       ],\n",
              "         [114.8       ],\n",
              "         [113.8       ]]]])"
            ]
          },
          "metadata": {},
          "execution_count": 42
        }
      ]
    },
    {
      "cell_type": "code",
      "execution_count": 65,
      "metadata": {
        "colab": {
          "base_uri": "https://localhost:8080/",
          "height": 745
        },
        "id": "KJcOaGnJ5J4N",
        "outputId": "02be0535-4feb-4167-bc35-5cc52948e7ae"
      },
      "outputs": [
        {
          "output_type": "error",
          "ename": "ValueError",
          "evalue": "ignored",
          "traceback": [
            "\u001b[0;31m---------------------------------------------------------------------------\u001b[0m",
            "\u001b[0;31mValueError\u001b[0m                                Traceback (most recent call last)",
            "\u001b[0;32m<ipython-input-65-6457c3262d2b>\u001b[0m in \u001b[0;36m<cell line: 11>\u001b[0;34m()\u001b[0m\n\u001b[1;32m     14\u001b[0m \u001b[0;34m\u001b[0m\u001b[0m\n\u001b[1;32m     15\u001b[0m     \u001b[0;31m# Make a prediction using the LSTM model\u001b[0m\u001b[0;34m\u001b[0m\u001b[0;34m\u001b[0m\u001b[0m\n\u001b[0;32m---> 16\u001b[0;31m     \u001b[0mprediction\u001b[0m \u001b[0;34m=\u001b[0m \u001b[0mmodel_cnn_lstm\u001b[0m\u001b[0;34m.\u001b[0m\u001b[0mpredict\u001b[0m\u001b[0;34m(\u001b[0m\u001b[0minitial_input_reshaped\u001b[0m\u001b[0;34m)\u001b[0m\u001b[0;34m\u001b[0m\u001b[0;34m\u001b[0m\u001b[0m\n\u001b[0m\u001b[1;32m     17\u001b[0m \u001b[0;34m\u001b[0m\u001b[0m\n\u001b[1;32m     18\u001b[0m     \u001b[0;31m# Store the prediction\u001b[0m\u001b[0;34m\u001b[0m\u001b[0;34m\u001b[0m\u001b[0m\n",
            "\u001b[0;32m/usr/local/lib/python3.10/dist-packages/keras/utils/traceback_utils.py\u001b[0m in \u001b[0;36merror_handler\u001b[0;34m(*args, **kwargs)\u001b[0m\n\u001b[1;32m     68\u001b[0m             \u001b[0;31m# To get the full stack trace, call:\u001b[0m\u001b[0;34m\u001b[0m\u001b[0;34m\u001b[0m\u001b[0m\n\u001b[1;32m     69\u001b[0m             \u001b[0;31m# `tf.debugging.disable_traceback_filtering()`\u001b[0m\u001b[0;34m\u001b[0m\u001b[0;34m\u001b[0m\u001b[0m\n\u001b[0;32m---> 70\u001b[0;31m             \u001b[0;32mraise\u001b[0m \u001b[0me\u001b[0m\u001b[0;34m.\u001b[0m\u001b[0mwith_traceback\u001b[0m\u001b[0;34m(\u001b[0m\u001b[0mfiltered_tb\u001b[0m\u001b[0;34m)\u001b[0m \u001b[0;32mfrom\u001b[0m \u001b[0;32mNone\u001b[0m\u001b[0;34m\u001b[0m\u001b[0;34m\u001b[0m\u001b[0m\n\u001b[0m\u001b[1;32m     71\u001b[0m         \u001b[0;32mfinally\u001b[0m\u001b[0;34m:\u001b[0m\u001b[0;34m\u001b[0m\u001b[0;34m\u001b[0m\u001b[0m\n\u001b[1;32m     72\u001b[0m             \u001b[0;32mdel\u001b[0m \u001b[0mfiltered_tb\u001b[0m\u001b[0;34m\u001b[0m\u001b[0;34m\u001b[0m\u001b[0m\n",
            "\u001b[0;32m/usr/local/lib/python3.10/dist-packages/keras/engine/training.py\u001b[0m in \u001b[0;36mtf__predict_function\u001b[0;34m(iterator)\u001b[0m\n\u001b[1;32m     13\u001b[0m                 \u001b[0;32mtry\u001b[0m\u001b[0;34m:\u001b[0m\u001b[0;34m\u001b[0m\u001b[0;34m\u001b[0m\u001b[0m\n\u001b[1;32m     14\u001b[0m                     \u001b[0mdo_return\u001b[0m \u001b[0;34m=\u001b[0m \u001b[0;32mTrue\u001b[0m\u001b[0;34m\u001b[0m\u001b[0;34m\u001b[0m\u001b[0m\n\u001b[0;32m---> 15\u001b[0;31m                     \u001b[0mretval_\u001b[0m \u001b[0;34m=\u001b[0m \u001b[0mag__\u001b[0m\u001b[0;34m.\u001b[0m\u001b[0mconverted_call\u001b[0m\u001b[0;34m(\u001b[0m\u001b[0mag__\u001b[0m\u001b[0;34m.\u001b[0m\u001b[0mld\u001b[0m\u001b[0;34m(\u001b[0m\u001b[0mstep_function\u001b[0m\u001b[0;34m)\u001b[0m\u001b[0;34m,\u001b[0m \u001b[0;34m(\u001b[0m\u001b[0mag__\u001b[0m\u001b[0;34m.\u001b[0m\u001b[0mld\u001b[0m\u001b[0;34m(\u001b[0m\u001b[0mself\u001b[0m\u001b[0;34m)\u001b[0m\u001b[0;34m,\u001b[0m \u001b[0mag__\u001b[0m\u001b[0;34m.\u001b[0m\u001b[0mld\u001b[0m\u001b[0;34m(\u001b[0m\u001b[0miterator\u001b[0m\u001b[0;34m)\u001b[0m\u001b[0;34m)\u001b[0m\u001b[0;34m,\u001b[0m \u001b[0;32mNone\u001b[0m\u001b[0;34m,\u001b[0m \u001b[0mfscope\u001b[0m\u001b[0;34m)\u001b[0m\u001b[0;34m\u001b[0m\u001b[0;34m\u001b[0m\u001b[0m\n\u001b[0m\u001b[1;32m     16\u001b[0m                 \u001b[0;32mexcept\u001b[0m\u001b[0;34m:\u001b[0m\u001b[0;34m\u001b[0m\u001b[0;34m\u001b[0m\u001b[0m\n\u001b[1;32m     17\u001b[0m                     \u001b[0mdo_return\u001b[0m \u001b[0;34m=\u001b[0m \u001b[0;32mFalse\u001b[0m\u001b[0;34m\u001b[0m\u001b[0;34m\u001b[0m\u001b[0m\n",
            "\u001b[0;31mValueError\u001b[0m: in user code:\n\n    File \"/usr/local/lib/python3.10/dist-packages/keras/engine/training.py\", line 2169, in predict_function  *\n        return step_function(self, iterator)\n    File \"/usr/local/lib/python3.10/dist-packages/keras/engine/training.py\", line 2155, in step_function  **\n        outputs = model.distribute_strategy.run(run_step, args=(data,))\n    File \"/usr/local/lib/python3.10/dist-packages/keras/engine/training.py\", line 2143, in run_step  **\n        outputs = model.predict_step(data)\n    File \"/usr/local/lib/python3.10/dist-packages/keras/engine/training.py\", line 2111, in predict_step\n        return self(x, training=False)\n    File \"/usr/local/lib/python3.10/dist-packages/keras/utils/traceback_utils.py\", line 70, in error_handler\n        raise e.with_traceback(filtered_tb) from None\n\n    ValueError: Exception encountered when calling layer 'time_distributed_13' (type TimeDistributed).\n    \n    as_list() is not defined on an unknown TensorShape.\n    \n    Call arguments received by layer 'time_distributed_13' (type TimeDistributed):\n      • inputs=tf.Tensor(shape=<unknown>, dtype=float32)\n      • training=False\n      • mask=None\n"
          ]
        }
      ],
      "source": [
        "import numpy as np\n",
        "\n",
        "# Prepare input for closed-loop prediction\n",
        "initial_input = np.array(train_data['sfu'][-27:])  # Last 27-day period from the training data\n",
        "num_steps = 30\n",
        "\n",
        "# Initialize a list to store predictions\n",
        "predictions = []\n",
        "\n",
        "# Generate predictions iteratively\n",
        "for _ in range(num_steps):\n",
        "    # Reshape the input for prediction\n",
        "    initial_input_reshaped =  initial_input.reshape((1, 27, 1))\n",
        "\n",
        "    # Make a prediction using the LSTM model\n",
        "    prediction = model_cnn_lstm.predict(initial_input_reshaped)\n",
        "\n",
        "    # Store the prediction\n",
        "    predictions.append(prediction[0][0])\n",
        "\n",
        "    # Shift the input sequence one step forward by removing the first value\n",
        "    initial_input = np.append(initial_input[1:], prediction)\n",
        "\n",
        "# Print the predictions\n",
        "print(predictions)\n"
      ]
    },
    {
      "cell_type": "code",
      "source": [
        "train_X\n"
      ],
      "metadata": {
        "colab": {
          "base_uri": "https://localhost:8080/"
        },
        "id": "N_iVgurgE1zK",
        "outputId": "8f982fa6-e29c-4fc7-e7fc-77b89f84ccad"
      },
      "execution_count": 61,
      "outputs": [
        {
          "output_type": "execute_result",
          "data": {
            "text/plain": [
              "array([[201.87142857, 210.48571429, 219.1       , ..., 182.36666667,\n",
              "        187.55      , 192.73333333],\n",
              "       [210.48571429, 219.1       , 216.95      , ..., 187.55      ,\n",
              "        192.73333333, 197.91666667],\n",
              "       [219.1       , 216.95      , 214.8       , ..., 192.73333333,\n",
              "        197.91666667, 203.1       ],\n",
              "       ...,\n",
              "       [152.01578947, 152.04736842, 152.07894737, ..., 127.4       ,\n",
              "        116.5       , 116.9       ],\n",
              "       [152.04736842, 152.07894737, 152.11052632, ..., 116.5       ,\n",
              "        116.9       , 114.8       ],\n",
              "       [152.07894737, 152.11052632, 152.14210526, ..., 116.9       ,\n",
              "        114.8       , 113.8       ]])"
            ]
          },
          "metadata": {},
          "execution_count": 61
        }
      ]
    },
    {
      "cell_type": "code",
      "source": [
        "train_data"
      ],
      "metadata": {
        "colab": {
          "base_uri": "https://localhost:8080/",
          "height": 423
        },
        "id": "nkO9ibNGHvTv",
        "outputId": "55dd77f3-2e32-43f5-dd0a-a05f745ba8d5"
      },
      "execution_count": 62,
      "outputs": [
        {
          "output_type": "execute_result",
          "data": {
            "text/plain": [
              "            Date         sfu\n",
              "8127  1980-01-01  201.871429\n",
              "8128  1980-01-02  210.485714\n",
              "8129  1980-01-03  219.100000\n",
              "8130  1980-01-04  216.950000\n",
              "8131  1980-01-05  214.800000\n",
              "...          ...         ...\n",
              "16523 2002-12-27  116.500000\n",
              "16524 2002-12-28  116.900000\n",
              "16525 2002-12-29  114.800000\n",
              "16526 2002-12-30  113.800000\n",
              "16527 2002-12-31  115.100000\n",
              "\n",
              "[8401 rows x 2 columns]"
            ],
            "text/html": [
              "\n",
              "  <div id=\"df-f01ccf4c-c766-4912-b33d-92c7d399ae22\">\n",
              "    <div class=\"colab-df-container\">\n",
              "      <div>\n",
              "<style scoped>\n",
              "    .dataframe tbody tr th:only-of-type {\n",
              "        vertical-align: middle;\n",
              "    }\n",
              "\n",
              "    .dataframe tbody tr th {\n",
              "        vertical-align: top;\n",
              "    }\n",
              "\n",
              "    .dataframe thead th {\n",
              "        text-align: right;\n",
              "    }\n",
              "</style>\n",
              "<table border=\"1\" class=\"dataframe\">\n",
              "  <thead>\n",
              "    <tr style=\"text-align: right;\">\n",
              "      <th></th>\n",
              "      <th>Date</th>\n",
              "      <th>sfu</th>\n",
              "    </tr>\n",
              "  </thead>\n",
              "  <tbody>\n",
              "    <tr>\n",
              "      <th>8127</th>\n",
              "      <td>1980-01-01</td>\n",
              "      <td>201.871429</td>\n",
              "    </tr>\n",
              "    <tr>\n",
              "      <th>8128</th>\n",
              "      <td>1980-01-02</td>\n",
              "      <td>210.485714</td>\n",
              "    </tr>\n",
              "    <tr>\n",
              "      <th>8129</th>\n",
              "      <td>1980-01-03</td>\n",
              "      <td>219.100000</td>\n",
              "    </tr>\n",
              "    <tr>\n",
              "      <th>8130</th>\n",
              "      <td>1980-01-04</td>\n",
              "      <td>216.950000</td>\n",
              "    </tr>\n",
              "    <tr>\n",
              "      <th>8131</th>\n",
              "      <td>1980-01-05</td>\n",
              "      <td>214.800000</td>\n",
              "    </tr>\n",
              "    <tr>\n",
              "      <th>...</th>\n",
              "      <td>...</td>\n",
              "      <td>...</td>\n",
              "    </tr>\n",
              "    <tr>\n",
              "      <th>16523</th>\n",
              "      <td>2002-12-27</td>\n",
              "      <td>116.500000</td>\n",
              "    </tr>\n",
              "    <tr>\n",
              "      <th>16524</th>\n",
              "      <td>2002-12-28</td>\n",
              "      <td>116.900000</td>\n",
              "    </tr>\n",
              "    <tr>\n",
              "      <th>16525</th>\n",
              "      <td>2002-12-29</td>\n",
              "      <td>114.800000</td>\n",
              "    </tr>\n",
              "    <tr>\n",
              "      <th>16526</th>\n",
              "      <td>2002-12-30</td>\n",
              "      <td>113.800000</td>\n",
              "    </tr>\n",
              "    <tr>\n",
              "      <th>16527</th>\n",
              "      <td>2002-12-31</td>\n",
              "      <td>115.100000</td>\n",
              "    </tr>\n",
              "  </tbody>\n",
              "</table>\n",
              "<p>8401 rows × 2 columns</p>\n",
              "</div>\n",
              "      <button class=\"colab-df-convert\" onclick=\"convertToInteractive('df-f01ccf4c-c766-4912-b33d-92c7d399ae22')\"\n",
              "              title=\"Convert this dataframe to an interactive table.\"\n",
              "              style=\"display:none;\">\n",
              "        \n",
              "  <svg xmlns=\"http://www.w3.org/2000/svg\" height=\"24px\"viewBox=\"0 0 24 24\"\n",
              "       width=\"24px\">\n",
              "    <path d=\"M0 0h24v24H0V0z\" fill=\"none\"/>\n",
              "    <path d=\"M18.56 5.44l.94 2.06.94-2.06 2.06-.94-2.06-.94-.94-2.06-.94 2.06-2.06.94zm-11 1L8.5 8.5l.94-2.06 2.06-.94-2.06-.94L8.5 2.5l-.94 2.06-2.06.94zm10 10l.94 2.06.94-2.06 2.06-.94-2.06-.94-.94-2.06-.94 2.06-2.06.94z\"/><path d=\"M17.41 7.96l-1.37-1.37c-.4-.4-.92-.59-1.43-.59-.52 0-1.04.2-1.43.59L10.3 9.45l-7.72 7.72c-.78.78-.78 2.05 0 2.83L4 21.41c.39.39.9.59 1.41.59.51 0 1.02-.2 1.41-.59l7.78-7.78 2.81-2.81c.8-.78.8-2.07 0-2.86zM5.41 20L4 18.59l7.72-7.72 1.47 1.35L5.41 20z\"/>\n",
              "  </svg>\n",
              "      </button>\n",
              "      \n",
              "  <style>\n",
              "    .colab-df-container {\n",
              "      display:flex;\n",
              "      flex-wrap:wrap;\n",
              "      gap: 12px;\n",
              "    }\n",
              "\n",
              "    .colab-df-convert {\n",
              "      background-color: #E8F0FE;\n",
              "      border: none;\n",
              "      border-radius: 50%;\n",
              "      cursor: pointer;\n",
              "      display: none;\n",
              "      fill: #1967D2;\n",
              "      height: 32px;\n",
              "      padding: 0 0 0 0;\n",
              "      width: 32px;\n",
              "    }\n",
              "\n",
              "    .colab-df-convert:hover {\n",
              "      background-color: #E2EBFA;\n",
              "      box-shadow: 0px 1px 2px rgba(60, 64, 67, 0.3), 0px 1px 3px 1px rgba(60, 64, 67, 0.15);\n",
              "      fill: #174EA6;\n",
              "    }\n",
              "\n",
              "    [theme=dark] .colab-df-convert {\n",
              "      background-color: #3B4455;\n",
              "      fill: #D2E3FC;\n",
              "    }\n",
              "\n",
              "    [theme=dark] .colab-df-convert:hover {\n",
              "      background-color: #434B5C;\n",
              "      box-shadow: 0px 1px 3px 1px rgba(0, 0, 0, 0.15);\n",
              "      filter: drop-shadow(0px 1px 2px rgba(0, 0, 0, 0.3));\n",
              "      fill: #FFFFFF;\n",
              "    }\n",
              "  </style>\n",
              "\n",
              "      <script>\n",
              "        const buttonEl =\n",
              "          document.querySelector('#df-f01ccf4c-c766-4912-b33d-92c7d399ae22 button.colab-df-convert');\n",
              "        buttonEl.style.display =\n",
              "          google.colab.kernel.accessAllowed ? 'block' : 'none';\n",
              "\n",
              "        async function convertToInteractive(key) {\n",
              "          const element = document.querySelector('#df-f01ccf4c-c766-4912-b33d-92c7d399ae22');\n",
              "          const dataTable =\n",
              "            await google.colab.kernel.invokeFunction('convertToInteractive',\n",
              "                                                     [key], {});\n",
              "          if (!dataTable) return;\n",
              "\n",
              "          const docLinkHtml = 'Like what you see? Visit the ' +\n",
              "            '<a target=\"_blank\" href=https://colab.research.google.com/notebooks/data_table.ipynb>data table notebook</a>'\n",
              "            + ' to learn more about interactive tables.';\n",
              "          element.innerHTML = '';\n",
              "          dataTable['output_type'] = 'display_data';\n",
              "          await google.colab.output.renderOutput(dataTable, element);\n",
              "          const docLink = document.createElement('div');\n",
              "          docLink.innerHTML = docLinkHtml;\n",
              "          element.appendChild(docLink);\n",
              "        }\n",
              "      </script>\n",
              "    </div>\n",
              "  </div>\n",
              "  "
            ]
          },
          "metadata": {},
          "execution_count": 62
        }
      ]
    }
  ],
  "metadata": {
    "kernelspec": {
      "display_name": "Python 3",
      "language": "python",
      "name": "python3"
    },
    "language_info": {
      "codemirror_mode": {
        "name": "ipython",
        "version": 3
      },
      "file_extension": ".py",
      "mimetype": "text/x-python",
      "name": "python",
      "nbconvert_exporter": "python",
      "pygments_lexer": "ipython3",
      "version": "3.8.0"
    },
    "orig_nbformat": 4,
    "colab": {
      "provenance": []
    }
  },
  "nbformat": 4,
  "nbformat_minor": 0
}