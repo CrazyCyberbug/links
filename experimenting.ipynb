{
 "cells": [
  {
   "cell_type": "code",
   "execution_count": 2,
   "metadata": {},
   "outputs": [],
   "source": [
    "import pandas as pd\n",
    "\n",
    "df = pd.read_csv('C:/Users/Swaroop/isro project/solar_flux_data.csv')"
   ]
  },
  {
   "cell_type": "code",
   "execution_count": 3,
   "metadata": {},
   "outputs": [],
   "source": [
    "df['Date'] = pd.to_datetime(df['Date'])"
   ]
  },
  {
   "cell_type": "code",
   "execution_count": 4,
   "metadata": {},
   "outputs": [],
   "source": [
    "train_data = df[df['Date'].dt.year<1996]\n",
    "test_data = df[df['Date'].dt.year>=1996]"
   ]
  },
  {
   "cell_type": "code",
   "execution_count": 5,
   "metadata": {},
   "outputs": [
    {
     "data": {
      "text/plain": [
       "17853    75.000000\n",
       "17854    74.000000\n",
       "17855    80.000000\n",
       "17856    85.000000\n",
       "17857    84.000000\n",
       "           ...    \n",
       "26981    85.983333\n",
       "26982    84.433333\n",
       "26983    83.583333\n",
       "26984    82.733333\n",
       "26985    82.733333\n",
       "Name: sfu, Length: 9133, dtype: float64"
      ]
     },
     "execution_count": 5,
     "metadata": {},
     "output_type": "execute_result"
    }
   ],
   "source": [
    "test_data['sfu']"
   ]
  },
  {
   "cell_type": "code",
   "execution_count": 7,
   "metadata": {},
   "outputs": [],
   "source": [
    "import numpy as np\n",
    "sequence = df['sfu']\n",
    "\n",
    "def split_sequence(sequence, n_steps):\n",
    "\tX, y = list(), list()\n",
    "\tfor i in range(len(sequence)):\n",
    "\t\t# find the end of this pattern\n",
    "\t\tend_ix = i + n_steps\n",
    "\t\t# check if we are beyond the sequence\n",
    "\t\tif end_ix > len(sequence)-1:\n",
    "\t\t\tbreak\n",
    "\t\t# gather input and output parts of the pattern\n",
    "\t\tseq_x, seq_y = sequence[i:end_ix], sequence[end_ix]\n",
    "\t\tX.append(seq_x)\n",
    "\t\ty.append(seq_y)\n",
    "\treturn np.array(X), np.array(y)\n",
    "\n",
    "# define input sequence\n",
    "raw_seq = df['sfu']\n",
    "# choose a number of time steps\n",
    "n_steps = 27\n",
    "# split into samples\n",
    "X, y = split_sequence(raw_seq, n_steps)\n",
    "# summarize the data\n",
    "# for i in range(len(X)):\n",
    "# \tprint(X[i], y[i])"
   ]
  },
  {
   "cell_type": "code",
   "execution_count": 217,
   "metadata": {},
   "outputs": [],
   "source": [
    "train = np.array(train_data['sfu'])\n",
    "test = np.array(test_data['sfu'])\n"
   ]
  },
  {
   "cell_type": "code",
   "execution_count": 218,
   "metadata": {},
   "outputs": [
    {
     "data": {
      "text/plain": [
       "((17853,), (9133,))"
      ]
     },
     "execution_count": 218,
     "metadata": {},
     "output_type": "execute_result"
    }
   ],
   "source": [
    "train.shape, test.shape"
   ]
  },
  {
   "cell_type": "code",
   "execution_count": 11,
   "metadata": {},
   "outputs": [
    {
     "data": {
      "text/plain": [
       "(17826, 27)"
      ]
     },
     "execution_count": 11,
     "metadata": {},
     "output_type": "execute_result"
    }
   ],
   "source": [
    "train_X.shape"
   ]
  },
  {
   "cell_type": "code",
   "execution_count": 12,
   "metadata": {},
   "outputs": [
    {
     "data": {
      "text/plain": [
       "array([[[260.        ],\n",
       "        [244.5       ],\n",
       "        [229.        ],\n",
       "        ...,\n",
       "        [321.33333333],\n",
       "        [307.        ],\n",
       "        [286.        ]],\n",
       "\n",
       "       [[244.5       ],\n",
       "        [229.        ],\n",
       "        [213.5       ],\n",
       "        ...,\n",
       "        [307.        ],\n",
       "        [286.        ],\n",
       "        [265.        ]],\n",
       "\n",
       "       [[229.        ],\n",
       "        [213.5       ],\n",
       "        [198.        ],\n",
       "        ...,\n",
       "        [286.        ],\n",
       "        [265.        ],\n",
       "        [244.        ]],\n",
       "\n",
       "       ...,\n",
       "\n",
       "       [[ 73.        ],\n",
       "        [ 73.        ],\n",
       "        [ 72.        ],\n",
       "        ...,\n",
       "        [ 74.        ],\n",
       "        [ 74.        ],\n",
       "        [ 76.        ]],\n",
       "\n",
       "       [[ 73.        ],\n",
       "        [ 72.        ],\n",
       "        [ 73.        ],\n",
       "        ...,\n",
       "        [ 74.        ],\n",
       "        [ 76.        ],\n",
       "        [ 76.        ]],\n",
       "\n",
       "       [[ 72.        ],\n",
       "        [ 73.        ],\n",
       "        [ 74.        ],\n",
       "        ...,\n",
       "        [ 76.        ],\n",
       "        [ 76.        ],\n",
       "        [ 75.        ]]])"
      ]
     },
     "execution_count": 12,
     "metadata": {},
     "output_type": "execute_result"
    }
   ],
   "source": [
    "train_X.reshape(train_X.shape[0], train_X.shape[1], 1)"
   ]
  },
  {
   "cell_type": "code",
   "execution_count": 10,
   "metadata": {},
   "outputs": [],
   "source": [
    "train_X, train_y = split_sequence(np.array(train_data['sfu']), 27)\n",
    "# print(\"train split done\")\n",
    "test_X, test_y = split_sequence(np.array(test_data['sfu']), 27)"
   ]
  },
  {
   "cell_type": "code",
   "execution_count": null,
   "metadata": {},
   "outputs": [],
   "source": [
    "\n",
    "from sklearn.preprocessing import MinMaxScaler\n",
    "\n",
    "scaler = MinMaxScaler()\n",
    "train_X = scaler.fit_transform(train_X)\n",
    "test_X = scaler.transform(test_X)\n",
    "# train_y, test_y = scaler.transform(train_y.reshape(-1, 1)), scaler.fit_transform(test_y.reshape(-1, 1))"
   ]
  },
  {
   "cell_type": "code",
   "execution_count": 221,
   "metadata": {},
   "outputs": [
    {
     "name": "stdout",
     "output_type": "stream",
     "text": [
      "Epoch 1/100\n",
      "557/557 [==============================] - 14s 22ms/step - loss: 16253.3154 - val_loss: 8041.3462\n",
      "Epoch 2/100\n",
      "557/557 [==============================] - 11s 20ms/step - loss: 11579.0723 - val_loss: 5309.4609\n",
      "Epoch 3/100\n",
      "557/557 [==============================] - 11s 20ms/step - loss: 8515.5439 - val_loss: 3567.5186\n",
      "Epoch 4/100\n",
      "557/557 [==============================] - 11s 20ms/step - loss: 6389.9312 - val_loss: 2522.3845\n",
      "Epoch 5/100\n",
      "557/557 [==============================] - 11s 20ms/step - loss: 4864.8794 - val_loss: 1745.8820\n",
      "Epoch 6/100\n",
      "557/557 [==============================] - 11s 20ms/step - loss: 3644.0381 - val_loss: 1161.3800\n",
      "Epoch 7/100\n",
      "557/557 [==============================] - 11s 20ms/step - loss: 2578.1575 - val_loss: 748.3306\n",
      "Epoch 8/100\n",
      "557/557 [==============================] - 11s 20ms/step - loss: 1830.4130 - val_loss: 497.2511\n",
      "Epoch 9/100\n",
      "557/557 [==============================] - 11s 20ms/step - loss: 1310.2946 - val_loss: 338.8114\n",
      "Epoch 10/100\n",
      "557/557 [==============================] - 12s 21ms/step - loss: 936.0960 - val_loss: 237.3938\n",
      "Epoch 11/100\n",
      "557/557 [==============================] - 11s 20ms/step - loss: 680.8915 - val_loss: 173.8650\n",
      "Epoch 12/100\n",
      "557/557 [==============================] - 11s 20ms/step - loss: 530.2174 - val_loss: 134.9322\n",
      "Epoch 13/100\n",
      "557/557 [==============================] - 11s 20ms/step - loss: 409.1035 - val_loss: 108.7379\n",
      "Epoch 14/100\n",
      "557/557 [==============================] - 11s 20ms/step - loss: 325.7753 - val_loss: 90.2618\n",
      "Epoch 15/100\n",
      "557/557 [==============================] - 11s 20ms/step - loss: 277.4540 - val_loss: 78.7881\n",
      "Epoch 16/100\n",
      "557/557 [==============================] - 11s 20ms/step - loss: 245.4217 - val_loss: 70.4805\n",
      "Epoch 17/100\n",
      "557/557 [==============================] - 11s 20ms/step - loss: 214.6332 - val_loss: 64.5285\n",
      "Epoch 18/100\n",
      "557/557 [==============================] - 11s 20ms/step - loss: 193.7306 - val_loss: 64.5545\n",
      "Epoch 19/100\n",
      "557/557 [==============================] - 11s 20ms/step - loss: 179.3167 - val_loss: 60.5262\n",
      "Epoch 20/100\n",
      "557/557 [==============================] - 11s 20ms/step - loss: 175.0405 - val_loss: 59.9331\n",
      "Epoch 21/100\n",
      "557/557 [==============================] - 11s 20ms/step - loss: 167.9296 - val_loss: 58.6456\n",
      "Epoch 22/100\n",
      "557/557 [==============================] - 11s 20ms/step - loss: 157.9865 - val_loss: 59.0388\n",
      "Epoch 23/100\n",
      "557/557 [==============================] - 11s 20ms/step - loss: 155.9271 - val_loss: 58.4011\n",
      "Epoch 24/100\n",
      "557/557 [==============================] - 11s 20ms/step - loss: 150.6222 - val_loss: 68.2401\n",
      "Epoch 25/100\n",
      "557/557 [==============================] - 11s 20ms/step - loss: 146.7389 - val_loss: 60.0157\n",
      "Epoch 26/100\n",
      "557/557 [==============================] - 11s 20ms/step - loss: 144.4515 - val_loss: 60.1218\n",
      "Epoch 27/100\n",
      "557/557 [==============================] - 11s 20ms/step - loss: 143.6715 - val_loss: 61.0722\n",
      "Epoch 28/100\n",
      "557/557 [==============================] - 11s 20ms/step - loss: 146.5574 - val_loss: 58.3555\n",
      "Epoch 29/100\n",
      "557/557 [==============================] - 11s 20ms/step - loss: 143.0239 - val_loss: 75.1595\n",
      "Epoch 30/100\n",
      "557/557 [==============================] - 11s 20ms/step - loss: 138.4062 - val_loss: 57.6604\n",
      "Epoch 31/100\n",
      "557/557 [==============================] - 11s 20ms/step - loss: 138.4447 - val_loss: 58.7741\n",
      "Epoch 32/100\n",
      "557/557 [==============================] - 11s 20ms/step - loss: 141.3178 - val_loss: 60.3585\n",
      "Epoch 33/100\n",
      "557/557 [==============================] - 11s 20ms/step - loss: 139.0681 - val_loss: 61.6206\n",
      "Epoch 34/100\n",
      "557/557 [==============================] - 11s 19ms/step - loss: 132.6455 - val_loss: 61.0742\n",
      "Epoch 35/100\n",
      "557/557 [==============================] - 11s 20ms/step - loss: 132.6730 - val_loss: 61.8557\n",
      "Epoch 36/100\n",
      "557/557 [==============================] - 11s 20ms/step - loss: 133.7431 - val_loss: 61.6265\n",
      "Epoch 37/100\n",
      "557/557 [==============================] - 11s 20ms/step - loss: 137.2098 - val_loss: 64.2711\n",
      "Epoch 38/100\n",
      "557/557 [==============================] - 11s 20ms/step - loss: 132.7809 - val_loss: 61.5931\n",
      "Epoch 39/100\n",
      "557/557 [==============================] - 11s 20ms/step - loss: 130.1669 - val_loss: 60.3473\n",
      "Epoch 40/100\n",
      "557/557 [==============================] - 11s 20ms/step - loss: 132.8261 - val_loss: 63.2965\n",
      "Epoch 41/100\n",
      "557/557 [==============================] - 11s 20ms/step - loss: 130.6534 - val_loss: 61.9968\n",
      "Epoch 42/100\n",
      "557/557 [==============================] - 11s 20ms/step - loss: 129.2069 - val_loss: 69.0504\n",
      "Epoch 43/100\n",
      "557/557 [==============================] - 11s 20ms/step - loss: 132.3450 - val_loss: 63.4258\n",
      "Epoch 44/100\n",
      "557/557 [==============================] - 11s 20ms/step - loss: 128.8685 - val_loss: 62.4664\n",
      "Epoch 45/100\n",
      "557/557 [==============================] - 11s 20ms/step - loss: 126.7921 - val_loss: 64.8941\n",
      "Epoch 46/100\n",
      "557/557 [==============================] - 12s 21ms/step - loss: 130.4714 - val_loss: 65.2672\n",
      "Epoch 47/100\n",
      "557/557 [==============================] - 12s 22ms/step - loss: 126.4336 - val_loss: 63.2510\n",
      "Epoch 48/100\n",
      "557/557 [==============================] - 11s 21ms/step - loss: 125.4771 - val_loss: 61.2647\n",
      "Epoch 49/100\n",
      "557/557 [==============================] - 11s 20ms/step - loss: 129.8597 - val_loss: 63.1821\n",
      "Epoch 50/100\n",
      "557/557 [==============================] - 11s 20ms/step - loss: 126.9466 - val_loss: 62.0158\n",
      "Epoch 51/100\n",
      "557/557 [==============================] - 11s 20ms/step - loss: 127.2790 - val_loss: 61.1604\n",
      "Epoch 52/100\n",
      "557/557 [==============================] - 11s 20ms/step - loss: 124.8008 - val_loss: 64.5911\n",
      "Epoch 53/100\n",
      "557/557 [==============================] - 11s 21ms/step - loss: 123.6750 - val_loss: 60.8229\n",
      "Epoch 54/100\n",
      "557/557 [==============================] - 11s 20ms/step - loss: 124.1609 - val_loss: 61.1244\n",
      "Epoch 55/100\n",
      "557/557 [==============================] - 11s 19ms/step - loss: 125.2285 - val_loss: 61.9113\n",
      "Epoch 56/100\n",
      "557/557 [==============================] - 11s 19ms/step - loss: 124.5006 - val_loss: 64.3667\n",
      "Epoch 57/100\n",
      "557/557 [==============================] - 11s 20ms/step - loss: 123.7989 - val_loss: 61.0192\n",
      "Epoch 58/100\n",
      "557/557 [==============================] - 11s 20ms/step - loss: 125.2856 - val_loss: 62.6433\n",
      "Epoch 59/100\n",
      "557/557 [==============================] - 11s 20ms/step - loss: 123.1336 - val_loss: 65.1076\n",
      "Epoch 60/100\n",
      "557/557 [==============================] - 11s 20ms/step - loss: 119.3960 - val_loss: 62.9548\n",
      "Epoch 61/100\n",
      "557/557 [==============================] - 11s 20ms/step - loss: 121.2793 - val_loss: 69.0403\n",
      "Epoch 62/100\n",
      "557/557 [==============================] - 11s 20ms/step - loss: 123.4584 - val_loss: 63.0438\n",
      "Epoch 63/100\n",
      "557/557 [==============================] - 11s 19ms/step - loss: 123.4329 - val_loss: 64.5499\n",
      "Epoch 64/100\n",
      "557/557 [==============================] - 11s 21ms/step - loss: 123.5662 - val_loss: 62.5013\n",
      "Epoch 65/100\n",
      "557/557 [==============================] - 11s 20ms/step - loss: 122.5372 - val_loss: 65.7558\n",
      "Epoch 66/100\n",
      "557/557 [==============================] - 11s 20ms/step - loss: 120.0061 - val_loss: 61.7248\n",
      "Epoch 67/100\n",
      "557/557 [==============================] - 11s 20ms/step - loss: 121.6646 - val_loss: 62.0589\n",
      "Epoch 68/100\n",
      "557/557 [==============================] - 11s 20ms/step - loss: 119.1807 - val_loss: 63.6899\n",
      "Epoch 69/100\n",
      "557/557 [==============================] - 11s 20ms/step - loss: 119.8779 - val_loss: 63.8176\n",
      "Epoch 70/100\n",
      "557/557 [==============================] - 11s 20ms/step - loss: 117.9455 - val_loss: 62.9974\n",
      "Epoch 71/100\n",
      "557/557 [==============================] - 11s 20ms/step - loss: 119.0407 - val_loss: 64.2737\n",
      "Epoch 72/100\n",
      "557/557 [==============================] - 13s 23ms/step - loss: 119.3773 - val_loss: 60.7190\n",
      "Epoch 73/100\n",
      "557/557 [==============================] - 11s 20ms/step - loss: 121.7910 - val_loss: 62.9171\n",
      "Epoch 74/100\n",
      "557/557 [==============================] - 11s 20ms/step - loss: 122.0266 - val_loss: 64.6560\n",
      "Epoch 75/100\n",
      "557/557 [==============================] - 11s 20ms/step - loss: 118.5535 - val_loss: 63.0544\n",
      "Epoch 76/100\n",
      "557/557 [==============================] - 11s 20ms/step - loss: 120.4417 - val_loss: 66.0661\n",
      "Epoch 77/100\n",
      "557/557 [==============================] - 11s 20ms/step - loss: 116.8874 - val_loss: 62.5699\n",
      "Epoch 78/100\n",
      "557/557 [==============================] - 11s 20ms/step - loss: 118.5596 - val_loss: 64.7252\n",
      "Epoch 79/100\n",
      "557/557 [==============================] - 11s 20ms/step - loss: 119.1473 - val_loss: 66.5052\n",
      "Epoch 80/100\n",
      "557/557 [==============================] - 11s 20ms/step - loss: 118.2000 - val_loss: 63.7352\n",
      "Epoch 81/100\n",
      "557/557 [==============================] - 11s 20ms/step - loss: 121.0844 - val_loss: 67.6574\n",
      "Epoch 82/100\n",
      "557/557 [==============================] - 12s 22ms/step - loss: 117.9448 - val_loss: 66.8547\n",
      "Epoch 83/100\n",
      "557/557 [==============================] - 11s 20ms/step - loss: 118.6326 - val_loss: 63.0636\n",
      "Epoch 84/100\n",
      "557/557 [==============================] - 11s 21ms/step - loss: 116.7132 - val_loss: 64.1996\n",
      "Epoch 85/100\n",
      "557/557 [==============================] - 12s 21ms/step - loss: 117.4009 - val_loss: 63.1068\n",
      "Epoch 86/100\n",
      "557/557 [==============================] - 12s 21ms/step - loss: 119.5867 - val_loss: 64.4619\n",
      "Epoch 87/100\n",
      "557/557 [==============================] - 11s 20ms/step - loss: 117.2417 - val_loss: 64.7141\n",
      "Epoch 88/100\n",
      "557/557 [==============================] - 13s 23ms/step - loss: 114.7531 - val_loss: 62.6657\n",
      "Epoch 89/100\n",
      "557/557 [==============================] - 12s 22ms/step - loss: 114.9799 - val_loss: 69.2864\n",
      "Epoch 90/100\n",
      "557/557 [==============================] - 11s 20ms/step - loss: 115.8050 - val_loss: 66.0218\n",
      "Epoch 91/100\n",
      "557/557 [==============================] - 12s 21ms/step - loss: 116.2185 - val_loss: 64.5781\n",
      "Epoch 92/100\n",
      "557/557 [==============================] - 11s 20ms/step - loss: 116.7144 - val_loss: 63.4965\n",
      "Epoch 93/100\n",
      "557/557 [==============================] - 12s 22ms/step - loss: 115.5072 - val_loss: 64.9526\n",
      "Epoch 94/100\n",
      "557/557 [==============================] - 11s 20ms/step - loss: 114.2778 - val_loss: 66.8006\n",
      "Epoch 95/100\n",
      "557/557 [==============================] - 11s 20ms/step - loss: 118.8238 - val_loss: 63.6914\n",
      "Epoch 96/100\n",
      "557/557 [==============================] - 11s 20ms/step - loss: 116.5279 - val_loss: 64.0806\n",
      "Epoch 97/100\n",
      "557/557 [==============================] - 11s 20ms/step - loss: 115.6377 - val_loss: 71.3992\n",
      "Epoch 98/100\n",
      "557/557 [==============================] - 13s 23ms/step - loss: 113.0110 - val_loss: 61.7021\n",
      "Epoch 99/100\n",
      "557/557 [==============================] - 11s 20ms/step - loss: 115.3988 - val_loss: 63.7593\n",
      "Epoch 100/100\n",
      "557/557 [==============================] - 12s 21ms/step - loss: 115.8336 - val_loss: 64.7553\n"
     ]
    }
   ],
   "source": [
    "from keras.models import Sequential\n",
    "from keras.layers import LSTM, Dense, Dropout\n",
    "from keras.optimizers import Adam, SGD\n",
    "from keras.callbacks import ModelCheckpoint\n",
    "\n",
    "n_features = 1\n",
    "train_X = train_X.reshape((train_X.shape[0], train_X.shape[1], n_features))\n",
    "\n",
    "# Define model\n",
    "n_steps = 54\n",
    "model = Sequential()\n",
    "model.add(LSTM(50, activation='tanh', input_shape=(n_steps, n_features)))\n",
    "model.add(Dropout(0.2))\n",
    "model.add(Dense(1))\n",
    "\n",
    "# Compile model with learning rate of 0.001\n",
    "# optimizer = SGD(lr = 0.001)\n",
    "optimizer = Adam(lr=0.001)\n",
    "model.compile(optimizer=optimizer, loss='mse')\n",
    "\n",
    "# Define checkpoint callback\n",
    "checkpoint = ModelCheckpoint('model_weights.h5', monitor='val_loss', save_best_only=True, save_weights_only=True)\n",
    "\n",
    "# Fit model with checkpointing\n",
    "history = model.fit(train_X, train_y, epochs=100, verbose=1, validation_data = (test_X, test_y), callbacks=[checkpoint])"
   ]
  },
  {
   "cell_type": "code",
   "execution_count": 223,
   "metadata": {},
   "outputs": [
    {
     "data": {
      "text/plain": [
       "<AxesSubplot: >"
      ]
     },
     "execution_count": 223,
     "metadata": {},
     "output_type": "execute_result"
    },
    {
     "data": {
      "image/png": "[encoded data removed]",
      "text/plain": [
       "<Figure size 800x500 with 1 Axes>"
      ]
     },
     "metadata": {},
     "output_type": "display_data"
    }
   ],
   "source": [
    "pd.DataFrame(history.history).plot(figsize=(8,5))\n"
   ]
  },
  {
   "cell_type": "code",
   "execution_count": 224,
   "metadata": {},
   "outputs": [
    {
     "name": "stdout",
     "output_type": "stream",
     "text": [
      "284/284 [==============================] - 3s 7ms/step\n"
     ]
    }
   ],
   "source": [
    "test_X = test_X.reshape((test_X.shape[0], test_X.shape[1], n_features))\n",
    "pred_y = model.predict(test_X)"
   ]
  },
  {
   "cell_type": "code",
   "execution_count": 225,
   "metadata": {},
   "outputs": [
    {
     "name": "stdout",
     "output_type": "stream",
     "text": [
      "R2 score: 0.9655827532666791\n",
      "RMSE:  8.047067086158675\n"
     ]
    }
   ],
   "source": [
    "from sklearn.metrics import r2_score, mean_squared_error\n",
    "\n",
    "# Assuming you have your true values in 'y_true' and predicted values in 'y_pred'\n",
    "r2 = r2_score(test_y, pred_y)\n",
    "rmse = np.sqrt(mean_squared_error(test_y, pred_y))\n",
    "\n",
    "\n",
    "print(\"R2 score:\", r2)\n",
    "print(\"RMSE: \", rmse)"
   ]
  },
  {
   "cell_type": "code",
   "execution_count": 18,
   "metadata": {},
   "outputs": [],
   "source": [
    "model.save('singlelayerLSTM.h5')"
   ]
  },
  {
   "attachments": {},
   "cell_type": "markdown",
   "metadata": {},
   "source": [
    "LSTM with 64 units"
   ]
  },
  {
   "cell_type": "code",
   "execution_count": 35,
   "metadata": {},
   "outputs": [],
   "source": [
    "train_X, train_y = split_sequence(train_data['sfu'], 27)\n",
    "# print(\"train split done\")\n",
    "test_X, test_y = split_sequence(np.array(test_data['sfu']), 27)"
   ]
  },
  {
   "cell_type": "code",
   "execution_count": 43,
   "metadata": {},
   "outputs": [
    {
     "name": "stdout",
     "output_type": "stream",
     "text": [
      "Epoch 1/50\n"
     ]
    },
    {
     "name": "stderr",
     "output_type": "stream",
     "text": [
      "c:\\Users\\Swaroop\\AppData\\Local\\Programs\\Python\\Python38\\lib\\site-packages\\keras\\optimizers\\optimizer_v2\\adam.py:114: UserWarning: The `lr` argument is deprecated, use `learning_rate` instead.\n",
      "  super().__init__(name, **kwargs)\n"
     ]
    },
    {
     "name": "stdout",
     "output_type": "stream",
     "text": [
      "558/558 [==============================] - 8s 12ms/step - loss: 4503.5581 - val_loss: 425.3190\n",
      "Epoch 2/50\n",
      "558/558 [==============================] - 6s 11ms/step - loss: 435.6338 - val_loss: 252.2152\n",
      "Epoch 3/50\n",
      "558/558 [==============================] - 6s 11ms/step - loss: 295.8269 - val_loss: 208.0896\n",
      "Epoch 4/50\n",
      "558/558 [==============================] - 6s 11ms/step - loss: 258.1609 - val_loss: 192.5838\n",
      "Epoch 5/50\n",
      "558/558 [==============================] - 7s 12ms/step - loss: 227.2689 - val_loss: 176.0780\n",
      "Epoch 6/50\n",
      "558/558 [==============================] - 6s 11ms/step - loss: 182.7075 - val_loss: 132.9037\n",
      "Epoch 7/50\n",
      "558/558 [==============================] - 6s 11ms/step - loss: 442.1055 - val_loss: 233.8338\n",
      "Epoch 8/50\n",
      "558/558 [==============================] - 7s 12ms/step - loss: 258.0867 - val_loss: 215.4211\n",
      "Epoch 9/50\n",
      "558/558 [==============================] - 6s 11ms/step - loss: 243.1081 - val_loss: 210.2695\n",
      "Epoch 10/50\n",
      "558/558 [==============================] - 6s 10ms/step - loss: 236.6810 - val_loss: 226.9820\n",
      "Epoch 11/50\n",
      "558/558 [==============================] - 6s 10ms/step - loss: 1673680.1250 - val_loss: 276.3605\n",
      "Epoch 12/50\n",
      "558/558 [==============================] - 6s 10ms/step - loss: 358.4421 - val_loss: 276.4321\n",
      "Epoch 13/50\n",
      "558/558 [==============================] - 6s 10ms/step - loss: 357.5655 - val_loss: 275.9527\n",
      "Epoch 14/50\n",
      "558/558 [==============================] - 6s 10ms/step - loss: 356.9322 - val_loss: 275.6900\n",
      "Epoch 15/50\n",
      "558/558 [==============================] - 6s 10ms/step - loss: 358.4970 - val_loss: 275.3464\n",
      "Epoch 16/50\n",
      "558/558 [==============================] - 6s 10ms/step - loss: 357.8492 - val_loss: 274.9400\n",
      "Epoch 17/50\n",
      "558/558 [==============================] - 6s 10ms/step - loss: 359.0447 - val_loss: 274.5869\n",
      "Epoch 18/50\n",
      "558/558 [==============================] - 6s 10ms/step - loss: 360.0374 - val_loss: 275.4337\n",
      "Epoch 19/50\n",
      "558/558 [==============================] - 6s 10ms/step - loss: 361.7190 - val_loss: 272.7199\n",
      "Epoch 20/50\n",
      "558/558 [==============================] - 6s 10ms/step - loss: 360.9567 - val_loss: 273.6111\n",
      "Epoch 21/50\n",
      "558/558 [==============================] - 6s 10ms/step - loss: 361.3717 - val_loss: 273.7612\n",
      "Epoch 22/50\n",
      "558/558 [==============================] - 6s 10ms/step - loss: 363.9942 - val_loss: 289.9722\n",
      "Epoch 23/50\n",
      "558/558 [==============================] - 6s 11ms/step - loss: 362.5893 - val_loss: 274.0020\n",
      "Epoch 24/50\n",
      "558/558 [==============================] - 6s 11ms/step - loss: 369.0085 - val_loss: 333.1659\n",
      "Epoch 25/50\n",
      "558/558 [==============================] - 6s 11ms/step - loss: 370.6401 - val_loss: 382.9850\n",
      "Epoch 26/50\n",
      "558/558 [==============================] - 6s 11ms/step - loss: 380.8210 - val_loss: 259.5398\n",
      "Epoch 27/50\n",
      "558/558 [==============================] - 6s 11ms/step - loss: 396.8937 - val_loss: 269.1115\n",
      "Epoch 28/50\n",
      "558/558 [==============================] - 6s 11ms/step - loss: 389.7912 - val_loss: 351.2415\n",
      "Epoch 29/50\n",
      "558/558 [==============================] - 6s 11ms/step - loss: 398.2259 - val_loss: 291.1843\n",
      "Epoch 30/50\n",
      "558/558 [==============================] - 6s 11ms/step - loss: 368.9592 - val_loss: 246.9890\n",
      "Epoch 31/50\n",
      "558/558 [==============================] - 6s 11ms/step - loss: 401.6204 - val_loss: 254.9227\n",
      "Epoch 32/50\n",
      "558/558 [==============================] - 6s 11ms/step - loss: 345.0087 - val_loss: 249.4946\n",
      "Epoch 33/50\n",
      "558/558 [==============================] - 6s 11ms/step - loss: 384.1435 - val_loss: 237.7952\n",
      "Epoch 34/50\n",
      "558/558 [==============================] - 6s 11ms/step - loss: 389.2932 - val_loss: 235.8593\n",
      "Epoch 35/50\n",
      "558/558 [==============================] - 6s 11ms/step - loss: 369.3489 - val_loss: 367.2217\n",
      "Epoch 36/50\n",
      "558/558 [==============================] - 6s 11ms/step - loss: 383.5873 - val_loss: 282.6886\n",
      "Epoch 37/50\n",
      "558/558 [==============================] - 6s 11ms/step - loss: 322.7992 - val_loss: 490.8633\n",
      "Epoch 38/50\n",
      "558/558 [==============================] - 6s 11ms/step - loss: 307.5106 - val_loss: 284.4029\n",
      "Epoch 39/50\n",
      "558/558 [==============================] - 6s 11ms/step - loss: 324.0529 - val_loss: 194.1569\n",
      "Epoch 40/50\n",
      "558/558 [==============================] - 6s 11ms/step - loss: 290.6884 - val_loss: 183.7197\n",
      "Epoch 41/50\n",
      "558/558 [==============================] - 6s 11ms/step - loss: 605.9431 - val_loss: 225.9863\n",
      "Epoch 42/50\n",
      "558/558 [==============================] - 6s 11ms/step - loss: 283.3184 - val_loss: 234.2944\n",
      "Epoch 43/50\n",
      "558/558 [==============================] - 6s 11ms/step - loss: 260.1814 - val_loss: 178.7584\n",
      "Epoch 44/50\n",
      "558/558 [==============================] - 7s 13ms/step - loss: 219.5814 - val_loss: 188.6532\n",
      "Epoch 45/50\n",
      "558/558 [==============================] - 6s 11ms/step - loss: 187.6918 - val_loss: 128.7830\n",
      "Epoch 46/50\n",
      "558/558 [==============================] - 6s 11ms/step - loss: 151.0239 - val_loss: 143.1964\n",
      "Epoch 47/50\n",
      "558/558 [==============================] - 6s 11ms/step - loss: 128.9653 - val_loss: 111.6333\n",
      "Epoch 48/50\n",
      "558/558 [==============================] - 6s 11ms/step - loss: 106.2954 - val_loss: 96.1018\n",
      "Epoch 49/50\n",
      "558/558 [==============================] - 6s 11ms/step - loss: 98.6741 - val_loss: 89.2796\n",
      "Epoch 50/50\n",
      "558/558 [==============================] - 6s 11ms/step - loss: 79.5969 - val_loss: 94.3448\n"
     ]
    }
   ],
   "source": [
    "from keras.models import Sequential\n",
    "from keras.layers import LSTM, Dense\n",
    "from keras.optimizers import Adam\n",
    "from keras.callbacks import ModelCheckpoint\n",
    "\n",
    "n_features = 1\n",
    "train_X = train_X.reshape((train_X.shape[0], train_X.shape[1], n_features))\n",
    "\n",
    "# Define model\n",
    "model = Sequential()\n",
    "model.add(LSTM(64, activation='relu', input_shape=(n_steps, n_features)))\n",
    "model.add(Dense(1))\n",
    "\n",
    "# Compile model with learning rate of 0.001\n",
    "optimizer = Adam(lr=0.001)\n",
    "model.compile(optimizer=optimizer, loss='mse')\n",
    "\n",
    "# Define checkpoint callback\n",
    "checkpoint = ModelCheckpoint('singleLSTM64.h5', monitor='val_loss', save_best_only=True, save_weights_only=True)\n",
    "\n",
    "# Fit model with checkpointing\n",
    "history = model.fit(train_X, train_y, epochs=50, verbose=1, validation_data = (test_X, test_y), callbacks=[checkpoint])"
   ]
  },
  {
   "cell_type": "code",
   "execution_count": 50,
   "metadata": {},
   "outputs": [
    {
     "data": {
      "text/plain": [
       "<AxesSubplot: >"
      ]
     },
     "execution_count": 50,
     "metadata": {},
     "output_type": "execute_result"
    },
    {
     "data": {
      "image/png": "[encoded data removed]",
      "text/plain": [
       "<Figure size 800x500 with 1 Axes>"
      ]
     },
     "metadata": {},
     "output_type": "display_data"
    }
   ],
   "source": [
    "pd.DataFrame(history.history).plot(figsize=(8,5))\n"
   ]
  },
  {
   "cell_type": "code",
   "execution_count": 48,
   "metadata": {},
   "outputs": [
    {
     "name": "stdout",
     "output_type": "stream",
     "text": [
      "285/285 [==============================] - 1s 4ms/step\n"
     ]
    }
   ],
   "source": [
    "test_X = test_X.reshape((test_X.shape[0], test_X.shape[1], n_features))\n",
    "pred_y = model.predict(test_X)"
   ]
  },
  {
   "cell_type": "code",
   "execution_count": 49,
   "metadata": {},
   "outputs": [
    {
     "name": "stdout",
     "output_type": "stream",
     "text": [
      "R2 score: 0.9498129583135507\n",
      "RMSE:  9.713121414944831\n"
     ]
    }
   ],
   "source": [
    "from sklearn.metrics import r2_score, mean_squared_error\n",
    "\n",
    "# Assuming you have your true values in 'y_true' and predicted values in 'y_pred'\n",
    "r2 = r2_score(test_y, pred_y)\n",
    "rmse = np.sqrt(mean_squared_error(test_y, pred_y))\n",
    "\n",
    "\n",
    "print(\"R2 score:\", r2)\n",
    "print(\"RMSE: \", rmse)"
   ]
  },
  {
   "attachments": {},
   "cell_type": "markdown",
   "metadata": {},
   "source": [
    "2 layer LSTM with 64 32 units"
   ]
  },
  {
   "cell_type": "code",
   "execution_count": 51,
   "metadata": {},
   "outputs": [],
   "source": [
    "train_X, train_y = split_sequence(train_data['sfu'], 27)\n",
    "# print(\"train split done\")\n",
    "test_X, test_y = split_sequence(np.array(test_data['sfu']), 27)"
   ]
  },
  {
   "cell_type": "code",
   "execution_count": 53,
   "metadata": {},
   "outputs": [
    {
     "name": "stdout",
     "output_type": "stream",
     "text": [
      "Epoch 1/50\n"
     ]
    },
    {
     "name": "stderr",
     "output_type": "stream",
     "text": [
      "c:\\Users\\Swaroop\\AppData\\Local\\Programs\\Python\\Python38\\lib\\site-packages\\keras\\optimizers\\optimizer_v2\\adam.py:114: UserWarning: The `lr` argument is deprecated, use `learning_rate` instead.\n",
      "  super().__init__(name, **kwargs)\n"
     ]
    },
    {
     "name": "stdout",
     "output_type": "stream",
     "text": [
      "558/558 [==============================] - 14s 21ms/step - loss: 15805.8418 - val_loss: 450.5784\n",
      "Epoch 2/50\n",
      "558/558 [==============================] - 12s 21ms/step - loss: 319.1072 - val_loss: 255.3444\n",
      "Epoch 3/50\n",
      "558/558 [==============================] - 12s 22ms/step - loss: 196.1938 - val_loss: 262.3435\n",
      "Epoch 4/50\n",
      "558/558 [==============================] - 10s 18ms/step - loss: 408.4316 - val_loss: 379.1798\n",
      "Epoch 5/50\n",
      "558/558 [==============================] - 10s 19ms/step - loss: 434.1399 - val_loss: 351.2359\n",
      "Epoch 6/50\n",
      "558/558 [==============================] - 10s 19ms/step - loss: 337.5121 - val_loss: 262.4095\n",
      "Epoch 7/50\n",
      "558/558 [==============================] - 11s 19ms/step - loss: 714.4034 - val_loss: 402.0923\n",
      "Epoch 8/50\n",
      "558/558 [==============================] - 12s 21ms/step - loss: 599.0800 - val_loss: 468.7356\n",
      "Epoch 9/50\n",
      "558/558 [==============================] - 11s 20ms/step - loss: 586.9237 - val_loss: 396.5370\n",
      "Epoch 10/50\n",
      "558/558 [==============================] - 11s 19ms/step - loss: 531.5410 - val_loss: 362.4037\n",
      "Epoch 11/50\n",
      "558/558 [==============================] - 11s 19ms/step - loss: 481.7991 - val_loss: 335.3112\n",
      "Epoch 12/50\n",
      "558/558 [==============================] - 10s 18ms/step - loss: 461.1942 - val_loss: 316.4439\n",
      "Epoch 13/50\n",
      "558/558 [==============================] - 11s 19ms/step - loss: 398.8496 - val_loss: 302.0464\n",
      "Epoch 14/50\n",
      "558/558 [==============================] - 11s 20ms/step - loss: 369.1407 - val_loss: 280.0127\n",
      "Epoch 15/50\n",
      "558/558 [==============================] - 11s 19ms/step - loss: 347.2525 - val_loss: 270.6182\n",
      "Epoch 16/50\n",
      "558/558 [==============================] - 11s 19ms/step - loss: 328.3892 - val_loss: 259.3163\n",
      "Epoch 17/50\n",
      "558/558 [==============================] - 12s 21ms/step - loss: 309.8723 - val_loss: 241.8510\n",
      "Epoch 18/50\n",
      "558/558 [==============================] - 10s 18ms/step - loss: 291.5658 - val_loss: 251.7606\n",
      "Epoch 19/50\n",
      "558/558 [==============================] - 10s 19ms/step - loss: 228.0810 - val_loss: 298.3357\n",
      "Epoch 20/50\n",
      "558/558 [==============================] - 11s 19ms/step - loss: 4198.8677 - val_loss: 445.6480\n",
      "Epoch 21/50\n",
      "558/558 [==============================] - 10s 19ms/step - loss: 643.8745 - val_loss: 424.2426\n",
      "Epoch 22/50\n",
      "558/558 [==============================] - 11s 20ms/step - loss: 590.5996 - val_loss: 423.5844\n",
      "Epoch 23/50\n",
      "558/558 [==============================] - 11s 20ms/step - loss: 578.5328 - val_loss: 418.2102\n",
      "Epoch 24/50\n",
      "558/558 [==============================] - 10s 18ms/step - loss: 575.4553 - val_loss: 407.7183\n",
      "Epoch 25/50\n",
      "558/558 [==============================] - 10s 18ms/step - loss: 563.7545 - val_loss: 358.2567\n",
      "Epoch 26/50\n",
      "558/558 [==============================] - 11s 20ms/step - loss: 385.2749 - val_loss: 194.2414\n",
      "Epoch 27/50\n",
      "558/558 [==============================] - 10s 19ms/step - loss: 423.0161 - val_loss: 256.3700\n",
      "Epoch 28/50\n",
      "558/558 [==============================] - 11s 19ms/step - loss: 347.0204 - val_loss: 215.2799\n",
      "Epoch 29/50\n",
      "558/558 [==============================] - 11s 19ms/step - loss: 318.0278 - val_loss: 241.9208\n",
      "Epoch 30/50\n",
      "558/558 [==============================] - 10s 18ms/step - loss: 258.9792 - val_loss: 204.4551\n",
      "Epoch 31/50\n",
      "558/558 [==============================] - 11s 19ms/step - loss: 249.9405 - val_loss: 265.5833\n",
      "Epoch 32/50\n",
      "558/558 [==============================] - 10s 18ms/step - loss: 245.8081 - val_loss: 177.7449\n",
      "Epoch 33/50\n",
      "558/558 [==============================] - 10s 19ms/step - loss: 202.2962 - val_loss: 167.2375\n",
      "Epoch 34/50\n",
      "558/558 [==============================] - 11s 19ms/step - loss: 171.2252 - val_loss: 140.8076\n",
      "Epoch 35/50\n",
      "558/558 [==============================] - 10s 18ms/step - loss: 158.8999 - val_loss: 133.1000\n",
      "Epoch 36/50\n",
      "558/558 [==============================] - 10s 19ms/step - loss: 143.7871 - val_loss: 223.0157\n",
      "Epoch 37/50\n",
      "558/558 [==============================] - 10s 19ms/step - loss: 128.0381 - val_loss: 116.0434\n",
      "Epoch 38/50\n",
      "558/558 [==============================] - 11s 20ms/step - loss: 142.2102 - val_loss: 130.8047\n",
      "Epoch 39/50\n",
      "558/558 [==============================] - 11s 19ms/step - loss: 116.7431 - val_loss: 107.2717\n",
      "Epoch 40/50\n",
      "558/558 [==============================] - 11s 20ms/step - loss: 98.6610 - val_loss: 104.5254\n",
      "Epoch 41/50\n",
      "558/558 [==============================] - 11s 19ms/step - loss: 87.3577 - val_loss: 157.6953\n",
      "Epoch 42/50\n",
      "558/558 [==============================] - 10s 19ms/step - loss: 75.3224 - val_loss: 85.0551\n",
      "Epoch 43/50\n",
      "558/558 [==============================] - 11s 19ms/step - loss: 63.2887 - val_loss: 92.0179\n",
      "Epoch 44/50\n",
      "558/558 [==============================] - 10s 19ms/step - loss: 58.0528 - val_loss: 92.0586\n",
      "Epoch 45/50\n",
      "558/558 [==============================] - 10s 18ms/step - loss: 45.8617 - val_loss: 71.9153\n",
      "Epoch 46/50\n",
      "558/558 [==============================] - 11s 20ms/step - loss: 39.8958 - val_loss: 83.2852\n",
      "Epoch 47/50\n",
      "558/558 [==============================] - 10s 19ms/step - loss: 38.0812 - val_loss: 68.3494\n",
      "Epoch 48/50\n",
      "558/558 [==============================] - 10s 18ms/step - loss: 34.1149 - val_loss: 71.3868\n",
      "Epoch 49/50\n",
      "558/558 [==============================] - 11s 19ms/step - loss: 32.0667 - val_loss: 73.5370\n",
      "Epoch 50/50\n",
      "558/558 [==============================] - 11s 19ms/step - loss: 30.5855 - val_loss: 64.6051\n"
     ]
    }
   ],
   "source": [
    "from keras.models import Sequential\n",
    "from keras.layers import LSTM, Dense\n",
    "from keras.optimizers import Adam\n",
    "from keras.callbacks import ModelCheckpoint\n",
    "\n",
    "n_features = 1\n",
    "train_X = train_X.reshape((train_X.shape[0], train_X.shape[1], n_features))\n",
    "\n",
    "# Define model\n",
    "model = Sequential()\n",
    "model.add(LSTM(64, activation='relu',return_sequences= True,  input_shape=(n_steps, n_features)))\n",
    "model.add(LSTM(32, activation='relu'))\n",
    "model.add(Dense(1))\n",
    "\n",
    "# Compile model with learning rate of 0.001\n",
    "optimizer = Adam(lr=0.001)\n",
    "model.compile(optimizer=optimizer, loss='mse')\n",
    "\n",
    "# Define checkpoint callback\n",
    "checkpoint = ModelCheckpoint('2LayerLSTM6432.h5', monitor='val_loss', save_best_only=True, save_weights_only=True)\n",
    "\n",
    "# Fit model with checkpointing\n",
    "history = model.fit(train_X, train_y, epochs=50, verbose=1, validation_data = (test_X, test_y), callbacks=[checkpoint])"
   ]
  },
  {
   "cell_type": "code",
   "execution_count": 54,
   "metadata": {},
   "outputs": [
    {
     "data": {
      "text/plain": [
       "<AxesSubplot: >"
      ]
     },
     "execution_count": 54,
     "metadata": {},
     "output_type": "execute_result"
    },
    {
     "data": {
      "image/png": "[encoded data removed]",
      "text/plain": [
       "<Figure size 800x500 with 1 Axes>"
      ]
     },
     "metadata": {},
     "output_type": "display_data"
    }
   ],
   "source": [
    "pd.DataFrame(history.history).plot(figsize=(8,5))"
   ]
  },
  {
   "cell_type": "code",
   "execution_count": 55,
   "metadata": {},
   "outputs": [
    {
     "name": "stdout",
     "output_type": "stream",
     "text": [
      "R2 score: 0.9498129583135507\n",
      "RMSE:  9.713121414944831\n"
     ]
    }
   ],
   "source": [
    "from sklearn.metrics import r2_score, mean_squared_error\n",
    "\n",
    "# Assuming you have your true values in 'y_true' and predicted values in 'y_pred'\n",
    "r2 = r2_score(test_y, pred_y)\n",
    "rmse = np.sqrt(mean_squared_error(test_y, pred_y))\n",
    "\n",
    "\n",
    "print(\"R2 score:\", r2)\n",
    "print(\"RMSE: \", rmse)"
   ]
  },
  {
   "attachments": {},
   "cell_type": "markdown",
   "metadata": {},
   "source": [
    "2 LAYERED LSTM WITH BOTH RETURN_SEQ = True"
   ]
  },
  {
   "cell_type": "code",
   "execution_count": 57,
   "metadata": {},
   "outputs": [],
   "source": [
    "train_X, train_y = split_sequence(train_data['sfu'], 27)\n",
    "# print(\"train split done\")\n",
    "test_X, test_y = split_sequence(np.array(test_data['sfu']), 27)"
   ]
  },
  {
   "cell_type": "code",
   "execution_count": 71,
   "metadata": {},
   "outputs": [
    {
     "name": "stdout",
     "output_type": "stream",
     "text": [
      "Epoch 1/50\n"
     ]
    },
    {
     "name": "stderr",
     "output_type": "stream",
     "text": [
      "c:\\Users\\Swaroop\\AppData\\Local\\Programs\\Python\\Python38\\lib\\site-packages\\keras\\optimizers\\optimizer_v2\\adam.py:114: UserWarning: The `lr` argument is deprecated, use `learning_rate` instead.\n",
      "  super().__init__(name, **kwargs)\n"
     ]
    },
    {
     "name": "stdout",
     "output_type": "stream",
     "text": [
      "322/558 [================>.............] - ETA: 5s - loss: 13928.7051"
     ]
    },
    {
     "ename": "KeyboardInterrupt",
     "evalue": "",
     "output_type": "error",
     "traceback": [
      "\u001b[1;31m---------------------------------------------------------------------------\u001b[0m",
      "\u001b[1;31mKeyboardInterrupt\u001b[0m                         Traceback (most recent call last)",
      "\u001b[1;32mc:\\Users\\Swaroop\\isro project\\experimenting.ipynb Cell 25\u001b[0m in \u001b[0;36m2\n\u001b[0;32m     <a href='vscode-notebook-cell:/c%3A/Users/Swaroop/isro%20project/experimenting.ipynb#X34sZmlsZQ%3D%3D?line=20'>21</a>\u001b[0m checkpoint \u001b[39m=\u001b[39m ModelCheckpoint(\u001b[39m'\u001b[39m\u001b[39m2LayerLSTM6432_v2.h5\u001b[39m\u001b[39m'\u001b[39m, monitor\u001b[39m=\u001b[39m\u001b[39m'\u001b[39m\u001b[39mval_loss\u001b[39m\u001b[39m'\u001b[39m, save_best_only\u001b[39m=\u001b[39m\u001b[39mTrue\u001b[39;00m, save_weights_only\u001b[39m=\u001b[39m\u001b[39mTrue\u001b[39;00m)\n\u001b[0;32m     <a href='vscode-notebook-cell:/c%3A/Users/Swaroop/isro%20project/experimenting.ipynb#X34sZmlsZQ%3D%3D?line=22'>23</a>\u001b[0m \u001b[39m# Fit model with checkpointing\u001b[39;00m\n\u001b[1;32m---> <a href='vscode-notebook-cell:/c%3A/Users/Swaroop/isro%20project/experimenting.ipynb#X34sZmlsZQ%3D%3D?line=23'>24</a>\u001b[0m history \u001b[39m=\u001b[39m model\u001b[39m.\u001b[39;49mfit(train_X, train_y, epochs\u001b[39m=\u001b[39;49m\u001b[39m50\u001b[39;49m, verbose\u001b[39m=\u001b[39;49m\u001b[39m1\u001b[39;49m, validation_data \u001b[39m=\u001b[39;49m (test_X, test_y), callbacks\u001b[39m=\u001b[39;49m[checkpoint])\n",
      "File \u001b[1;32mc:\\Users\\Swaroop\\AppData\\Local\\Programs\\Python\\Python38\\lib\\site-packages\\keras\\utils\\traceback_utils.py:65\u001b[0m, in \u001b[0;36mfilter_traceback.<locals>.error_handler\u001b[1;34m(*args, **kwargs)\u001b[0m\n\u001b[0;32m     63\u001b[0m filtered_tb \u001b[39m=\u001b[39m \u001b[39mNone\u001b[39;00m\n\u001b[0;32m     64\u001b[0m \u001b[39mtry\u001b[39;00m:\n\u001b[1;32m---> 65\u001b[0m     \u001b[39mreturn\u001b[39;00m fn(\u001b[39m*\u001b[39;49margs, \u001b[39m*\u001b[39;49m\u001b[39m*\u001b[39;49mkwargs)\n\u001b[0;32m     66\u001b[0m \u001b[39mexcept\u001b[39;00m \u001b[39mException\u001b[39;00m \u001b[39mas\u001b[39;00m e:\n\u001b[0;32m     67\u001b[0m     filtered_tb \u001b[39m=\u001b[39m _process_traceback_frames(e\u001b[39m.\u001b[39m__traceback__)\n",
      "File \u001b[1;32mc:\\Users\\Swaroop\\AppData\\Local\\Programs\\Python\\Python38\\lib\\site-packages\\keras\\engine\\training.py:1564\u001b[0m, in \u001b[0;36mModel.fit\u001b[1;34m(self, x, y, batch_size, epochs, verbose, callbacks, validation_split, validation_data, shuffle, class_weight, sample_weight, initial_epoch, steps_per_epoch, validation_steps, validation_batch_size, validation_freq, max_queue_size, workers, use_multiprocessing)\u001b[0m\n\u001b[0;32m   1556\u001b[0m \u001b[39mwith\u001b[39;00m tf\u001b[39m.\u001b[39mprofiler\u001b[39m.\u001b[39mexperimental\u001b[39m.\u001b[39mTrace(\n\u001b[0;32m   1557\u001b[0m     \u001b[39m\"\u001b[39m\u001b[39mtrain\u001b[39m\u001b[39m\"\u001b[39m,\n\u001b[0;32m   1558\u001b[0m     epoch_num\u001b[39m=\u001b[39mepoch,\n\u001b[1;32m   (...)\u001b[0m\n\u001b[0;32m   1561\u001b[0m     _r\u001b[39m=\u001b[39m\u001b[39m1\u001b[39m,\n\u001b[0;32m   1562\u001b[0m ):\n\u001b[0;32m   1563\u001b[0m     callbacks\u001b[39m.\u001b[39mon_train_batch_begin(step)\n\u001b[1;32m-> 1564\u001b[0m     tmp_logs \u001b[39m=\u001b[39m \u001b[39mself\u001b[39;49m\u001b[39m.\u001b[39;49mtrain_function(iterator)\n\u001b[0;32m   1565\u001b[0m     \u001b[39mif\u001b[39;00m data_handler\u001b[39m.\u001b[39mshould_sync:\n\u001b[0;32m   1566\u001b[0m         context\u001b[39m.\u001b[39masync_wait()\n",
      "File \u001b[1;32mc:\\Users\\Swaroop\\AppData\\Local\\Programs\\Python\\Python38\\lib\\site-packages\\tensorflow\\python\\util\\traceback_utils.py:150\u001b[0m, in \u001b[0;36mfilter_traceback.<locals>.error_handler\u001b[1;34m(*args, **kwargs)\u001b[0m\n\u001b[0;32m    148\u001b[0m filtered_tb \u001b[39m=\u001b[39m \u001b[39mNone\u001b[39;00m\n\u001b[0;32m    149\u001b[0m \u001b[39mtry\u001b[39;00m:\n\u001b[1;32m--> 150\u001b[0m   \u001b[39mreturn\u001b[39;00m fn(\u001b[39m*\u001b[39;49margs, \u001b[39m*\u001b[39;49m\u001b[39m*\u001b[39;49mkwargs)\n\u001b[0;32m    151\u001b[0m \u001b[39mexcept\u001b[39;00m \u001b[39mException\u001b[39;00m \u001b[39mas\u001b[39;00m e:\n\u001b[0;32m    152\u001b[0m   filtered_tb \u001b[39m=\u001b[39m _process_traceback_frames(e\u001b[39m.\u001b[39m__traceback__)\n",
      "File \u001b[1;32mc:\\Users\\Swaroop\\AppData\\Local\\Programs\\Python\\Python38\\lib\\site-packages\\tensorflow\\python\\eager\\def_function.py:915\u001b[0m, in \u001b[0;36mFunction.__call__\u001b[1;34m(self, *args, **kwds)\u001b[0m\n\u001b[0;32m    912\u001b[0m compiler \u001b[39m=\u001b[39m \u001b[39m\"\u001b[39m\u001b[39mxla\u001b[39m\u001b[39m\"\u001b[39m \u001b[39mif\u001b[39;00m \u001b[39mself\u001b[39m\u001b[39m.\u001b[39m_jit_compile \u001b[39melse\u001b[39;00m \u001b[39m\"\u001b[39m\u001b[39mnonXla\u001b[39m\u001b[39m\"\u001b[39m\n\u001b[0;32m    914\u001b[0m \u001b[39mwith\u001b[39;00m OptionalXlaContext(\u001b[39mself\u001b[39m\u001b[39m.\u001b[39m_jit_compile):\n\u001b[1;32m--> 915\u001b[0m   result \u001b[39m=\u001b[39m \u001b[39mself\u001b[39;49m\u001b[39m.\u001b[39;49m_call(\u001b[39m*\u001b[39;49margs, \u001b[39m*\u001b[39;49m\u001b[39m*\u001b[39;49mkwds)\n\u001b[0;32m    917\u001b[0m new_tracing_count \u001b[39m=\u001b[39m \u001b[39mself\u001b[39m\u001b[39m.\u001b[39mexperimental_get_tracing_count()\n\u001b[0;32m    918\u001b[0m without_tracing \u001b[39m=\u001b[39m (tracing_count \u001b[39m==\u001b[39m new_tracing_count)\n",
      "File \u001b[1;32mc:\\Users\\Swaroop\\AppData\\Local\\Programs\\Python\\Python38\\lib\\site-packages\\tensorflow\\python\\eager\\def_function.py:947\u001b[0m, in \u001b[0;36mFunction._call\u001b[1;34m(self, *args, **kwds)\u001b[0m\n\u001b[0;32m    944\u001b[0m   \u001b[39mself\u001b[39m\u001b[39m.\u001b[39m_lock\u001b[39m.\u001b[39mrelease()\n\u001b[0;32m    945\u001b[0m   \u001b[39m# In this case we have created variables on the first call, so we run the\u001b[39;00m\n\u001b[0;32m    946\u001b[0m   \u001b[39m# defunned version which is guaranteed to never create variables.\u001b[39;00m\n\u001b[1;32m--> 947\u001b[0m   \u001b[39mreturn\u001b[39;00m \u001b[39mself\u001b[39;49m\u001b[39m.\u001b[39;49m_stateless_fn(\u001b[39m*\u001b[39;49margs, \u001b[39m*\u001b[39;49m\u001b[39m*\u001b[39;49mkwds)  \u001b[39m# pylint: disable=not-callable\u001b[39;00m\n\u001b[0;32m    948\u001b[0m \u001b[39melif\u001b[39;00m \u001b[39mself\u001b[39m\u001b[39m.\u001b[39m_stateful_fn \u001b[39mis\u001b[39;00m \u001b[39mnot\u001b[39;00m \u001b[39mNone\u001b[39;00m:\n\u001b[0;32m    949\u001b[0m   \u001b[39m# Release the lock early so that multiple threads can perform the call\u001b[39;00m\n\u001b[0;32m    950\u001b[0m   \u001b[39m# in parallel.\u001b[39;00m\n\u001b[0;32m    951\u001b[0m   \u001b[39mself\u001b[39m\u001b[39m.\u001b[39m_lock\u001b[39m.\u001b[39mrelease()\n",
      "File \u001b[1;32mc:\\Users\\Swaroop\\AppData\\Local\\Programs\\Python\\Python38\\lib\\site-packages\\tensorflow\\python\\eager\\function.py:2496\u001b[0m, in \u001b[0;36mFunction.__call__\u001b[1;34m(self, *args, **kwargs)\u001b[0m\n\u001b[0;32m   2493\u001b[0m \u001b[39mwith\u001b[39;00m \u001b[39mself\u001b[39m\u001b[39m.\u001b[39m_lock:\n\u001b[0;32m   2494\u001b[0m   (graph_function,\n\u001b[0;32m   2495\u001b[0m    filtered_flat_args) \u001b[39m=\u001b[39m \u001b[39mself\u001b[39m\u001b[39m.\u001b[39m_maybe_define_function(args, kwargs)\n\u001b[1;32m-> 2496\u001b[0m \u001b[39mreturn\u001b[39;00m graph_function\u001b[39m.\u001b[39;49m_call_flat(\n\u001b[0;32m   2497\u001b[0m     filtered_flat_args, captured_inputs\u001b[39m=\u001b[39;49mgraph_function\u001b[39m.\u001b[39;49mcaptured_inputs)\n",
      "File \u001b[1;32mc:\\Users\\Swaroop\\AppData\\Local\\Programs\\Python\\Python38\\lib\\site-packages\\tensorflow\\python\\eager\\function.py:1862\u001b[0m, in \u001b[0;36mConcreteFunction._call_flat\u001b[1;34m(self, args, captured_inputs, cancellation_manager)\u001b[0m\n\u001b[0;32m   1858\u001b[0m possible_gradient_type \u001b[39m=\u001b[39m gradients_util\u001b[39m.\u001b[39mPossibleTapeGradientTypes(args)\n\u001b[0;32m   1859\u001b[0m \u001b[39mif\u001b[39;00m (possible_gradient_type \u001b[39m==\u001b[39m gradients_util\u001b[39m.\u001b[39mPOSSIBLE_GRADIENT_TYPES_NONE\n\u001b[0;32m   1860\u001b[0m     \u001b[39mand\u001b[39;00m executing_eagerly):\n\u001b[0;32m   1861\u001b[0m   \u001b[39m# No tape is watching; skip to running the function.\u001b[39;00m\n\u001b[1;32m-> 1862\u001b[0m   \u001b[39mreturn\u001b[39;00m \u001b[39mself\u001b[39m\u001b[39m.\u001b[39m_build_call_outputs(\u001b[39mself\u001b[39;49m\u001b[39m.\u001b[39;49m_inference_function\u001b[39m.\u001b[39;49mcall(\n\u001b[0;32m   1863\u001b[0m       ctx, args, cancellation_manager\u001b[39m=\u001b[39;49mcancellation_manager))\n\u001b[0;32m   1864\u001b[0m forward_backward \u001b[39m=\u001b[39m \u001b[39mself\u001b[39m\u001b[39m.\u001b[39m_select_forward_and_backward_functions(\n\u001b[0;32m   1865\u001b[0m     args,\n\u001b[0;32m   1866\u001b[0m     possible_gradient_type,\n\u001b[0;32m   1867\u001b[0m     executing_eagerly)\n\u001b[0;32m   1868\u001b[0m forward_function, args_with_tangents \u001b[39m=\u001b[39m forward_backward\u001b[39m.\u001b[39mforward()\n",
      "File \u001b[1;32mc:\\Users\\Swaroop\\AppData\\Local\\Programs\\Python\\Python38\\lib\\site-packages\\tensorflow\\python\\eager\\function.py:499\u001b[0m, in \u001b[0;36m_EagerDefinedFunction.call\u001b[1;34m(self, ctx, args, cancellation_manager)\u001b[0m\n\u001b[0;32m    497\u001b[0m \u001b[39mwith\u001b[39;00m _InterpolateFunctionError(\u001b[39mself\u001b[39m):\n\u001b[0;32m    498\u001b[0m   \u001b[39mif\u001b[39;00m cancellation_manager \u001b[39mis\u001b[39;00m \u001b[39mNone\u001b[39;00m:\n\u001b[1;32m--> 499\u001b[0m     outputs \u001b[39m=\u001b[39m execute\u001b[39m.\u001b[39;49mexecute(\n\u001b[0;32m    500\u001b[0m         \u001b[39mstr\u001b[39;49m(\u001b[39mself\u001b[39;49m\u001b[39m.\u001b[39;49msignature\u001b[39m.\u001b[39;49mname),\n\u001b[0;32m    501\u001b[0m         num_outputs\u001b[39m=\u001b[39;49m\u001b[39mself\u001b[39;49m\u001b[39m.\u001b[39;49m_num_outputs,\n\u001b[0;32m    502\u001b[0m         inputs\u001b[39m=\u001b[39;49margs,\n\u001b[0;32m    503\u001b[0m         attrs\u001b[39m=\u001b[39;49mattrs,\n\u001b[0;32m    504\u001b[0m         ctx\u001b[39m=\u001b[39;49mctx)\n\u001b[0;32m    505\u001b[0m   \u001b[39melse\u001b[39;00m:\n\u001b[0;32m    506\u001b[0m     outputs \u001b[39m=\u001b[39m execute\u001b[39m.\u001b[39mexecute_with_cancellation(\n\u001b[0;32m    507\u001b[0m         \u001b[39mstr\u001b[39m(\u001b[39mself\u001b[39m\u001b[39m.\u001b[39msignature\u001b[39m.\u001b[39mname),\n\u001b[0;32m    508\u001b[0m         num_outputs\u001b[39m=\u001b[39m\u001b[39mself\u001b[39m\u001b[39m.\u001b[39m_num_outputs,\n\u001b[1;32m   (...)\u001b[0m\n\u001b[0;32m    511\u001b[0m         ctx\u001b[39m=\u001b[39mctx,\n\u001b[0;32m    512\u001b[0m         cancellation_manager\u001b[39m=\u001b[39mcancellation_manager)\n",
      "File \u001b[1;32mc:\\Users\\Swaroop\\AppData\\Local\\Programs\\Python\\Python38\\lib\\site-packages\\tensorflow\\python\\eager\\execute.py:54\u001b[0m, in \u001b[0;36mquick_execute\u001b[1;34m(op_name, num_outputs, inputs, attrs, ctx, name)\u001b[0m\n\u001b[0;32m     52\u001b[0m \u001b[39mtry\u001b[39;00m:\n\u001b[0;32m     53\u001b[0m   ctx\u001b[39m.\u001b[39mensure_initialized()\n\u001b[1;32m---> 54\u001b[0m   tensors \u001b[39m=\u001b[39m pywrap_tfe\u001b[39m.\u001b[39;49mTFE_Py_Execute(ctx\u001b[39m.\u001b[39;49m_handle, device_name, op_name,\n\u001b[0;32m     55\u001b[0m                                       inputs, attrs, num_outputs)\n\u001b[0;32m     56\u001b[0m \u001b[39mexcept\u001b[39;00m core\u001b[39m.\u001b[39m_NotOkStatusException \u001b[39mas\u001b[39;00m e:\n\u001b[0;32m     57\u001b[0m   \u001b[39mif\u001b[39;00m name \u001b[39mis\u001b[39;00m \u001b[39mnot\u001b[39;00m \u001b[39mNone\u001b[39;00m:\n",
      "\u001b[1;31mKeyboardInterrupt\u001b[0m: "
     ]
    }
   ],
   "source": [
    "from keras.models import Sequential\n",
    "from keras.layers import LSTM, Dense\n",
    "from keras.optimizers import Adam\n",
    "from keras.callbacks import ModelCheckpoint\n",
    "\n",
    "n_features = 1\n",
    "train_X = train_X.reshape((train_X.shape[0], train_X.shape[1], n_features))\n",
    "\n",
    "# Define model\n",
    "model = Sequential()\n",
    "model.add(LSTM(64, activation='relu', return_sequences= True,  input_shape=(n_steps, n_features)))\n",
    "model.add(LSTM(32, activation='relu', return_sequences=True))\n",
    "model.add(Dense(1))\n",
    "\n",
    "# Compile model with learning rate of 0.001\n",
    "optimizer = Adam(lr=0.001)\n",
    "model.compile(optimizer=optimizer, loss='mse')\n",
    "\n",
    "# Define checkpoint callback\n",
    "checkpoint = ModelCheckpoint('2LayerLSTM6432_v2.h5', monitor='val_loss', save_best_only=True, save_weights_only=True)\n",
    "\n",
    "# Fit model with checkpointing\n",
    "history = model.fit(train_X, train_y, epochs=50, verbose=1, validation_data = (test_X, test_y), callbacks=[checkpoint])"
   ]
  },
  {
   "cell_type": "code",
   "execution_count": 64,
   "metadata": {},
   "outputs": [
    {
     "name": "stdout",
     "output_type": "stream",
     "text": [
      "285/285 [==============================] - 2s 6ms/step\n"
     ]
    }
   ],
   "source": [
    "test_X = test_X.reshape((test_X.shape[0], test_X.shape[1], n_features))\n",
    "pred_y = model.predict(test_X)"
   ]
  },
  {
   "cell_type": "code",
   "execution_count": 63,
   "metadata": {},
   "outputs": [
    {
     "ename": "ValueError",
     "evalue": "Found array with dim 3. None expected <= 2.",
     "output_type": "error",
     "traceback": [
      "\u001b[1;31m---------------------------------------------------------------------------\u001b[0m",
      "\u001b[1;31mValueError\u001b[0m                                Traceback (most recent call last)",
      "\u001b[1;32mc:\\Users\\Swaroop\\isro project\\experimenting.ipynb Cell 27\u001b[0m in \u001b[0;36m4\n\u001b[0;32m      <a href='vscode-notebook-cell:/c%3A/Users/Swaroop/isro%20project/experimenting.ipynb#X36sZmlsZQ%3D%3D?line=0'>1</a>\u001b[0m \u001b[39mfrom\u001b[39;00m \u001b[39msklearn\u001b[39;00m\u001b[39m.\u001b[39;00m\u001b[39mmetrics\u001b[39;00m \u001b[39mimport\u001b[39;00m r2_score, mean_squared_error\n\u001b[0;32m      <a href='vscode-notebook-cell:/c%3A/Users/Swaroop/isro%20project/experimenting.ipynb#X36sZmlsZQ%3D%3D?line=2'>3</a>\u001b[0m \u001b[39m# Assuming you have your true values in 'y_true' and predicted values in 'y_pred'\u001b[39;00m\n\u001b[1;32m----> <a href='vscode-notebook-cell:/c%3A/Users/Swaroop/isro%20project/experimenting.ipynb#X36sZmlsZQ%3D%3D?line=3'>4</a>\u001b[0m r2 \u001b[39m=\u001b[39m r2_score(test_y, pred_y)\n\u001b[0;32m      <a href='vscode-notebook-cell:/c%3A/Users/Swaroop/isro%20project/experimenting.ipynb#X36sZmlsZQ%3D%3D?line=4'>5</a>\u001b[0m rmse \u001b[39m=\u001b[39m np\u001b[39m.\u001b[39msqrt(mean_squared_error(test_y, pred_y))\n\u001b[0;32m      <a href='vscode-notebook-cell:/c%3A/Users/Swaroop/isro%20project/experimenting.ipynb#X36sZmlsZQ%3D%3D?line=7'>8</a>\u001b[0m \u001b[39mprint\u001b[39m(\u001b[39m\"\u001b[39m\u001b[39mR2 score:\u001b[39m\u001b[39m\"\u001b[39m, r2)\n",
      "File \u001b[1;32mc:\\Users\\Swaroop\\AppData\\Local\\Programs\\Python\\Python38\\lib\\site-packages\\sklearn\\metrics\\_regression.py:911\u001b[0m, in \u001b[0;36mr2_score\u001b[1;34m(y_true, y_pred, sample_weight, multioutput, force_finite)\u001b[0m\n\u001b[0;32m    784\u001b[0m \u001b[39mdef\u001b[39;00m \u001b[39mr2_score\u001b[39m(\n\u001b[0;32m    785\u001b[0m     y_true,\n\u001b[0;32m    786\u001b[0m     y_pred,\n\u001b[1;32m   (...)\u001b[0m\n\u001b[0;32m    790\u001b[0m     force_finite\u001b[39m=\u001b[39m\u001b[39mTrue\u001b[39;00m,\n\u001b[0;32m    791\u001b[0m ):\n\u001b[0;32m    792\u001b[0m     \u001b[39m\"\"\":math:`R^2` (coefficient of determination) regression score function.\u001b[39;00m\n\u001b[0;32m    793\u001b[0m \n\u001b[0;32m    794\u001b[0m \u001b[39m    Best possible score is 1.0 and it can be negative (because the\u001b[39;00m\n\u001b[1;32m   (...)\u001b[0m\n\u001b[0;32m    909\u001b[0m \u001b[39m    -inf\u001b[39;00m\n\u001b[0;32m    910\u001b[0m \u001b[39m    \"\"\"\u001b[39;00m\n\u001b[1;32m--> 911\u001b[0m     y_type, y_true, y_pred, multioutput \u001b[39m=\u001b[39m _check_reg_targets(\n\u001b[0;32m    912\u001b[0m         y_true, y_pred, multioutput\n\u001b[0;32m    913\u001b[0m     )\n\u001b[0;32m    914\u001b[0m     check_consistent_length(y_true, y_pred, sample_weight)\n\u001b[0;32m    916\u001b[0m     \u001b[39mif\u001b[39;00m _num_samples(y_pred) \u001b[39m<\u001b[39m \u001b[39m2\u001b[39m:\n",
      "File \u001b[1;32mc:\\Users\\Swaroop\\AppData\\Local\\Programs\\Python\\Python38\\lib\\site-packages\\sklearn\\metrics\\_regression.py:102\u001b[0m, in \u001b[0;36m_check_reg_targets\u001b[1;34m(y_true, y_pred, multioutput, dtype)\u001b[0m\n\u001b[0;32m    100\u001b[0m check_consistent_length(y_true, y_pred)\n\u001b[0;32m    101\u001b[0m y_true \u001b[39m=\u001b[39m check_array(y_true, ensure_2d\u001b[39m=\u001b[39m\u001b[39mFalse\u001b[39;00m, dtype\u001b[39m=\u001b[39mdtype)\n\u001b[1;32m--> 102\u001b[0m y_pred \u001b[39m=\u001b[39m check_array(y_pred, ensure_2d\u001b[39m=\u001b[39;49m\u001b[39mFalse\u001b[39;49;00m, dtype\u001b[39m=\u001b[39;49mdtype)\n\u001b[0;32m    104\u001b[0m \u001b[39mif\u001b[39;00m y_true\u001b[39m.\u001b[39mndim \u001b[39m==\u001b[39m \u001b[39m1\u001b[39m:\n\u001b[0;32m    105\u001b[0m     y_true \u001b[39m=\u001b[39m y_true\u001b[39m.\u001b[39mreshape((\u001b[39m-\u001b[39m\u001b[39m1\u001b[39m, \u001b[39m1\u001b[39m))\n",
      "File \u001b[1;32mc:\\Users\\Swaroop\\AppData\\Local\\Programs\\Python\\Python38\\lib\\site-packages\\sklearn\\utils\\validation.py:893\u001b[0m, in \u001b[0;36mcheck_array\u001b[1;34m(array, accept_sparse, accept_large_sparse, dtype, order, copy, force_all_finite, ensure_2d, allow_nd, ensure_min_samples, ensure_min_features, estimator, input_name)\u001b[0m\n\u001b[0;32m    887\u001b[0m     \u001b[39mraise\u001b[39;00m \u001b[39mValueError\u001b[39;00m(\n\u001b[0;32m    888\u001b[0m         \u001b[39m\"\u001b[39m\u001b[39mdtype=\u001b[39m\u001b[39m'\u001b[39m\u001b[39mnumeric\u001b[39m\u001b[39m'\u001b[39m\u001b[39m is not compatible with arrays of bytes/strings.\u001b[39m\u001b[39m\"\u001b[39m\n\u001b[0;32m    889\u001b[0m         \u001b[39m\"\u001b[39m\u001b[39mConvert your data to numeric values explicitly instead.\u001b[39m\u001b[39m\"\u001b[39m\n\u001b[0;32m    890\u001b[0m     )\n\u001b[0;32m    892\u001b[0m \u001b[39mif\u001b[39;00m \u001b[39mnot\u001b[39;00m allow_nd \u001b[39mand\u001b[39;00m array\u001b[39m.\u001b[39mndim \u001b[39m>\u001b[39m\u001b[39m=\u001b[39m \u001b[39m3\u001b[39m:\n\u001b[1;32m--> 893\u001b[0m     \u001b[39mraise\u001b[39;00m \u001b[39mValueError\u001b[39;00m(\n\u001b[0;32m    894\u001b[0m         \u001b[39m\"\u001b[39m\u001b[39mFound array with dim \u001b[39m\u001b[39m%d\u001b[39;00m\u001b[39m. \u001b[39m\u001b[39m%s\u001b[39;00m\u001b[39m expected <= 2.\u001b[39m\u001b[39m\"\u001b[39m\n\u001b[0;32m    895\u001b[0m         \u001b[39m%\u001b[39m (array\u001b[39m.\u001b[39mndim, estimator_name)\n\u001b[0;32m    896\u001b[0m     )\n\u001b[0;32m    898\u001b[0m \u001b[39mif\u001b[39;00m force_all_finite:\n\u001b[0;32m    899\u001b[0m     _assert_all_finite(\n\u001b[0;32m    900\u001b[0m         array,\n\u001b[0;32m    901\u001b[0m         input_name\u001b[39m=\u001b[39minput_name,\n\u001b[0;32m    902\u001b[0m         estimator_name\u001b[39m=\u001b[39mestimator_name,\n\u001b[0;32m    903\u001b[0m         allow_nan\u001b[39m=\u001b[39mforce_all_finite \u001b[39m==\u001b[39m \u001b[39m\"\u001b[39m\u001b[39mallow-nan\u001b[39m\u001b[39m\"\u001b[39m,\n\u001b[0;32m    904\u001b[0m     )\n",
      "\u001b[1;31mValueError\u001b[0m: Found array with dim 3. None expected <= 2."
     ]
    }
   ],
   "source": [
    "from sklearn.metrics import r2_score, mean_squared_error\n",
    "\n",
    "# Assuming you have your true values in 'y_true' and predicted values in 'y_pred'\n",
    "r2 = r2_score(test_y, pred_y)\n",
    "rmse = np.sqrt(mean_squared_error(test_y, pred_y))\n",
    "\n",
    "\n",
    "print(\"R2 score:\", r2)\n",
    "print(\"RMSE: \", rmse)"
   ]
  },
  {
   "attachments": {},
   "cell_type": "markdown",
   "metadata": {},
   "source": [
    "3 Layered LSTM "
   ]
  },
  {
   "cell_type": "code",
   "execution_count": null,
   "metadata": {},
   "outputs": [],
   "source": [
    "train_X, train_y = split_sequence(train_data['sfu'], 27)\n",
    "# print(\"train split done\")\n",
    "test_X, test_y = split_sequence(np.array(test_data['sfu']), 27)"
   ]
  },
  {
   "cell_type": "code",
   "execution_count": 72,
   "metadata": {},
   "outputs": [
    {
     "name": "stdout",
     "output_type": "stream",
     "text": [
      "Epoch 1/50\n"
     ]
    },
    {
     "name": "stderr",
     "output_type": "stream",
     "text": [
      "c:\\Users\\Swaroop\\AppData\\Local\\Programs\\Python\\Python38\\lib\\site-packages\\keras\\optimizers\\optimizer_v2\\adam.py:114: UserWarning: The `lr` argument is deprecated, use `learning_rate` instead.\n",
      "  super().__init__(name, **kwargs)\n"
     ]
    },
    {
     "name": "stdout",
     "output_type": "stream",
     "text": [
      "558/558 [==============================] - 20s 29ms/step - loss: 5037.4058 - val_loss: 681.5106\n",
      "Epoch 2/50\n",
      "558/558 [==============================] - 15s 27ms/step - loss: 1514.5847 - val_loss: 682.6987\n",
      "Epoch 3/50\n",
      "558/558 [==============================] - 14s 26ms/step - loss: 936.0818 - val_loss: 468.7449\n",
      "Epoch 4/50\n",
      "558/558 [==============================] - 14s 26ms/step - loss: 626.7081 - val_loss: 387.4768\n",
      "Epoch 5/50\n",
      "558/558 [==============================] - 14s 26ms/step - loss: 383.7231 - val_loss: 317.8738\n",
      "Epoch 6/50\n",
      "558/558 [==============================] - 14s 26ms/step - loss: 386.9725 - val_loss: 274.4425\n",
      "Epoch 7/50\n",
      "558/558 [==============================] - 15s 26ms/step - loss: 285.8145 - val_loss: 242.0559\n",
      "Epoch 8/50\n",
      "558/558 [==============================] - 14s 26ms/step - loss: 240.5510 - val_loss: 210.7982\n",
      "Epoch 9/50\n",
      "558/558 [==============================] - 14s 26ms/step - loss: 245.4944 - val_loss: 193.7261\n",
      "Epoch 10/50\n",
      "558/558 [==============================] - 14s 25ms/step - loss: 249.7935 - val_loss: 202.5953\n",
      "Epoch 11/50\n",
      "558/558 [==============================] - 14s 25ms/step - loss: 217.5194 - val_loss: 299.5486\n",
      "Epoch 12/50\n",
      "558/558 [==============================] - 14s 25ms/step - loss: 184.9106 - val_loss: 161.4923\n",
      "Epoch 13/50\n",
      "558/558 [==============================] - 14s 25ms/step - loss: 180.3705 - val_loss: 118.3829\n",
      "Epoch 14/50\n",
      "558/558 [==============================] - 14s 26ms/step - loss: 94.9231 - val_loss: 81.9326\n",
      "Epoch 15/50\n",
      "558/558 [==============================] - 15s 26ms/step - loss: 68.2060 - val_loss: 83.6615\n",
      "Epoch 16/50\n",
      "558/558 [==============================] - 15s 26ms/step - loss: 69.1412 - val_loss: 77.8580\n",
      "Epoch 17/50\n",
      "558/558 [==============================] - 15s 28ms/step - loss: 61.6431 - val_loss: 70.7641\n",
      "Epoch 18/50\n",
      "558/558 [==============================] - 14s 26ms/step - loss: 59.5636 - val_loss: 117.7047\n",
      "Epoch 19/50\n",
      "558/558 [==============================] - 14s 26ms/step - loss: 69.0589 - val_loss: 67.1189\n",
      "Epoch 20/50\n",
      "558/558 [==============================] - 14s 26ms/step - loss: 59.0989 - val_loss: 68.3954\n",
      "Epoch 21/50\n",
      "558/558 [==============================] - 14s 26ms/step - loss: 57.5506 - val_loss: 83.3859\n",
      "Epoch 22/50\n",
      "558/558 [==============================] - 14s 26ms/step - loss: 281.9267 - val_loss: 2104.4109\n",
      "Epoch 23/50\n",
      "558/558 [==============================] - 14s 26ms/step - loss: 16138420.0000 - val_loss: 903.1770\n",
      "Epoch 24/50\n",
      "558/558 [==============================] - 14s 26ms/step - loss: 62675.1641 - val_loss: 526.0665\n",
      "Epoch 25/50\n",
      "558/558 [==============================] - 14s 26ms/step - loss: 646.5074 - val_loss: 554.5016\n",
      "Epoch 26/50\n",
      "558/558 [==============================] - 14s 26ms/step - loss: 640.2762 - val_loss: 522.3641\n",
      "Epoch 27/50\n",
      "558/558 [==============================] - 14s 26ms/step - loss: 639.5883 - val_loss: 519.1286\n",
      "Epoch 28/50\n",
      "558/558 [==============================] - 15s 26ms/step - loss: 637.1215 - val_loss: 521.0959\n",
      "Epoch 29/50\n",
      "558/558 [==============================] - 14s 26ms/step - loss: 643.1787 - val_loss: 496.3823\n",
      "Epoch 30/50\n",
      "558/558 [==============================] - 15s 26ms/step - loss: 629.2119 - val_loss: 475.9409\n",
      "Epoch 31/50\n",
      "558/558 [==============================] - 14s 26ms/step - loss: 628.4250 - val_loss: 515.3339\n",
      "Epoch 32/50\n",
      "558/558 [==============================] - 14s 26ms/step - loss: 632.0573 - val_loss: 540.1255\n",
      "Epoch 33/50\n",
      "558/558 [==============================] - 14s 26ms/step - loss: 615.8679 - val_loss: 517.8492\n",
      "Epoch 34/50\n",
      "558/558 [==============================] - 14s 26ms/step - loss: 618.7619 - val_loss: 492.5758\n",
      "Epoch 35/50\n",
      "558/558 [==============================] - 14s 26ms/step - loss: 612.4830 - val_loss: 514.9985\n",
      "Epoch 36/50\n",
      "558/558 [==============================] - 14s 26ms/step - loss: 609.6292 - val_loss: 533.1710\n",
      "Epoch 37/50\n",
      "558/558 [==============================] - 14s 26ms/step - loss: 611.4969 - val_loss: 497.1972\n",
      "Epoch 38/50\n",
      "558/558 [==============================] - 14s 26ms/step - loss: 605.9907 - val_loss: 491.9130\n",
      "Epoch 39/50\n",
      "558/558 [==============================] - 14s 26ms/step - loss: 610.7610 - val_loss: 474.6167\n",
      "Epoch 40/50\n",
      "558/558 [==============================] - 15s 26ms/step - loss: 606.4099 - val_loss: 461.0982\n",
      "Epoch 41/50\n",
      "558/558 [==============================] - 15s 27ms/step - loss: 602.6472 - val_loss: 490.3281\n",
      "Epoch 42/50\n",
      "558/558 [==============================] - 20s 35ms/step - loss: 603.7759 - val_loss: 469.2826\n",
      "Epoch 43/50\n",
      "558/558 [==============================] - 15s 27ms/step - loss: 605.4609 - val_loss: 481.4398\n",
      "Epoch 44/50\n",
      "558/558 [==============================] - 16s 29ms/step - loss: 605.5042 - val_loss: 453.6268\n",
      "Epoch 45/50\n",
      "558/558 [==============================] - 15s 28ms/step - loss: 600.0900 - val_loss: 466.9851\n",
      "Epoch 46/50\n",
      "558/558 [==============================] - 16s 28ms/step - loss: 624.3661 - val_loss: 470.1927\n",
      "Epoch 47/50\n",
      "558/558 [==============================] - 16s 28ms/step - loss: 601.4359 - val_loss: 477.0942\n",
      "Epoch 48/50\n",
      "558/558 [==============================] - 16s 29ms/step - loss: 596.4681 - val_loss: 486.6483\n",
      "Epoch 49/50\n",
      "558/558 [==============================] - 15s 26ms/step - loss: 605.5397 - val_loss: 479.2662\n",
      "Epoch 50/50\n",
      "558/558 [==============================] - 15s 27ms/step - loss: 597.6083 - val_loss: 528.3000\n"
     ]
    }
   ],
   "source": [
    "from keras.models import Sequential\n",
    "from keras.layers import LSTM, Dense\n",
    "from keras.optimizers import Adam\n",
    "from keras.callbacks import ModelCheckpoint\n",
    "\n",
    "n_features = 1\n",
    "train_X = train_X.reshape((train_X.shape[0], train_X.shape[1], n_features))\n",
    "\n",
    "# Define model\n",
    "model = Sequential()\n",
    "model.add(LSTM(64, activation='relu', return_sequences= True,  input_shape=(n_steps, n_features)))\n",
    "model.add(LSTM(32, activation='relu', return_sequences=True))\n",
    "model.add(LSTM(16, activation='relu'))\n",
    "model.add(Dense(1))\n",
    "\n",
    "# Compile model with learning rate of 0.001\n",
    "optimizer = Adam(lr=0.001)\n",
    "model.compile(optimizer=optimizer, loss='mse')\n",
    "\n",
    "# Define checkpoint callback\n",
    "checkpoint = ModelCheckpoint('3LayerLSTM643216.h5', monitor='val_loss', save_best_only=True, save_weights_only=True)\n",
    "\n",
    "# Fit model with checkpointing\n",
    "history = model.fit(train_X, train_y, epochs=50, verbose=1, validation_data = (test_X, test_y), callbacks=[checkpoint])"
   ]
  },
  {
   "cell_type": "code",
   "execution_count": 75,
   "metadata": {},
   "outputs": [
    {
     "data": {
      "text/plain": [
       "<AxesSubplot: >"
      ]
     },
     "execution_count": 75,
     "metadata": {},
     "output_type": "execute_result"
    },
    {
     "data": {
      "image/png": "[encoded data removed]",
      "text/plain": [
       "<Figure size 800x500 with 1 Axes>"
      ]
     },
     "metadata": {},
     "output_type": "display_data"
    }
   ],
   "source": [
    "pd.DataFrame(history.history).plot(figsize=(8,5))"
   ]
  },
  {
   "cell_type": "code",
   "execution_count": 73,
   "metadata": {},
   "outputs": [
    {
     "name": "stdout",
     "output_type": "stream",
     "text": [
      "285/285 [==============================] - 3s 8ms/step\n"
     ]
    }
   ],
   "source": [
    "test_X = test_X.reshape((test_X.shape[0], test_X.shape[1], n_features))\n",
    "pred_y = model.predict(test_X)"
   ]
  },
  {
   "cell_type": "code",
   "execution_count": 74,
   "metadata": {},
   "outputs": [
    {
     "name": "stdout",
     "output_type": "stream",
     "text": [
      "R2 score: 0.7189686860114571\n",
      "RMSE:  22.98478131989393\n"
     ]
    }
   ],
   "source": [
    "from sklearn.metrics import r2_score, mean_squared_error\n",
    "\n",
    "# Assuming you have your true values in 'y_true' and predicted values in 'y_pred'\n",
    "r2 = r2_score(test_y, pred_y)\n",
    "rmse = np.sqrt(mean_squared_error(test_y, pred_y))\n",
    "\n",
    "\n",
    "print(\"R2 score:\", r2)\n",
    "print(\"RMSE: \", rmse)"
   ]
  },
  {
   "attachments": {},
   "cell_type": "markdown",
   "metadata": {},
   "source": [
    "CNN LSTM MODEL"
   ]
  },
  {
   "cell_type": "code",
   "execution_count": 76,
   "metadata": {},
   "outputs": [],
   "source": [
    "train_X, train_y = split_sequence(train_data['sfu'], 27)\n",
    "# print(\"train split done\")\n",
    "test_X, test_y = split_sequence(np.array(test_data['sfu']), 27)"
   ]
  },
  {
   "cell_type": "code",
   "execution_count": 77,
   "metadata": {},
   "outputs": [
    {
     "name": "stdout",
     "output_type": "stream",
     "text": [
      "Train set shape (17826, 1, 27, 1)\n"
     ]
    }
   ],
   "source": [
    "subsequences = 1\n",
    "timesteps = train_X.shape[1]//subsequences\n",
    "train_X = train_X.reshape((train_X.shape[0], subsequences, timesteps, 1))\n",
    "test_X = test_X.reshape((test_X.shape[0], subsequences, timesteps, 1))\n",
    "print('Train set shape', train_X.shape)"
   ]
  },
  {
   "cell_type": "code",
   "execution_count": 83,
   "metadata": {},
   "outputs": [
    {
     "name": "stdout",
     "output_type": "stream",
     "text": [
      "Epoch 1/50\n",
      "558/558 [==============================] - 5s 6ms/step - loss: 487.2914 - val_loss: 199.7863\n",
      "Epoch 2/50\n",
      "558/558 [==============================] - 3s 5ms/step - loss: 157.0451 - val_loss: 164.0298\n",
      "Epoch 3/50\n",
      "558/558 [==============================] - 3s 5ms/step - loss: 123.7813 - val_loss: 169.7198\n",
      "Epoch 4/50\n",
      "558/558 [==============================] - 2s 4ms/step - loss: 114.9194 - val_loss: 171.2453\n",
      "Epoch 5/50\n",
      "558/558 [==============================] - 2s 4ms/step - loss: 110.6642 - val_loss: 178.3033\n",
      "Epoch 6/50\n",
      "558/558 [==============================] - 2s 4ms/step - loss: 105.5520 - val_loss: 179.7160\n",
      "Epoch 7/50\n",
      "558/558 [==============================] - 2s 4ms/step - loss: 108.0467 - val_loss: 176.8785\n",
      "Epoch 8/50\n",
      "558/558 [==============================] - 3s 5ms/step - loss: 103.4055 - val_loss: 183.7424\n",
      "Epoch 9/50\n",
      "558/558 [==============================] - 2s 4ms/step - loss: 101.6039 - val_loss: 242.0047\n",
      "Epoch 10/50\n",
      "558/558 [==============================] - 3s 5ms/step - loss: 101.2677 - val_loss: 186.8869\n",
      "Epoch 11/50\n",
      "558/558 [==============================] - 3s 5ms/step - loss: 98.1403 - val_loss: 423.1257\n",
      "Epoch 12/50\n",
      "558/558 [==============================] - 3s 5ms/step - loss: 107.3196 - val_loss: 188.7824\n",
      "Epoch 13/50\n",
      "558/558 [==============================] - 3s 5ms/step - loss: 97.4430 - val_loss: 201.1475\n",
      "Epoch 14/50\n",
      "558/558 [==============================] - 3s 5ms/step - loss: 96.3994 - val_loss: 202.6764\n",
      "Epoch 15/50\n",
      "558/558 [==============================] - 3s 5ms/step - loss: 95.9195 - val_loss: 194.4377\n",
      "Epoch 16/50\n",
      "558/558 [==============================] - 2s 4ms/step - loss: 97.6913 - val_loss: 193.5958\n",
      "Epoch 17/50\n",
      "558/558 [==============================] - 3s 5ms/step - loss: 95.9346 - val_loss: 196.6014\n",
      "Epoch 18/50\n",
      "558/558 [==============================] - 2s 4ms/step - loss: 95.3918 - val_loss: 210.9673\n",
      "Epoch 19/50\n",
      "558/558 [==============================] - 3s 5ms/step - loss: 99.5660 - val_loss: 203.5595\n",
      "Epoch 20/50\n",
      "558/558 [==============================] - 3s 5ms/step - loss: 94.8427 - val_loss: 200.4847\n",
      "Epoch 21/50\n",
      "558/558 [==============================] - 2s 4ms/step - loss: 97.2062 - val_loss: 201.4220\n",
      "Epoch 22/50\n",
      "558/558 [==============================] - 3s 5ms/step - loss: 99.7644 - val_loss: 190.0758\n",
      "Epoch 23/50\n",
      "558/558 [==============================] - 3s 5ms/step - loss: 94.6488 - val_loss: 203.8877\n",
      "Epoch 24/50\n",
      "558/558 [==============================] - 2s 4ms/step - loss: 98.2682 - val_loss: 205.2281\n",
      "Epoch 25/50\n",
      "558/558 [==============================] - 3s 5ms/step - loss: 95.5759 - val_loss: 200.9723\n",
      "Epoch 26/50\n",
      "558/558 [==============================] - 3s 5ms/step - loss: 98.3195 - val_loss: 218.0736\n",
      "Epoch 27/50\n",
      "558/558 [==============================] - 3s 5ms/step - loss: 94.3189 - val_loss: 194.8652\n",
      "Epoch 28/50\n",
      "558/558 [==============================] - 2s 4ms/step - loss: 95.2711 - val_loss: 197.0995\n",
      "Epoch 29/50\n",
      "558/558 [==============================] - 2s 4ms/step - loss: 94.3796 - val_loss: 217.2151\n",
      "Epoch 30/50\n",
      "558/558 [==============================] - 2s 4ms/step - loss: 96.1165 - val_loss: 190.3891\n",
      "Epoch 31/50\n",
      "558/558 [==============================] - 2s 4ms/step - loss: 92.9299 - val_loss: 202.5010\n",
      "Epoch 32/50\n",
      "558/558 [==============================] - 3s 6ms/step - loss: 95.2799 - val_loss: 198.7728\n",
      "Epoch 33/50\n",
      "558/558 [==============================] - 4s 7ms/step - loss: 94.6586 - val_loss: 206.7819\n",
      "Epoch 34/50\n",
      "558/558 [==============================] - 4s 7ms/step - loss: 96.8986 - val_loss: 205.1472\n",
      "Epoch 35/50\n",
      "558/558 [==============================] - 3s 5ms/step - loss: 92.6055 - val_loss: 201.6906\n",
      "Epoch 36/50\n",
      "558/558 [==============================] - 2s 4ms/step - loss: 93.9248 - val_loss: 212.3860\n",
      "Epoch 37/50\n",
      "558/558 [==============================] - 2s 4ms/step - loss: 92.6166 - val_loss: 214.6336\n",
      "Epoch 38/50\n",
      "558/558 [==============================] - 2s 4ms/step - loss: 92.9133 - val_loss: 202.2706\n",
      "Epoch 39/50\n",
      "558/558 [==============================] - 3s 5ms/step - loss: 95.4352 - val_loss: 205.6260\n",
      "Epoch 40/50\n",
      "558/558 [==============================] - 2s 4ms/step - loss: 93.5832 - val_loss: 207.8053\n",
      "Epoch 41/50\n",
      "558/558 [==============================] - 2s 4ms/step - loss: 92.7722 - val_loss: 212.7626\n",
      "Epoch 42/50\n",
      "558/558 [==============================] - 2s 4ms/step - loss: 94.6324 - val_loss: 245.1081\n",
      "Epoch 43/50\n",
      "558/558 [==============================] - 2s 4ms/step - loss: 95.7977 - val_loss: 211.3569\n",
      "Epoch 44/50\n",
      "558/558 [==============================] - 2s 4ms/step - loss: 92.7862 - val_loss: 228.7979\n",
      "Epoch 45/50\n",
      "558/558 [==============================] - 2s 4ms/step - loss: 94.6727 - val_loss: 219.6050\n",
      "Epoch 46/50\n",
      "558/558 [==============================] - 2s 4ms/step - loss: 94.2496 - val_loss: 270.6613\n",
      "Epoch 47/50\n",
      "558/558 [==============================] - 2s 4ms/step - loss: 93.0405 - val_loss: 213.2757\n",
      "Epoch 48/50\n",
      "558/558 [==============================] - 2s 4ms/step - loss: 91.1552 - val_loss: 202.2334\n",
      "Epoch 49/50\n",
      "558/558 [==============================] - 2s 4ms/step - loss: 93.6364 - val_loss: 211.0530\n",
      "Epoch 50/50\n",
      "558/558 [==============================] - 2s 4ms/step - loss: 93.3636 - val_loss: 211.1720\n"
     ]
    }
   ],
   "source": [
    "from keras.models import Sequential\n",
    "from keras.layers import LSTM, Dense, MaxPooling1D, Flatten, Conv1D, TimeDistributed\n",
    "from keras.optimizers import Adam\n",
    "from keras.callbacks import ModelCheckpoint\n",
    "\n",
    "\n",
    "model_cnn_lstm = Sequential()\n",
    "model_cnn_lstm.add(TimeDistributed(Conv1D(filters=64, kernel_size=1, activation='relu'), input_shape=(None, n_steps, n_features)))\n",
    "model_cnn_lstm.add(TimeDistributed(MaxPooling1D(pool_size=2)))\n",
    "model_cnn_lstm.add(TimeDistributed(Flatten()))\n",
    "model_cnn_lstm.add(LSTM(50, activation='relu'))\n",
    "model_cnn_lstm.add(Dense(1))\n",
    "model_cnn_lstm.compile(loss='mse', optimizer='adam')\n",
    "\n",
    "optimizer = Adam(lr=0.001)\n",
    "model_cnn_lstm.compile(optimizer=optimizer, loss='mse')\n",
    "# Define checkpoint callback\n",
    "checkpoint = ModelCheckpoint('CNNLSTM50.h5', monitor='val_loss', save_best_only=True, save_weights_only=True)\n",
    "\n",
    "history = model_cnn_lstm.fit(train_X, train_y, epochs=50, verbose=1, validation_data = (test_X, test_y), callbacks=[checkpoint])"
   ]
  },
  {
   "cell_type": "code",
   "execution_count": 86,
   "metadata": {},
   "outputs": [],
   "source": [
    "test_X = test_X.reshape((test_X.shape[0], subsequences, timesteps, 1))"
   ]
  },
  {
   "cell_type": "code",
   "execution_count": 89,
   "metadata": {},
   "outputs": [
    {
     "name": "stdout",
     "output_type": "stream",
     "text": [
      "285/285 [==============================] - 1s 2ms/step\n"
     ]
    }
   ],
   "source": [
    "# test_X = test_X.reshape((test_X.shape[0], test_X.shape[1], n_features)) this is already done above\n",
    "pred_y = model_cnn_lstm.predict(test_X)"
   ]
  },
  {
   "cell_type": "code",
   "execution_count": 90,
   "metadata": {},
   "outputs": [
    {
     "name": "stdout",
     "output_type": "stream",
     "text": [
      "R2 score: 0.8876662352494111\n",
      "RMSE:  14.531758647404613\n"
     ]
    }
   ],
   "source": [
    "from sklearn.metrics import r2_score, mean_squared_error\n",
    "\n",
    "# Assuming you have your true values in 'y_true' and predicted values in 'y_pred'\n",
    "r2 = r2_score(test_y, pred_y)\n",
    "rmse = np.sqrt(mean_squared_error(test_y, pred_y))\n",
    "\n",
    "\n",
    "print(\"R2 score:\", r2)\n",
    "print(\"RMSE: \", rmse)"
   ]
  },
  {
   "attachments": {},
   "cell_type": "markdown",
   "metadata": {},
   "source": [
    "2 cnn lstm"
   ]
  },
  {
   "cell_type": "code",
   "execution_count": 1,
   "metadata": {},
   "outputs": [
    {
     "ename": "NameError",
     "evalue": "name 'split_sequence' is not defined",
     "output_type": "error",
     "traceback": [
      "\u001b[1;31m---------------------------------------------------------------------------\u001b[0m",
      "\u001b[1;31mNameError\u001b[0m                                 Traceback (most recent call last)",
      "\u001b[1;32mc:\\Users\\Swaroop\\isro project\\experimenting.ipynb Cell 45\u001b[0m in \u001b[0;36m1\n\u001b[1;32m----> <a href='vscode-notebook-cell:/c%3A/Users/Swaroop/isro%20project/experimenting.ipynb#Y165sZmlsZQ%3D%3D?line=0'>1</a>\u001b[0m train_X, train_y \u001b[39m=\u001b[39m split_sequence(train_data[\u001b[39m'\u001b[39m\u001b[39msfu\u001b[39m\u001b[39m'\u001b[39m], \u001b[39m27\u001b[39m)\n\u001b[0;32m      <a href='vscode-notebook-cell:/c%3A/Users/Swaroop/isro%20project/experimenting.ipynb#Y165sZmlsZQ%3D%3D?line=1'>2</a>\u001b[0m \u001b[39m# print(\"train split done\")\u001b[39;00m\n\u001b[0;32m      <a href='vscode-notebook-cell:/c%3A/Users/Swaroop/isro%20project/experimenting.ipynb#Y165sZmlsZQ%3D%3D?line=2'>3</a>\u001b[0m test_X, test_y \u001b[39m=\u001b[39m split_sequence(np\u001b[39m.\u001b[39marray(test_data[\u001b[39m'\u001b[39m\u001b[39msfu\u001b[39m\u001b[39m'\u001b[39m]), \u001b[39m27\u001b[39m)\n",
      "\u001b[1;31mNameError\u001b[0m: name 'split_sequence' is not defined"
     ]
    }
   ],
   "source": [
    "train_X, train_y = split_sequence(train_data['sfu'], 27)\n",
    "# print(\"train split done\")\n",
    "test_X, test_y = split_sequence(np.array(test_data['sfu']), 27)"
   ]
  },
  {
   "cell_type": "code",
   "execution_count": 92,
   "metadata": {},
   "outputs": [
    {
     "name": "stdout",
     "output_type": "stream",
     "text": [
      "Train set shape (17826, 1, 27, 1)\n"
     ]
    }
   ],
   "source": [
    "subsequences = 1\n",
    "timesteps = train_X.shape[1]//subsequences\n",
    "train_X = train_X.reshape((train_X.shape[0], subsequences, timesteps, 1))\n",
    "test_X = test_X.reshape((test_X.shape[0], subsequences, timesteps, 1))\n",
    "print('Train set shape', train_X.shape)"
   ]
  },
  {
   "cell_type": "code",
   "execution_count": 106,
   "metadata": {},
   "outputs": [
    {
     "name": "stdout",
     "output_type": "stream",
     "text": [
      "Epoch 1/50\n"
     ]
    },
    {
     "name": "stderr",
     "output_type": "stream",
     "text": [
      "c:\\Users\\Swaroop\\AppData\\Local\\Programs\\Python\\Python38\\lib\\site-packages\\keras\\optimizers\\optimizer_v2\\adam.py:114: UserWarning: The `lr` argument is deprecated, use `learning_rate` instead.\n",
      "  super().__init__(name, **kwargs)\n"
     ]
    },
    {
     "name": "stdout",
     "output_type": "stream",
     "text": [
      "558/558 [==============================] - 4s 5ms/step - loss: 913.4976 - val_loss: 347.9606\n",
      "Epoch 2/50\n",
      "558/558 [==============================] - 2s 4ms/step - loss: 324.7936 - val_loss: 247.4067\n",
      "Epoch 3/50\n",
      "558/558 [==============================] - 2s 4ms/step - loss: 250.7277 - val_loss: 240.4401\n",
      "Epoch 4/50\n",
      "558/558 [==============================] - 2s 4ms/step - loss: 215.2297 - val_loss: 239.6161\n",
      "Epoch 5/50\n",
      "558/558 [==============================] - 2s 4ms/step - loss: 206.4836 - val_loss: 222.4698\n",
      "Epoch 6/50\n",
      "558/558 [==============================] - 2s 4ms/step - loss: 208.6369 - val_loss: 247.5169\n",
      "Epoch 7/50\n",
      "558/558 [==============================] - 2s 4ms/step - loss: 199.2776 - val_loss: 367.9029\n",
      "Epoch 8/50\n",
      "558/558 [==============================] - 2s 4ms/step - loss: 198.8256 - val_loss: 245.8838\n",
      "Epoch 9/50\n",
      "558/558 [==============================] - 2s 4ms/step - loss: 182.8514 - val_loss: 250.3825\n",
      "Epoch 10/50\n",
      "558/558 [==============================] - 2s 4ms/step - loss: 182.3668 - val_loss: 231.2024\n",
      "Epoch 11/50\n",
      "558/558 [==============================] - 2s 4ms/step - loss: 182.2948 - val_loss: 274.3831\n",
      "Epoch 12/50\n",
      "558/558 [==============================] - 2s 4ms/step - loss: 175.0298 - val_loss: 232.0128\n",
      "Epoch 13/50\n",
      "558/558 [==============================] - 2s 4ms/step - loss: 173.3030 - val_loss: 222.5819\n",
      "Epoch 14/50\n",
      "558/558 [==============================] - 2s 4ms/step - loss: 174.2974 - val_loss: 453.0663\n",
      "Epoch 15/50\n",
      "558/558 [==============================] - 2s 4ms/step - loss: 169.0653 - val_loss: 229.1742\n",
      "Epoch 16/50\n",
      "558/558 [==============================] - 2s 4ms/step - loss: 167.3180 - val_loss: 281.1208\n",
      "Epoch 17/50\n",
      "558/558 [==============================] - 2s 4ms/step - loss: 164.1868 - val_loss: 215.1764\n",
      "Epoch 18/50\n",
      "558/558 [==============================] - 2s 4ms/step - loss: 164.9800 - val_loss: 213.9874\n",
      "Epoch 19/50\n",
      "558/558 [==============================] - 2s 4ms/step - loss: 162.1092 - val_loss: 228.1825\n",
      "Epoch 20/50\n",
      "558/558 [==============================] - 2s 4ms/step - loss: 163.6849 - val_loss: 206.1698\n",
      "Epoch 21/50\n",
      "558/558 [==============================] - 2s 4ms/step - loss: 155.1809 - val_loss: 233.6063\n",
      "Epoch 22/50\n",
      "558/558 [==============================] - 2s 4ms/step - loss: 155.6495 - val_loss: 276.9662\n",
      "Epoch 23/50\n",
      "558/558 [==============================] - 2s 4ms/step - loss: 155.3187 - val_loss: 231.3120\n",
      "Epoch 24/50\n",
      "558/558 [==============================] - 2s 4ms/step - loss: 153.3786 - val_loss: 225.4981\n",
      "Epoch 25/50\n",
      "558/558 [==============================] - 2s 4ms/step - loss: 153.9873 - val_loss: 227.8692\n",
      "Epoch 26/50\n",
      "558/558 [==============================] - 2s 4ms/step - loss: 152.1450 - val_loss: 240.6509\n",
      "Epoch 27/50\n",
      "558/558 [==============================] - 2s 4ms/step - loss: 151.9770 - val_loss: 226.6466\n",
      "Epoch 28/50\n",
      "558/558 [==============================] - 2s 4ms/step - loss: 150.6990 - val_loss: 227.2713\n",
      "Epoch 29/50\n",
      "558/558 [==============================] - 2s 4ms/step - loss: 147.7916 - val_loss: 255.4205\n",
      "Epoch 30/50\n",
      "558/558 [==============================] - 2s 4ms/step - loss: 148.2844 - val_loss: 260.9478\n",
      "Epoch 31/50\n",
      "558/558 [==============================] - 2s 4ms/step - loss: 146.5642 - val_loss: 217.3755\n",
      "Epoch 32/50\n",
      "558/558 [==============================] - 2s 4ms/step - loss: 146.0421 - val_loss: 226.8302\n",
      "Epoch 33/50\n",
      "558/558 [==============================] - 2s 4ms/step - loss: 147.2610 - val_loss: 246.7104\n",
      "Epoch 34/50\n",
      "558/558 [==============================] - 2s 4ms/step - loss: 143.6776 - val_loss: 239.5787\n",
      "Epoch 35/50\n",
      "558/558 [==============================] - 2s 4ms/step - loss: 144.4954 - val_loss: 229.3665\n",
      "Epoch 36/50\n",
      "558/558 [==============================] - 3s 5ms/step - loss: 143.7803 - val_loss: 226.0023\n",
      "Epoch 37/50\n",
      "558/558 [==============================] - 3s 5ms/step - loss: 143.7706 - val_loss: 234.1323\n",
      "Epoch 38/50\n",
      "558/558 [==============================] - 3s 5ms/step - loss: 141.0954 - val_loss: 231.6901\n",
      "Epoch 39/50\n",
      "558/558 [==============================] - 3s 5ms/step - loss: 140.5890 - val_loss: 228.6832\n",
      "Epoch 40/50\n",
      "558/558 [==============================] - 2s 4ms/step - loss: 142.8455 - val_loss: 239.8884\n",
      "Epoch 41/50\n",
      "558/558 [==============================] - 2s 4ms/step - loss: 142.7257 - val_loss: 248.0761\n",
      "Epoch 42/50\n",
      "558/558 [==============================] - 2s 4ms/step - loss: 141.0113 - val_loss: 259.5564\n",
      "Epoch 43/50\n",
      "558/558 [==============================] - 2s 4ms/step - loss: 142.1487 - val_loss: 230.5131\n",
      "Epoch 44/50\n",
      "558/558 [==============================] - 2s 4ms/step - loss: 141.6258 - val_loss: 264.3201\n",
      "Epoch 45/50\n",
      "558/558 [==============================] - 2s 4ms/step - loss: 140.5940 - val_loss: 283.5367\n",
      "Epoch 46/50\n",
      "558/558 [==============================] - 2s 4ms/step - loss: 143.6043 - val_loss: 263.1942\n",
      "Epoch 47/50\n",
      "558/558 [==============================] - 2s 4ms/step - loss: 140.6775 - val_loss: 259.2906\n",
      "Epoch 48/50\n",
      "558/558 [==============================] - 2s 4ms/step - loss: 140.0109 - val_loss: 255.2757\n",
      "Epoch 49/50\n",
      "558/558 [==============================] - 2s 4ms/step - loss: 140.1130 - val_loss: 253.2062\n",
      "Epoch 50/50\n",
      "558/558 [==============================] - 2s 4ms/step - loss: 137.7129 - val_loss: 253.2006\n"
     ]
    }
   ],
   "source": [
    "from keras.models import Sequential\n",
    "from keras.layers import LSTM, Dense, MaxPooling1D, Flatten, Conv1D, TimeDistributed\n",
    "from keras.optimizers import Adam\n",
    "from keras.callbacks import ModelCheckpoint\n",
    "\n",
    "\n",
    "model_cnn_lstm = Sequential()\n",
    "model_cnn_lstm.add(TimeDistributed(Conv1D(filters=64, kernel_size=4,  activation='relu'), input_shape=(None, n_steps, n_features)))\n",
    "model_cnn_lstm.add(TimeDistributed(MaxPooling1D(pool_size=2)))\n",
    "model_cnn_lstm.add(TimeDistributed(Conv1D(filters=32, kernel_size=4, activation='relu')))\n",
    "model_cnn_lstm.add(TimeDistributed(MaxPooling1D(pool_size=2)))\n",
    "model_cnn_lstm.add(TimeDistributed(Flatten()))\n",
    "model_cnn_lstm.add(LSTM(50, activation='relu'))\n",
    "model_cnn_lstm.add(Dense(1))\n",
    "model_cnn_lstm.compile(loss='mse', optimizer='adam')\n",
    "\n",
    "optimizer = Adam(lr=0.001)\n",
    "model_cnn_lstm.compile(optimizer=optimizer, loss='mse')\n",
    "# Define checkpoint callback\n",
    "checkpoint = ModelCheckpoint('CNNLSTM50.h5', monitor='val_loss', save_best_only=True, save_weights_only=True)\n",
    "\n",
    "history = model_cnn_lstm.fit(train_X, train_y, epochs=50, verbose=1, validation_data = (test_X, test_y), callbacks=[checkpoint])"
   ]
  },
  {
   "cell_type": "code",
   "execution_count": 107,
   "metadata": {},
   "outputs": [
    {
     "name": "stdout",
     "output_type": "stream",
     "text": [
      "285/285 [==============================] - 1s 2ms/step\n"
     ]
    }
   ],
   "source": [
    "# test_X = test_X.reshape((test_X.shape[0], test_X.shape[1], n_features)) this is already done above\n",
    "pred_y = model_cnn_lstm.predict(test_X)"
   ]
  },
  {
   "cell_type": "code",
   "execution_count": 108,
   "metadata": {},
   "outputs": [
    {
     "name": "stdout",
     "output_type": "stream",
     "text": [
      "R2 score: 0.8653090218222668\n",
      "RMSE:  15.912274885888893\n"
     ]
    }
   ],
   "source": [
    "from sklearn.metrics import r2_score, mean_squared_error\n",
    "\n",
    "# Assuming you have your true values in 'y_true' and predicted values in 'y_pred'\n",
    "r2 = r2_score(test_y, pred_y)\n",
    "rmse = np.sqrt(mean_squared_error(test_y, pred_y))\n",
    "\n",
    "\n",
    "print(\"R2 score:\", r2)\n",
    "print(\"RMSE: \", rmse)"
   ]
  },
  {
   "attachments": {},
   "cell_type": "markdown",
   "metadata": {},
   "source": [
    "2CNN2LSTM model "
   ]
  },
  {
   "cell_type": "code",
   "execution_count": 6,
   "metadata": {},
   "outputs": [
    {
     "ename": "NameError",
     "evalue": "name 'split_sequence' is not defined",
     "output_type": "error",
     "traceback": [
      "\u001b[1;31m---------------------------------------------------------------------------\u001b[0m",
      "\u001b[1;31mNameError\u001b[0m                                 Traceback (most recent call last)",
      "\u001b[1;32mc:\\Users\\Swaroop\\isro project\\experimenting.ipynb Cell 51\u001b[0m in \u001b[0;36m1\n\u001b[1;32m----> <a href='vscode-notebook-cell:/c%3A/Users/Swaroop/isro%20project/experimenting.ipynb#Y204sZmlsZQ%3D%3D?line=0'>1</a>\u001b[0m train_X, train_y \u001b[39m=\u001b[39m split_sequence(train_data[\u001b[39m'\u001b[39m\u001b[39msfu\u001b[39m\u001b[39m'\u001b[39m], \u001b[39m27\u001b[39m)\n\u001b[0;32m      <a href='vscode-notebook-cell:/c%3A/Users/Swaroop/isro%20project/experimenting.ipynb#Y204sZmlsZQ%3D%3D?line=1'>2</a>\u001b[0m \u001b[39m# print(\"train split done\")\u001b[39;00m\n\u001b[0;32m      <a href='vscode-notebook-cell:/c%3A/Users/Swaroop/isro%20project/experimenting.ipynb#Y204sZmlsZQ%3D%3D?line=2'>3</a>\u001b[0m test_X, test_y \u001b[39m=\u001b[39m split_sequence(np\u001b[39m.\u001b[39marray(test_data[\u001b[39m'\u001b[39m\u001b[39msfu\u001b[39m\u001b[39m'\u001b[39m]), \u001b[39m27\u001b[39m)\n",
      "\u001b[1;31mNameError\u001b[0m: name 'split_sequence' is not defined"
     ]
    }
   ],
   "source": [
    "train_X, train_y = split_sequence(train_data['sfu'], 27)\n",
    "# print(\"train split done\")\n",
    "test_X, test_y = split_sequence(np.array(test_data['sfu']), 27)"
   ]
  },
  {
   "cell_type": "code",
   "execution_count": 116,
   "metadata": {},
   "outputs": [
    {
     "name": "stdout",
     "output_type": "stream",
     "text": [
      "Epoch 1/50\n"
     ]
    },
    {
     "name": "stderr",
     "output_type": "stream",
     "text": [
      "c:\\Users\\Swaroop\\AppData\\Local\\Programs\\Python\\Python38\\lib\\site-packages\\keras\\optimizers\\optimizer_v2\\adam.py:114: UserWarning: The `lr` argument is deprecated, use `learning_rate` instead.\n",
      "  super().__init__(name, **kwargs)\n"
     ]
    },
    {
     "name": "stdout",
     "output_type": "stream",
     "text": [
      "558/558 [==============================] - 5s 4ms/step - loss: 1006.8510 - val_loss: 188.0398\n",
      "Epoch 2/50\n",
      "558/558 [==============================] - 2s 4ms/step - loss: 140.0676 - val_loss: 168.9059\n",
      "Epoch 3/50\n",
      "558/558 [==============================] - 2s 4ms/step - loss: 102.4285 - val_loss: 138.0965\n",
      "Epoch 4/50\n",
      "558/558 [==============================] - 2s 4ms/step - loss: 85.6422 - val_loss: 142.0436\n",
      "Epoch 5/50\n",
      "558/558 [==============================] - 2s 4ms/step - loss: 80.8391 - val_loss: 145.2811\n",
      "Epoch 6/50\n",
      "558/558 [==============================] - 2s 4ms/step - loss: 68.6636 - val_loss: 130.9130\n",
      "Epoch 7/50\n",
      "558/558 [==============================] - 2s 4ms/step - loss: 66.2465 - val_loss: 136.9543\n",
      "Epoch 8/50\n",
      "558/558 [==============================] - 2s 4ms/step - loss: 62.9630 - val_loss: 134.9906\n",
      "Epoch 9/50\n",
      "558/558 [==============================] - 2s 4ms/step - loss: 59.6860 - val_loss: 135.2012\n",
      "Epoch 10/50\n",
      "558/558 [==============================] - 2s 4ms/step - loss: 56.8915 - val_loss: 118.3665\n",
      "Epoch 11/50\n",
      "558/558 [==============================] - 2s 4ms/step - loss: 52.8200 - val_loss: 111.6011\n",
      "Epoch 12/50\n",
      "558/558 [==============================] - 2s 4ms/step - loss: 49.8132 - val_loss: 114.0813\n",
      "Epoch 13/50\n",
      "558/558 [==============================] - 2s 4ms/step - loss: 49.3424 - val_loss: 109.5876\n",
      "Epoch 14/50\n",
      "558/558 [==============================] - 2s 4ms/step - loss: 45.9122 - val_loss: 113.7907\n",
      "Epoch 15/50\n",
      "558/558 [==============================] - 2s 4ms/step - loss: 47.4818 - val_loss: 106.6955\n",
      "Epoch 16/50\n",
      "558/558 [==============================] - 2s 4ms/step - loss: 42.2266 - val_loss: 109.1469\n",
      "Epoch 17/50\n",
      "558/558 [==============================] - 2s 4ms/step - loss: 44.7503 - val_loss: 115.5696\n",
      "Epoch 18/50\n",
      "558/558 [==============================] - 2s 4ms/step - loss: 42.5490 - val_loss: 118.7640\n",
      "Epoch 19/50\n",
      "558/558 [==============================] - 2s 4ms/step - loss: 42.1187 - val_loss: 208.2260\n",
      "Epoch 20/50\n",
      "558/558 [==============================] - 2s 4ms/step - loss: 48.4989 - val_loss: 137.1595\n",
      "Epoch 21/50\n",
      "558/558 [==============================] - 2s 4ms/step - loss: 45.3273 - val_loss: 126.0190\n",
      "Epoch 22/50\n",
      "558/558 [==============================] - 2s 4ms/step - loss: 41.4790 - val_loss: 140.9329\n",
      "Epoch 23/50\n",
      "558/558 [==============================] - 2s 4ms/step - loss: 40.9579 - val_loss: 137.9347\n",
      "Epoch 24/50\n",
      "558/558 [==============================] - 2s 4ms/step - loss: 43.4667 - val_loss: 154.7598\n",
      "Epoch 25/50\n",
      "558/558 [==============================] - 2s 4ms/step - loss: 40.0537 - val_loss: 136.9733\n",
      "Epoch 26/50\n",
      "558/558 [==============================] - 2s 4ms/step - loss: 39.8362 - val_loss: 132.7344\n",
      "Epoch 27/50\n",
      "558/558 [==============================] - 2s 4ms/step - loss: 37.8125 - val_loss: 136.3946\n",
      "Epoch 28/50\n",
      "558/558 [==============================] - 2s 4ms/step - loss: 36.2165 - val_loss: 143.1379\n",
      "Epoch 29/50\n",
      "558/558 [==============================] - 2s 4ms/step - loss: 36.8838 - val_loss: 163.4757\n",
      "Epoch 30/50\n",
      "558/558 [==============================] - 2s 4ms/step - loss: 40.3289 - val_loss: 140.6747\n",
      "Epoch 31/50\n",
      "558/558 [==============================] - 2s 4ms/step - loss: 36.0684 - val_loss: 143.8315\n",
      "Epoch 32/50\n",
      "558/558 [==============================] - 2s 4ms/step - loss: 37.2901 - val_loss: 145.9030\n",
      "Epoch 33/50\n",
      "558/558 [==============================] - 2s 4ms/step - loss: 36.5087 - val_loss: 142.4808\n",
      "Epoch 34/50\n",
      "558/558 [==============================] - 2s 4ms/step - loss: 36.0604 - val_loss: 158.7445\n",
      "Epoch 35/50\n",
      "558/558 [==============================] - 2s 4ms/step - loss: 35.3585 - val_loss: 144.1850\n",
      "Epoch 36/50\n",
      "558/558 [==============================] - 2s 4ms/step - loss: 36.9604 - val_loss: 163.7162\n",
      "Epoch 37/50\n",
      "558/558 [==============================] - 2s 4ms/step - loss: 35.8401 - val_loss: 143.4258\n",
      "Epoch 38/50\n",
      "558/558 [==============================] - 2s 4ms/step - loss: 35.2299 - val_loss: 146.3379\n",
      "Epoch 39/50\n",
      "558/558 [==============================] - 2s 4ms/step - loss: 33.2567 - val_loss: 145.8943\n",
      "Epoch 40/50\n",
      "558/558 [==============================] - 2s 4ms/step - loss: 35.9071 - val_loss: 144.5885\n",
      "Epoch 41/50\n",
      "558/558 [==============================] - 2s 4ms/step - loss: 34.7499 - val_loss: 147.3275\n",
      "Epoch 42/50\n",
      "558/558 [==============================] - 2s 4ms/step - loss: 34.6276 - val_loss: 158.6191\n",
      "Epoch 43/50\n",
      "558/558 [==============================] - 2s 4ms/step - loss: 35.6381 - val_loss: 147.1632\n",
      "Epoch 44/50\n",
      "558/558 [==============================] - 2s 4ms/step - loss: 32.2960 - val_loss: 148.2688\n",
      "Epoch 45/50\n",
      "558/558 [==============================] - 2s 4ms/step - loss: 35.5900 - val_loss: 146.1707\n",
      "Epoch 46/50\n",
      "558/558 [==============================] - 2s 4ms/step - loss: 34.3588 - val_loss: 152.4002\n",
      "Epoch 47/50\n",
      "558/558 [==============================] - 2s 4ms/step - loss: 35.1873 - val_loss: 151.8034\n",
      "Epoch 48/50\n",
      "558/558 [==============================] - 2s 4ms/step - loss: 33.3351 - val_loss: 146.0912\n",
      "Epoch 49/50\n",
      "558/558 [==============================] - 2s 4ms/step - loss: 33.9380 - val_loss: 141.1768\n",
      "Epoch 50/50\n",
      "558/558 [==============================] - 2s 4ms/step - loss: 32.9682 - val_loss: 141.5648\n"
     ]
    }
   ],
   "source": [
    "from keras.models import Sequential\n",
    "from keras.layers import LSTM, Dense, MaxPooling1D, Flatten, Conv1D, TimeDistributed\n",
    "from keras.optimizers import Adam\n",
    "from keras.callbacks import ModelCheckpoint\n",
    "\n",
    "\n",
    "model_cnn_lstm = Sequential()\n",
    "model_cnn_lstm.add(TimeDistributed(Conv1D(filters=16, kernel_size=14,  activation='relu'), input_shape=(None, n_steps, n_features)))\n",
    "model_cnn_lstm.add(TimeDistributed(MaxPooling1D(pool_size=2)))\n",
    "model_cnn_lstm.add(TimeDistributed(Conv1D(filters=32, kernel_size=4, activation='relu')))\n",
    "model_cnn_lstm.add(TimeDistributed(MaxPooling1D(pool_size=2)))\n",
    "model_cnn_lstm.add(TimeDistributed(Flatten()))\n",
    "model_cnn_lstm.add(LSTM(64, activation='relu', return_sequences= True))\n",
    "model_cnn_lstm.add(LSTM(32, activation='relu'))\n",
    "model_cnn_lstm.add(Dense(1))\n",
    "model_cnn_lstm.compile(loss='mse', optimizer='adam')\n",
    "\n",
    "optimizer = Adam(lr=0.001)\n",
    "model_cnn_lstm.compile(optimizer=optimizer, loss='mse')\n",
    "# Define checkpoint callback\n",
    "checkpoint = ModelCheckpoint('CNNLSTM6432.h5', monitor='val_loss', save_best_only=True, save_weights_only=True)\n",
    "\n",
    "history = model_cnn_lstm.fit(train_X, train_y, epochs=50, verbose=1, validation_data = (test_X, test_y), callbacks=[checkpoint])"
   ]
  },
  {
   "cell_type": "code",
   "execution_count": 117,
   "metadata": {},
   "outputs": [
    {
     "name": "stdout",
     "output_type": "stream",
     "text": [
      "285/285 [==============================] - 1s 1ms/step\n"
     ]
    }
   ],
   "source": [
    "# test_X = test_X.reshape((test_X.shape[0], test_X.shape[1], n_features)) this is already done above\n",
    "pred_y = model_cnn_lstm.predict(test_X)"
   ]
  },
  {
   "cell_type": "code",
   "execution_count": 118,
   "metadata": {},
   "outputs": [
    {
     "name": "stdout",
     "output_type": "stream",
     "text": [
      "R2 score: 0.9246940528516168\n",
      "RMSE:  11.898101151860521\n"
     ]
    }
   ],
   "source": [
    "from sklearn.metrics import r2_score, mean_squared_error\n",
    "\n",
    "# Assuming you have your true values in 'y_true' and predicted values in 'y_pred'\n",
    "r2 = r2_score(test_y, pred_y)\n",
    "rmse = np.sqrt(mean_squared_error(test_y, pred_y))\n",
    "\n",
    "\n",
    "print(\"R2 score:\", r2)\n",
    "print(\"RMSE: \", rmse)"
   ]
  },
  {
   "cell_type": "code",
   "execution_count": 134,
   "metadata": {},
   "outputs": [],
   "source": [
    "train_X, train_y = split_sequence(np.array(train_data['sfu']), 27)\n",
    "# print(\"train split done\")\n",
    "test_X, test_y = split_sequence(np.array(test_data['sfu']), 27)"
   ]
  },
  {
   "cell_type": "code",
   "execution_count": null,
   "metadata": {},
   "outputs": [],
   "source": [
    "from sklearn.preprocessing import MinMaxScaler\n",
    "\n",
    "scaler = MinMaxScaler()\n",
    "train_X = scaler.fit_transform(train_X)\n",
    "test_X = scaler.transform(test_X)"
   ]
  },
  {
   "cell_type": "code",
   "execution_count": 136,
   "metadata": {},
   "outputs": [
    {
     "name": "stdout",
     "output_type": "stream",
     "text": [
      "Epoch 1/50\n"
     ]
    },
    {
     "name": "stderr",
     "output_type": "stream",
     "text": [
      "c:\\Users\\Swaroop\\AppData\\Local\\Programs\\Python\\Python38\\lib\\site-packages\\keras\\optimizers\\optimizer_v2\\adam.py:114: UserWarning: The `lr` argument is deprecated, use `learning_rate` instead.\n",
      "  super().__init__(name, **kwargs)\n"
     ]
    },
    {
     "name": "stdout",
     "output_type": "stream",
     "text": [
      "843/843 [==============================] - 10s 11ms/step - loss: nan - val_loss: nan\n",
      "Epoch 2/50\n",
      "843/843 [==============================] - 10s 11ms/step - loss: nan - val_loss: nan\n",
      "Epoch 3/50\n",
      "841/843 [============================>.] - ETA: 0s - loss: nan"
     ]
    },
    {
     "ename": "KeyboardInterrupt",
     "evalue": "",
     "output_type": "error",
     "traceback": [
      "\u001b[1;31m---------------------------------------------------------------------------\u001b[0m",
      "\u001b[1;31mKeyboardInterrupt\u001b[0m                         Traceback (most recent call last)",
      "\u001b[1;32mc:\\Users\\Swaroop\\isro project\\experimenting.ipynb Cell 54\u001b[0m in \u001b[0;36m2\n\u001b[0;32m     <a href='vscode-notebook-cell:/c%3A/Users/Swaroop/isro%20project/experimenting.ipynb#Y110sZmlsZQ%3D%3D?line=19'>20</a>\u001b[0m checkpoint \u001b[39m=\u001b[39m ModelCheckpoint(\u001b[39m'\u001b[39m\u001b[39mmodel_weightsSGD.h5\u001b[39m\u001b[39m'\u001b[39m, monitor\u001b[39m=\u001b[39m\u001b[39m'\u001b[39m\u001b[39mval_loss\u001b[39m\u001b[39m'\u001b[39m, save_best_only\u001b[39m=\u001b[39m\u001b[39mTrue\u001b[39;00m, save_weights_only\u001b[39m=\u001b[39m\u001b[39mTrue\u001b[39;00m)\n\u001b[0;32m     <a href='vscode-notebook-cell:/c%3A/Users/Swaroop/isro%20project/experimenting.ipynb#Y110sZmlsZQ%3D%3D?line=21'>22</a>\u001b[0m \u001b[39m# Fit model with checkpointing\u001b[39;00m\n\u001b[1;32m---> <a href='vscode-notebook-cell:/c%3A/Users/Swaroop/isro%20project/experimenting.ipynb#Y110sZmlsZQ%3D%3D?line=22'>23</a>\u001b[0m history \u001b[39m=\u001b[39m model\u001b[39m.\u001b[39;49mfit(X, y, epochs\u001b[39m=\u001b[39;49m\u001b[39m50\u001b[39;49m, verbose\u001b[39m=\u001b[39;49m\u001b[39m1\u001b[39;49m, validation_data \u001b[39m=\u001b[39;49m (test_X, test_y), callbacks\u001b[39m=\u001b[39;49m[checkpoint])\n",
      "File \u001b[1;32mc:\\Users\\Swaroop\\AppData\\Local\\Programs\\Python\\Python38\\lib\\site-packages\\keras\\utils\\traceback_utils.py:65\u001b[0m, in \u001b[0;36mfilter_traceback.<locals>.error_handler\u001b[1;34m(*args, **kwargs)\u001b[0m\n\u001b[0;32m     63\u001b[0m filtered_tb \u001b[39m=\u001b[39m \u001b[39mNone\u001b[39;00m\n\u001b[0;32m     64\u001b[0m \u001b[39mtry\u001b[39;00m:\n\u001b[1;32m---> 65\u001b[0m     \u001b[39mreturn\u001b[39;00m fn(\u001b[39m*\u001b[39;49margs, \u001b[39m*\u001b[39;49m\u001b[39m*\u001b[39;49mkwargs)\n\u001b[0;32m     66\u001b[0m \u001b[39mexcept\u001b[39;00m \u001b[39mException\u001b[39;00m \u001b[39mas\u001b[39;00m e:\n\u001b[0;32m     67\u001b[0m     filtered_tb \u001b[39m=\u001b[39m _process_traceback_frames(e\u001b[39m.\u001b[39m__traceback__)\n",
      "File \u001b[1;32mc:\\Users\\Swaroop\\AppData\\Local\\Programs\\Python\\Python38\\lib\\site-packages\\keras\\engine\\training.py:1606\u001b[0m, in \u001b[0;36mModel.fit\u001b[1;34m(self, x, y, batch_size, epochs, verbose, callbacks, validation_split, validation_data, shuffle, class_weight, sample_weight, initial_epoch, steps_per_epoch, validation_steps, validation_batch_size, validation_freq, max_queue_size, workers, use_multiprocessing)\u001b[0m\n\u001b[0;32m   1591\u001b[0m \u001b[39mif\u001b[39;00m \u001b[39mgetattr\u001b[39m(\u001b[39mself\u001b[39m, \u001b[39m\"\u001b[39m\u001b[39m_eval_data_handler\u001b[39m\u001b[39m\"\u001b[39m, \u001b[39mNone\u001b[39;00m) \u001b[39mis\u001b[39;00m \u001b[39mNone\u001b[39;00m:\n\u001b[0;32m   1592\u001b[0m     \u001b[39mself\u001b[39m\u001b[39m.\u001b[39m_eval_data_handler \u001b[39m=\u001b[39m data_adapter\u001b[39m.\u001b[39mget_data_handler(\n\u001b[0;32m   1593\u001b[0m         x\u001b[39m=\u001b[39mval_x,\n\u001b[0;32m   1594\u001b[0m         y\u001b[39m=\u001b[39mval_y,\n\u001b[1;32m   (...)\u001b[0m\n\u001b[0;32m   1604\u001b[0m         steps_per_execution\u001b[39m=\u001b[39m\u001b[39mself\u001b[39m\u001b[39m.\u001b[39m_steps_per_execution,\n\u001b[0;32m   1605\u001b[0m     )\n\u001b[1;32m-> 1606\u001b[0m val_logs \u001b[39m=\u001b[39m \u001b[39mself\u001b[39;49m\u001b[39m.\u001b[39;49mevaluate(\n\u001b[0;32m   1607\u001b[0m     x\u001b[39m=\u001b[39;49mval_x,\n\u001b[0;32m   1608\u001b[0m     y\u001b[39m=\u001b[39;49mval_y,\n\u001b[0;32m   1609\u001b[0m     sample_weight\u001b[39m=\u001b[39;49mval_sample_weight,\n\u001b[0;32m   1610\u001b[0m     batch_size\u001b[39m=\u001b[39;49mvalidation_batch_size \u001b[39mor\u001b[39;49;00m batch_size,\n\u001b[0;32m   1611\u001b[0m     steps\u001b[39m=\u001b[39;49mvalidation_steps,\n\u001b[0;32m   1612\u001b[0m     callbacks\u001b[39m=\u001b[39;49mcallbacks,\n\u001b[0;32m   1613\u001b[0m     max_queue_size\u001b[39m=\u001b[39;49mmax_queue_size,\n\u001b[0;32m   1614\u001b[0m     workers\u001b[39m=\u001b[39;49mworkers,\n\u001b[0;32m   1615\u001b[0m     use_multiprocessing\u001b[39m=\u001b[39;49muse_multiprocessing,\n\u001b[0;32m   1616\u001b[0m     return_dict\u001b[39m=\u001b[39;49m\u001b[39mTrue\u001b[39;49;00m,\n\u001b[0;32m   1617\u001b[0m     _use_cached_eval_dataset\u001b[39m=\u001b[39;49m\u001b[39mTrue\u001b[39;49;00m,\n\u001b[0;32m   1618\u001b[0m )\n\u001b[0;32m   1619\u001b[0m val_logs \u001b[39m=\u001b[39m {\n\u001b[0;32m   1620\u001b[0m     \u001b[39m\"\u001b[39m\u001b[39mval_\u001b[39m\u001b[39m\"\u001b[39m \u001b[39m+\u001b[39m name: val \u001b[39mfor\u001b[39;00m name, val \u001b[39min\u001b[39;00m val_logs\u001b[39m.\u001b[39mitems()\n\u001b[0;32m   1621\u001b[0m }\n\u001b[0;32m   1622\u001b[0m epoch_logs\u001b[39m.\u001b[39mupdate(val_logs)\n",
      "File \u001b[1;32mc:\\Users\\Swaroop\\AppData\\Local\\Programs\\Python\\Python38\\lib\\site-packages\\keras\\utils\\traceback_utils.py:65\u001b[0m, in \u001b[0;36mfilter_traceback.<locals>.error_handler\u001b[1;34m(*args, **kwargs)\u001b[0m\n\u001b[0;32m     63\u001b[0m filtered_tb \u001b[39m=\u001b[39m \u001b[39mNone\u001b[39;00m\n\u001b[0;32m     64\u001b[0m \u001b[39mtry\u001b[39;00m:\n\u001b[1;32m---> 65\u001b[0m     \u001b[39mreturn\u001b[39;00m fn(\u001b[39m*\u001b[39;49margs, \u001b[39m*\u001b[39;49m\u001b[39m*\u001b[39;49mkwargs)\n\u001b[0;32m     66\u001b[0m \u001b[39mexcept\u001b[39;00m \u001b[39mException\u001b[39;00m \u001b[39mas\u001b[39;00m e:\n\u001b[0;32m     67\u001b[0m     filtered_tb \u001b[39m=\u001b[39m _process_traceback_frames(e\u001b[39m.\u001b[39m__traceback__)\n",
      "File \u001b[1;32mc:\\Users\\Swaroop\\AppData\\Local\\Programs\\Python\\Python38\\lib\\site-packages\\keras\\engine\\training.py:1939\u001b[0m, in \u001b[0;36mModel.evaluate\u001b[1;34m(self, x, y, batch_size, verbose, sample_weight, steps, callbacks, max_queue_size, workers, use_multiprocessing, return_dict, **kwargs)\u001b[0m\n\u001b[0;32m   1937\u001b[0m \u001b[39mself\u001b[39m\u001b[39m.\u001b[39m_test_counter\u001b[39m.\u001b[39massign(\u001b[39m0\u001b[39m)\n\u001b[0;32m   1938\u001b[0m callbacks\u001b[39m.\u001b[39mon_test_begin()\n\u001b[1;32m-> 1939\u001b[0m \u001b[39mfor\u001b[39;00m _, iterator \u001b[39min\u001b[39;00m data_handler\u001b[39m.\u001b[39menumerate_epochs():  \u001b[39m# Single epoch.\u001b[39;00m\n\u001b[0;32m   1940\u001b[0m     \u001b[39mself\u001b[39m\u001b[39m.\u001b[39mreset_metrics()\n\u001b[0;32m   1941\u001b[0m     \u001b[39mwith\u001b[39;00m data_handler\u001b[39m.\u001b[39mcatch_stop_iteration():\n",
      "File \u001b[1;32mc:\\Users\\Swaroop\\AppData\\Local\\Programs\\Python\\Python38\\lib\\site-packages\\keras\\engine\\data_adapter.py:1307\u001b[0m, in \u001b[0;36mDataHandler.enumerate_epochs\u001b[1;34m(self)\u001b[0m\n\u001b[0;32m   1305\u001b[0m \u001b[39m\"\"\"Yields `(epoch, tf.data.Iterator)`.\"\"\"\u001b[39;00m\n\u001b[0;32m   1306\u001b[0m \u001b[39mwith\u001b[39;00m \u001b[39mself\u001b[39m\u001b[39m.\u001b[39m_truncate_execution_to_epoch():\n\u001b[1;32m-> 1307\u001b[0m     data_iterator \u001b[39m=\u001b[39m \u001b[39miter\u001b[39;49m(\u001b[39mself\u001b[39;49m\u001b[39m.\u001b[39;49m_dataset)\n\u001b[0;32m   1308\u001b[0m     \u001b[39mfor\u001b[39;00m epoch \u001b[39min\u001b[39;00m \u001b[39mrange\u001b[39m(\u001b[39mself\u001b[39m\u001b[39m.\u001b[39m_initial_epoch, \u001b[39mself\u001b[39m\u001b[39m.\u001b[39m_epochs):\n\u001b[0;32m   1309\u001b[0m         \u001b[39mif\u001b[39;00m \u001b[39mself\u001b[39m\u001b[39m.\u001b[39m_insufficient_data:  \u001b[39m# Set by `catch_stop_iteration`.\u001b[39;00m\n",
      "File \u001b[1;32mc:\\Users\\Swaroop\\AppData\\Local\\Programs\\Python\\Python38\\lib\\site-packages\\tensorflow\\python\\data\\ops\\dataset_ops.py:499\u001b[0m, in \u001b[0;36mDatasetV2.__iter__\u001b[1;34m(self)\u001b[0m\n\u001b[0;32m    497\u001b[0m \u001b[39mif\u001b[39;00m context\u001b[39m.\u001b[39mexecuting_eagerly() \u001b[39mor\u001b[39;00m ops\u001b[39m.\u001b[39minside_function():\n\u001b[0;32m    498\u001b[0m   \u001b[39mwith\u001b[39;00m ops\u001b[39m.\u001b[39mcolocate_with(\u001b[39mself\u001b[39m\u001b[39m.\u001b[39m_variant_tensor):\n\u001b[1;32m--> 499\u001b[0m     \u001b[39mreturn\u001b[39;00m iterator_ops\u001b[39m.\u001b[39;49mOwnedIterator(\u001b[39mself\u001b[39;49m)\n\u001b[0;32m    500\u001b[0m \u001b[39melse\u001b[39;00m:\n\u001b[0;32m    501\u001b[0m   \u001b[39mraise\u001b[39;00m \u001b[39mRuntimeError\u001b[39;00m(\u001b[39m\"\u001b[39m\u001b[39m`tf.data.Dataset` only supports Python-style \u001b[39m\u001b[39m\"\u001b[39m\n\u001b[0;32m    502\u001b[0m                      \u001b[39m\"\u001b[39m\u001b[39miteration in eager mode or within tf.function.\u001b[39m\u001b[39m\"\u001b[39m)\n",
      "File \u001b[1;32mc:\\Users\\Swaroop\\AppData\\Local\\Programs\\Python\\Python38\\lib\\site-packages\\tensorflow\\python\\data\\ops\\iterator_ops.py:696\u001b[0m, in \u001b[0;36mOwnedIterator.__init__\u001b[1;34m(self, dataset, components, element_spec)\u001b[0m\n\u001b[0;32m    692\u001b[0m   \u001b[39mif\u001b[39;00m (components \u001b[39mis\u001b[39;00m \u001b[39mnot\u001b[39;00m \u001b[39mNone\u001b[39;00m \u001b[39mor\u001b[39;00m element_spec \u001b[39mis\u001b[39;00m \u001b[39mnot\u001b[39;00m \u001b[39mNone\u001b[39;00m):\n\u001b[0;32m    693\u001b[0m     \u001b[39mraise\u001b[39;00m \u001b[39mValueError\u001b[39;00m(\n\u001b[0;32m    694\u001b[0m         \u001b[39m\"\u001b[39m\u001b[39mWhen `dataset` is provided, `element_spec` and `components` must \u001b[39m\u001b[39m\"\u001b[39m\n\u001b[0;32m    695\u001b[0m         \u001b[39m\"\u001b[39m\u001b[39mnot be specified.\u001b[39m\u001b[39m\"\u001b[39m)\n\u001b[1;32m--> 696\u001b[0m   \u001b[39mself\u001b[39;49m\u001b[39m.\u001b[39;49m_create_iterator(dataset)\n\u001b[0;32m    698\u001b[0m \u001b[39mself\u001b[39m\u001b[39m.\u001b[39m_get_next_call_count \u001b[39m=\u001b[39m \u001b[39m0\u001b[39m\n",
      "File \u001b[1;32mc:\\Users\\Swaroop\\AppData\\Local\\Programs\\Python\\Python38\\lib\\site-packages\\tensorflow\\python\\data\\ops\\iterator_ops.py:721\u001b[0m, in \u001b[0;36mOwnedIterator._create_iterator\u001b[1;34m(self, dataset)\u001b[0m\n\u001b[0;32m    716\u001b[0m \u001b[39mwith\u001b[39;00m ops\u001b[39m.\u001b[39mcolocate_with(ds_variant):\n\u001b[0;32m    717\u001b[0m   \u001b[39mself\u001b[39m\u001b[39m.\u001b[39m_iterator_resource \u001b[39m=\u001b[39m (\n\u001b[0;32m    718\u001b[0m       gen_dataset_ops\u001b[39m.\u001b[39manonymous_iterator_v3(\n\u001b[0;32m    719\u001b[0m           output_types\u001b[39m=\u001b[39m\u001b[39mself\u001b[39m\u001b[39m.\u001b[39m_flat_output_types,\n\u001b[0;32m    720\u001b[0m           output_shapes\u001b[39m=\u001b[39m\u001b[39mself\u001b[39m\u001b[39m.\u001b[39m_flat_output_shapes))\n\u001b[1;32m--> 721\u001b[0m   gen_dataset_ops\u001b[39m.\u001b[39;49mmake_iterator(ds_variant, \u001b[39mself\u001b[39;49m\u001b[39m.\u001b[39;49m_iterator_resource)\n",
      "File \u001b[1;32mc:\\Users\\Swaroop\\AppData\\Local\\Programs\\Python\\Python38\\lib\\site-packages\\tensorflow\\python\\ops\\gen_dataset_ops.py:3408\u001b[0m, in \u001b[0;36mmake_iterator\u001b[1;34m(dataset, iterator, name)\u001b[0m\n\u001b[0;32m   3406\u001b[0m \u001b[39mif\u001b[39;00m tld\u001b[39m.\u001b[39mis_eager:\n\u001b[0;32m   3407\u001b[0m   \u001b[39mtry\u001b[39;00m:\n\u001b[1;32m-> 3408\u001b[0m     _result \u001b[39m=\u001b[39m pywrap_tfe\u001b[39m.\u001b[39;49mTFE_Py_FastPathExecute(\n\u001b[0;32m   3409\u001b[0m       _ctx, \u001b[39m\"\u001b[39;49m\u001b[39mMakeIterator\u001b[39;49m\u001b[39m\"\u001b[39;49m, name, dataset, iterator)\n\u001b[0;32m   3410\u001b[0m     \u001b[39mreturn\u001b[39;00m _result\n\u001b[0;32m   3411\u001b[0m   \u001b[39mexcept\u001b[39;00m _core\u001b[39m.\u001b[39m_NotOkStatusException \u001b[39mas\u001b[39;00m e:\n",
      "\u001b[1;31mKeyboardInterrupt\u001b[0m: "
     ]
    }
   ],
   "source": [
    "from keras.models import Sequential\n",
    "from keras.layers import LSTM, Dense\n",
    "from keras.optimizers import Adam, SGD\n",
    "from keras.callbacks import ModelCheckpoint\n",
    "\n",
    "n_features = 1\n",
    "X = X.reshape((X.shape[0], X.shape[1], n_features))\n",
    "\n",
    "# Define model\n",
    "model = Sequential()\n",
    "model.add(LSTM(50, activation='relu', input_shape=(n_steps, n_features)))\n",
    "model.add(Dense(1))\n",
    "\n",
    "# Compile model with learning rate of 0.001\n",
    "optimzer = Adam(lr = 0.001)\n",
    "# optimizer = SGD(lr=0.001)\n",
    "model.compile(optimizer=optimizer, loss='mse')\n",
    "\n",
    "# Define checkpoint callback\n",
    "checkpoint = ModelCheckpoint('model_weightsSGD.h5', monitor='val_loss', save_best_only=True, save_weights_only=True)\n",
    "\n",
    "# Fit model with checkpointing\n",
    "history = model.fit(X, y, epochs=50, verbose=1, validation_data = (test_X, test_y), callbacks=[checkpoint])"
   ]
  },
  {
   "cell_type": "code",
   "execution_count": null,
   "metadata": {},
   "outputs": [],
   "source": [
    "test_X = test_X.reshape((test_X.shape[0], test_X.shape[1], n_features))\n",
    "pred_y = model.predict(test_X)"
   ]
  },
  {
   "cell_type": "code",
   "execution_count": null,
   "metadata": {},
   "outputs": [],
   "source": [
    "from sklearn.metrics import r2_score, mean_squared_error\n",
    "\n",
    "# Assuming you have your true values in 'y_true' and predicted values in 'y_pred'\n",
    "r2 = r2_score(test_y, pred_y)\n",
    "rmse = np.sqrt(mean_squared_error(test_y, pred_y))\n",
    "\n",
    "\n",
    "print(\"R2 score:\", r2)\n",
    "print(\"RMSE: \", rmse)"
   ]
  },
  {
   "cell_type": "code",
   "execution_count": 208,
   "metadata": {},
   "outputs": [],
   "source": [
    "train_X, train_y = split_sequence(np.array(train_data['sfu']), 27)\n",
    "# print(\"train split done\")\n",
    "test_X, test_y = split_sequence(np.array(test_data['sfu']), 27)"
   ]
  },
  {
   "attachments": {},
   "cell_type": "markdown",
   "metadata": {},
   "source": [
    "3 layer with dropout and leaky relu"
   ]
  },
  {
   "cell_type": "code",
   "execution_count": 201,
   "metadata": {},
   "outputs": [
    {
     "name": "stdout",
     "output_type": "stream",
     "text": [
      "Epoch 1/50\n",
      "558/558 [==============================] - 56s 90ms/step - loss: 14311.6025 - val_loss: 6005.9253\n",
      "Epoch 2/50\n",
      "558/558 [==============================] - 52s 93ms/step - loss: 8604.9766 - val_loss: 3163.3945\n",
      "Epoch 3/50\n",
      "558/558 [==============================] - 52s 94ms/step - loss: 5526.4844 - val_loss: 2057.0815\n",
      "Epoch 4/50\n",
      "558/558 [==============================] - 51s 91ms/step - loss: 4035.6338 - val_loss: 1889.8063\n",
      "Epoch 5/50\n",
      "558/558 [==============================] - 50s 89ms/step - loss: 3468.4131 - val_loss: 2069.3254\n",
      "Epoch 6/50\n",
      "558/558 [==============================] - 48s 87ms/step - loss: 3295.4119 - val_loss: 2266.9373\n",
      "Epoch 7/50\n",
      "558/558 [==============================] - 48s 86ms/step - loss: 3253.5493 - val_loss: 2354.8044\n",
      "Epoch 8/50\n",
      "558/558 [==============================] - 45s 82ms/step - loss: 2863.6934 - val_loss: 569.0808\n",
      "Epoch 9/50\n",
      "558/558 [==============================] - 47s 85ms/step - loss: 1284.1479 - val_loss: 286.5464\n",
      "Epoch 10/50\n",
      "558/558 [==============================] - 46s 82ms/step - loss: 770.7077 - val_loss: 193.1290\n",
      "Epoch 11/50\n",
      "558/558 [==============================] - 45s 81ms/step - loss: 536.0413 - val_loss: 126.1788\n",
      "Epoch 12/50\n",
      "558/558 [==============================] - 45s 80ms/step - loss: 399.1795 - val_loss: 103.2092\n",
      "Epoch 13/50\n",
      "558/558 [==============================] - 45s 80ms/step - loss: 322.6340 - val_loss: 82.1385\n",
      "Epoch 14/50\n",
      "558/558 [==============================] - 45s 81ms/step - loss: 287.2113 - val_loss: 106.7774\n",
      "Epoch 15/50\n",
      "558/558 [==============================] - 45s 81ms/step - loss: 246.7974 - val_loss: 91.2130\n",
      "Epoch 16/50\n",
      "558/558 [==============================] - 45s 81ms/step - loss: 232.1304 - val_loss: 59.9391\n",
      "Epoch 17/50\n",
      "558/558 [==============================] - 45s 81ms/step - loss: 219.1085 - val_loss: 87.5973\n",
      "Epoch 18/50\n",
      "558/558 [==============================] - 45s 81ms/step - loss: 203.4418 - val_loss: 60.1568\n",
      "Epoch 19/50\n",
      "558/558 [==============================] - 48s 85ms/step - loss: 207.2223 - val_loss: 66.1604\n",
      "Epoch 20/50\n",
      "558/558 [==============================] - 47s 84ms/step - loss: 195.3884 - val_loss: 58.3294\n",
      "Epoch 21/50\n",
      "558/558 [==============================] - 46s 82ms/step - loss: 191.7676 - val_loss: 56.5386\n",
      "Epoch 22/50\n",
      "558/558 [==============================] - 48s 86ms/step - loss: 188.0895 - val_loss: 56.6847\n",
      "Epoch 23/50\n",
      "558/558 [==============================] - 49s 88ms/step - loss: 186.0946 - val_loss: 75.9824\n",
      "Epoch 24/50\n",
      "558/558 [==============================] - 49s 88ms/step - loss: 180.1271 - val_loss: 56.4360\n",
      "Epoch 25/50\n",
      "558/558 [==============================] - 49s 88ms/step - loss: 176.7949 - val_loss: 58.0350\n",
      "Epoch 26/50\n",
      "558/558 [==============================] - 49s 87ms/step - loss: 173.9726 - val_loss: 65.0396\n",
      "Epoch 27/50\n",
      "558/558 [==============================] - 49s 88ms/step - loss: 178.7332 - val_loss: 58.0116\n",
      "Epoch 28/50\n",
      "558/558 [==============================] - 49s 88ms/step - loss: 172.5682 - val_loss: 57.1898\n",
      "Epoch 29/50\n",
      "558/558 [==============================] - 48s 86ms/step - loss: 174.8174 - val_loss: 89.6535\n",
      "Epoch 30/50\n",
      "558/558 [==============================] - 47s 85ms/step - loss: 179.7082 - val_loss: 56.4514\n",
      "Epoch 31/50\n",
      "558/558 [==============================] - 47s 85ms/step - loss: 169.8274 - val_loss: 55.8018\n",
      "Epoch 32/50\n",
      "558/558 [==============================] - 47s 84ms/step - loss: 168.9565 - val_loss: 77.6112\n",
      "Epoch 33/50\n",
      "558/558 [==============================] - 48s 85ms/step - loss: 173.7590 - val_loss: 70.6197\n",
      "Epoch 34/50\n",
      "558/558 [==============================] - 47s 85ms/step - loss: 171.9490 - val_loss: 61.5530\n",
      "Epoch 35/50\n",
      "558/558 [==============================] - 47s 85ms/step - loss: 170.3648 - val_loss: 64.7055\n",
      "Epoch 36/50\n",
      "558/558 [==============================] - 48s 85ms/step - loss: 165.3904 - val_loss: 58.4470\n",
      "Epoch 37/50\n",
      "558/558 [==============================] - 48s 86ms/step - loss: 168.8089 - val_loss: 61.4567\n",
      "Epoch 38/50\n",
      "558/558 [==============================] - 48s 85ms/step - loss: 168.8138 - val_loss: 61.6380\n",
      "Epoch 39/50\n",
      "558/558 [==============================] - 48s 85ms/step - loss: 166.5239 - val_loss: 69.8393\n",
      "Epoch 40/50\n",
      "558/558 [==============================] - 48s 86ms/step - loss: 167.3646 - val_loss: 57.5500\n",
      "Epoch 41/50\n",
      "558/558 [==============================] - 48s 86ms/step - loss: 163.1069 - val_loss: 57.0423\n",
      "Epoch 42/50\n",
      "558/558 [==============================] - 49s 87ms/step - loss: 164.8074 - val_loss: 63.1796\n",
      "Epoch 43/50\n",
      "558/558 [==============================] - 48s 87ms/step - loss: 162.7738 - val_loss: 63.1688\n",
      "Epoch 44/50\n",
      "558/558 [==============================] - 48s 87ms/step - loss: 166.9396 - val_loss: 57.7539\n",
      "Epoch 45/50\n",
      "558/558 [==============================] - 48s 87ms/step - loss: 164.6303 - val_loss: 62.4684\n",
      "Epoch 46/50\n",
      "558/558 [==============================] - 49s 87ms/step - loss: 162.1066 - val_loss: 60.3715\n",
      "Epoch 47/50\n",
      "558/558 [==============================] - 50s 90ms/step - loss: 156.1075 - val_loss: 58.7754\n",
      "Epoch 48/50\n",
      "558/558 [==============================] - 50s 90ms/step - loss: 163.8911 - val_loss: 62.9315\n",
      "Epoch 49/50\n",
      "558/558 [==============================] - 49s 87ms/step - loss: 161.2949 - val_loss: 57.9195\n",
      "Epoch 50/50\n",
      "558/558 [==============================] - 49s 88ms/step - loss: 162.5389 - val_loss: 67.2204\n"
     ]
    }
   ],
   "source": [
    "from keras.models import Sequential\n",
    "from keras.layers import LSTM, Dense, LeakyReLU, Dropout\n",
    "from keras.optimizers import Adam\n",
    "from keras.callbacks import ModelCheckpoint\n",
    "\n",
    "n_features = 1\n",
    "train_X = train_X.reshape((train_X.shape[0], train_X.shape[1], n_features))\n",
    "\n",
    "# Define model\n",
    "model = Sequential()\n",
    "model.add(LSTM(128,return_sequences= True,  input_shape=(n_steps, n_features)))\n",
    "model.add(LeakyReLU(alpha = 0.5))\n",
    "model.add(LSTM(128, return_sequences=True))\n",
    "model.add(LeakyReLU(alpha = 0.5))\n",
    "model.add(Dropout(0.3))\n",
    "model.add(LSTM(64))\n",
    "model.add(Dropout(0.3))\n",
    "model.add(Dense(1))\n",
    "\n",
    "# Compile model with learning rate of 0.001\n",
    "optimizer = Adam(lr=0.001)\n",
    "model.compile(optimizer=optimizer, loss='mse')\n",
    "\n",
    "# Define checkpoint callback\n",
    "checkpoint = ModelCheckpoint('3LayerLSTM643216.h5', monitor='val_loss', save_best_only=True, save_weights_only=True)\n",
    "\n",
    "# Fit model with checkpointing\n",
    "history = model.fit(train_X, train_y, epochs=50, verbose=1, validation_data = (test_X, test_y), callbacks=[checkpoint])"
   ]
  },
  {
   "cell_type": "code",
   "execution_count": 202,
   "metadata": {},
   "outputs": [
    {
     "name": "stdout",
     "output_type": "stream",
     "text": [
      "Model: \"sequential_55\"\n",
      "_________________________________________________________________\n",
      " Layer (type)                Output Shape              Param #   \n",
      "=================================================================\n",
      " lstm_50 (LSTM)              (None, 27, 128)           66560     \n",
      "                                                                 \n",
      " leaky_re_lu_2 (LeakyReLU)   (None, 27, 128)           0         \n",
      "                                                                 \n",
      " lstm_51 (LSTM)              (None, 27, 128)           131584    \n",
      "                                                                 \n",
      " leaky_re_lu_3 (LeakyReLU)   (None, 27, 128)           0         \n",
      "                                                                 \n",
      " dropout_3 (Dropout)         (None, 27, 128)           0         \n",
      "                                                                 \n",
      " lstm_52 (LSTM)              (None, 64)                49408     \n",
      "                                                                 \n",
      " dropout_4 (Dropout)         (None, 64)                0         \n",
      "                                                                 \n",
      " dense_35 (Dense)            (None, 1)                 65        \n",
      "                                                                 \n",
      "=================================================================\n",
      "Total params: 247,617\n",
      "Trainable params: 247,617\n",
      "Non-trainable params: 0\n",
      "_________________________________________________________________\n"
     ]
    }
   ],
   "source": [
    "model.summary()"
   ]
  },
  {
   "cell_type": "code",
   "execution_count": null,
   "metadata": {},
   "outputs": [],
   "source": [
    "from keras.callbacks import EarlyStopping\n",
    "early_Stopping =EarlyStopping(monitor = 'val_loss'\n",
    "                              patience = 5, \n",
    "                              mode = 'min')"
   ]
  },
  {
   "cell_type": "code",
   "execution_count": 203,
   "metadata": {},
   "outputs": [
    {
     "name": "stdout",
     "output_type": "stream",
     "text": [
      "285/285 [==============================] - 10s 28ms/step\n"
     ]
    }
   ],
   "source": [
    "test_X = test_X.reshape((test_X.shape[0], test_X.shape[1], n_features))\n",
    "pred_y = model.predict(test_X)"
   ]
  },
  {
   "cell_type": "code",
   "execution_count": 204,
   "metadata": {},
   "outputs": [
    {
     "name": "stdout",
     "output_type": "stream",
     "text": [
      "R2 score: 0.964241858872422\n",
      "RMSE:  8.19880365836983\n"
     ]
    }
   ],
   "source": [
    "from sklearn.metrics import r2_score, mean_squared_error\n",
    "\n",
    "# Assuming you have your true values in 'y_true' and predicted values in 'y_pred'\n",
    "r2 = r2_score(test_y, pred_y)\n",
    "rmse = np.sqrt(mean_squared_error(test_y, pred_y))\n",
    "\n",
    "\n",
    "print(\"R2 score:\", r2)\n",
    "print(\"RMSE: \", rmse)"
   ]
  },
  {
   "cell_type": "code",
   "execution_count": null,
   "metadata": {},
   "outputs": [],
   "source": [
    "test_X = test_X.reshape((test_X.shape[0], test_X.shape[1], n_features))\n",
    "pred_y = model.predict(test_X)"
   ]
  },
  {
   "cell_type": "code",
   "execution_count": null,
   "metadata": {},
   "outputs": [],
   "source": [
    "test_X = test_X.reshape((test_X.shape[0], test_X.shape[1], n_features))\n",
    "pred_y = model.predict(test_X)"
   ]
  },
  {
   "cell_type": "code",
   "execution_count": 209,
   "metadata": {},
   "outputs": [
    {
     "name": "stdout",
     "output_type": "stream",
     "text": [
      "Train set shape (17826, 1, 27, 1)\n"
     ]
    }
   ],
   "source": [
    "subsequences = 1\n",
    "timesteps = train_X.shape[1]//subsequences\n",
    "train_X = train_X.reshape((train_X.shape[0], subsequences, timesteps, 1))\n",
    "test_X = test_X.reshape((test_X.shape[0], subsequences, timesteps, 1))\n",
    "print('Train set shape', train_X.shape)"
   ]
  },
  {
   "cell_type": "code",
   "execution_count": 212,
   "metadata": {},
   "outputs": [
    {
     "name": "stdout",
     "output_type": "stream",
     "text": [
      "Epoch 1/50\n",
      "558/558 [==============================] - 10s 10ms/step - loss: 5388.0488 - val_loss: 2426.9719\n",
      "Epoch 2/50\n",
      "558/558 [==============================] - 5s 8ms/step - loss: 3415.8975 - val_loss: 2189.0471\n",
      "Epoch 3/50\n",
      "558/558 [==============================] - 5s 9ms/step - loss: 3419.0452 - val_loss: 2394.7275\n",
      "Epoch 4/50\n",
      "558/558 [==============================] - 5s 9ms/step - loss: 3410.2253 - val_loss: 2539.8289\n",
      "Epoch 5/50\n",
      "558/558 [==============================] - 5s 8ms/step - loss: 3407.8948 - val_loss: 2287.3403\n",
      "Epoch 6/50\n",
      "558/558 [==============================] - 5s 8ms/step - loss: 3411.4451 - val_loss: 2452.6375\n",
      "Epoch 7/50\n",
      "558/558 [==============================] - 5s 8ms/step - loss: 3408.1262 - val_loss: 2557.9590\n",
      "Epoch 8/50\n",
      "558/558 [==============================] - 5s 9ms/step - loss: 3410.2280 - val_loss: 2449.3931\n",
      "Epoch 9/50\n",
      "558/558 [==============================] - 5s 9ms/step - loss: 3410.9556 - val_loss: 2292.1445\n",
      "Epoch 10/50\n",
      "258/558 [============>.................] - ETA: 2s - loss: 3415.4353"
     ]
    },
    {
     "ename": "KeyboardInterrupt",
     "evalue": "",
     "output_type": "error",
     "traceback": [
      "\u001b[1;31m---------------------------------------------------------------------------\u001b[0m",
      "\u001b[1;31mKeyboardInterrupt\u001b[0m                         Traceback (most recent call last)",
      "\u001b[1;32mc:\\Users\\Swaroop\\isro project\\experimenting.ipynb Cell 70\u001b[0m in \u001b[0;36m3\n\u001b[0;32m     <a href='vscode-notebook-cell:/c%3A/Users/Swaroop/isro%20project/experimenting.ipynb#Y134sZmlsZQ%3D%3D?line=26'>27</a>\u001b[0m \u001b[39m# Define checkpoint callback\u001b[39;00m\n\u001b[0;32m     <a href='vscode-notebook-cell:/c%3A/Users/Swaroop/isro%20project/experimenting.ipynb#Y134sZmlsZQ%3D%3D?line=27'>28</a>\u001b[0m checkpoint \u001b[39m=\u001b[39m ModelCheckpoint(\u001b[39m'\u001b[39m\u001b[39mCNNLSTM6432.h5\u001b[39m\u001b[39m'\u001b[39m, monitor\u001b[39m=\u001b[39m\u001b[39m'\u001b[39m\u001b[39mval_loss\u001b[39m\u001b[39m'\u001b[39m, save_best_only\u001b[39m=\u001b[39m\u001b[39mTrue\u001b[39;00m, save_weights_only\u001b[39m=\u001b[39m\u001b[39mTrue\u001b[39;00m)\n\u001b[1;32m---> <a href='vscode-notebook-cell:/c%3A/Users/Swaroop/isro%20project/experimenting.ipynb#Y134sZmlsZQ%3D%3D?line=29'>30</a>\u001b[0m history \u001b[39m=\u001b[39m model_cnn_lstm\u001b[39m.\u001b[39;49mfit(train_X, train_y, epochs\u001b[39m=\u001b[39;49m\u001b[39m50\u001b[39;49m, verbose\u001b[39m=\u001b[39;49m\u001b[39m1\u001b[39;49m, validation_data \u001b[39m=\u001b[39;49m (test_X, test_y), callbacks\u001b[39m=\u001b[39;49m[checkpoint])\n",
      "File \u001b[1;32mc:\\Users\\Swaroop\\AppData\\Local\\Programs\\Python\\Python38\\lib\\site-packages\\keras\\utils\\traceback_utils.py:65\u001b[0m, in \u001b[0;36mfilter_traceback.<locals>.error_handler\u001b[1;34m(*args, **kwargs)\u001b[0m\n\u001b[0;32m     63\u001b[0m filtered_tb \u001b[39m=\u001b[39m \u001b[39mNone\u001b[39;00m\n\u001b[0;32m     64\u001b[0m \u001b[39mtry\u001b[39;00m:\n\u001b[1;32m---> 65\u001b[0m     \u001b[39mreturn\u001b[39;00m fn(\u001b[39m*\u001b[39;49margs, \u001b[39m*\u001b[39;49m\u001b[39m*\u001b[39;49mkwargs)\n\u001b[0;32m     66\u001b[0m \u001b[39mexcept\u001b[39;00m \u001b[39mException\u001b[39;00m \u001b[39mas\u001b[39;00m e:\n\u001b[0;32m     67\u001b[0m     filtered_tb \u001b[39m=\u001b[39m _process_traceback_frames(e\u001b[39m.\u001b[39m__traceback__)\n",
      "File \u001b[1;32mc:\\Users\\Swaroop\\AppData\\Local\\Programs\\Python\\Python38\\lib\\site-packages\\keras\\engine\\training.py:1564\u001b[0m, in \u001b[0;36mModel.fit\u001b[1;34m(self, x, y, batch_size, epochs, verbose, callbacks, validation_split, validation_data, shuffle, class_weight, sample_weight, initial_epoch, steps_per_epoch, validation_steps, validation_batch_size, validation_freq, max_queue_size, workers, use_multiprocessing)\u001b[0m\n\u001b[0;32m   1556\u001b[0m \u001b[39mwith\u001b[39;00m tf\u001b[39m.\u001b[39mprofiler\u001b[39m.\u001b[39mexperimental\u001b[39m.\u001b[39mTrace(\n\u001b[0;32m   1557\u001b[0m     \u001b[39m\"\u001b[39m\u001b[39mtrain\u001b[39m\u001b[39m\"\u001b[39m,\n\u001b[0;32m   1558\u001b[0m     epoch_num\u001b[39m=\u001b[39mepoch,\n\u001b[1;32m   (...)\u001b[0m\n\u001b[0;32m   1561\u001b[0m     _r\u001b[39m=\u001b[39m\u001b[39m1\u001b[39m,\n\u001b[0;32m   1562\u001b[0m ):\n\u001b[0;32m   1563\u001b[0m     callbacks\u001b[39m.\u001b[39mon_train_batch_begin(step)\n\u001b[1;32m-> 1564\u001b[0m     tmp_logs \u001b[39m=\u001b[39m \u001b[39mself\u001b[39;49m\u001b[39m.\u001b[39;49mtrain_function(iterator)\n\u001b[0;32m   1565\u001b[0m     \u001b[39mif\u001b[39;00m data_handler\u001b[39m.\u001b[39mshould_sync:\n\u001b[0;32m   1566\u001b[0m         context\u001b[39m.\u001b[39masync_wait()\n",
      "File \u001b[1;32mc:\\Users\\Swaroop\\AppData\\Local\\Programs\\Python\\Python38\\lib\\site-packages\\tensorflow\\python\\util\\traceback_utils.py:150\u001b[0m, in \u001b[0;36mfilter_traceback.<locals>.error_handler\u001b[1;34m(*args, **kwargs)\u001b[0m\n\u001b[0;32m    148\u001b[0m filtered_tb \u001b[39m=\u001b[39m \u001b[39mNone\u001b[39;00m\n\u001b[0;32m    149\u001b[0m \u001b[39mtry\u001b[39;00m:\n\u001b[1;32m--> 150\u001b[0m   \u001b[39mreturn\u001b[39;00m fn(\u001b[39m*\u001b[39;49margs, \u001b[39m*\u001b[39;49m\u001b[39m*\u001b[39;49mkwargs)\n\u001b[0;32m    151\u001b[0m \u001b[39mexcept\u001b[39;00m \u001b[39mException\u001b[39;00m \u001b[39mas\u001b[39;00m e:\n\u001b[0;32m    152\u001b[0m   filtered_tb \u001b[39m=\u001b[39m _process_traceback_frames(e\u001b[39m.\u001b[39m__traceback__)\n",
      "File \u001b[1;32mc:\\Users\\Swaroop\\AppData\\Local\\Programs\\Python\\Python38\\lib\\site-packages\\tensorflow\\python\\eager\\def_function.py:915\u001b[0m, in \u001b[0;36mFunction.__call__\u001b[1;34m(self, *args, **kwds)\u001b[0m\n\u001b[0;32m    912\u001b[0m compiler \u001b[39m=\u001b[39m \u001b[39m\"\u001b[39m\u001b[39mxla\u001b[39m\u001b[39m\"\u001b[39m \u001b[39mif\u001b[39;00m \u001b[39mself\u001b[39m\u001b[39m.\u001b[39m_jit_compile \u001b[39melse\u001b[39;00m \u001b[39m\"\u001b[39m\u001b[39mnonXla\u001b[39m\u001b[39m\"\u001b[39m\n\u001b[0;32m    914\u001b[0m \u001b[39mwith\u001b[39;00m OptionalXlaContext(\u001b[39mself\u001b[39m\u001b[39m.\u001b[39m_jit_compile):\n\u001b[1;32m--> 915\u001b[0m   result \u001b[39m=\u001b[39m \u001b[39mself\u001b[39;49m\u001b[39m.\u001b[39;49m_call(\u001b[39m*\u001b[39;49margs, \u001b[39m*\u001b[39;49m\u001b[39m*\u001b[39;49mkwds)\n\u001b[0;32m    917\u001b[0m new_tracing_count \u001b[39m=\u001b[39m \u001b[39mself\u001b[39m\u001b[39m.\u001b[39mexperimental_get_tracing_count()\n\u001b[0;32m    918\u001b[0m without_tracing \u001b[39m=\u001b[39m (tracing_count \u001b[39m==\u001b[39m new_tracing_count)\n",
      "File \u001b[1;32mc:\\Users\\Swaroop\\AppData\\Local\\Programs\\Python\\Python38\\lib\\site-packages\\tensorflow\\python\\eager\\def_function.py:947\u001b[0m, in \u001b[0;36mFunction._call\u001b[1;34m(self, *args, **kwds)\u001b[0m\n\u001b[0;32m    944\u001b[0m   \u001b[39mself\u001b[39m\u001b[39m.\u001b[39m_lock\u001b[39m.\u001b[39mrelease()\n\u001b[0;32m    945\u001b[0m   \u001b[39m# In this case we have created variables on the first call, so we run the\u001b[39;00m\n\u001b[0;32m    946\u001b[0m   \u001b[39m# defunned version which is guaranteed to never create variables.\u001b[39;00m\n\u001b[1;32m--> 947\u001b[0m   \u001b[39mreturn\u001b[39;00m \u001b[39mself\u001b[39;49m\u001b[39m.\u001b[39;49m_stateless_fn(\u001b[39m*\u001b[39;49margs, \u001b[39m*\u001b[39;49m\u001b[39m*\u001b[39;49mkwds)  \u001b[39m# pylint: disable=not-callable\u001b[39;00m\n\u001b[0;32m    948\u001b[0m \u001b[39melif\u001b[39;00m \u001b[39mself\u001b[39m\u001b[39m.\u001b[39m_stateful_fn \u001b[39mis\u001b[39;00m \u001b[39mnot\u001b[39;00m \u001b[39mNone\u001b[39;00m:\n\u001b[0;32m    949\u001b[0m   \u001b[39m# Release the lock early so that multiple threads can perform the call\u001b[39;00m\n\u001b[0;32m    950\u001b[0m   \u001b[39m# in parallel.\u001b[39;00m\n\u001b[0;32m    951\u001b[0m   \u001b[39mself\u001b[39m\u001b[39m.\u001b[39m_lock\u001b[39m.\u001b[39mrelease()\n",
      "File \u001b[1;32mc:\\Users\\Swaroop\\AppData\\Local\\Programs\\Python\\Python38\\lib\\site-packages\\tensorflow\\python\\eager\\function.py:2496\u001b[0m, in \u001b[0;36mFunction.__call__\u001b[1;34m(self, *args, **kwargs)\u001b[0m\n\u001b[0;32m   2493\u001b[0m \u001b[39mwith\u001b[39;00m \u001b[39mself\u001b[39m\u001b[39m.\u001b[39m_lock:\n\u001b[0;32m   2494\u001b[0m   (graph_function,\n\u001b[0;32m   2495\u001b[0m    filtered_flat_args) \u001b[39m=\u001b[39m \u001b[39mself\u001b[39m\u001b[39m.\u001b[39m_maybe_define_function(args, kwargs)\n\u001b[1;32m-> 2496\u001b[0m \u001b[39mreturn\u001b[39;00m graph_function\u001b[39m.\u001b[39;49m_call_flat(\n\u001b[0;32m   2497\u001b[0m     filtered_flat_args, captured_inputs\u001b[39m=\u001b[39;49mgraph_function\u001b[39m.\u001b[39;49mcaptured_inputs)\n",
      "File \u001b[1;32mc:\\Users\\Swaroop\\AppData\\Local\\Programs\\Python\\Python38\\lib\\site-packages\\tensorflow\\python\\eager\\function.py:1862\u001b[0m, in \u001b[0;36mConcreteFunction._call_flat\u001b[1;34m(self, args, captured_inputs, cancellation_manager)\u001b[0m\n\u001b[0;32m   1858\u001b[0m possible_gradient_type \u001b[39m=\u001b[39m gradients_util\u001b[39m.\u001b[39mPossibleTapeGradientTypes(args)\n\u001b[0;32m   1859\u001b[0m \u001b[39mif\u001b[39;00m (possible_gradient_type \u001b[39m==\u001b[39m gradients_util\u001b[39m.\u001b[39mPOSSIBLE_GRADIENT_TYPES_NONE\n\u001b[0;32m   1860\u001b[0m     \u001b[39mand\u001b[39;00m executing_eagerly):\n\u001b[0;32m   1861\u001b[0m   \u001b[39m# No tape is watching; skip to running the function.\u001b[39;00m\n\u001b[1;32m-> 1862\u001b[0m   \u001b[39mreturn\u001b[39;00m \u001b[39mself\u001b[39m\u001b[39m.\u001b[39m_build_call_outputs(\u001b[39mself\u001b[39;49m\u001b[39m.\u001b[39;49m_inference_function\u001b[39m.\u001b[39;49mcall(\n\u001b[0;32m   1863\u001b[0m       ctx, args, cancellation_manager\u001b[39m=\u001b[39;49mcancellation_manager))\n\u001b[0;32m   1864\u001b[0m forward_backward \u001b[39m=\u001b[39m \u001b[39mself\u001b[39m\u001b[39m.\u001b[39m_select_forward_and_backward_functions(\n\u001b[0;32m   1865\u001b[0m     args,\n\u001b[0;32m   1866\u001b[0m     possible_gradient_type,\n\u001b[0;32m   1867\u001b[0m     executing_eagerly)\n\u001b[0;32m   1868\u001b[0m forward_function, args_with_tangents \u001b[39m=\u001b[39m forward_backward\u001b[39m.\u001b[39mforward()\n",
      "File \u001b[1;32mc:\\Users\\Swaroop\\AppData\\Local\\Programs\\Python\\Python38\\lib\\site-packages\\tensorflow\\python\\eager\\function.py:499\u001b[0m, in \u001b[0;36m_EagerDefinedFunction.call\u001b[1;34m(self, ctx, args, cancellation_manager)\u001b[0m\n\u001b[0;32m    497\u001b[0m \u001b[39mwith\u001b[39;00m _InterpolateFunctionError(\u001b[39mself\u001b[39m):\n\u001b[0;32m    498\u001b[0m   \u001b[39mif\u001b[39;00m cancellation_manager \u001b[39mis\u001b[39;00m \u001b[39mNone\u001b[39;00m:\n\u001b[1;32m--> 499\u001b[0m     outputs \u001b[39m=\u001b[39m execute\u001b[39m.\u001b[39;49mexecute(\n\u001b[0;32m    500\u001b[0m         \u001b[39mstr\u001b[39;49m(\u001b[39mself\u001b[39;49m\u001b[39m.\u001b[39;49msignature\u001b[39m.\u001b[39;49mname),\n\u001b[0;32m    501\u001b[0m         num_outputs\u001b[39m=\u001b[39;49m\u001b[39mself\u001b[39;49m\u001b[39m.\u001b[39;49m_num_outputs,\n\u001b[0;32m    502\u001b[0m         inputs\u001b[39m=\u001b[39;49margs,\n\u001b[0;32m    503\u001b[0m         attrs\u001b[39m=\u001b[39;49mattrs,\n\u001b[0;32m    504\u001b[0m         ctx\u001b[39m=\u001b[39;49mctx)\n\u001b[0;32m    505\u001b[0m   \u001b[39melse\u001b[39;00m:\n\u001b[0;32m    506\u001b[0m     outputs \u001b[39m=\u001b[39m execute\u001b[39m.\u001b[39mexecute_with_cancellation(\n\u001b[0;32m    507\u001b[0m         \u001b[39mstr\u001b[39m(\u001b[39mself\u001b[39m\u001b[39m.\u001b[39msignature\u001b[39m.\u001b[39mname),\n\u001b[0;32m    508\u001b[0m         num_outputs\u001b[39m=\u001b[39m\u001b[39mself\u001b[39m\u001b[39m.\u001b[39m_num_outputs,\n\u001b[1;32m   (...)\u001b[0m\n\u001b[0;32m    511\u001b[0m         ctx\u001b[39m=\u001b[39mctx,\n\u001b[0;32m    512\u001b[0m         cancellation_manager\u001b[39m=\u001b[39mcancellation_manager)\n",
      "File \u001b[1;32mc:\\Users\\Swaroop\\AppData\\Local\\Programs\\Python\\Python38\\lib\\site-packages\\tensorflow\\python\\eager\\execute.py:54\u001b[0m, in \u001b[0;36mquick_execute\u001b[1;34m(op_name, num_outputs, inputs, attrs, ctx, name)\u001b[0m\n\u001b[0;32m     52\u001b[0m \u001b[39mtry\u001b[39;00m:\n\u001b[0;32m     53\u001b[0m   ctx\u001b[39m.\u001b[39mensure_initialized()\n\u001b[1;32m---> 54\u001b[0m   tensors \u001b[39m=\u001b[39m pywrap_tfe\u001b[39m.\u001b[39;49mTFE_Py_Execute(ctx\u001b[39m.\u001b[39;49m_handle, device_name, op_name,\n\u001b[0;32m     55\u001b[0m                                       inputs, attrs, num_outputs)\n\u001b[0;32m     56\u001b[0m \u001b[39mexcept\u001b[39;00m core\u001b[39m.\u001b[39m_NotOkStatusException \u001b[39mas\u001b[39;00m e:\n\u001b[0;32m     57\u001b[0m   \u001b[39mif\u001b[39;00m name \u001b[39mis\u001b[39;00m \u001b[39mnot\u001b[39;00m \u001b[39mNone\u001b[39;00m:\n",
      "\u001b[1;31mKeyboardInterrupt\u001b[0m: "
     ]
    }
   ],
   "source": [
    "from keras.models import Sequential\n",
    "from keras.layers import LSTM, Dense, MaxPooling1D, Flatten, Conv1D, TimeDistributed, LeakyReLU\n",
    "from keras.optimizers import Adam\n",
    "from keras.callbacks import ModelCheckpoint\n",
    "\n",
    "\n",
    "model_cnn_lstm = Sequential()\n",
    "model_cnn_lstm.add(TimeDistributed(Conv1D(filters=64, kernel_size=14, activation='relu'), input_shape=(None, n_steps, n_features)))\n",
    "# model_cnn_lstm.add(LeakyReLU(alpha =0.5))\n",
    "model_cnn_lstm.add(TimeDistributed(MaxPooling1D(pool_size=2)))\n",
    "model_cnn_lstm.add(TimeDistributed(Conv1D(filters=32, kernel_size=4, activation='relu')))\n",
    "# model_cnn_lstm.add(LeakyReLU(alpha =0.5))\n",
    "model_cnn_lstm.add(TimeDistributed(MaxPooling1D(pool_size=2)))\n",
    "model_cnn_lstm.add(TimeDistributed(Flatten()))\n",
    "model_cnn_lstm.add(LSTM(128, return_sequences= True))\n",
    "model_cnn_lstm.add(LeakyReLU(alpha =0.5))\n",
    "model_cnn_lstm.add(LSTM(128, return_sequences= True))\n",
    "model_cnn_lstm.add(LeakyReLU(alpha =0.5))\n",
    "model_cnn_lstm.add(Dropout(0.3))\n",
    "model_cnn_lstm.add(LSTM(64, activation='relu', return_sequences= True))\n",
    "model_cnn_lstm.add(Dropout(0.3))\n",
    "model_cnn_lstm.add(Dense(1))\n",
    "model_cnn_lstm.compile(loss='mse', optimizer='adam')\n",
    "\n",
    "optimizer = Adam(lr=0.001)\n",
    "model_cnn_lstm.compile(optimizer=optimizer, loss='mse')\n",
    "# Define checkpoint callback\n",
    "checkpoint = ModelCheckpoint('CNNLSTM6432.h5', monitor='val_loss', save_best_only=True, save_weights_only=True)\n",
    "\n",
    "history = model_cnn_lstm.fit(train_X, train_y, epochs=50, verbose=1, validation_data = (test_X, test_y), callbacks=[checkpoint])"
   ]
  }
 ],
 "metadata": {
  "kernelspec": {
   "display_name": "Python 3",
   "language": "python",
   "name": "python3"
  },
  "language_info": {
   "codemirror_mode": {
    "name": "ipython",
    "version": 3
   },
   "file_extension": ".py",
   "mimetype": "text/x-python",
   "name": "python",
   "nbconvert_exporter": "python",
   "pygments_lexer": "ipython3",
   "version": "3.8.0"
  },
  "orig_nbformat": 4
 },
 "nbformat": 4,
 "nbformat_minor": 2
}
