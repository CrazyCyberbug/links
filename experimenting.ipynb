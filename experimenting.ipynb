{
 "cells": [
  {
   "cell_type": "code",
   "execution_count": 5,
   "metadata": {},
   "outputs": [],
   "source": [
    "import pandas as pd\n",
    "\n",
    "df = pd.read_csv('C:/Users/Swaroop/isro project/solar_flux_data.csv')"
   ]
  },
  {
   "cell_type": "code",
   "execution_count": 6,
   "metadata": {},
   "outputs": [],
   "source": [
    "df['Date'] = pd.to_datetime(df['Date'])"
   ]
  },
  {
   "cell_type": "code",
   "execution_count": 21,
   "metadata": {},
   "outputs": [],
   "source": [
    "train_data = df[df['Date'].dt.year<1996]\n",
    "test_data = df[df['Date'].dt.year>=1996]"
   ]
  },
  {
   "cell_type": "code",
   "execution_count": 24,
   "metadata": {},
   "outputs": [
    {
     "data": {
      "text/plain": [
       "17853    75.000000\n",
       "17854    74.000000\n",
       "17855    80.000000\n",
       "17856    85.000000\n",
       "17857    84.000000\n",
       "           ...    \n",
       "26981    85.983333\n",
       "26982    84.433333\n",
       "26983    83.583333\n",
       "26984    82.733333\n",
       "26985    82.733333\n",
       "Name: sfu, Length: 9133, dtype: float64"
      ]
     },
     "execution_count": 24,
     "metadata": {},
     "output_type": "execute_result"
    }
   ],
   "source": [
    "test_data['sfu']"
   ]
  },
  {
   "cell_type": "code",
   "execution_count": 10,
   "metadata": {},
   "outputs": [],
   "source": [
    "import numpy as np\n",
    "sequence = df['sfu']\n",
    "\n",
    "def split_sequence(sequence, n_steps):\n",
    "\tX, y = list(), list()\n",
    "\tfor i in range(len(sequence)):\n",
    "\t\t# find the end of this pattern\n",
    "\t\tend_ix = i + n_steps\n",
    "\t\t# check if we are beyond the sequence\n",
    "\t\tif end_ix > len(sequence)-1:\n",
    "\t\t\tbreak\n",
    "\t\t# gather input and output parts of the pattern\n",
    "\t\tseq_x, seq_y = sequence[i:end_ix], sequence[end_ix]\n",
    "\t\tX.append(seq_x)\n",
    "\t\ty.append(seq_y)\n",
    "\treturn np.array(X), np.array(y)\n",
    "\n",
    "# define input sequence\n",
    "raw_seq = df['sfu']\n",
    "# choose a number of time steps\n",
    "n_steps = 27\n",
    "# split into samples\n",
    "X, y = split_sequence(raw_seq, n_steps)\n",
    "# summarize the data\n",
    "# for i in range(len(X)):\n",
    "# \tprint(X[i], y[i])"
   ]
  },
  {
   "cell_type": "code",
   "execution_count": 27,
   "metadata": {},
   "outputs": [
    {
     "name": "stdout",
     "output_type": "stream",
     "text": [
      "train split done\n"
     ]
    }
   ],
   "source": [
    "train_X, train_y = split_sequence(train_data['sfu'], 27)\n",
    "# print(\"train split done\")\n",
    "test_X, test_y = split_sequence(np.array(test_data['sfu']), 27)"
   ]
  },
  {
   "cell_type": "code",
   "execution_count": 28,
   "metadata": {},
   "outputs": [
    {
     "name": "stdout",
     "output_type": "stream",
     "text": [
      "Epoch 1/50\n"
     ]
    },
    {
     "name": "stderr",
     "output_type": "stream",
     "text": [
      "c:\\Users\\Swaroop\\AppData\\Local\\Programs\\Python\\Python38\\lib\\site-packages\\keras\\optimizers\\optimizer_v2\\adam.py:114: UserWarning: The `lr` argument is deprecated, use `learning_rate` instead.\n",
      "  super().__init__(name, **kwargs)\n"
     ]
    },
    {
     "name": "stdout",
     "output_type": "stream",
     "text": [
      "843/843 [==============================] - 9s 9ms/step - loss: 2271.0439 - val_loss: 77.3587\n",
      "Epoch 2/50\n",
      "843/843 [==============================] - 8s 10ms/step - loss: 73.2947 - val_loss: 77.7835\n",
      "Epoch 3/50\n",
      "843/843 [==============================] - 8s 9ms/step - loss: 54.1536 - val_loss: 73.2354\n",
      "Epoch 4/50\n",
      "843/843 [==============================] - 8s 9ms/step - loss: 61.9835 - val_loss: 102.6007\n",
      "Epoch 5/50\n",
      "843/843 [==============================] - 8s 9ms/step - loss: 65.0210 - val_loss: 69.5172\n",
      "Epoch 6/50\n",
      "843/843 [==============================] - 8s 9ms/step - loss: 45.1437 - val_loss: 61.5994\n",
      "Epoch 7/50\n",
      "843/843 [==============================] - 8s 9ms/step - loss: 43.1301 - val_loss: 63.6944\n",
      "Epoch 8/50\n",
      "843/843 [==============================] - 8s 9ms/step - loss: 2223.1702 - val_loss: 143.0979\n",
      "Epoch 9/50\n",
      "843/843 [==============================] - 8s 9ms/step - loss: 127.6066 - val_loss: 119.1137\n",
      "Epoch 10/50\n",
      "843/843 [==============================] - 8s 9ms/step - loss: 108.6807 - val_loss: 100.4216\n",
      "Epoch 11/50\n",
      "843/843 [==============================] - 8s 9ms/step - loss: 79.8013 - val_loss: 80.5200\n",
      "Epoch 12/50\n",
      "843/843 [==============================] - 8s 9ms/step - loss: 58.0703 - val_loss: 66.1915\n",
      "Epoch 13/50\n",
      "843/843 [==============================] - 8s 10ms/step - loss: 207.8844 - val_loss: 175.1131\n",
      "Epoch 14/50\n",
      "843/843 [==============================] - 8s 9ms/step - loss: 137.2222 - val_loss: 108.2903\n",
      "Epoch 15/50\n",
      "843/843 [==============================] - 8s 9ms/step - loss: 70.5314 - val_loss: 86.1061\n",
      "Epoch 16/50\n",
      "843/843 [==============================] - 8s 9ms/step - loss: 54.7880 - val_loss: 68.5747\n",
      "Epoch 17/50\n",
      "843/843 [==============================] - 8s 9ms/step - loss: 47.8888 - val_loss: 66.7529\n",
      "Epoch 18/50\n",
      "843/843 [==============================] - 8s 9ms/step - loss: 46.8949 - val_loss: 66.5376\n",
      "Epoch 19/50\n",
      "843/843 [==============================] - 8s 9ms/step - loss: 45.4461 - val_loss: 65.6053\n",
      "Epoch 20/50\n",
      "843/843 [==============================] - 8s 9ms/step - loss: 45.6277 - val_loss: 71.7519\n",
      "Epoch 21/50\n",
      "843/843 [==============================] - 8s 9ms/step - loss: 46.4940 - val_loss: 73.8720\n",
      "Epoch 22/50\n",
      "843/843 [==============================] - 8s 9ms/step - loss: 44.6870 - val_loss: 67.4996\n",
      "Epoch 23/50\n",
      "843/843 [==============================] - 8s 9ms/step - loss: 43.3052 - val_loss: 66.4774\n",
      "Epoch 24/50\n",
      "843/843 [==============================] - 8s 9ms/step - loss: 41.9962 - val_loss: 64.0253\n",
      "Epoch 25/50\n",
      "843/843 [==============================] - 8s 9ms/step - loss: 40.5478 - val_loss: 62.9067\n",
      "Epoch 26/50\n",
      "843/843 [==============================] - 8s 9ms/step - loss: 40.9872 - val_loss: 67.1939\n",
      "Epoch 27/50\n",
      "843/843 [==============================] - 8s 9ms/step - loss: 39.5520 - val_loss: 64.1396\n",
      "Epoch 28/50\n",
      "843/843 [==============================] - 8s 9ms/step - loss: 39.2408 - val_loss: 61.2513\n",
      "Epoch 29/50\n",
      "843/843 [==============================] - 8s 9ms/step - loss: 38.2816 - val_loss: 60.5625\n",
      "Epoch 30/50\n",
      "843/843 [==============================] - 8s 9ms/step - loss: 39.1768 - val_loss: 60.5235\n",
      "Epoch 31/50\n",
      "843/843 [==============================] - 8s 9ms/step - loss: 38.1792 - val_loss: 60.9028\n",
      "Epoch 32/50\n",
      "843/843 [==============================] - 8s 9ms/step - loss: 38.7066 - val_loss: 66.4955\n",
      "Epoch 33/50\n",
      "843/843 [==============================] - 8s 9ms/step - loss: 38.8059 - val_loss: 58.3661\n",
      "Epoch 34/50\n",
      "843/843 [==============================] - 8s 9ms/step - loss: 38.9328 - val_loss: 64.0786\n",
      "Epoch 35/50\n",
      "843/843 [==============================] - 8s 9ms/step - loss: 37.7844 - val_loss: 59.0634\n",
      "Epoch 36/50\n",
      "843/843 [==============================] - 8s 9ms/step - loss: 37.3510 - val_loss: 56.5694\n",
      "Epoch 37/50\n",
      "843/843 [==============================] - 8s 9ms/step - loss: 37.0950 - val_loss: 58.1197\n",
      "Epoch 38/50\n",
      "843/843 [==============================] - 8s 9ms/step - loss: 37.5409 - val_loss: 57.0661\n",
      "Epoch 39/50\n",
      "843/843 [==============================] - 8s 10ms/step - loss: 97.7492 - val_loss: 73.4733\n",
      "Epoch 40/50\n",
      "843/843 [==============================] - 8s 9ms/step - loss: 47.3471 - val_loss: 66.8456\n",
      "Epoch 41/50\n",
      "843/843 [==============================] - 8s 9ms/step - loss: 44.0634 - val_loss: 66.3917\n",
      "Epoch 42/50\n",
      "843/843 [==============================] - 8s 9ms/step - loss: 45.2735 - val_loss: 67.1731\n",
      "Epoch 43/50\n",
      "843/843 [==============================] - 8s 9ms/step - loss: 437.5478 - val_loss: 381.1122\n",
      "Epoch 44/50\n",
      "843/843 [==============================] - 8s 9ms/step - loss: 419.3662 - val_loss: 312.7544\n",
      "Epoch 45/50\n",
      "843/843 [==============================] - 8s 10ms/step - loss: 325.6996 - val_loss: 228.2345\n",
      "Epoch 46/50\n",
      "843/843 [==============================] - 8s 9ms/step - loss: 196.9594 - val_loss: 123.5755\n",
      "Epoch 47/50\n",
      "843/843 [==============================] - 8s 9ms/step - loss: 89.0059 - val_loss: 82.0300\n",
      "Epoch 48/50\n",
      "843/843 [==============================] - 8s 9ms/step - loss: 69.5562 - val_loss: 75.7730\n",
      "Epoch 49/50\n",
      "843/843 [==============================] - 8s 9ms/step - loss: 61.8986 - val_loss: 98.4732\n",
      "Epoch 50/50\n",
      "843/843 [==============================] - 8s 9ms/step - loss: 65.1497 - val_loss: 76.1320\n"
     ]
    }
   ],
   "source": [
    "from keras.models import Sequential\n",
    "from keras.layers import LSTM, Dense\n",
    "from keras.optimizers import Adam\n",
    "from keras.callbacks import ModelCheckpoint\n",
    "\n",
    "n_features = 1\n",
    "X = X.reshape((X.shape[0], X.shape[1], n_features))\n",
    "\n",
    "# Define model\n",
    "model = Sequential()\n",
    "model.add(LSTM(50, activation='relu', input_shape=(n_steps, n_features)))\n",
    "model.add(Dense(1))\n",
    "\n",
    "# Compile model with learning rate of 0.001\n",
    "optimizer = Adam(lr=0.001)\n",
    "model.compile(optimizer=optimizer, loss='mse')\n",
    "\n",
    "# Define checkpoint callback\n",
    "checkpoint = ModelCheckpoint('model_weights.h5', monitor='val_loss', save_best_only=True, save_weights_only=True)\n",
    "\n",
    "# Fit model with checkpointing\n",
    "history = model.fit(X, y, epochs=50, verbose=1, validation_data = (test_X, test_y), callbacks=[checkpoint])"
   ]
  },
  {
   "cell_type": "code",
   "execution_count": 34,
   "metadata": {},
   "outputs": [
    {
     "data": {
      "text/plain": [
       "<AxesSubplot: >"
      ]
     },
     "execution_count": 34,
     "metadata": {},
     "output_type": "execute_result"
    },
    {
     "data": {
      "image/png": "[encoded data removed]",
      "text/plain": [
       "<Figure size 800x500 with 1 Axes>"
      ]
     },
     "metadata": {},
     "output_type": "display_data"
    }
   ],
   "source": [
    "pd.DataFrame(history.history).plot(figsize=(8,5))\n"
   ]
  },
  {
   "cell_type": "code",
   "execution_count": 31,
   "metadata": {},
   "outputs": [
    {
     "name": "stdout",
     "output_type": "stream",
     "text": [
      "285/285 [==============================] - 1s 3ms/step\n"
     ]
    }
   ],
   "source": [
    "test_X = test_X.reshape((test_X.shape[0], test_X.shape[1], n_features))\n",
    "pred_y = model.predict(test_X)"
   ]
  },
  {
   "cell_type": "code",
   "execution_count": 32,
   "metadata": {},
   "outputs": [
    {
     "name": "stdout",
     "output_type": "stream",
     "text": [
      "R2 score: 0.9595012633448489\n",
      "RMSE:  8.725368086273086\n"
     ]
    }
   ],
   "source": [
    "from sklearn.metrics import r2_score, mean_squared_error\n",
    "\n",
    "# Assuming you have your true values in 'y_true' and predicted values in 'y_pred'\n",
    "r2 = r2_score(test_y, pred_y)\n",
    "rmse = np.sqrt(mean_squared_error(test_y, pred_y))\n",
    "\n",
    "\n",
    "print(\"R2 score:\", r2)\n",
    "print(\"RMSE: \", rmse)"
   ]
  },
  {
   "cell_type": "code",
   "execution_count": 18,
   "metadata": {},
   "outputs": [],
   "source": [
    "model.save('singlelayerLSTM.h5')"
   ]
  },
  {
   "attachments": {},
   "cell_type": "markdown",
   "metadata": {},
   "source": [
    "LSTM with 64 units"
   ]
  },
  {
   "cell_type": "code",
   "execution_count": 35,
   "metadata": {},
   "outputs": [],
   "source": [
    "train_X, train_y = split_sequence(train_data['sfu'], 27)\n",
    "# print(\"train split done\")\n",
    "test_X, test_y = split_sequence(np.array(test_data['sfu']), 27)"
   ]
  },
  {
   "cell_type": "code",
   "execution_count": 43,
   "metadata": {},
   "outputs": [
    {
     "name": "stdout",
     "output_type": "stream",
     "text": [
      "Epoch 1/50\n"
     ]
    },
    {
     "name": "stderr",
     "output_type": "stream",
     "text": [
      "c:\\Users\\Swaroop\\AppData\\Local\\Programs\\Python\\Python38\\lib\\site-packages\\keras\\optimizers\\optimizer_v2\\adam.py:114: UserWarning: The `lr` argument is deprecated, use `learning_rate` instead.\n",
      "  super().__init__(name, **kwargs)\n"
     ]
    },
    {
     "name": "stdout",
     "output_type": "stream",
     "text": [
      "558/558 [==============================] - 8s 12ms/step - loss: 4503.5581 - val_loss: 425.3190\n",
      "Epoch 2/50\n",
      "558/558 [==============================] - 6s 11ms/step - loss: 435.6338 - val_loss: 252.2152\n",
      "Epoch 3/50\n",
      "558/558 [==============================] - 6s 11ms/step - loss: 295.8269 - val_loss: 208.0896\n",
      "Epoch 4/50\n",
      "558/558 [==============================] - 6s 11ms/step - loss: 258.1609 - val_loss: 192.5838\n",
      "Epoch 5/50\n",
      "558/558 [==============================] - 7s 12ms/step - loss: 227.2689 - val_loss: 176.0780\n",
      "Epoch 6/50\n",
      "558/558 [==============================] - 6s 11ms/step - loss: 182.7075 - val_loss: 132.9037\n",
      "Epoch 7/50\n",
      "558/558 [==============================] - 6s 11ms/step - loss: 442.1055 - val_loss: 233.8338\n",
      "Epoch 8/50\n",
      "558/558 [==============================] - 7s 12ms/step - loss: 258.0867 - val_loss: 215.4211\n",
      "Epoch 9/50\n",
      "558/558 [==============================] - 6s 11ms/step - loss: 243.1081 - val_loss: 210.2695\n",
      "Epoch 10/50\n",
      "558/558 [==============================] - 6s 10ms/step - loss: 236.6810 - val_loss: 226.9820\n",
      "Epoch 11/50\n",
      "558/558 [==============================] - 6s 10ms/step - loss: 1673680.1250 - val_loss: 276.3605\n",
      "Epoch 12/50\n",
      "558/558 [==============================] - 6s 10ms/step - loss: 358.4421 - val_loss: 276.4321\n",
      "Epoch 13/50\n",
      "558/558 [==============================] - 6s 10ms/step - loss: 357.5655 - val_loss: 275.9527\n",
      "Epoch 14/50\n",
      "558/558 [==============================] - 6s 10ms/step - loss: 356.9322 - val_loss: 275.6900\n",
      "Epoch 15/50\n",
      "558/558 [==============================] - 6s 10ms/step - loss: 358.4970 - val_loss: 275.3464\n",
      "Epoch 16/50\n",
      "558/558 [==============================] - 6s 10ms/step - loss: 357.8492 - val_loss: 274.9400\n",
      "Epoch 17/50\n",
      "558/558 [==============================] - 6s 10ms/step - loss: 359.0447 - val_loss: 274.5869\n",
      "Epoch 18/50\n",
      "558/558 [==============================] - 6s 10ms/step - loss: 360.0374 - val_loss: 275.4337\n",
      "Epoch 19/50\n",
      "558/558 [==============================] - 6s 10ms/step - loss: 361.7190 - val_loss: 272.7199\n",
      "Epoch 20/50\n",
      "558/558 [==============================] - 6s 10ms/step - loss: 360.9567 - val_loss: 273.6111\n",
      "Epoch 21/50\n",
      "558/558 [==============================] - 6s 10ms/step - loss: 361.3717 - val_loss: 273.7612\n",
      "Epoch 22/50\n",
      "558/558 [==============================] - 6s 10ms/step - loss: 363.9942 - val_loss: 289.9722\n",
      "Epoch 23/50\n",
      "558/558 [==============================] - 6s 11ms/step - loss: 362.5893 - val_loss: 274.0020\n",
      "Epoch 24/50\n",
      "558/558 [==============================] - 6s 11ms/step - loss: 369.0085 - val_loss: 333.1659\n",
      "Epoch 25/50\n",
      "558/558 [==============================] - 6s 11ms/step - loss: 370.6401 - val_loss: 382.9850\n",
      "Epoch 26/50\n",
      "558/558 [==============================] - 6s 11ms/step - loss: 380.8210 - val_loss: 259.5398\n",
      "Epoch 27/50\n",
      "558/558 [==============================] - 6s 11ms/step - loss: 396.8937 - val_loss: 269.1115\n",
      "Epoch 28/50\n",
      "558/558 [==============================] - 6s 11ms/step - loss: 389.7912 - val_loss: 351.2415\n",
      "Epoch 29/50\n",
      "558/558 [==============================] - 6s 11ms/step - loss: 398.2259 - val_loss: 291.1843\n",
      "Epoch 30/50\n",
      "558/558 [==============================] - 6s 11ms/step - loss: 368.9592 - val_loss: 246.9890\n",
      "Epoch 31/50\n",
      "558/558 [==============================] - 6s 11ms/step - loss: 401.6204 - val_loss: 254.9227\n",
      "Epoch 32/50\n",
      "558/558 [==============================] - 6s 11ms/step - loss: 345.0087 - val_loss: 249.4946\n",
      "Epoch 33/50\n",
      "558/558 [==============================] - 6s 11ms/step - loss: 384.1435 - val_loss: 237.7952\n",
      "Epoch 34/50\n",
      "558/558 [==============================] - 6s 11ms/step - loss: 389.2932 - val_loss: 235.8593\n",
      "Epoch 35/50\n",
      "558/558 [==============================] - 6s 11ms/step - loss: 369.3489 - val_loss: 367.2217\n",
      "Epoch 36/50\n",
      "558/558 [==============================] - 6s 11ms/step - loss: 383.5873 - val_loss: 282.6886\n",
      "Epoch 37/50\n",
      "558/558 [==============================] - 6s 11ms/step - loss: 322.7992 - val_loss: 490.8633\n",
      "Epoch 38/50\n",
      "558/558 [==============================] - 6s 11ms/step - loss: 307.5106 - val_loss: 284.4029\n",
      "Epoch 39/50\n",
      "558/558 [==============================] - 6s 11ms/step - loss: 324.0529 - val_loss: 194.1569\n",
      "Epoch 40/50\n",
      "558/558 [==============================] - 6s 11ms/step - loss: 290.6884 - val_loss: 183.7197\n",
      "Epoch 41/50\n",
      "558/558 [==============================] - 6s 11ms/step - loss: 605.9431 - val_loss: 225.9863\n",
      "Epoch 42/50\n",
      "558/558 [==============================] - 6s 11ms/step - loss: 283.3184 - val_loss: 234.2944\n",
      "Epoch 43/50\n",
      "558/558 [==============================] - 6s 11ms/step - loss: 260.1814 - val_loss: 178.7584\n",
      "Epoch 44/50\n",
      "558/558 [==============================] - 7s 13ms/step - loss: 219.5814 - val_loss: 188.6532\n",
      "Epoch 45/50\n",
      "558/558 [==============================] - 6s 11ms/step - loss: 187.6918 - val_loss: 128.7830\n",
      "Epoch 46/50\n",
      "558/558 [==============================] - 6s 11ms/step - loss: 151.0239 - val_loss: 143.1964\n",
      "Epoch 47/50\n",
      "558/558 [==============================] - 6s 11ms/step - loss: 128.9653 - val_loss: 111.6333\n",
      "Epoch 48/50\n",
      "558/558 [==============================] - 6s 11ms/step - loss: 106.2954 - val_loss: 96.1018\n",
      "Epoch 49/50\n",
      "558/558 [==============================] - 6s 11ms/step - loss: 98.6741 - val_loss: 89.2796\n",
      "Epoch 50/50\n",
      "558/558 [==============================] - 6s 11ms/step - loss: 79.5969 - val_loss: 94.3448\n"
     ]
    }
   ],
   "source": [
    "from keras.models import Sequential\n",
    "from keras.layers import LSTM, Dense\n",
    "from keras.optimizers import Adam\n",
    "from keras.callbacks import ModelCheckpoint\n",
    "\n",
    "n_features = 1\n",
    "train_X = train_X.reshape((train_X.shape[0], train_X.shape[1], n_features))\n",
    "\n",
    "# Define model\n",
    "model = Sequential()\n",
    "model.add(LSTM(64, activation='relu', input_shape=(n_steps, n_features)))\n",
    "model.add(Dense(1))\n",
    "\n",
    "# Compile model with learning rate of 0.001\n",
    "optimizer = Adam(lr=0.001)\n",
    "model.compile(optimizer=optimizer, loss='mse')\n",
    "\n",
    "# Define checkpoint callback\n",
    "checkpoint = ModelCheckpoint('singleLSTM64.h5', monitor='val_loss', save_best_only=True, save_weights_only=True)\n",
    "\n",
    "# Fit model with checkpointing\n",
    "history = model.fit(train_X, train_y, epochs=50, verbose=1, validation_data = (test_X, test_y), callbacks=[checkpoint])"
   ]
  },
  {
   "cell_type": "code",
   "execution_count": 50,
   "metadata": {},
   "outputs": [
    {
     "data": {
      "text/plain": [
       "<AxesSubplot: >"
      ]
     },
     "execution_count": 50,
     "metadata": {},
     "output_type": "execute_result"
    },
    {
     "data": {
      "image/png": "[encoded data removed]",
      "text/plain": [
       "<Figure size 800x500 with 1 Axes>"
      ]
     },
     "metadata": {},
     "output_type": "display_data"
    }
   ],
   "source": [
    "pd.DataFrame(history.history).plot(figsize=(8,5))\n"
   ]
  },
  {
   "cell_type": "code",
   "execution_count": 48,
   "metadata": {},
   "outputs": [
    {
     "name": "stdout",
     "output_type": "stream",
     "text": [
      "285/285 [==============================] - 1s 4ms/step\n"
     ]
    }
   ],
   "source": [
    "test_X = test_X.reshape((test_X.shape[0], test_X.shape[1], n_features))\n",
    "pred_y = model.predict(test_X)"
   ]
  },
  {
   "cell_type": "code",
   "execution_count": 49,
   "metadata": {},
   "outputs": [
    {
     "name": "stdout",
     "output_type": "stream",
     "text": [
      "R2 score: 0.9498129583135507\n",
      "RMSE:  9.713121414944831\n"
     ]
    }
   ],
   "source": [
    "from sklearn.metrics import r2_score, mean_squared_error\n",
    "\n",
    "# Assuming you have your true values in 'y_true' and predicted values in 'y_pred'\n",
    "r2 = r2_score(test_y, pred_y)\n",
    "rmse = np.sqrt(mean_squared_error(test_y, pred_y))\n",
    "\n",
    "\n",
    "print(\"R2 score:\", r2)\n",
    "print(\"RMSE: \", rmse)"
   ]
  },
  {
   "attachments": {},
   "cell_type": "markdown",
   "metadata": {},
   "source": [
    "2 layer LSTM with 64 32 units"
   ]
  },
  {
   "cell_type": "code",
   "execution_count": 51,
   "metadata": {},
   "outputs": [],
   "source": [
    "train_X, train_y = split_sequence(train_data['sfu'], 27)\n",
    "# print(\"train split done\")\n",
    "test_X, test_y = split_sequence(np.array(test_data['sfu']), 27)"
   ]
  },
  {
   "cell_type": "code",
   "execution_count": 53,
   "metadata": {},
   "outputs": [
    {
     "name": "stdout",
     "output_type": "stream",
     "text": [
      "Epoch 1/50\n"
     ]
    },
    {
     "name": "stderr",
     "output_type": "stream",
     "text": [
      "c:\\Users\\Swaroop\\AppData\\Local\\Programs\\Python\\Python38\\lib\\site-packages\\keras\\optimizers\\optimizer_v2\\adam.py:114: UserWarning: The `lr` argument is deprecated, use `learning_rate` instead.\n",
      "  super().__init__(name, **kwargs)\n"
     ]
    },
    {
     "name": "stdout",
     "output_type": "stream",
     "text": [
      "558/558 [==============================] - 14s 21ms/step - loss: 15805.8418 - val_loss: 450.5784\n",
      "Epoch 2/50\n",
      "558/558 [==============================] - 12s 21ms/step - loss: 319.1072 - val_loss: 255.3444\n",
      "Epoch 3/50\n",
      "558/558 [==============================] - 12s 22ms/step - loss: 196.1938 - val_loss: 262.3435\n",
      "Epoch 4/50\n",
      "558/558 [==============================] - 10s 18ms/step - loss: 408.4316 - val_loss: 379.1798\n",
      "Epoch 5/50\n",
      "558/558 [==============================] - 10s 19ms/step - loss: 434.1399 - val_loss: 351.2359\n",
      "Epoch 6/50\n",
      "558/558 [==============================] - 10s 19ms/step - loss: 337.5121 - val_loss: 262.4095\n",
      "Epoch 7/50\n",
      "558/558 [==============================] - 11s 19ms/step - loss: 714.4034 - val_loss: 402.0923\n",
      "Epoch 8/50\n",
      "558/558 [==============================] - 12s 21ms/step - loss: 599.0800 - val_loss: 468.7356\n",
      "Epoch 9/50\n",
      "558/558 [==============================] - 11s 20ms/step - loss: 586.9237 - val_loss: 396.5370\n",
      "Epoch 10/50\n",
      "558/558 [==============================] - 11s 19ms/step - loss: 531.5410 - val_loss: 362.4037\n",
      "Epoch 11/50\n",
      "558/558 [==============================] - 11s 19ms/step - loss: 481.7991 - val_loss: 335.3112\n",
      "Epoch 12/50\n",
      "558/558 [==============================] - 10s 18ms/step - loss: 461.1942 - val_loss: 316.4439\n",
      "Epoch 13/50\n",
      "558/558 [==============================] - 11s 19ms/step - loss: 398.8496 - val_loss: 302.0464\n",
      "Epoch 14/50\n",
      "558/558 [==============================] - 11s 20ms/step - loss: 369.1407 - val_loss: 280.0127\n",
      "Epoch 15/50\n",
      "558/558 [==============================] - 11s 19ms/step - loss: 347.2525 - val_loss: 270.6182\n",
      "Epoch 16/50\n",
      "558/558 [==============================] - 11s 19ms/step - loss: 328.3892 - val_loss: 259.3163\n",
      "Epoch 17/50\n",
      "558/558 [==============================] - 12s 21ms/step - loss: 309.8723 - val_loss: 241.8510\n",
      "Epoch 18/50\n",
      "558/558 [==============================] - 10s 18ms/step - loss: 291.5658 - val_loss: 251.7606\n",
      "Epoch 19/50\n",
      "558/558 [==============================] - 10s 19ms/step - loss: 228.0810 - val_loss: 298.3357\n",
      "Epoch 20/50\n",
      "558/558 [==============================] - 11s 19ms/step - loss: 4198.8677 - val_loss: 445.6480\n",
      "Epoch 21/50\n",
      "558/558 [==============================] - 10s 19ms/step - loss: 643.8745 - val_loss: 424.2426\n",
      "Epoch 22/50\n",
      "558/558 [==============================] - 11s 20ms/step - loss: 590.5996 - val_loss: 423.5844\n",
      "Epoch 23/50\n",
      "558/558 [==============================] - 11s 20ms/step - loss: 578.5328 - val_loss: 418.2102\n",
      "Epoch 24/50\n",
      "558/558 [==============================] - 10s 18ms/step - loss: 575.4553 - val_loss: 407.7183\n",
      "Epoch 25/50\n",
      "558/558 [==============================] - 10s 18ms/step - loss: 563.7545 - val_loss: 358.2567\n",
      "Epoch 26/50\n",
      "558/558 [==============================] - 11s 20ms/step - loss: 385.2749 - val_loss: 194.2414\n",
      "Epoch 27/50\n",
      "558/558 [==============================] - 10s 19ms/step - loss: 423.0161 - val_loss: 256.3700\n",
      "Epoch 28/50\n",
      "558/558 [==============================] - 11s 19ms/step - loss: 347.0204 - val_loss: 215.2799\n",
      "Epoch 29/50\n",
      "558/558 [==============================] - 11s 19ms/step - loss: 318.0278 - val_loss: 241.9208\n",
      "Epoch 30/50\n",
      "558/558 [==============================] - 10s 18ms/step - loss: 258.9792 - val_loss: 204.4551\n",
      "Epoch 31/50\n",
      "558/558 [==============================] - 11s 19ms/step - loss: 249.9405 - val_loss: 265.5833\n",
      "Epoch 32/50\n",
      "558/558 [==============================] - 10s 18ms/step - loss: 245.8081 - val_loss: 177.7449\n",
      "Epoch 33/50\n",
      "558/558 [==============================] - 10s 19ms/step - loss: 202.2962 - val_loss: 167.2375\n",
      "Epoch 34/50\n",
      "558/558 [==============================] - 11s 19ms/step - loss: 171.2252 - val_loss: 140.8076\n",
      "Epoch 35/50\n",
      "558/558 [==============================] - 10s 18ms/step - loss: 158.8999 - val_loss: 133.1000\n",
      "Epoch 36/50\n",
      "558/558 [==============================] - 10s 19ms/step - loss: 143.7871 - val_loss: 223.0157\n",
      "Epoch 37/50\n",
      "558/558 [==============================] - 10s 19ms/step - loss: 128.0381 - val_loss: 116.0434\n",
      "Epoch 38/50\n",
      "558/558 [==============================] - 11s 20ms/step - loss: 142.2102 - val_loss: 130.8047\n",
      "Epoch 39/50\n",
      "558/558 [==============================] - 11s 19ms/step - loss: 116.7431 - val_loss: 107.2717\n",
      "Epoch 40/50\n",
      "558/558 [==============================] - 11s 20ms/step - loss: 98.6610 - val_loss: 104.5254\n",
      "Epoch 41/50\n",
      "558/558 [==============================] - 11s 19ms/step - loss: 87.3577 - val_loss: 157.6953\n",
      "Epoch 42/50\n",
      "558/558 [==============================] - 10s 19ms/step - loss: 75.3224 - val_loss: 85.0551\n",
      "Epoch 43/50\n",
      "558/558 [==============================] - 11s 19ms/step - loss: 63.2887 - val_loss: 92.0179\n",
      "Epoch 44/50\n",
      "558/558 [==============================] - 10s 19ms/step - loss: 58.0528 - val_loss: 92.0586\n",
      "Epoch 45/50\n",
      "558/558 [==============================] - 10s 18ms/step - loss: 45.8617 - val_loss: 71.9153\n",
      "Epoch 46/50\n",
      "558/558 [==============================] - 11s 20ms/step - loss: 39.8958 - val_loss: 83.2852\n",
      "Epoch 47/50\n",
      "558/558 [==============================] - 10s 19ms/step - loss: 38.0812 - val_loss: 68.3494\n",
      "Epoch 48/50\n",
      "558/558 [==============================] - 10s 18ms/step - loss: 34.1149 - val_loss: 71.3868\n",
      "Epoch 49/50\n",
      "558/558 [==============================] - 11s 19ms/step - loss: 32.0667 - val_loss: 73.5370\n",
      "Epoch 50/50\n",
      "558/558 [==============================] - 11s 19ms/step - loss: 30.5855 - val_loss: 64.6051\n"
     ]
    }
   ],
   "source": [
    "from keras.models import Sequential\n",
    "from keras.layers import LSTM, Dense\n",
    "from keras.optimizers import Adam\n",
    "from keras.callbacks import ModelCheckpoint\n",
    "\n",
    "n_features = 1\n",
    "train_X = train_X.reshape((train_X.shape[0], train_X.shape[1], n_features))\n",
    "\n",
    "# Define model\n",
    "model = Sequential()\n",
    "model.add(LSTM(64, activation='relu',return_sequences= True,  input_shape=(n_steps, n_features)))\n",
    "model.add(LSTM(32, activation='relu'))\n",
    "model.add(Dense(1))\n",
    "\n",
    "# Compile model with learning rate of 0.001\n",
    "optimizer = Adam(lr=0.001)\n",
    "model.compile(optimizer=optimizer, loss='mse')\n",
    "\n",
    "# Define checkpoint callback\n",
    "checkpoint = ModelCheckpoint('2LayerLSTM6432.h5', monitor='val_loss', save_best_only=True, save_weights_only=True)\n",
    "\n",
    "# Fit model with checkpointing\n",
    "history = model.fit(train_X, train_y, epochs=50, verbose=1, validation_data = (test_X, test_y), callbacks=[checkpoint])"
   ]
  },
  {
   "cell_type": "code",
   "execution_count": 54,
   "metadata": {},
   "outputs": [
    {
     "data": {
      "text/plain": [
       "<AxesSubplot: >"
      ]
     },
     "execution_count": 54,
     "metadata": {},
     "output_type": "execute_result"
    },
    {
     "data": {
      "image/png": "[encoded data removed]",
      "text/plain": [
       "<Figure size 800x500 with 1 Axes>"
      ]
     },
     "metadata": {},
     "output_type": "display_data"
    }
   ],
   "source": [
    "pd.DataFrame(history.history).plot(figsize=(8,5))"
   ]
  },
  {
   "cell_type": "code",
   "execution_count": 55,
   "metadata": {},
   "outputs": [
    {
     "name": "stdout",
     "output_type": "stream",
     "text": [
      "R2 score: 0.9498129583135507\n",
      "RMSE:  9.713121414944831\n"
     ]
    }
   ],
   "source": [
    "from sklearn.metrics import r2_score, mean_squared_error\n",
    "\n",
    "# Assuming you have your true values in 'y_true' and predicted values in 'y_pred'\n",
    "r2 = r2_score(test_y, pred_y)\n",
    "rmse = np.sqrt(mean_squared_error(test_y, pred_y))\n",
    "\n",
    "\n",
    "print(\"R2 score:\", r2)\n",
    "print(\"RMSE: \", rmse)"
   ]
  },
  {
   "attachments": {},
   "cell_type": "markdown",
   "metadata": {},
   "source": [
    "2 LAYERED LSTM WITH BOTH RETURN_SEQ = True"
   ]
  },
  {
   "cell_type": "code",
   "execution_count": 57,
   "metadata": {},
   "outputs": [],
   "source": [
    "train_X, train_y = split_sequence(train_data['sfu'], 27)\n",
    "# print(\"train split done\")\n",
    "test_X, test_y = split_sequence(np.array(test_data['sfu']), 27)"
   ]
  },
  {
   "cell_type": "code",
   "execution_count": 71,
   "metadata": {},
   "outputs": [
    {
     "name": "stdout",
     "output_type": "stream",
     "text": [
      "Epoch 1/50\n"
     ]
    },
    {
     "name": "stderr",
     "output_type": "stream",
     "text": [
      "c:\\Users\\Swaroop\\AppData\\Local\\Programs\\Python\\Python38\\lib\\site-packages\\keras\\optimizers\\optimizer_v2\\adam.py:114: UserWarning: The `lr` argument is deprecated, use `learning_rate` instead.\n",
      "  super().__init__(name, **kwargs)\n"
     ]
    },
    {
     "name": "stdout",
     "output_type": "stream",
     "text": [
      "322/558 [================>.............] - ETA: 5s - loss: 13928.7051"
     ]
    },
    {
     "ename": "KeyboardInterrupt",
     "evalue": "",
     "output_type": "error",
     "traceback": [
      "\u001b[1;31m---------------------------------------------------------------------------\u001b[0m",
      "\u001b[1;31mKeyboardInterrupt\u001b[0m                         Traceback (most recent call last)",
      "\u001b[1;32mc:\\Users\\Swaroop\\isro project\\experimenting.ipynb Cell 25\u001b[0m in \u001b[0;36m2\n\u001b[0;32m     <a href='vscode-notebook-cell:/c%3A/Users/Swaroop/isro%20project/experimenting.ipynb#X34sZmlsZQ%3D%3D?line=20'>21</a>\u001b[0m checkpoint \u001b[39m=\u001b[39m ModelCheckpoint(\u001b[39m'\u001b[39m\u001b[39m2LayerLSTM6432_v2.h5\u001b[39m\u001b[39m'\u001b[39m, monitor\u001b[39m=\u001b[39m\u001b[39m'\u001b[39m\u001b[39mval_loss\u001b[39m\u001b[39m'\u001b[39m, save_best_only\u001b[39m=\u001b[39m\u001b[39mTrue\u001b[39;00m, save_weights_only\u001b[39m=\u001b[39m\u001b[39mTrue\u001b[39;00m)\n\u001b[0;32m     <a href='vscode-notebook-cell:/c%3A/Users/Swaroop/isro%20project/experimenting.ipynb#X34sZmlsZQ%3D%3D?line=22'>23</a>\u001b[0m \u001b[39m# Fit model with checkpointing\u001b[39;00m\n\u001b[1;32m---> <a href='vscode-notebook-cell:/c%3A/Users/Swaroop/isro%20project/experimenting.ipynb#X34sZmlsZQ%3D%3D?line=23'>24</a>\u001b[0m history \u001b[39m=\u001b[39m model\u001b[39m.\u001b[39;49mfit(train_X, train_y, epochs\u001b[39m=\u001b[39;49m\u001b[39m50\u001b[39;49m, verbose\u001b[39m=\u001b[39;49m\u001b[39m1\u001b[39;49m, validation_data \u001b[39m=\u001b[39;49m (test_X, test_y), callbacks\u001b[39m=\u001b[39;49m[checkpoint])\n",
      "File \u001b[1;32mc:\\Users\\Swaroop\\AppData\\Local\\Programs\\Python\\Python38\\lib\\site-packages\\keras\\utils\\traceback_utils.py:65\u001b[0m, in \u001b[0;36mfilter_traceback.<locals>.error_handler\u001b[1;34m(*args, **kwargs)\u001b[0m\n\u001b[0;32m     63\u001b[0m filtered_tb \u001b[39m=\u001b[39m \u001b[39mNone\u001b[39;00m\n\u001b[0;32m     64\u001b[0m \u001b[39mtry\u001b[39;00m:\n\u001b[1;32m---> 65\u001b[0m     \u001b[39mreturn\u001b[39;00m fn(\u001b[39m*\u001b[39;49margs, \u001b[39m*\u001b[39;49m\u001b[39m*\u001b[39;49mkwargs)\n\u001b[0;32m     66\u001b[0m \u001b[39mexcept\u001b[39;00m \u001b[39mException\u001b[39;00m \u001b[39mas\u001b[39;00m e:\n\u001b[0;32m     67\u001b[0m     filtered_tb \u001b[39m=\u001b[39m _process_traceback_frames(e\u001b[39m.\u001b[39m__traceback__)\n",
      "File \u001b[1;32mc:\\Users\\Swaroop\\AppData\\Local\\Programs\\Python\\Python38\\lib\\site-packages\\keras\\engine\\training.py:1564\u001b[0m, in \u001b[0;36mModel.fit\u001b[1;34m(self, x, y, batch_size, epochs, verbose, callbacks, validation_split, validation_data, shuffle, class_weight, sample_weight, initial_epoch, steps_per_epoch, validation_steps, validation_batch_size, validation_freq, max_queue_size, workers, use_multiprocessing)\u001b[0m\n\u001b[0;32m   1556\u001b[0m \u001b[39mwith\u001b[39;00m tf\u001b[39m.\u001b[39mprofiler\u001b[39m.\u001b[39mexperimental\u001b[39m.\u001b[39mTrace(\n\u001b[0;32m   1557\u001b[0m     \u001b[39m\"\u001b[39m\u001b[39mtrain\u001b[39m\u001b[39m\"\u001b[39m,\n\u001b[0;32m   1558\u001b[0m     epoch_num\u001b[39m=\u001b[39mepoch,\n\u001b[1;32m   (...)\u001b[0m\n\u001b[0;32m   1561\u001b[0m     _r\u001b[39m=\u001b[39m\u001b[39m1\u001b[39m,\n\u001b[0;32m   1562\u001b[0m ):\n\u001b[0;32m   1563\u001b[0m     callbacks\u001b[39m.\u001b[39mon_train_batch_begin(step)\n\u001b[1;32m-> 1564\u001b[0m     tmp_logs \u001b[39m=\u001b[39m \u001b[39mself\u001b[39;49m\u001b[39m.\u001b[39;49mtrain_function(iterator)\n\u001b[0;32m   1565\u001b[0m     \u001b[39mif\u001b[39;00m data_handler\u001b[39m.\u001b[39mshould_sync:\n\u001b[0;32m   1566\u001b[0m         context\u001b[39m.\u001b[39masync_wait()\n",
      "File \u001b[1;32mc:\\Users\\Swaroop\\AppData\\Local\\Programs\\Python\\Python38\\lib\\site-packages\\tensorflow\\python\\util\\traceback_utils.py:150\u001b[0m, in \u001b[0;36mfilter_traceback.<locals>.error_handler\u001b[1;34m(*args, **kwargs)\u001b[0m\n\u001b[0;32m    148\u001b[0m filtered_tb \u001b[39m=\u001b[39m \u001b[39mNone\u001b[39;00m\n\u001b[0;32m    149\u001b[0m \u001b[39mtry\u001b[39;00m:\n\u001b[1;32m--> 150\u001b[0m   \u001b[39mreturn\u001b[39;00m fn(\u001b[39m*\u001b[39;49margs, \u001b[39m*\u001b[39;49m\u001b[39m*\u001b[39;49mkwargs)\n\u001b[0;32m    151\u001b[0m \u001b[39mexcept\u001b[39;00m \u001b[39mException\u001b[39;00m \u001b[39mas\u001b[39;00m e:\n\u001b[0;32m    152\u001b[0m   filtered_tb \u001b[39m=\u001b[39m _process_traceback_frames(e\u001b[39m.\u001b[39m__traceback__)\n",
      "File \u001b[1;32mc:\\Users\\Swaroop\\AppData\\Local\\Programs\\Python\\Python38\\lib\\site-packages\\tensorflow\\python\\eager\\def_function.py:915\u001b[0m, in \u001b[0;36mFunction.__call__\u001b[1;34m(self, *args, **kwds)\u001b[0m\n\u001b[0;32m    912\u001b[0m compiler \u001b[39m=\u001b[39m \u001b[39m\"\u001b[39m\u001b[39mxla\u001b[39m\u001b[39m\"\u001b[39m \u001b[39mif\u001b[39;00m \u001b[39mself\u001b[39m\u001b[39m.\u001b[39m_jit_compile \u001b[39melse\u001b[39;00m \u001b[39m\"\u001b[39m\u001b[39mnonXla\u001b[39m\u001b[39m\"\u001b[39m\n\u001b[0;32m    914\u001b[0m \u001b[39mwith\u001b[39;00m OptionalXlaContext(\u001b[39mself\u001b[39m\u001b[39m.\u001b[39m_jit_compile):\n\u001b[1;32m--> 915\u001b[0m   result \u001b[39m=\u001b[39m \u001b[39mself\u001b[39;49m\u001b[39m.\u001b[39;49m_call(\u001b[39m*\u001b[39;49margs, \u001b[39m*\u001b[39;49m\u001b[39m*\u001b[39;49mkwds)\n\u001b[0;32m    917\u001b[0m new_tracing_count \u001b[39m=\u001b[39m \u001b[39mself\u001b[39m\u001b[39m.\u001b[39mexperimental_get_tracing_count()\n\u001b[0;32m    918\u001b[0m without_tracing \u001b[39m=\u001b[39m (tracing_count \u001b[39m==\u001b[39m new_tracing_count)\n",
      "File \u001b[1;32mc:\\Users\\Swaroop\\AppData\\Local\\Programs\\Python\\Python38\\lib\\site-packages\\tensorflow\\python\\eager\\def_function.py:947\u001b[0m, in \u001b[0;36mFunction._call\u001b[1;34m(self, *args, **kwds)\u001b[0m\n\u001b[0;32m    944\u001b[0m   \u001b[39mself\u001b[39m\u001b[39m.\u001b[39m_lock\u001b[39m.\u001b[39mrelease()\n\u001b[0;32m    945\u001b[0m   \u001b[39m# In this case we have created variables on the first call, so we run the\u001b[39;00m\n\u001b[0;32m    946\u001b[0m   \u001b[39m# defunned version which is guaranteed to never create variables.\u001b[39;00m\n\u001b[1;32m--> 947\u001b[0m   \u001b[39mreturn\u001b[39;00m \u001b[39mself\u001b[39;49m\u001b[39m.\u001b[39;49m_stateless_fn(\u001b[39m*\u001b[39;49margs, \u001b[39m*\u001b[39;49m\u001b[39m*\u001b[39;49mkwds)  \u001b[39m# pylint: disable=not-callable\u001b[39;00m\n\u001b[0;32m    948\u001b[0m \u001b[39melif\u001b[39;00m \u001b[39mself\u001b[39m\u001b[39m.\u001b[39m_stateful_fn \u001b[39mis\u001b[39;00m \u001b[39mnot\u001b[39;00m \u001b[39mNone\u001b[39;00m:\n\u001b[0;32m    949\u001b[0m   \u001b[39m# Release the lock early so that multiple threads can perform the call\u001b[39;00m\n\u001b[0;32m    950\u001b[0m   \u001b[39m# in parallel.\u001b[39;00m\n\u001b[0;32m    951\u001b[0m   \u001b[39mself\u001b[39m\u001b[39m.\u001b[39m_lock\u001b[39m.\u001b[39mrelease()\n",
      "File \u001b[1;32mc:\\Users\\Swaroop\\AppData\\Local\\Programs\\Python\\Python38\\lib\\site-packages\\tensorflow\\python\\eager\\function.py:2496\u001b[0m, in \u001b[0;36mFunction.__call__\u001b[1;34m(self, *args, **kwargs)\u001b[0m\n\u001b[0;32m   2493\u001b[0m \u001b[39mwith\u001b[39;00m \u001b[39mself\u001b[39m\u001b[39m.\u001b[39m_lock:\n\u001b[0;32m   2494\u001b[0m   (graph_function,\n\u001b[0;32m   2495\u001b[0m    filtered_flat_args) \u001b[39m=\u001b[39m \u001b[39mself\u001b[39m\u001b[39m.\u001b[39m_maybe_define_function(args, kwargs)\n\u001b[1;32m-> 2496\u001b[0m \u001b[39mreturn\u001b[39;00m graph_function\u001b[39m.\u001b[39;49m_call_flat(\n\u001b[0;32m   2497\u001b[0m     filtered_flat_args, captured_inputs\u001b[39m=\u001b[39;49mgraph_function\u001b[39m.\u001b[39;49mcaptured_inputs)\n",
      "File \u001b[1;32mc:\\Users\\Swaroop\\AppData\\Local\\Programs\\Python\\Python38\\lib\\site-packages\\tensorflow\\python\\eager\\function.py:1862\u001b[0m, in \u001b[0;36mConcreteFunction._call_flat\u001b[1;34m(self, args, captured_inputs, cancellation_manager)\u001b[0m\n\u001b[0;32m   1858\u001b[0m possible_gradient_type \u001b[39m=\u001b[39m gradients_util\u001b[39m.\u001b[39mPossibleTapeGradientTypes(args)\n\u001b[0;32m   1859\u001b[0m \u001b[39mif\u001b[39;00m (possible_gradient_type \u001b[39m==\u001b[39m gradients_util\u001b[39m.\u001b[39mPOSSIBLE_GRADIENT_TYPES_NONE\n\u001b[0;32m   1860\u001b[0m     \u001b[39mand\u001b[39;00m executing_eagerly):\n\u001b[0;32m   1861\u001b[0m   \u001b[39m# No tape is watching; skip to running the function.\u001b[39;00m\n\u001b[1;32m-> 1862\u001b[0m   \u001b[39mreturn\u001b[39;00m \u001b[39mself\u001b[39m\u001b[39m.\u001b[39m_build_call_outputs(\u001b[39mself\u001b[39;49m\u001b[39m.\u001b[39;49m_inference_function\u001b[39m.\u001b[39;49mcall(\n\u001b[0;32m   1863\u001b[0m       ctx, args, cancellation_manager\u001b[39m=\u001b[39;49mcancellation_manager))\n\u001b[0;32m   1864\u001b[0m forward_backward \u001b[39m=\u001b[39m \u001b[39mself\u001b[39m\u001b[39m.\u001b[39m_select_forward_and_backward_functions(\n\u001b[0;32m   1865\u001b[0m     args,\n\u001b[0;32m   1866\u001b[0m     possible_gradient_type,\n\u001b[0;32m   1867\u001b[0m     executing_eagerly)\n\u001b[0;32m   1868\u001b[0m forward_function, args_with_tangents \u001b[39m=\u001b[39m forward_backward\u001b[39m.\u001b[39mforward()\n",
      "File \u001b[1;32mc:\\Users\\Swaroop\\AppData\\Local\\Programs\\Python\\Python38\\lib\\site-packages\\tensorflow\\python\\eager\\function.py:499\u001b[0m, in \u001b[0;36m_EagerDefinedFunction.call\u001b[1;34m(self, ctx, args, cancellation_manager)\u001b[0m\n\u001b[0;32m    497\u001b[0m \u001b[39mwith\u001b[39;00m _InterpolateFunctionError(\u001b[39mself\u001b[39m):\n\u001b[0;32m    498\u001b[0m   \u001b[39mif\u001b[39;00m cancellation_manager \u001b[39mis\u001b[39;00m \u001b[39mNone\u001b[39;00m:\n\u001b[1;32m--> 499\u001b[0m     outputs \u001b[39m=\u001b[39m execute\u001b[39m.\u001b[39;49mexecute(\n\u001b[0;32m    500\u001b[0m         \u001b[39mstr\u001b[39;49m(\u001b[39mself\u001b[39;49m\u001b[39m.\u001b[39;49msignature\u001b[39m.\u001b[39;49mname),\n\u001b[0;32m    501\u001b[0m         num_outputs\u001b[39m=\u001b[39;49m\u001b[39mself\u001b[39;49m\u001b[39m.\u001b[39;49m_num_outputs,\n\u001b[0;32m    502\u001b[0m         inputs\u001b[39m=\u001b[39;49margs,\n\u001b[0;32m    503\u001b[0m         attrs\u001b[39m=\u001b[39;49mattrs,\n\u001b[0;32m    504\u001b[0m         ctx\u001b[39m=\u001b[39;49mctx)\n\u001b[0;32m    505\u001b[0m   \u001b[39melse\u001b[39;00m:\n\u001b[0;32m    506\u001b[0m     outputs \u001b[39m=\u001b[39m execute\u001b[39m.\u001b[39mexecute_with_cancellation(\n\u001b[0;32m    507\u001b[0m         \u001b[39mstr\u001b[39m(\u001b[39mself\u001b[39m\u001b[39m.\u001b[39msignature\u001b[39m.\u001b[39mname),\n\u001b[0;32m    508\u001b[0m         num_outputs\u001b[39m=\u001b[39m\u001b[39mself\u001b[39m\u001b[39m.\u001b[39m_num_outputs,\n\u001b[1;32m   (...)\u001b[0m\n\u001b[0;32m    511\u001b[0m         ctx\u001b[39m=\u001b[39mctx,\n\u001b[0;32m    512\u001b[0m         cancellation_manager\u001b[39m=\u001b[39mcancellation_manager)\n",
      "File \u001b[1;32mc:\\Users\\Swaroop\\AppData\\Local\\Programs\\Python\\Python38\\lib\\site-packages\\tensorflow\\python\\eager\\execute.py:54\u001b[0m, in \u001b[0;36mquick_execute\u001b[1;34m(op_name, num_outputs, inputs, attrs, ctx, name)\u001b[0m\n\u001b[0;32m     52\u001b[0m \u001b[39mtry\u001b[39;00m:\n\u001b[0;32m     53\u001b[0m   ctx\u001b[39m.\u001b[39mensure_initialized()\n\u001b[1;32m---> 54\u001b[0m   tensors \u001b[39m=\u001b[39m pywrap_tfe\u001b[39m.\u001b[39;49mTFE_Py_Execute(ctx\u001b[39m.\u001b[39;49m_handle, device_name, op_name,\n\u001b[0;32m     55\u001b[0m                                       inputs, attrs, num_outputs)\n\u001b[0;32m     56\u001b[0m \u001b[39mexcept\u001b[39;00m core\u001b[39m.\u001b[39m_NotOkStatusException \u001b[39mas\u001b[39;00m e:\n\u001b[0;32m     57\u001b[0m   \u001b[39mif\u001b[39;00m name \u001b[39mis\u001b[39;00m \u001b[39mnot\u001b[39;00m \u001b[39mNone\u001b[39;00m:\n",
      "\u001b[1;31mKeyboardInterrupt\u001b[0m: "
     ]
    }
   ],
   "source": [
    "from keras.models import Sequential\n",
    "from keras.layers import LSTM, Dense\n",
    "from keras.optimizers import Adam\n",
    "from keras.callbacks import ModelCheckpoint\n",
    "\n",
    "n_features = 1\n",
    "train_X = train_X.reshape((train_X.shape[0], train_X.shape[1], n_features))\n",
    "\n",
    "# Define model\n",
    "model = Sequential()\n",
    "model.add(LSTM(64, activation='relu', return_sequences= True,  input_shape=(n_steps, n_features)))\n",
    "model.add(LSTM(32, activation='relu', return_sequences=True))\n",
    "model.add(Dense(1))\n",
    "\n",
    "# Compile model with learning rate of 0.001\n",
    "optimizer = Adam(lr=0.001)\n",
    "model.compile(optimizer=optimizer, loss='mse')\n",
    "\n",
    "# Define checkpoint callback\n",
    "checkpoint = ModelCheckpoint('2LayerLSTM6432_v2.h5', monitor='val_loss', save_best_only=True, save_weights_only=True)\n",
    "\n",
    "# Fit model with checkpointing\n",
    "history = model.fit(train_X, train_y, epochs=50, verbose=1, validation_data = (test_X, test_y), callbacks=[checkpoint])"
   ]
  },
  {
   "cell_type": "code",
   "execution_count": 64,
   "metadata": {},
   "outputs": [
    {
     "name": "stdout",
     "output_type": "stream",
     "text": [
      "285/285 [==============================] - 2s 6ms/step\n"
     ]
    }
   ],
   "source": [
    "test_X = test_X.reshape((test_X.shape[0], test_X.shape[1], n_features))\n",
    "pred_y = model.predict(test_X)"
   ]
  },
  {
   "cell_type": "code",
   "execution_count": 63,
   "metadata": {},
   "outputs": [
    {
     "ename": "ValueError",
     "evalue": "Found array with dim 3. None expected <= 2.",
     "output_type": "error",
     "traceback": [
      "\u001b[1;31m---------------------------------------------------------------------------\u001b[0m",
      "\u001b[1;31mValueError\u001b[0m                                Traceback (most recent call last)",
      "\u001b[1;32mc:\\Users\\Swaroop\\isro project\\experimenting.ipynb Cell 27\u001b[0m in \u001b[0;36m4\n\u001b[0;32m      <a href='vscode-notebook-cell:/c%3A/Users/Swaroop/isro%20project/experimenting.ipynb#X36sZmlsZQ%3D%3D?line=0'>1</a>\u001b[0m \u001b[39mfrom\u001b[39;00m \u001b[39msklearn\u001b[39;00m\u001b[39m.\u001b[39;00m\u001b[39mmetrics\u001b[39;00m \u001b[39mimport\u001b[39;00m r2_score, mean_squared_error\n\u001b[0;32m      <a href='vscode-notebook-cell:/c%3A/Users/Swaroop/isro%20project/experimenting.ipynb#X36sZmlsZQ%3D%3D?line=2'>3</a>\u001b[0m \u001b[39m# Assuming you have your true values in 'y_true' and predicted values in 'y_pred'\u001b[39;00m\n\u001b[1;32m----> <a href='vscode-notebook-cell:/c%3A/Users/Swaroop/isro%20project/experimenting.ipynb#X36sZmlsZQ%3D%3D?line=3'>4</a>\u001b[0m r2 \u001b[39m=\u001b[39m r2_score(test_y, pred_y)\n\u001b[0;32m      <a href='vscode-notebook-cell:/c%3A/Users/Swaroop/isro%20project/experimenting.ipynb#X36sZmlsZQ%3D%3D?line=4'>5</a>\u001b[0m rmse \u001b[39m=\u001b[39m np\u001b[39m.\u001b[39msqrt(mean_squared_error(test_y, pred_y))\n\u001b[0;32m      <a href='vscode-notebook-cell:/c%3A/Users/Swaroop/isro%20project/experimenting.ipynb#X36sZmlsZQ%3D%3D?line=7'>8</a>\u001b[0m \u001b[39mprint\u001b[39m(\u001b[39m\"\u001b[39m\u001b[39mR2 score:\u001b[39m\u001b[39m\"\u001b[39m, r2)\n",
      "File \u001b[1;32mc:\\Users\\Swaroop\\AppData\\Local\\Programs\\Python\\Python38\\lib\\site-packages\\sklearn\\metrics\\_regression.py:911\u001b[0m, in \u001b[0;36mr2_score\u001b[1;34m(y_true, y_pred, sample_weight, multioutput, force_finite)\u001b[0m\n\u001b[0;32m    784\u001b[0m \u001b[39mdef\u001b[39;00m \u001b[39mr2_score\u001b[39m(\n\u001b[0;32m    785\u001b[0m     y_true,\n\u001b[0;32m    786\u001b[0m     y_pred,\n\u001b[1;32m   (...)\u001b[0m\n\u001b[0;32m    790\u001b[0m     force_finite\u001b[39m=\u001b[39m\u001b[39mTrue\u001b[39;00m,\n\u001b[0;32m    791\u001b[0m ):\n\u001b[0;32m    792\u001b[0m     \u001b[39m\"\"\":math:`R^2` (coefficient of determination) regression score function.\u001b[39;00m\n\u001b[0;32m    793\u001b[0m \n\u001b[0;32m    794\u001b[0m \u001b[39m    Best possible score is 1.0 and it can be negative (because the\u001b[39;00m\n\u001b[1;32m   (...)\u001b[0m\n\u001b[0;32m    909\u001b[0m \u001b[39m    -inf\u001b[39;00m\n\u001b[0;32m    910\u001b[0m \u001b[39m    \"\"\"\u001b[39;00m\n\u001b[1;32m--> 911\u001b[0m     y_type, y_true, y_pred, multioutput \u001b[39m=\u001b[39m _check_reg_targets(\n\u001b[0;32m    912\u001b[0m         y_true, y_pred, multioutput\n\u001b[0;32m    913\u001b[0m     )\n\u001b[0;32m    914\u001b[0m     check_consistent_length(y_true, y_pred, sample_weight)\n\u001b[0;32m    916\u001b[0m     \u001b[39mif\u001b[39;00m _num_samples(y_pred) \u001b[39m<\u001b[39m \u001b[39m2\u001b[39m:\n",
      "File \u001b[1;32mc:\\Users\\Swaroop\\AppData\\Local\\Programs\\Python\\Python38\\lib\\site-packages\\sklearn\\metrics\\_regression.py:102\u001b[0m, in \u001b[0;36m_check_reg_targets\u001b[1;34m(y_true, y_pred, multioutput, dtype)\u001b[0m\n\u001b[0;32m    100\u001b[0m check_consistent_length(y_true, y_pred)\n\u001b[0;32m    101\u001b[0m y_true \u001b[39m=\u001b[39m check_array(y_true, ensure_2d\u001b[39m=\u001b[39m\u001b[39mFalse\u001b[39;00m, dtype\u001b[39m=\u001b[39mdtype)\n\u001b[1;32m--> 102\u001b[0m y_pred \u001b[39m=\u001b[39m check_array(y_pred, ensure_2d\u001b[39m=\u001b[39;49m\u001b[39mFalse\u001b[39;49;00m, dtype\u001b[39m=\u001b[39;49mdtype)\n\u001b[0;32m    104\u001b[0m \u001b[39mif\u001b[39;00m y_true\u001b[39m.\u001b[39mndim \u001b[39m==\u001b[39m \u001b[39m1\u001b[39m:\n\u001b[0;32m    105\u001b[0m     y_true \u001b[39m=\u001b[39m y_true\u001b[39m.\u001b[39mreshape((\u001b[39m-\u001b[39m\u001b[39m1\u001b[39m, \u001b[39m1\u001b[39m))\n",
      "File \u001b[1;32mc:\\Users\\Swaroop\\AppData\\Local\\Programs\\Python\\Python38\\lib\\site-packages\\sklearn\\utils\\validation.py:893\u001b[0m, in \u001b[0;36mcheck_array\u001b[1;34m(array, accept_sparse, accept_large_sparse, dtype, order, copy, force_all_finite, ensure_2d, allow_nd, ensure_min_samples, ensure_min_features, estimator, input_name)\u001b[0m\n\u001b[0;32m    887\u001b[0m     \u001b[39mraise\u001b[39;00m \u001b[39mValueError\u001b[39;00m(\n\u001b[0;32m    888\u001b[0m         \u001b[39m\"\u001b[39m\u001b[39mdtype=\u001b[39m\u001b[39m'\u001b[39m\u001b[39mnumeric\u001b[39m\u001b[39m'\u001b[39m\u001b[39m is not compatible with arrays of bytes/strings.\u001b[39m\u001b[39m\"\u001b[39m\n\u001b[0;32m    889\u001b[0m         \u001b[39m\"\u001b[39m\u001b[39mConvert your data to numeric values explicitly instead.\u001b[39m\u001b[39m\"\u001b[39m\n\u001b[0;32m    890\u001b[0m     )\n\u001b[0;32m    892\u001b[0m \u001b[39mif\u001b[39;00m \u001b[39mnot\u001b[39;00m allow_nd \u001b[39mand\u001b[39;00m array\u001b[39m.\u001b[39mndim \u001b[39m>\u001b[39m\u001b[39m=\u001b[39m \u001b[39m3\u001b[39m:\n\u001b[1;32m--> 893\u001b[0m     \u001b[39mraise\u001b[39;00m \u001b[39mValueError\u001b[39;00m(\n\u001b[0;32m    894\u001b[0m         \u001b[39m\"\u001b[39m\u001b[39mFound array with dim \u001b[39m\u001b[39m%d\u001b[39;00m\u001b[39m. \u001b[39m\u001b[39m%s\u001b[39;00m\u001b[39m expected <= 2.\u001b[39m\u001b[39m\"\u001b[39m\n\u001b[0;32m    895\u001b[0m         \u001b[39m%\u001b[39m (array\u001b[39m.\u001b[39mndim, estimator_name)\n\u001b[0;32m    896\u001b[0m     )\n\u001b[0;32m    898\u001b[0m \u001b[39mif\u001b[39;00m force_all_finite:\n\u001b[0;32m    899\u001b[0m     _assert_all_finite(\n\u001b[0;32m    900\u001b[0m         array,\n\u001b[0;32m    901\u001b[0m         input_name\u001b[39m=\u001b[39minput_name,\n\u001b[0;32m    902\u001b[0m         estimator_name\u001b[39m=\u001b[39mestimator_name,\n\u001b[0;32m    903\u001b[0m         allow_nan\u001b[39m=\u001b[39mforce_all_finite \u001b[39m==\u001b[39m \u001b[39m\"\u001b[39m\u001b[39mallow-nan\u001b[39m\u001b[39m\"\u001b[39m,\n\u001b[0;32m    904\u001b[0m     )\n",
      "\u001b[1;31mValueError\u001b[0m: Found array with dim 3. None expected <= 2."
     ]
    }
   ],
   "source": [
    "from sklearn.metrics import r2_score, mean_squared_error\n",
    "\n",
    "# Assuming you have your true values in 'y_true' and predicted values in 'y_pred'\n",
    "r2 = r2_score(test_y, pred_y)\n",
    "rmse = np.sqrt(mean_squared_error(test_y, pred_y))\n",
    "\n",
    "\n",
    "print(\"R2 score:\", r2)\n",
    "print(\"RMSE: \", rmse)"
   ]
  },
  {
   "attachments": {},
   "cell_type": "markdown",
   "metadata": {},
   "source": [
    "3 Layered LSTM "
   ]
  },
  {
   "cell_type": "code",
   "execution_count": null,
   "metadata": {},
   "outputs": [],
   "source": [
    "train_X, train_y = split_sequence(train_data['sfu'], 27)\n",
    "# print(\"train split done\")\n",
    "test_X, test_y = split_sequence(np.array(test_data['sfu']), 27)"
   ]
  },
  {
   "cell_type": "code",
   "execution_count": 72,
   "metadata": {},
   "outputs": [
    {
     "name": "stdout",
     "output_type": "stream",
     "text": [
      "Epoch 1/50\n"
     ]
    },
    {
     "name": "stderr",
     "output_type": "stream",
     "text": [
      "c:\\Users\\Swaroop\\AppData\\Local\\Programs\\Python\\Python38\\lib\\site-packages\\keras\\optimizers\\optimizer_v2\\adam.py:114: UserWarning: The `lr` argument is deprecated, use `learning_rate` instead.\n",
      "  super().__init__(name, **kwargs)\n"
     ]
    },
    {
     "name": "stdout",
     "output_type": "stream",
     "text": [
      "558/558 [==============================] - 20s 29ms/step - loss: 5037.4058 - val_loss: 681.5106\n",
      "Epoch 2/50\n",
      "558/558 [==============================] - 15s 27ms/step - loss: 1514.5847 - val_loss: 682.6987\n",
      "Epoch 3/50\n",
      "558/558 [==============================] - 14s 26ms/step - loss: 936.0818 - val_loss: 468.7449\n",
      "Epoch 4/50\n",
      "558/558 [==============================] - 14s 26ms/step - loss: 626.7081 - val_loss: 387.4768\n",
      "Epoch 5/50\n",
      "558/558 [==============================] - 14s 26ms/step - loss: 383.7231 - val_loss: 317.8738\n",
      "Epoch 6/50\n",
      "558/558 [==============================] - 14s 26ms/step - loss: 386.9725 - val_loss: 274.4425\n",
      "Epoch 7/50\n",
      "558/558 [==============================] - 15s 26ms/step - loss: 285.8145 - val_loss: 242.0559\n",
      "Epoch 8/50\n",
      "558/558 [==============================] - 14s 26ms/step - loss: 240.5510 - val_loss: 210.7982\n",
      "Epoch 9/50\n",
      "558/558 [==============================] - 14s 26ms/step - loss: 245.4944 - val_loss: 193.7261\n",
      "Epoch 10/50\n",
      "558/558 [==============================] - 14s 25ms/step - loss: 249.7935 - val_loss: 202.5953\n",
      "Epoch 11/50\n",
      "558/558 [==============================] - 14s 25ms/step - loss: 217.5194 - val_loss: 299.5486\n",
      "Epoch 12/50\n",
      "558/558 [==============================] - 14s 25ms/step - loss: 184.9106 - val_loss: 161.4923\n",
      "Epoch 13/50\n",
      "558/558 [==============================] - 14s 25ms/step - loss: 180.3705 - val_loss: 118.3829\n",
      "Epoch 14/50\n",
      "558/558 [==============================] - 14s 26ms/step - loss: 94.9231 - val_loss: 81.9326\n",
      "Epoch 15/50\n",
      "558/558 [==============================] - 15s 26ms/step - loss: 68.2060 - val_loss: 83.6615\n",
      "Epoch 16/50\n",
      "558/558 [==============================] - 15s 26ms/step - loss: 69.1412 - val_loss: 77.8580\n",
      "Epoch 17/50\n",
      "558/558 [==============================] - 15s 28ms/step - loss: 61.6431 - val_loss: 70.7641\n",
      "Epoch 18/50\n",
      "558/558 [==============================] - 14s 26ms/step - loss: 59.5636 - val_loss: 117.7047\n",
      "Epoch 19/50\n",
      "558/558 [==============================] - 14s 26ms/step - loss: 69.0589 - val_loss: 67.1189\n",
      "Epoch 20/50\n",
      "558/558 [==============================] - 14s 26ms/step - loss: 59.0989 - val_loss: 68.3954\n",
      "Epoch 21/50\n",
      "558/558 [==============================] - 14s 26ms/step - loss: 57.5506 - val_loss: 83.3859\n",
      "Epoch 22/50\n",
      "558/558 [==============================] - 14s 26ms/step - loss: 281.9267 - val_loss: 2104.4109\n",
      "Epoch 23/50\n",
      "558/558 [==============================] - 14s 26ms/step - loss: 16138420.0000 - val_loss: 903.1770\n",
      "Epoch 24/50\n",
      "558/558 [==============================] - 14s 26ms/step - loss: 62675.1641 - val_loss: 526.0665\n",
      "Epoch 25/50\n",
      "558/558 [==============================] - 14s 26ms/step - loss: 646.5074 - val_loss: 554.5016\n",
      "Epoch 26/50\n",
      "558/558 [==============================] - 14s 26ms/step - loss: 640.2762 - val_loss: 522.3641\n",
      "Epoch 27/50\n",
      "558/558 [==============================] - 14s 26ms/step - loss: 639.5883 - val_loss: 519.1286\n",
      "Epoch 28/50\n",
      "558/558 [==============================] - 15s 26ms/step - loss: 637.1215 - val_loss: 521.0959\n",
      "Epoch 29/50\n",
      "558/558 [==============================] - 14s 26ms/step - loss: 643.1787 - val_loss: 496.3823\n",
      "Epoch 30/50\n",
      "558/558 [==============================] - 15s 26ms/step - loss: 629.2119 - val_loss: 475.9409\n",
      "Epoch 31/50\n",
      "558/558 [==============================] - 14s 26ms/step - loss: 628.4250 - val_loss: 515.3339\n",
      "Epoch 32/50\n",
      "558/558 [==============================] - 14s 26ms/step - loss: 632.0573 - val_loss: 540.1255\n",
      "Epoch 33/50\n",
      "558/558 [==============================] - 14s 26ms/step - loss: 615.8679 - val_loss: 517.8492\n",
      "Epoch 34/50\n",
      "558/558 [==============================] - 14s 26ms/step - loss: 618.7619 - val_loss: 492.5758\n",
      "Epoch 35/50\n",
      "558/558 [==============================] - 14s 26ms/step - loss: 612.4830 - val_loss: 514.9985\n",
      "Epoch 36/50\n",
      "558/558 [==============================] - 14s 26ms/step - loss: 609.6292 - val_loss: 533.1710\n",
      "Epoch 37/50\n",
      "558/558 [==============================] - 14s 26ms/step - loss: 611.4969 - val_loss: 497.1972\n",
      "Epoch 38/50\n",
      "558/558 [==============================] - 14s 26ms/step - loss: 605.9907 - val_loss: 491.9130\n",
      "Epoch 39/50\n",
      "558/558 [==============================] - 14s 26ms/step - loss: 610.7610 - val_loss: 474.6167\n",
      "Epoch 40/50\n",
      "558/558 [==============================] - 15s 26ms/step - loss: 606.4099 - val_loss: 461.0982\n",
      "Epoch 41/50\n",
      "558/558 [==============================] - 15s 27ms/step - loss: 602.6472 - val_loss: 490.3281\n",
      "Epoch 42/50\n",
      "558/558 [==============================] - 20s 35ms/step - loss: 603.7759 - val_loss: 469.2826\n",
      "Epoch 43/50\n",
      "558/558 [==============================] - 15s 27ms/step - loss: 605.4609 - val_loss: 481.4398\n",
      "Epoch 44/50\n",
      "558/558 [==============================] - 16s 29ms/step - loss: 605.5042 - val_loss: 453.6268\n",
      "Epoch 45/50\n",
      "558/558 [==============================] - 15s 28ms/step - loss: 600.0900 - val_loss: 466.9851\n",
      "Epoch 46/50\n",
      "558/558 [==============================] - 16s 28ms/step - loss: 624.3661 - val_loss: 470.1927\n",
      "Epoch 47/50\n",
      "558/558 [==============================] - 16s 28ms/step - loss: 601.4359 - val_loss: 477.0942\n",
      "Epoch 48/50\n",
      "558/558 [==============================] - 16s 29ms/step - loss: 596.4681 - val_loss: 486.6483\n",
      "Epoch 49/50\n",
      "558/558 [==============================] - 15s 26ms/step - loss: 605.5397 - val_loss: 479.2662\n",
      "Epoch 50/50\n",
      "558/558 [==============================] - 15s 27ms/step - loss: 597.6083 - val_loss: 528.3000\n"
     ]
    }
   ],
   "source": [
    "from keras.models import Sequential\n",
    "from keras.layers import LSTM, Dense\n",
    "from keras.optimizers import Adam\n",
    "from keras.callbacks import ModelCheckpoint\n",
    "\n",
    "n_features = 1\n",
    "train_X = train_X.reshape((train_X.shape[0], train_X.shape[1], n_features))\n",
    "\n",
    "# Define model\n",
    "model = Sequential()\n",
    "model.add(LSTM(64, activation='relu', return_sequences= True,  input_shape=(n_steps, n_features)))\n",
    "model.add(LSTM(32, activation='relu', return_sequences=True))\n",
    "model.add(LSTM(16, activation='relu'))\n",
    "model.add(Dense(1))\n",
    "\n",
    "# Compile model with learning rate of 0.001\n",
    "optimizer = Adam(lr=0.001)\n",
    "model.compile(optimizer=optimizer, loss='mse')\n",
    "\n",
    "# Define checkpoint callback\n",
    "checkpoint = ModelCheckpoint('3LayerLSTM643216.h5', monitor='val_loss', save_best_only=True, save_weights_only=True)\n",
    "\n",
    "# Fit model with checkpointing\n",
    "history = model.fit(train_X, train_y, epochs=50, verbose=1, validation_data = (test_X, test_y), callbacks=[checkpoint])"
   ]
  },
  {
   "cell_type": "code",
   "execution_count": 75,
   "metadata": {},
   "outputs": [
    {
     "data": {
      "text/plain": [
       "<AxesSubplot: >"
      ]
     },
     "execution_count": 75,
     "metadata": {},
     "output_type": "execute_result"
    },
    {
     "data": {
      "image/png": "[encoded data removed]",
      "text/plain": [
       "<Figure size 800x500 with 1 Axes>"
      ]
     },
     "metadata": {},
     "output_type": "display_data"
    }
   ],
   "source": [
    "pd.DataFrame(history.history).plot(figsize=(8,5))"
   ]
  },
  {
   "cell_type": "code",
   "execution_count": 73,
   "metadata": {},
   "outputs": [
    {
     "name": "stdout",
     "output_type": "stream",
     "text": [
      "285/285 [==============================] - 3s 8ms/step\n"
     ]
    }
   ],
   "source": [
    "test_X = test_X.reshape((test_X.shape[0], test_X.shape[1], n_features))\n",
    "pred_y = model.predict(test_X)"
   ]
  },
  {
   "cell_type": "code",
   "execution_count": 74,
   "metadata": {},
   "outputs": [
    {
     "name": "stdout",
     "output_type": "stream",
     "text": [
      "R2 score: 0.7189686860114571\n",
      "RMSE:  22.98478131989393\n"
     ]
    }
   ],
   "source": [
    "from sklearn.metrics import r2_score, mean_squared_error\n",
    "\n",
    "# Assuming you have your true values in 'y_true' and predicted values in 'y_pred'\n",
    "r2 = r2_score(test_y, pred_y)\n",
    "rmse = np.sqrt(mean_squared_error(test_y, pred_y))\n",
    "\n",
    "\n",
    "print(\"R2 score:\", r2)\n",
    "print(\"RMSE: \", rmse)"
   ]
  },
  {
   "attachments": {},
   "cell_type": "markdown",
   "metadata": {},
   "source": [
    "CNN LSTM MODEL"
   ]
  },
  {
   "cell_type": "code",
   "execution_count": 76,
   "metadata": {},
   "outputs": [],
   "source": [
    "train_X, train_y = split_sequence(train_data['sfu'], 27)\n",
    "# print(\"train split done\")\n",
    "test_X, test_y = split_sequence(np.array(test_data['sfu']), 27)"
   ]
  },
  {
   "cell_type": "code",
   "execution_count": 77,
   "metadata": {},
   "outputs": [
    {
     "name": "stdout",
     "output_type": "stream",
     "text": [
      "Train set shape (17826, 1, 27, 1)\n"
     ]
    }
   ],
   "source": [
    "subsequences = 1\n",
    "timesteps = train_X.shape[1]//subsequences\n",
    "train_X = train_X.reshape((train_X.shape[0], subsequences, timesteps, 1))\n",
    "test_X = test_X.reshape((test_X.shape[0], subsequences, timesteps, 1))\n",
    "print('Train set shape', train_X.shape)"
   ]
  },
  {
   "cell_type": "code",
   "execution_count": 83,
   "metadata": {},
   "outputs": [
    {
     "name": "stdout",
     "output_type": "stream",
     "text": [
      "Epoch 1/50\n",
      "558/558 [==============================] - 5s 6ms/step - loss: 487.2914 - val_loss: 199.7863\n",
      "Epoch 2/50\n",
      "558/558 [==============================] - 3s 5ms/step - loss: 157.0451 - val_loss: 164.0298\n",
      "Epoch 3/50\n",
      "558/558 [==============================] - 3s 5ms/step - loss: 123.7813 - val_loss: 169.7198\n",
      "Epoch 4/50\n",
      "558/558 [==============================] - 2s 4ms/step - loss: 114.9194 - val_loss: 171.2453\n",
      "Epoch 5/50\n",
      "558/558 [==============================] - 2s 4ms/step - loss: 110.6642 - val_loss: 178.3033\n",
      "Epoch 6/50\n",
      "558/558 [==============================] - 2s 4ms/step - loss: 105.5520 - val_loss: 179.7160\n",
      "Epoch 7/50\n",
      "558/558 [==============================] - 2s 4ms/step - loss: 108.0467 - val_loss: 176.8785\n",
      "Epoch 8/50\n",
      "558/558 [==============================] - 3s 5ms/step - loss: 103.4055 - val_loss: 183.7424\n",
      "Epoch 9/50\n",
      "558/558 [==============================] - 2s 4ms/step - loss: 101.6039 - val_loss: 242.0047\n",
      "Epoch 10/50\n",
      "558/558 [==============================] - 3s 5ms/step - loss: 101.2677 - val_loss: 186.8869\n",
      "Epoch 11/50\n",
      "558/558 [==============================] - 3s 5ms/step - loss: 98.1403 - val_loss: 423.1257\n",
      "Epoch 12/50\n",
      "558/558 [==============================] - 3s 5ms/step - loss: 107.3196 - val_loss: 188.7824\n",
      "Epoch 13/50\n",
      "558/558 [==============================] - 3s 5ms/step - loss: 97.4430 - val_loss: 201.1475\n",
      "Epoch 14/50\n",
      "558/558 [==============================] - 3s 5ms/step - loss: 96.3994 - val_loss: 202.6764\n",
      "Epoch 15/50\n",
      "558/558 [==============================] - 3s 5ms/step - loss: 95.9195 - val_loss: 194.4377\n",
      "Epoch 16/50\n",
      "558/558 [==============================] - 2s 4ms/step - loss: 97.6913 - val_loss: 193.5958\n",
      "Epoch 17/50\n",
      "558/558 [==============================] - 3s 5ms/step - loss: 95.9346 - val_loss: 196.6014\n",
      "Epoch 18/50\n",
      "558/558 [==============================] - 2s 4ms/step - loss: 95.3918 - val_loss: 210.9673\n",
      "Epoch 19/50\n",
      "558/558 [==============================] - 3s 5ms/step - loss: 99.5660 - val_loss: 203.5595\n",
      "Epoch 20/50\n",
      "558/558 [==============================] - 3s 5ms/step - loss: 94.8427 - val_loss: 200.4847\n",
      "Epoch 21/50\n",
      "558/558 [==============================] - 2s 4ms/step - loss: 97.2062 - val_loss: 201.4220\n",
      "Epoch 22/50\n",
      "558/558 [==============================] - 3s 5ms/step - loss: 99.7644 - val_loss: 190.0758\n",
      "Epoch 23/50\n",
      "558/558 [==============================] - 3s 5ms/step - loss: 94.6488 - val_loss: 203.8877\n",
      "Epoch 24/50\n",
      "558/558 [==============================] - 2s 4ms/step - loss: 98.2682 - val_loss: 205.2281\n",
      "Epoch 25/50\n",
      "558/558 [==============================] - 3s 5ms/step - loss: 95.5759 - val_loss: 200.9723\n",
      "Epoch 26/50\n",
      "558/558 [==============================] - 3s 5ms/step - loss: 98.3195 - val_loss: 218.0736\n",
      "Epoch 27/50\n",
      "558/558 [==============================] - 3s 5ms/step - loss: 94.3189 - val_loss: 194.8652\n",
      "Epoch 28/50\n",
      "558/558 [==============================] - 2s 4ms/step - loss: 95.2711 - val_loss: 197.0995\n",
      "Epoch 29/50\n",
      "558/558 [==============================] - 2s 4ms/step - loss: 94.3796 - val_loss: 217.2151\n",
      "Epoch 30/50\n",
      "558/558 [==============================] - 2s 4ms/step - loss: 96.1165 - val_loss: 190.3891\n",
      "Epoch 31/50\n",
      "558/558 [==============================] - 2s 4ms/step - loss: 92.9299 - val_loss: 202.5010\n",
      "Epoch 32/50\n",
      "558/558 [==============================] - 3s 6ms/step - loss: 95.2799 - val_loss: 198.7728\n",
      "Epoch 33/50\n",
      "558/558 [==============================] - 4s 7ms/step - loss: 94.6586 - val_loss: 206.7819\n",
      "Epoch 34/50\n",
      "558/558 [==============================] - 4s 7ms/step - loss: 96.8986 - val_loss: 205.1472\n",
      "Epoch 35/50\n",
      "558/558 [==============================] - 3s 5ms/step - loss: 92.6055 - val_loss: 201.6906\n",
      "Epoch 36/50\n",
      "558/558 [==============================] - 2s 4ms/step - loss: 93.9248 - val_loss: 212.3860\n",
      "Epoch 37/50\n",
      "558/558 [==============================] - 2s 4ms/step - loss: 92.6166 - val_loss: 214.6336\n",
      "Epoch 38/50\n",
      "558/558 [==============================] - 2s 4ms/step - loss: 92.9133 - val_loss: 202.2706\n",
      "Epoch 39/50\n",
      "558/558 [==============================] - 3s 5ms/step - loss: 95.4352 - val_loss: 205.6260\n",
      "Epoch 40/50\n",
      "558/558 [==============================] - 2s 4ms/step - loss: 93.5832 - val_loss: 207.8053\n",
      "Epoch 41/50\n",
      "558/558 [==============================] - 2s 4ms/step - loss: 92.7722 - val_loss: 212.7626\n",
      "Epoch 42/50\n",
      "558/558 [==============================] - 2s 4ms/step - loss: 94.6324 - val_loss: 245.1081\n",
      "Epoch 43/50\n",
      "558/558 [==============================] - 2s 4ms/step - loss: 95.7977 - val_loss: 211.3569\n",
      "Epoch 44/50\n",
      "558/558 [==============================] - 2s 4ms/step - loss: 92.7862 - val_loss: 228.7979\n",
      "Epoch 45/50\n",
      "558/558 [==============================] - 2s 4ms/step - loss: 94.6727 - val_loss: 219.6050\n",
      "Epoch 46/50\n",
      "558/558 [==============================] - 2s 4ms/step - loss: 94.2496 - val_loss: 270.6613\n",
      "Epoch 47/50\n",
      "558/558 [==============================] - 2s 4ms/step - loss: 93.0405 - val_loss: 213.2757\n",
      "Epoch 48/50\n",
      "558/558 [==============================] - 2s 4ms/step - loss: 91.1552 - val_loss: 202.2334\n",
      "Epoch 49/50\n",
      "558/558 [==============================] - 2s 4ms/step - loss: 93.6364 - val_loss: 211.0530\n",
      "Epoch 50/50\n",
      "558/558 [==============================] - 2s 4ms/step - loss: 93.3636 - val_loss: 211.1720\n"
     ]
    }
   ],
   "source": [
    "from keras.models import Sequential\n",
    "from keras.layers import LSTM, Dense, MaxPooling1D, Flatten, Conv1D, TimeDistributed\n",
    "from keras.optimizers import Adam\n",
    "from keras.callbacks import ModelCheckpoint\n",
    "\n",
    "\n",
    "model_cnn_lstm = Sequential()\n",
    "model_cnn_lstm.add(TimeDistributed(Conv1D(filters=64, kernel_size=1, activation='relu'), input_shape=(None, n_steps, n_features)))\n",
    "model_cnn_lstm.add(TimeDistributed(MaxPooling1D(pool_size=2)))\n",
    "model_cnn_lstm.add(TimeDistributed(Flatten()))\n",
    "model_cnn_lstm.add(LSTM(50, activation='relu'))\n",
    "model_cnn_lstm.add(Dense(1))\n",
    "model_cnn_lstm.compile(loss='mse', optimizer='adam')\n",
    "\n",
    "optimizer = Adam(lr=0.001)\n",
    "model_cnn_lstm.compile(optimizer=optimizer, loss='mse')\n",
    "# Define checkpoint callback\n",
    "checkpoint = ModelCheckpoint('CNNLSTM50.h5', monitor='val_loss', save_best_only=True, save_weights_only=True)\n",
    "\n",
    "history = model_cnn_lstm.fit(train_X, train_y, epochs=50, verbose=1, validation_data = (test_X, test_y), callbacks=[checkpoint])"
   ]
  },
  {
   "cell_type": "code",
   "execution_count": 86,
   "metadata": {},
   "outputs": [],
   "source": [
    "test_X = test_X.reshape((test_X.shape[0], subsequences, timesteps, 1))"
   ]
  },
  {
   "cell_type": "code",
   "execution_count": 89,
   "metadata": {},
   "outputs": [
    {
     "name": "stdout",
     "output_type": "stream",
     "text": [
      "285/285 [==============================] - 1s 2ms/step\n"
     ]
    }
   ],
   "source": [
    "# test_X = test_X.reshape((test_X.shape[0], test_X.shape[1], n_features)) this is already done above\n",
    "pred_y = model_cnn_lstm.predict(test_X)"
   ]
  },
  {
   "cell_type": "code",
   "execution_count": 90,
   "metadata": {},
   "outputs": [
    {
     "name": "stdout",
     "output_type": "stream",
     "text": [
      "R2 score: 0.8876662352494111\n",
      "RMSE:  14.531758647404613\n"
     ]
    }
   ],
   "source": [
    "from sklearn.metrics import r2_score, mean_squared_error\n",
    "\n",
    "# Assuming you have your true values in 'y_true' and predicted values in 'y_pred'\n",
    "r2 = r2_score(test_y, pred_y)\n",
    "rmse = np.sqrt(mean_squared_error(test_y, pred_y))\n",
    "\n",
    "\n",
    "print(\"R2 score:\", r2)\n",
    "print(\"RMSE: \", rmse)"
   ]
  },
  {
   "attachments": {},
   "cell_type": "markdown",
   "metadata": {},
   "source": [
    "2 cnn lstm"
   ]
  },
  {
   "cell_type": "code",
   "execution_count": 91,
   "metadata": {},
   "outputs": [],
   "source": [
    "train_X, train_y = split_sequence(train_data['sfu'], 27)\n",
    "# print(\"train split done\")\n",
    "test_X, test_y = split_sequence(np.array(test_data['sfu']), 27)"
   ]
  },
  {
   "cell_type": "code",
   "execution_count": 92,
   "metadata": {},
   "outputs": [
    {
     "name": "stdout",
     "output_type": "stream",
     "text": [
      "Train set shape (17826, 1, 27, 1)\n"
     ]
    }
   ],
   "source": [
    "subsequences = 1\n",
    "timesteps = train_X.shape[1]//subsequences\n",
    "train_X = train_X.reshape((train_X.shape[0], subsequences, timesteps, 1))\n",
    "test_X = test_X.reshape((test_X.shape[0], subsequences, timesteps, 1))\n",
    "print('Train set shape', train_X.shape)"
   ]
  },
  {
   "cell_type": "code",
   "execution_count": 106,
   "metadata": {},
   "outputs": [
    {
     "name": "stdout",
     "output_type": "stream",
     "text": [
      "Epoch 1/50\n"
     ]
    },
    {
     "name": "stderr",
     "output_type": "stream",
     "text": [
      "c:\\Users\\Swaroop\\AppData\\Local\\Programs\\Python\\Python38\\lib\\site-packages\\keras\\optimizers\\optimizer_v2\\adam.py:114: UserWarning: The `lr` argument is deprecated, use `learning_rate` instead.\n",
      "  super().__init__(name, **kwargs)\n"
     ]
    },
    {
     "name": "stdout",
     "output_type": "stream",
     "text": [
      "558/558 [==============================] - 4s 5ms/step - loss: 913.4976 - val_loss: 347.9606\n",
      "Epoch 2/50\n",
      "558/558 [==============================] - 2s 4ms/step - loss: 324.7936 - val_loss: 247.4067\n",
      "Epoch 3/50\n",
      "558/558 [==============================] - 2s 4ms/step - loss: 250.7277 - val_loss: 240.4401\n",
      "Epoch 4/50\n",
      "558/558 [==============================] - 2s 4ms/step - loss: 215.2297 - val_loss: 239.6161\n",
      "Epoch 5/50\n",
      "558/558 [==============================] - 2s 4ms/step - loss: 206.4836 - val_loss: 222.4698\n",
      "Epoch 6/50\n",
      "558/558 [==============================] - 2s 4ms/step - loss: 208.6369 - val_loss: 247.5169\n",
      "Epoch 7/50\n",
      "558/558 [==============================] - 2s 4ms/step - loss: 199.2776 - val_loss: 367.9029\n",
      "Epoch 8/50\n",
      "558/558 [==============================] - 2s 4ms/step - loss: 198.8256 - val_loss: 245.8838\n",
      "Epoch 9/50\n",
      "558/558 [==============================] - 2s 4ms/step - loss: 182.8514 - val_loss: 250.3825\n",
      "Epoch 10/50\n",
      "558/558 [==============================] - 2s 4ms/step - loss: 182.3668 - val_loss: 231.2024\n",
      "Epoch 11/50\n",
      "558/558 [==============================] - 2s 4ms/step - loss: 182.2948 - val_loss: 274.3831\n",
      "Epoch 12/50\n",
      "558/558 [==============================] - 2s 4ms/step - loss: 175.0298 - val_loss: 232.0128\n",
      "Epoch 13/50\n",
      "558/558 [==============================] - 2s 4ms/step - loss: 173.3030 - val_loss: 222.5819\n",
      "Epoch 14/50\n",
      "558/558 [==============================] - 2s 4ms/step - loss: 174.2974 - val_loss: 453.0663\n",
      "Epoch 15/50\n",
      "558/558 [==============================] - 2s 4ms/step - loss: 169.0653 - val_loss: 229.1742\n",
      "Epoch 16/50\n",
      "558/558 [==============================] - 2s 4ms/step - loss: 167.3180 - val_loss: 281.1208\n",
      "Epoch 17/50\n",
      "558/558 [==============================] - 2s 4ms/step - loss: 164.1868 - val_loss: 215.1764\n",
      "Epoch 18/50\n",
      "558/558 [==============================] - 2s 4ms/step - loss: 164.9800 - val_loss: 213.9874\n",
      "Epoch 19/50\n",
      "558/558 [==============================] - 2s 4ms/step - loss: 162.1092 - val_loss: 228.1825\n",
      "Epoch 20/50\n",
      "558/558 [==============================] - 2s 4ms/step - loss: 163.6849 - val_loss: 206.1698\n",
      "Epoch 21/50\n",
      "558/558 [==============================] - 2s 4ms/step - loss: 155.1809 - val_loss: 233.6063\n",
      "Epoch 22/50\n",
      "558/558 [==============================] - 2s 4ms/step - loss: 155.6495 - val_loss: 276.9662\n",
      "Epoch 23/50\n",
      "558/558 [==============================] - 2s 4ms/step - loss: 155.3187 - val_loss: 231.3120\n",
      "Epoch 24/50\n",
      "558/558 [==============================] - 2s 4ms/step - loss: 153.3786 - val_loss: 225.4981\n",
      "Epoch 25/50\n",
      "558/558 [==============================] - 2s 4ms/step - loss: 153.9873 - val_loss: 227.8692\n",
      "Epoch 26/50\n",
      "558/558 [==============================] - 2s 4ms/step - loss: 152.1450 - val_loss: 240.6509\n",
      "Epoch 27/50\n",
      "558/558 [==============================] - 2s 4ms/step - loss: 151.9770 - val_loss: 226.6466\n",
      "Epoch 28/50\n",
      "558/558 [==============================] - 2s 4ms/step - loss: 150.6990 - val_loss: 227.2713\n",
      "Epoch 29/50\n",
      "558/558 [==============================] - 2s 4ms/step - loss: 147.7916 - val_loss: 255.4205\n",
      "Epoch 30/50\n",
      "558/558 [==============================] - 2s 4ms/step - loss: 148.2844 - val_loss: 260.9478\n",
      "Epoch 31/50\n",
      "558/558 [==============================] - 2s 4ms/step - loss: 146.5642 - val_loss: 217.3755\n",
      "Epoch 32/50\n",
      "558/558 [==============================] - 2s 4ms/step - loss: 146.0421 - val_loss: 226.8302\n",
      "Epoch 33/50\n",
      "558/558 [==============================] - 2s 4ms/step - loss: 147.2610 - val_loss: 246.7104\n",
      "Epoch 34/50\n",
      "558/558 [==============================] - 2s 4ms/step - loss: 143.6776 - val_loss: 239.5787\n",
      "Epoch 35/50\n",
      "558/558 [==============================] - 2s 4ms/step - loss: 144.4954 - val_loss: 229.3665\n",
      "Epoch 36/50\n",
      "558/558 [==============================] - 3s 5ms/step - loss: 143.7803 - val_loss: 226.0023\n",
      "Epoch 37/50\n",
      "558/558 [==============================] - 3s 5ms/step - loss: 143.7706 - val_loss: 234.1323\n",
      "Epoch 38/50\n",
      "558/558 [==============================] - 3s 5ms/step - loss: 141.0954 - val_loss: 231.6901\n",
      "Epoch 39/50\n",
      "558/558 [==============================] - 3s 5ms/step - loss: 140.5890 - val_loss: 228.6832\n",
      "Epoch 40/50\n",
      "558/558 [==============================] - 2s 4ms/step - loss: 142.8455 - val_loss: 239.8884\n",
      "Epoch 41/50\n",
      "558/558 [==============================] - 2s 4ms/step - loss: 142.7257 - val_loss: 248.0761\n",
      "Epoch 42/50\n",
      "558/558 [==============================] - 2s 4ms/step - loss: 141.0113 - val_loss: 259.5564\n",
      "Epoch 43/50\n",
      "558/558 [==============================] - 2s 4ms/step - loss: 142.1487 - val_loss: 230.5131\n",
      "Epoch 44/50\n",
      "558/558 [==============================] - 2s 4ms/step - loss: 141.6258 - val_loss: 264.3201\n",
      "Epoch 45/50\n",
      "558/558 [==============================] - 2s 4ms/step - loss: 140.5940 - val_loss: 283.5367\n",
      "Epoch 46/50\n",
      "558/558 [==============================] - 2s 4ms/step - loss: 143.6043 - val_loss: 263.1942\n",
      "Epoch 47/50\n",
      "558/558 [==============================] - 2s 4ms/step - loss: 140.6775 - val_loss: 259.2906\n",
      "Epoch 48/50\n",
      "558/558 [==============================] - 2s 4ms/step - loss: 140.0109 - val_loss: 255.2757\n",
      "Epoch 49/50\n",
      "558/558 [==============================] - 2s 4ms/step - loss: 140.1130 - val_loss: 253.2062\n",
      "Epoch 50/50\n",
      "558/558 [==============================] - 2s 4ms/step - loss: 137.7129 - val_loss: 253.2006\n"
     ]
    }
   ],
   "source": [
    "from keras.models import Sequential\n",
    "from keras.layers import LSTM, Dense, MaxPooling1D, Flatten, Conv1D, TimeDistributed\n",
    "from keras.optimizers import Adam\n",
    "from keras.callbacks import ModelCheckpoint\n",
    "\n",
    "\n",
    "model_cnn_lstm = Sequential()\n",
    "model_cnn_lstm.add(TimeDistributed(Conv1D(filters=64, kernel_size=4,  activation='relu'), input_shape=(None, n_steps, n_features)))\n",
    "model_cnn_lstm.add(TimeDistributed(MaxPooling1D(pool_size=2)))\n",
    "model_cnn_lstm.add(TimeDistributed(Conv1D(filters=32, kernel_size=4, activation='relu')))\n",
    "model_cnn_lstm.add(TimeDistributed(MaxPooling1D(pool_size=2)))\n",
    "model_cnn_lstm.add(TimeDistributed(Flatten()))\n",
    "model_cnn_lstm.add(LSTM(50, activation='relu'))\n",
    "model_cnn_lstm.add(Dense(1))\n",
    "model_cnn_lstm.compile(loss='mse', optimizer='adam')\n",
    "\n",
    "optimizer = Adam(lr=0.001)\n",
    "model_cnn_lstm.compile(optimizer=optimizer, loss='mse')\n",
    "# Define checkpoint callback\n",
    "checkpoint = ModelCheckpoint('CNNLSTM50.h5', monitor='val_loss', save_best_only=True, save_weights_only=True)\n",
    "\n",
    "history = model_cnn_lstm.fit(train_X, train_y, epochs=50, verbose=1, validation_data = (test_X, test_y), callbacks=[checkpoint])"
   ]
  },
  {
   "cell_type": "code",
   "execution_count": 107,
   "metadata": {},
   "outputs": [
    {
     "name": "stdout",
     "output_type": "stream",
     "text": [
      "285/285 [==============================] - 1s 2ms/step\n"
     ]
    }
   ],
   "source": [
    "# test_X = test_X.reshape((test_X.shape[0], test_X.shape[1], n_features)) this is already done above\n",
    "pred_y = model_cnn_lstm.predict(test_X)"
   ]
  },
  {
   "cell_type": "code",
   "execution_count": 108,
   "metadata": {},
   "outputs": [
    {
     "name": "stdout",
     "output_type": "stream",
     "text": [
      "R2 score: 0.8653090218222668\n",
      "RMSE:  15.912274885888893\n"
     ]
    }
   ],
   "source": [
    "from sklearn.metrics import r2_score, mean_squared_error\n",
    "\n",
    "# Assuming you have your true values in 'y_true' and predicted values in 'y_pred'\n",
    "r2 = r2_score(test_y, pred_y)\n",
    "rmse = np.sqrt(mean_squared_error(test_y, pred_y))\n",
    "\n",
    "\n",
    "print(\"R2 score:\", r2)\n",
    "print(\"RMSE: \", rmse)"
   ]
  },
  {
   "attachments": {},
   "cell_type": "markdown",
   "metadata": {},
   "source": [
    "2CNN2LSTM model "
   ]
  },
  {
   "cell_type": "code",
   "execution_count": null,
   "metadata": {},
   "outputs": [],
   "source": [
    "train_X, train_y = split_sequence(train_data['sfu'], 27)\n",
    "# print(\"train split done\")\n",
    "test_X, test_y = split_sequence(np.array(test_data['sfu']), 27)"
   ]
  },
  {
   "cell_type": "code",
   "execution_count": 116,
   "metadata": {},
   "outputs": [
    {
     "name": "stdout",
     "output_type": "stream",
     "text": [
      "Epoch 1/50\n"
     ]
    },
    {
     "name": "stderr",
     "output_type": "stream",
     "text": [
      "c:\\Users\\Swaroop\\AppData\\Local\\Programs\\Python\\Python38\\lib\\site-packages\\keras\\optimizers\\optimizer_v2\\adam.py:114: UserWarning: The `lr` argument is deprecated, use `learning_rate` instead.\n",
      "  super().__init__(name, **kwargs)\n"
     ]
    },
    {
     "name": "stdout",
     "output_type": "stream",
     "text": [
      "558/558 [==============================] - 5s 4ms/step - loss: 1006.8510 - val_loss: 188.0398\n",
      "Epoch 2/50\n",
      "558/558 [==============================] - 2s 4ms/step - loss: 140.0676 - val_loss: 168.9059\n",
      "Epoch 3/50\n",
      "558/558 [==============================] - 2s 4ms/step - loss: 102.4285 - val_loss: 138.0965\n",
      "Epoch 4/50\n",
      "558/558 [==============================] - 2s 4ms/step - loss: 85.6422 - val_loss: 142.0436\n",
      "Epoch 5/50\n",
      "558/558 [==============================] - 2s 4ms/step - loss: 80.8391 - val_loss: 145.2811\n",
      "Epoch 6/50\n",
      "558/558 [==============================] - 2s 4ms/step - loss: 68.6636 - val_loss: 130.9130\n",
      "Epoch 7/50\n",
      "558/558 [==============================] - 2s 4ms/step - loss: 66.2465 - val_loss: 136.9543\n",
      "Epoch 8/50\n",
      "558/558 [==============================] - 2s 4ms/step - loss: 62.9630 - val_loss: 134.9906\n",
      "Epoch 9/50\n",
      "558/558 [==============================] - 2s 4ms/step - loss: 59.6860 - val_loss: 135.2012\n",
      "Epoch 10/50\n",
      "558/558 [==============================] - 2s 4ms/step - loss: 56.8915 - val_loss: 118.3665\n",
      "Epoch 11/50\n",
      "558/558 [==============================] - 2s 4ms/step - loss: 52.8200 - val_loss: 111.6011\n",
      "Epoch 12/50\n",
      "558/558 [==============================] - 2s 4ms/step - loss: 49.8132 - val_loss: 114.0813\n",
      "Epoch 13/50\n",
      "558/558 [==============================] - 2s 4ms/step - loss: 49.3424 - val_loss: 109.5876\n",
      "Epoch 14/50\n",
      "558/558 [==============================] - 2s 4ms/step - loss: 45.9122 - val_loss: 113.7907\n",
      "Epoch 15/50\n",
      "558/558 [==============================] - 2s 4ms/step - loss: 47.4818 - val_loss: 106.6955\n",
      "Epoch 16/50\n",
      "558/558 [==============================] - 2s 4ms/step - loss: 42.2266 - val_loss: 109.1469\n",
      "Epoch 17/50\n",
      "558/558 [==============================] - 2s 4ms/step - loss: 44.7503 - val_loss: 115.5696\n",
      "Epoch 18/50\n",
      "558/558 [==============================] - 2s 4ms/step - loss: 42.5490 - val_loss: 118.7640\n",
      "Epoch 19/50\n",
      "558/558 [==============================] - 2s 4ms/step - loss: 42.1187 - val_loss: 208.2260\n",
      "Epoch 20/50\n",
      "558/558 [==============================] - 2s 4ms/step - loss: 48.4989 - val_loss: 137.1595\n",
      "Epoch 21/50\n",
      "558/558 [==============================] - 2s 4ms/step - loss: 45.3273 - val_loss: 126.0190\n",
      "Epoch 22/50\n",
      "558/558 [==============================] - 2s 4ms/step - loss: 41.4790 - val_loss: 140.9329\n",
      "Epoch 23/50\n",
      "558/558 [==============================] - 2s 4ms/step - loss: 40.9579 - val_loss: 137.9347\n",
      "Epoch 24/50\n",
      "558/558 [==============================] - 2s 4ms/step - loss: 43.4667 - val_loss: 154.7598\n",
      "Epoch 25/50\n",
      "558/558 [==============================] - 2s 4ms/step - loss: 40.0537 - val_loss: 136.9733\n",
      "Epoch 26/50\n",
      "558/558 [==============================] - 2s 4ms/step - loss: 39.8362 - val_loss: 132.7344\n",
      "Epoch 27/50\n",
      "558/558 [==============================] - 2s 4ms/step - loss: 37.8125 - val_loss: 136.3946\n",
      "Epoch 28/50\n",
      "558/558 [==============================] - 2s 4ms/step - loss: 36.2165 - val_loss: 143.1379\n",
      "Epoch 29/50\n",
      "558/558 [==============================] - 2s 4ms/step - loss: 36.8838 - val_loss: 163.4757\n",
      "Epoch 30/50\n",
      "558/558 [==============================] - 2s 4ms/step - loss: 40.3289 - val_loss: 140.6747\n",
      "Epoch 31/50\n",
      "558/558 [==============================] - 2s 4ms/step - loss: 36.0684 - val_loss: 143.8315\n",
      "Epoch 32/50\n",
      "558/558 [==============================] - 2s 4ms/step - loss: 37.2901 - val_loss: 145.9030\n",
      "Epoch 33/50\n",
      "558/558 [==============================] - 2s 4ms/step - loss: 36.5087 - val_loss: 142.4808\n",
      "Epoch 34/50\n",
      "558/558 [==============================] - 2s 4ms/step - loss: 36.0604 - val_loss: 158.7445\n",
      "Epoch 35/50\n",
      "558/558 [==============================] - 2s 4ms/step - loss: 35.3585 - val_loss: 144.1850\n",
      "Epoch 36/50\n",
      "558/558 [==============================] - 2s 4ms/step - loss: 36.9604 - val_loss: 163.7162\n",
      "Epoch 37/50\n",
      "558/558 [==============================] - 2s 4ms/step - loss: 35.8401 - val_loss: 143.4258\n",
      "Epoch 38/50\n",
      "558/558 [==============================] - 2s 4ms/step - loss: 35.2299 - val_loss: 146.3379\n",
      "Epoch 39/50\n",
      "558/558 [==============================] - 2s 4ms/step - loss: 33.2567 - val_loss: 145.8943\n",
      "Epoch 40/50\n",
      "558/558 [==============================] - 2s 4ms/step - loss: 35.9071 - val_loss: 144.5885\n",
      "Epoch 41/50\n",
      "558/558 [==============================] - 2s 4ms/step - loss: 34.7499 - val_loss: 147.3275\n",
      "Epoch 42/50\n",
      "558/558 [==============================] - 2s 4ms/step - loss: 34.6276 - val_loss: 158.6191\n",
      "Epoch 43/50\n",
      "558/558 [==============================] - 2s 4ms/step - loss: 35.6381 - val_loss: 147.1632\n",
      "Epoch 44/50\n",
      "558/558 [==============================] - 2s 4ms/step - loss: 32.2960 - val_loss: 148.2688\n",
      "Epoch 45/50\n",
      "558/558 [==============================] - 2s 4ms/step - loss: 35.5900 - val_loss: 146.1707\n",
      "Epoch 46/50\n",
      "558/558 [==============================] - 2s 4ms/step - loss: 34.3588 - val_loss: 152.4002\n",
      "Epoch 47/50\n",
      "558/558 [==============================] - 2s 4ms/step - loss: 35.1873 - val_loss: 151.8034\n",
      "Epoch 48/50\n",
      "558/558 [==============================] - 2s 4ms/step - loss: 33.3351 - val_loss: 146.0912\n",
      "Epoch 49/50\n",
      "558/558 [==============================] - 2s 4ms/step - loss: 33.9380 - val_loss: 141.1768\n",
      "Epoch 50/50\n",
      "558/558 [==============================] - 2s 4ms/step - loss: 32.9682 - val_loss: 141.5648\n"
     ]
    }
   ],
   "source": [
    "from keras.models import Sequential\n",
    "from keras.layers import LSTM, Dense, MaxPooling1D, Flatten, Conv1D, TimeDistributed\n",
    "from keras.optimizers import Adam\n",
    "from keras.callbacks import ModelCheckpoint\n",
    "\n",
    "\n",
    "model_cnn_lstm = Sequential()\n",
    "model_cnn_lstm.add(TimeDistributed(Conv1D(filters=16, kernel_size=14,  activation='relu'), input_shape=(None, n_steps, n_features)))\n",
    "model_cnn_lstm.add(TimeDistributed(MaxPooling1D(pool_size=2)))\n",
    "model_cnn_lstm.add(TimeDistributed(Conv1D(filters=32, kernel_size=4, activation='relu')))\n",
    "model_cnn_lstm.add(TimeDistributed(MaxPooling1D(pool_size=2)))\n",
    "model_cnn_lstm.add(TimeDistributed(Flatten()))\n",
    "model_cnn_lstm.add(LSTM(64, activation='relu', return_sequences= True))\n",
    "model_cnn_lstm.add(LSTM(32, activation='relu'))\n",
    "model_cnn_lstm.add(Dense(1))\n",
    "model_cnn_lstm.compile(loss='mse', optimizer='adam')\n",
    "\n",
    "optimizer = Adam(lr=0.001)\n",
    "model_cnn_lstm.compile(optimizer=optimizer, loss='mse')\n",
    "# Define checkpoint callback\n",
    "checkpoint = ModelCheckpoint('CNNLSTM6432.h5', monitor='val_loss', save_best_only=True, save_weights_only=True)\n",
    "\n",
    "history = model_cnn_lstm.fit(train_X, train_y, epochs=50, verbose=1, validation_data = (test_X, test_y), callbacks=[checkpoint])"
   ]
  },
  {
   "cell_type": "code",
   "execution_count": 117,
   "metadata": {},
   "outputs": [
    {
     "name": "stdout",
     "output_type": "stream",
     "text": [
      "285/285 [==============================] - 1s 1ms/step\n"
     ]
    }
   ],
   "source": [
    "# test_X = test_X.reshape((test_X.shape[0], test_X.shape[1], n_features)) this is already done above\n",
    "pred_y = model_cnn_lstm.predict(test_X)"
   ]
  },
  {
   "cell_type": "code",
   "execution_count": 118,
   "metadata": {},
   "outputs": [
    {
     "name": "stdout",
     "output_type": "stream",
     "text": [
      "R2 score: 0.9246940528516168\n",
      "RMSE:  11.898101151860521\n"
     ]
    }
   ],
   "source": [
    "from sklearn.metrics import r2_score, mean_squared_error\n",
    "\n",
    "# Assuming you have your true values in 'y_true' and predicted values in 'y_pred'\n",
    "r2 = r2_score(test_y, pred_y)\n",
    "rmse = np.sqrt(mean_squared_error(test_y, pred_y))\n",
    "\n",
    "\n",
    "print(\"R2 score:\", r2)\n",
    "print(\"RMSE: \", rmse)"
   ]
  },
  {
   "cell_type": "code",
   "execution_count": null,
   "metadata": {},
   "outputs": [],
   "source": []
  }
 ],
 "metadata": {
  "kernelspec": {
   "display_name": "Python 3",
   "language": "python",
   "name": "python3"
  },
  "language_info": {
   "codemirror_mode": {
    "name": "ipython",
    "version": 3
   },
   "file_extension": ".py",
   "mimetype": "text/x-python",
   "name": "python",
   "nbconvert_exporter": "python",
   "pygments_lexer": "ipython3",
   "version": "3.8.0"
  },
  "orig_nbformat": 4
 },
 "nbformat": 4,
 "nbformat_minor": 2
}
